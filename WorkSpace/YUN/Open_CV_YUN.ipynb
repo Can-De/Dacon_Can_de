{
 "cells": [
  {
   "cell_type": "code",
   "execution_count": 1,
   "id": "91db15ab",
   "metadata": {
    "ExecuteTime": {
     "end_time": "2022-11-21T03:46:43.460385Z",
     "start_time": "2022-11-21T03:46:43.441862Z"
    }
   },
   "outputs": [
    {
     "name": "stdout",
     "output_type": "stream",
     "text": [
      "/Users/sylee/Desktop/project/open\n"
     ]
    }
   ],
   "source": [
    "%cd /Users/sylee/Desktop/project/open"
   ]
  },
  {
   "cell_type": "code",
   "execution_count": 2,
   "id": "553eefaa",
   "metadata": {
    "ExecuteTime": {
     "end_time": "2022-11-21T03:46:43.587823Z",
     "start_time": "2022-11-21T03:46:43.462268Z"
    }
   },
   "outputs": [
    {
     "name": "stdout",
     "output_type": "stream",
     "text": [
      "/Users/sylee/Desktop/project/open\r\n"
     ]
    }
   ],
   "source": [
    "!pwd"
   ]
  },
  {
   "cell_type": "code",
   "execution_count": 3,
   "id": "1eea5f60",
   "metadata": {
    "ExecuteTime": {
     "end_time": "2022-11-21T03:46:44.366584Z",
     "start_time": "2022-11-21T03:46:43.595969Z"
    }
   },
   "outputs": [],
   "source": [
    "import os\n",
    "import cv2\n",
    "import glob\n",
    "import pandas as pd\n",
    "import numpy as np\n",
    "import matplotlib.pyplot as plt\n",
    "from tqdm import tqdm\n",
    "pd.set_option('display.max.colwidth', 150)\n",
    "pd.set_option('display.max.row', 500)"
   ]
  },
  {
   "cell_type": "markdown",
   "id": "4248dc8a",
   "metadata": {},
   "source": [
    "## train_mask  확인"
   ]
  },
  {
   "cell_type": "code",
   "execution_count": 4,
   "id": "37f968be",
   "metadata": {
    "ExecuteTime": {
     "end_time": "2022-11-21T03:46:44.732036Z",
     "start_time": "2022-11-21T03:46:44.368707Z"
    }
   },
   "outputs": [
    {
     "data": {
      "image/png": "[encoded data removed]",
      "text/plain": [
       "<Figure size 640x480 with 1 Axes>"
      ]
     },
     "metadata": {},
     "output_type": "display_data"
    }
   ],
   "source": [
    "trian_mask_test_img = './train_masks/BC_01_0015.png'\n",
    "img = cv2.imread(trian_mask_test_img, cv2.IMREAD_GRAYSCALE)\n",
    "plt.imshow(img, cmap='gray')\n",
    "plt.show()"
   ]
  },
  {
   "cell_type": "markdown",
   "id": "3ca50529",
   "metadata": {},
   "source": [
    "## 사용자 함수"
   ]
  },
  {
   "cell_type": "markdown",
   "id": "cf042835",
   "metadata": {},
   "source": [
    "### 이미지 자르는 사용자 함수"
   ]
  },
  {
   "cell_type": "code",
   "execution_count": 5,
   "id": "beddb6e5",
   "metadata": {
    "ExecuteTime": {
     "end_time": "2022-11-21T03:46:44.737018Z",
     "start_time": "2022-11-21T03:46:44.733219Z"
    }
   },
   "outputs": [],
   "source": [
    "def Img_Crop(input_dir, input_img_list, crop_size, output_dir, flags):\n",
    "    print('img_crop 중...') \n",
    "    output_dir = input_dir+'_cropped'\n",
    "#     if ~os.path.exists(output_dir):\n",
    "#         os.makedirs(output_dir)\n",
    "    img_list = [os.path.join(input_dir, img_name) for img_name in input_img_list]\n",
    "    for img in tqdm(img_list):\n",
    "        cv2_img = cv2.imread(img, flags)\n",
    "        for row, start_y_pixel in enumerate(range(0, cv2_img.shape[0], crop_size)):\n",
    "            for col, start_x_pixel in enumerate(range(0, cv2_img.shape[1], crop_size)):\n",
    "                croped_img = cv2_img[start_y_pixel:start_y_pixel + crop_size, start_x_pixel:start_x_pixel+crop_size]\n",
    "                cv2.imwrite(f'{output_dir}/{img.split(\"/\")[-1].split(\".\")[0]}_({row+1:03d},{col+1:03d}).png', croped_img)\n",
    "    print('완료')"
   ]
  },
  {
   "cell_type": "markdown",
   "id": "c2aaadc3",
   "metadata": {},
   "source": [
    "### 명도 측정 사용자 함수"
   ]
  },
  {
   "cell_type": "code",
   "execution_count": 6,
   "id": "efff7505",
   "metadata": {
    "ExecuteTime": {
     "end_time": "2022-11-21T03:46:44.741124Z",
     "start_time": "2022-11-21T03:46:44.738088Z"
    }
   },
   "outputs": [],
   "source": [
    "def Value_Measure(input_dir, input_img_list, crop_size):\n",
    "    print('Value_Measure 중...')\n",
    "    df = pd.DataFrame(columns=['img_name', 'value', 'class'])\n",
    "    df['img_name'] = pd.Series(input_img_list)\n",
    "    img_list = [os.path.join(input_dir, img_name) for img_name in input_img_list]\n",
    "    for index, img in tqdm(enumerate(img_list)):\n",
    "        li = []\n",
    "        cv2_img = cv2.imread(img, cv2.IMREAD_GRAYSCALE)\n",
    "        for i in range(cv2_img.shape[0]):\n",
    "            for j in range(cv2_img.shape[1]):\n",
    "                li.append(cv2_img[i,j])\n",
    "        \n",
    "        df.loc[index]['value'] = pd.Series(li).value_counts().to_dict()\n",
    "        \n",
    "#         if df['class'].iloc[index]\n",
    "    print('완료')\n",
    "    return df"
   ]
  },
  {
   "cell_type": "markdown",
   "id": "55fc1907",
   "metadata": {},
   "source": [
    "## train_masks 이미지 자르기"
   ]
  },
  {
   "cell_type": "code",
   "execution_count": 7,
   "id": "e7d8b129",
   "metadata": {
    "ExecuteTime": {
     "end_time": "2022-11-21T03:46:44.744350Z",
     "start_time": "2022-11-21T03:46:44.742565Z"
    }
   },
   "outputs": [],
   "source": [
    "# # train masks dir\n",
    "# train_masks_dir = './train_masks'\n",
    "# # train masks image list\n",
    "# train_masks_list = sorted(os.listdir(train_masks_dir))[0:]\n",
    "\n",
    "\n",
    "# # 크롭하려는 img 폴더\n",
    "# input_dir = train_masks_dir\n",
    "# # 크롭하려는 img list\n",
    "# input_img_list = train_masks_list\n",
    "# # 크롭할 사이즈\n",
    "# crop_size = 512\n",
    "# # 크롬된 img 저장 폴더\n",
    "# output_dir = './train_masks_cropped'\n",
    "\n",
    "# # image cropping\n",
    "# Img_Crop(input_dir, input_img_list, crop_size, output_dir, cv2.IMREAD_GRAYSCALE)"
   ]
  },
  {
   "cell_type": "markdown",
   "id": "3b6cfd86",
   "metadata": {},
   "source": [
    "## train_imgs 이미지 자르기"
   ]
  },
  {
   "cell_type": "code",
   "execution_count": 8,
   "id": "bbb5a572",
   "metadata": {
    "ExecuteTime": {
     "end_time": "2022-11-21T03:46:44.747407Z",
     "start_time": "2022-11-21T03:46:44.745437Z"
    }
   },
   "outputs": [],
   "source": [
    "# # train masks dir\n",
    "# train_imgs_dir = './train_imgs'\n",
    "# # train masks image list\n",
    "# train_imgs_list = sorted(os.listdir(train_imgs_dir))[0:]\n",
    "# # train_imgs_list = train_masks_list\n",
    "\n",
    "\n",
    "# # 크롭하려는 img 폴더\n",
    "# input_dir = train_imgs_dir\n",
    "# # 크롭하려는 img list\n",
    "# input_img_list = train_imgs_list\n",
    "# # 크롭할 사이즈\n",
    "# crop_size = 512\n",
    "# # 크롬된 img 저장 폴더\n",
    "# output_dir = './train_imgs_cropped'\n",
    "\n",
    "# # image cropping\n",
    "# Img_Crop(input_dir, input_img_list, crop_size, output_dir, cv2.IMREAD_UNCHANGED)"
   ]
  },
  {
   "cell_type": "markdown",
   "id": "85917c1a",
   "metadata": {},
   "source": [
    "## 명도 측정"
   ]
  },
  {
   "attachments": {
    "image.png": {
     "image/png": "[encoded data removed]"
    }
   },
   "cell_type": "markdown",
   "id": "c7bc33ec",
   "metadata": {},
   "source": [
    "data:image/png;base64,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![image.png](attachment:image.png)"
   ]
  },
  {
   "cell_type": "code",
   "execution_count": 9,
   "id": "52f1273c",
   "metadata": {
    "ExecuteTime": {
     "end_time": "2022-11-21T03:46:44.750294Z",
     "start_time": "2022-11-21T03:46:44.748468Z"
    },
    "scrolled": true
   },
   "outputs": [],
   "source": [
    "# # 크롭된 이미지 명도 측정\n",
    "# cropped_train_mask_img_dir = './train_masks_cropped'\n",
    "# cropped_train_mask_img_list = sorted(os.listdir(cropped_train_mask_img_dir))[0:]\n",
    "\n",
    "\n",
    "# # 명도 측정할 img 폴더\n",
    "# input_dir = cropped_train_mask_img_dir\n",
    "# # 명도 측정할 img list\n",
    "# input_img_list = cropped_train_mask_img_list\n",
    "# # 크롭할 사이즈\n",
    "# crop_size = crop_size\n",
    "\n",
    "\n",
    "# df = Value_Measure(input_dir, input_img_list, crop_size)\n",
    "# df\n"
   ]
  },
  {
   "cell_type": "code",
   "execution_count": 10,
   "id": "609268e9",
   "metadata": {
    "ExecuteTime": {
     "end_time": "2022-11-21T03:46:44.758571Z",
     "start_time": "2022-11-21T03:46:44.753821Z"
    }
   },
   "outputs": [],
   "source": [
    "# df.to_pickle('마스킹_명도.pkl')\n",
    "df = pd.read_pickle('마스킹_명도.pkl')"
   ]
  },
  {
   "cell_type": "code",
   "execution_count": 11,
   "id": "67476160",
   "metadata": {
    "ExecuteTime": {
     "end_time": "2022-11-21T03:46:44.762240Z",
     "start_time": "2022-11-21T03:46:44.760009Z"
    },
    "scrolled": true
   },
   "outputs": [],
   "source": [
    "# # 마스킹된 곳만 \n",
    "# tl=[]\n",
    "# for i in range(len(df)):\n",
    "#     if len(df.value[i].keys()) != 1:\n",
    "#         tl.append(df.img_name[i])\n",
    "# tl\n",
    "\n",
    "# #파일 복사\n",
    "# import shutil\n",
    "\n",
    "# for i in tl:\n",
    "#     s = './train_masks_cropped/'+i\n",
    "#     d = './masks_without_white/'+i\n",
    "#     shutil.copyfile(s, d)\n",
    "    \n",
    "# for i in tl:\n",
    "#     s = './train_imgs_cropped/'+i\n",
    "#     d = './imgs_without_white/'+i\n",
    "#     shutil.copyfile(s, d)"
   ]
  },
  {
   "cell_type": "code",
   "execution_count": null,
   "id": "303dfa7c",
   "metadata": {},
   "outputs": [],
   "source": []
  },
  {
   "cell_type": "code",
   "execution_count": 12,
   "id": "99451b53",
   "metadata": {
    "ExecuteTime": {
     "end_time": "2022-11-21T03:46:45.493368Z",
     "start_time": "2022-11-21T03:46:44.763571Z"
    }
   },
   "outputs": [],
   "source": [
    "from os import listdir\n",
    "from os.path import isfile, join\n",
    "import matplotlib.pyplot as plt\n",
    "from PIL import Image\n",
    "import numpy as np\n",
    "import torch\n",
    "import cv2\n",
    "from torchvision import transforms, datasets\n",
    "from torchvision.transforms import ToPILImage\n",
    "import torch.nn as nn\n",
    "import torch.utils as utils\n",
    "import torch.nn.init as init\n",
    "import torch.utils.data as data\n",
    "import torchvision.utils as v_utils\n",
    "import torchvision.datasets as dset\n",
    "import torchvision.transforms as transforms"
   ]
  },
  {
   "cell_type": "code",
   "execution_count": 13,
   "id": "e66cf9dd",
   "metadata": {
    "ExecuteTime": {
     "end_time": "2022-11-21T03:46:45.515079Z",
     "start_time": "2022-11-21T03:46:45.494215Z"
    },
    "scrolled": false
   },
   "outputs": [
    {
     "name": "stdout",
     "output_type": "stream",
     "text": [
      "File 개수 확인\n",
      "628\n",
      "628\n"
     ]
    }
   ],
   "source": [
    "files1 = [f for f in listdir('./imgs_without_white') if isfile(join('./imgs_without_white', f))]\n",
    "files2 = [f for f in listdir('./masks_without_white') if isfile(join('./masks_without_white', f))]\n",
    "test_image_name = [x for x in files1 if x.find(\"png\") != -1]\n",
    "mask_image_name = [x for x in files2 if x.find(\"png\") != -1]\n",
    "\n",
    "print('File 개수 확인')\n",
    "print(len(test_image_name))\n",
    "print(len(mask_image_name))"
   ]
  },
  {
   "cell_type": "code",
   "execution_count": 14,
   "id": "3a7a960a",
   "metadata": {
    "ExecuteTime": {
     "end_time": "2022-11-21T03:46:45.521271Z",
     "start_time": "2022-11-21T03:46:45.516020Z"
    }
   },
   "outputs": [
    {
     "data": {
      "text/plain": [
       "['BC_01_0907_(003,003).png',\n",
       " 'BC_01_0516_(005,003).png',\n",
       " 'BC_01_0883_(004,003).png',\n",
       " 'BC_01_0883_(005,003).png',\n",
       " 'BC_01_0583_(001,003).png',\n",
       " 'BC_01_0673_(003,003).png',\n",
       " 'BC_01_0673_(002,003).png',\n",
       " 'BC_01_0510_(001,003).png',\n",
       " 'BC_01_0609_(002,004).png',\n",
       " 'BC_01_0674_(003,002).png',\n",
       " 'BC_01_0609_(003,004).png',\n",
       " 'BC_01_0674_(002,002).png',\n",
       " 'BC_01_0893_(004,002).png',\n",
       " 'BC_01_0425_(002,008).png',\n",
       " 'BC_01_0585_(004,003).png',\n",
       " 'BC_01_0925_(005,001).png',\n",
       " 'BC_01_0612_(005,006).png',\n",
       " 'BC_01_0612_(004,006).png',\n",
       " 'BC_01_0591_(005,002).png',\n",
       " 'BC_01_0459_(002,001).png',\n",
       " 'BC_01_0609_(004,003).png',\n",
       " 'BC_01_0591_(004,002).png',\n",
       " 'BC_01_0471_(004,008).png',\n",
       " 'BC_01_0585_(003,004).png',\n",
       " 'BC_01_0893_(003,005).png',\n",
       " 'BC_01_0471_(005,008).png',\n",
       " 'BC_01_0585_(002,004).png',\n",
       " 'BC_01_0516_(003,004).png',\n",
       " 'BC_01_0516_(002,004).png',\n",
       " 'BC_01_0530_(003,001).png',\n",
       " 'BC_01_0907_(005,004).png',\n",
       " 'BC_01_0515_(004,002).png',\n",
       " 'BC_01_0907_(004,004).png',\n",
       " 'BC_01_0673_(004,004).png',\n",
       " 'BC_01_0883_(003,004).png',\n",
       " 'BC_01_0457_(003,010).png',\n",
       " 'BC_01_0881_(004,001).png',\n",
       " 'BC_01_0905_(002,001).png',\n",
       " 'BC_01_0905_(003,001).png',\n",
       " 'BC_01_0974_(004,005).png',\n",
       " 'BC_01_0532_(004,004).png',\n",
       " 'BC_01_0531_(003,002).png',\n",
       " 'BC_01_0936_(001,003).png',\n",
       " 'BC_01_0587_(004,001).png',\n",
       " 'BC_01_0455_(002,008).png',\n",
       " 'BC_01_0455_(003,008).png',\n",
       " 'BC_01_0459_(006,003).png',\n",
       " 'BC_01_0877_(005,003).png',\n",
       " 'BC_01_0877_(004,003).png',\n",
       " 'BC_01_0693_(004,005).png',\n",
       " 'BC_01_0693_(005,005).png',\n",
       " 'BC_01_0015_(001,003).png',\n",
       " 'BC_01_0877_(003,004).png',\n",
       " 'BC_01_0877_(002,004).png',\n",
       " 'BC_01_0587_(002,006).png',\n",
       " 'BC_01_0876_(006,005).png',\n",
       " 'BC_01_0398_(005,002).png',\n",
       " 'BC_01_0912_(005,010).png',\n",
       " 'BC_01_0398_(004,002).png',\n",
       " 'BC_01_0912_(004,010).png',\n",
       " 'BC_01_0693_(002,002).png',\n",
       " 'BC_01_0885_(004,001).png',\n",
       " 'BC_01_0694_(002,003).png',\n",
       " 'BC_01_0694_(003,003).png',\n",
       " 'BC_01_0938_(002,001).png',\n",
       " 'BC_01_0451_(002,008).png',\n",
       " 'BC_01_0947_(003,009).png',\n",
       " 'BC_01_0532_(003,003).png',\n",
       " 'BC_01_0583_(004,001).png',\n",
       " 'BC_01_0532_(002,003).png',\n",
       " 'BC_01_0583_(005,001).png',\n",
       " 'BC_01_0532_(003,002).png',\n",
       " 'BC_01_0531_(004,004).png',\n",
       " 'BC_01_0906_(002,001).png',\n",
       " 'BC_01_0947_(003,008).png',\n",
       " 'BC_01_0451_(002,009).png',\n",
       " 'BC_01_0454_(003,010).png',\n",
       " 'BC_01_0694_(002,002).png',\n",
       " 'BC_01_0454_(002,010).png',\n",
       " 'BC_01_0694_(003,002).png',\n",
       " 'BC_01_0876_(006,004).png',\n",
       " 'BC_01_0912_(005,011).png',\n",
       " 'BC_01_0404_(004,010).png',\n",
       " 'BC_01_0398_(005,003).png',\n",
       " 'BC_01_0912_(004,011).png',\n",
       " 'BC_01_0398_(004,003).png',\n",
       " 'BC_01_0404_(005,010).png',\n",
       " 'BC_01_0928_(002,001).png',\n",
       " 'BC_01_0928_(003,001).png',\n",
       " 'BC_01_0877_(003,005).png',\n",
       " 'BC_01_0877_(002,005).png',\n",
       " 'BC_01_0015_(001,002).png',\n",
       " 'BC_01_0693_(004,004).png',\n",
       " 'BC_01_0612_(006,002).png',\n",
       " 'BC_01_0693_(005,004).png',\n",
       " 'BC_01_0455_(002,009).png',\n",
       " 'BC_01_0455_(003,009).png',\n",
       " 'BC_01_0902_(003,001).png',\n",
       " 'BC_01_0459_(006,002).png',\n",
       " 'BC_01_0877_(005,002).png',\n",
       " 'BC_01_0877_(004,002).png',\n",
       " 'BC_01_0531_(003,003).png',\n",
       " 'BC_01_0417_(004,010).png',\n",
       " 'BC_01_0417_(005,010).png',\n",
       " 'BC_01_0572_(002,004).png',\n",
       " 'BC_01_0457_(003,011).png',\n",
       " 'BC_01_0572_(003,004).png',\n",
       " 'BC_01_0906_(001,004).png',\n",
       " 'BC_01_0883_(003,005).png',\n",
       " 'BC_01_0599_(004,006).png',\n",
       " 'BC_01_0599_(005,006).png',\n",
       " 'BC_01_0907_(005,005).png',\n",
       " 'BC_01_0907_(004,005).png',\n",
       " 'BC_01_0515_(004,003).png',\n",
       " 'BC_01_0516_(002,005).png',\n",
       " 'BC_01_0876_(004,001).png',\n",
       " 'BC_01_0471_(004,009).png',\n",
       " 'BC_01_0893_(002,004).png',\n",
       " 'BC_01_0876_(005,001).png',\n",
       " 'BC_01_0585_(002,005).png',\n",
       " 'BC_01_0893_(003,004).png',\n",
       " 'BC_01_0591_(005,003).png',\n",
       " 'BC_01_0609_(004,002).png',\n",
       " 'BC_01_0591_(004,003).png',\n",
       " 'BC_01_0552_(003,003).png',\n",
       " 'BC_01_0981_(001,005).png',\n",
       " 'BC_01_0585_(004,002).png',\n",
       " 'BC_01_0552_(004,004).png',\n",
       " 'BC_01_0552_(005,004).png',\n",
       " 'BC_01_0591_(003,004).png',\n",
       " 'BC_01_0674_(003,003).png',\n",
       " 'BC_01_0609_(002,005).png',\n",
       " 'BC_01_0674_(002,003).png',\n",
       " 'BC_01_0980_(004,012).png',\n",
       " 'BC_01_0583_(001,002).png',\n",
       " 'BC_01_0980_(005,012).png',\n",
       " 'BC_01_0673_(003,002).png',\n",
       " 'BC_01_0652_(003,010).png',\n",
       " 'BC_01_0883_(004,002).png',\n",
       " 'BC_01_0883_(005,002).png',\n",
       " 'BC_01_0572_(001,001).png',\n",
       " 'BC_01_0516_(005,002).png',\n",
       " 'BC_01_0668_(006,009).png',\n",
       " 'BC_01_0922_(004,001).png',\n",
       " 'BC_01_0515_(003,004).png',\n",
       " 'BC_01_0572_(003,003).png',\n",
       " 'BC_01_0572_(002,003).png',\n",
       " 'BC_01_0454_(004,010).png',\n",
       " 'BC_01_0694_(004,002).png',\n",
       " 'BC_01_0532_(004,002).png',\n",
       " 'BC_01_0531_(003,004).png',\n",
       " 'BC_01_0947_(004,008).png',\n",
       " 'BC_01_0417_(006,008).png',\n",
       " 'BC_01_0877_(004,005).png',\n",
       " 'BC_01_0877_(005,005).png',\n",
       " 'BC_01_0693_(005,003).png',\n",
       " 'BC_01_0693_(004,003).png',\n",
       " 'BC_01_0925_(006,002).png',\n",
       " 'BC_01_0398_(002,003).png',\n",
       " 'BC_01_0398_(003,003).png',\n",
       " 'BC_01_0912_(003,011).png',\n",
       " 'BC_01_0902_(005,001).png',\n",
       " 'BC_01_0455_(005,009).png',\n",
       " 'BC_01_0902_(004,001).png',\n",
       " 'BC_01_0459_(001,002).png',\n",
       " 'BC_01_0876_(006,003).png',\n",
       " 'BC_01_0912_(006,009).png',\n",
       " 'BC_01_0457_(004,011).png',\n",
       " 'BC_01_0531_(004,003).png',\n",
       " 'BC_01_0531_(005,003).png',\n",
       " 'BC_01_0532_(002,005).png',\n",
       " 'BC_01_0532_(003,005).png',\n",
       " 'BC_01_0515_(002,003).png',\n",
       " 'BC_01_0515_(003,003).png',\n",
       " 'BC_01_0907_(003,005).png',\n",
       " 'BC_01_0583_(001,005).png',\n",
       " 'BC_01_0905_(001,002).png',\n",
       " 'BC_01_0673_(003,005).png',\n",
       " 'BC_01_0609_(003,002).png',\n",
       " 'BC_01_0674_(002,004).png',\n",
       " 'BC_01_0609_(002,002).png',\n",
       " 'BC_01_0656_(004,010).png',\n",
       " 'BC_01_0656_(005,010).png',\n",
       " 'BC_01_0552_(005,003).png',\n",
       " 'BC_01_0552_(004,003).png',\n",
       " 'BC_01_0425_(001,007).png',\n",
       " 'BC_01_0471_(003,009).png',\n",
       " 'BC_01_0893_(005,004).png',\n",
       " 'BC_01_0397_(001,002).png',\n",
       " 'BC_01_0552_(003,004).png',\n",
       " 'BC_01_0587_(001,005).png',\n",
       " 'BC_01_0591_(004,004).png',\n",
       " 'BC_01_0674_(004,003).png',\n",
       " 'BC_01_0591_(005,004).png',\n",
       " 'BC_01_0674_(005,003).png',\n",
       " 'BC_01_0693_(001,001).png',\n",
       " 'BC_01_0886_(001,004).png',\n",
       " 'BC_01_0425_(004,009).png',\n",
       " 'BC_01_0585_(002,002).png',\n",
       " 'BC_01_0893_(002,003).png',\n",
       " 'BC_01_0585_(003,002).png',\n",
       " 'BC_01_0516_(002,002).png',\n",
       " 'BC_01_0516_(003,002).png',\n",
       " 'BC_01_0922_(003,001).png',\n",
       " 'BC_01_0922_(002,001).png',\n",
       " 'BC_01_0515_(004,004).png',\n",
       " 'BC_01_0907_(004,002).png',\n",
       " 'BC_01_0454_(001,012).png',\n",
       " 'BC_01_0907_(005,002).png',\n",
       " 'BC_01_0980_(003,012).png',\n",
       " 'BC_01_0980_(002,012).png',\n",
       " 'BC_01_0673_(004,002).png',\n",
       " 'BC_01_0673_(005,002).png',\n",
       " 'BC_01_0883_(003,002).png',\n",
       " 'BC_01_0906_(001,003).png',\n",
       " 'BC_01_0883_(003,003).png',\n",
       " 'BC_01_0906_(001,002).png',\n",
       " 'BC_01_0673_(004,003).png',\n",
       " 'BC_01_0907_(004,003).png',\n",
       " 'BC_01_0907_(005,003).png',\n",
       " 'BC_01_0881_(001,004).png',\n",
       " 'BC_01_0516_(002,003).png',\n",
       " 'BC_01_0516_(003,003).png',\n",
       " 'BC_01_0938_(001,003).png',\n",
       " 'BC_01_0886_(001,005).png',\n",
       " 'BC_01_0585_(002,003).png',\n",
       " 'BC_01_0893_(003,002).png',\n",
       " 'BC_01_0585_(003,003).png',\n",
       " 'BC_01_0893_(002,002).png',\n",
       " 'BC_01_0674_(004,002).png',\n",
       " 'BC_01_0674_(005,002).png',\n",
       " 'BC_01_0612_(004,001).png',\n",
       " 'BC_01_0612_(005,001).png',\n",
       " 'BC_01_0015_(002,001).png',\n",
       " 'BC_01_0471_(003,008).png',\n",
       " 'BC_01_0668_(005,010).png',\n",
       " 'BC_01_0893_(004,005).png',\n",
       " 'BC_01_0652_(001,009).png',\n",
       " 'BC_01_0552_(005,002).png',\n",
       " 'BC_01_0552_(004,002).png',\n",
       " 'BC_01_0674_(002,005).png',\n",
       " 'BC_01_0609_(003,003).png',\n",
       " 'BC_01_0674_(003,005).png',\n",
       " 'BC_01_0609_(002,003).png',\n",
       " 'BC_01_0583_(001,004).png',\n",
       " 'BC_01_0656_(004,007).png',\n",
       " 'BC_01_0673_(002,004).png',\n",
       " 'BC_01_0673_(003,004).png',\n",
       " 'BC_01_0905_(001,003).png',\n",
       " 'BC_01_0936_(003,001).png',\n",
       " 'BC_01_0936_(002,001).png',\n",
       " 'BC_01_0883_(004,004).png',\n",
       " 'BC_01_0515_(002,002).png',\n",
       " 'BC_01_0907_(003,004).png',\n",
       " 'BC_01_0515_(003,002).png',\n",
       " 'BC_01_0905_(004,001).png',\n",
       " 'BC_01_0532_(002,004).png',\n",
       " 'BC_01_0532_(003,004).png',\n",
       " 'BC_01_0531_(004,002).png',\n",
       " 'BC_01_0531_(005,002).png',\n",
       " 'BC_01_0457_(004,010).png',\n",
       " 'BC_01_0876_(006,002).png',\n",
       " 'BC_01_0587_(003,001).png',\n",
       " 'BC_01_0455_(005,008).png',\n",
       " 'BC_01_0455_(004,008).png',\n",
       " 'BC_01_0877_(003,003).png',\n",
       " 'BC_01_0404_(003,011).png',\n",
       " 'BC_01_0398_(002,002).png',\n",
       " 'BC_01_0912_(003,010).png',\n",
       " 'BC_01_0398_(003,002).png',\n",
       " 'BC_01_0693_(005,002).png',\n",
       " 'BC_01_0925_(006,003).png',\n",
       " 'BC_01_0877_(004,004).png',\n",
       " 'BC_01_0877_(005,004).png',\n",
       " 'BC_01_0417_(006,009).png',\n",
       " 'BC_01_0666_(002,010).png',\n",
       " 'BC_01_0936_(001,004).png',\n",
       " 'BC_01_0532_(004,003).png',\n",
       " 'BC_01_0583_(002,001).png',\n",
       " 'BC_01_0694_(004,003).png',\n",
       " 'BC_01_0938_(005,001).png',\n",
       " 'BC_01_0938_(004,001).png',\n",
       " 'BC_01_0572_(003,002).png',\n",
       " 'BC_01_0974_(003,006).png',\n",
       " 'BC_01_0905_(004,002).png',\n",
       " 'BC_01_0905_(005,002).png',\n",
       " 'BC_01_0906_(002,004).png',\n",
       " 'BC_01_0881_(003,002).png',\n",
       " 'BC_01_0516_(001,005).png',\n",
       " 'BC_01_0938_(002,005).png',\n",
       " 'BC_01_0885_(004,005).png',\n",
       " 'BC_01_0585_(001,005).png',\n",
       " 'BC_01_0652_(005,008).png',\n",
       " 'BC_01_0652_(004,008).png',\n",
       " 'BC_01_0928_(003,004).png',\n",
       " 'BC_01_0587_(003,002).png',\n",
       " 'BC_01_0902_(004,003).png',\n",
       " 'BC_01_0902_(005,003).png',\n",
       " 'BC_01_0886_(005,004).png',\n",
       " 'BC_01_0886_(004,004).png',\n",
       " 'BC_01_0912_(002,013).png',\n",
       " 'BC_01_0981_(002,005).png',\n",
       " 'BC_01_0693_(005,001).png',\n",
       " 'BC_01_0510_(002,002).png',\n",
       " 'BC_01_0902_(002,004).png',\n",
       " 'BC_01_0510_(003,002).png',\n",
       " 'BC_01_0674_(001,003).png',\n",
       " 'BC_01_0902_(003,004).png',\n",
       " 'BC_01_0928_(004,003).png',\n",
       " 'BC_01_0906_(004,003).png',\n",
       " 'BC_01_0906_(005,003).png',\n",
       " 'BC_01_0583_(002,002).png',\n",
       " 'BC_01_0656_(005,008).png',\n",
       " 'BC_01_0656_(004,008).png',\n",
       " 'BC_01_0652_(001,010).png',\n",
       " 'BC_01_0471_(002,011).png',\n",
       " 'BC_01_0471_(003,011).png',\n",
       " 'BC_01_0516_(006,002).png',\n",
       " 'BC_01_0572_(003,001).png',\n",
       " 'BC_01_0599_(004,003).png',\n",
       " 'BC_01_0599_(005,003).png',\n",
       " 'BC_01_0455_(004,011).png',\n",
       " 'BC_01_0451_(001,009).png',\n",
       " 'BC_01_0455_(005,011).png',\n",
       " 'BC_01_0980_(003,010).png',\n",
       " 'BC_01_0694_(001,002).png',\n",
       " 'BC_01_0660_(002,011).png',\n",
       " 'BC_01_0660_(003,011).png',\n",
       " 'BC_01_0454_(001,010).png',\n",
       " 'BC_01_0681_(003,005).png',\n",
       " 'BC_01_0530_(002,005).png',\n",
       " 'BC_01_0922_(002,003).png',\n",
       " 'BC_01_0530_(003,005).png',\n",
       " 'BC_01_0922_(003,003).png',\n",
       " 'BC_01_0660_(003,007).png',\n",
       " 'BC_01_0876_(004,004).png',\n",
       " 'BC_01_0876_(005,004).png',\n",
       " 'BC_01_0612_(003,005).png',\n",
       " 'BC_01_0693_(001,003).png',\n",
       " 'BC_01_0612_(005,002).png',\n",
       " 'BC_01_0612_(004,002).png',\n",
       " 'BC_01_0925_(004,005).png',\n",
       " 'BC_01_0015_(003,002).png',\n",
       " 'BC_01_0015_(002,002).png',\n",
       " 'BC_01_0876_(003,003).png',\n",
       " 'BC_01_0552_(005,001).png',\n",
       " 'BC_01_0674_(003,006).png',\n",
       " 'BC_01_0674_(002,006).png',\n",
       " 'BC_01_0666_(003,009).png',\n",
       " 'BC_01_0947_(004,006).png',\n",
       " 'BC_01_0947_(005,006).png',\n",
       " 'BC_01_0936_(002,002).png',\n",
       " 'BC_01_0936_(003,002).png',\n",
       " 'BC_01_0515_(003,001).png',\n",
       " 'BC_01_0404_(003,008).png',\n",
       " 'BC_01_0922_(004,004).png',\n",
       " 'BC_01_0681_(004,002).png',\n",
       " 'BC_01_0681_(005,003).png',\n",
       " 'BC_01_0681_(004,003).png',\n",
       " 'BC_01_0947_(004,007).png',\n",
       " 'BC_01_0947_(005,007).png',\n",
       " 'BC_01_0936_(002,003).png',\n",
       " 'BC_01_0936_(003,003).png',\n",
       " 'BC_01_0905_(001,001).png',\n",
       " 'BC_01_0666_(003,008).png',\n",
       " 'BC_01_0609_(002,001).png',\n",
       " 'BC_01_0674_(003,007).png',\n",
       " 'BC_01_0459_(005,003).png',\n",
       " 'BC_01_0609_(003,001).png',\n",
       " 'BC_01_0674_(002,007).png',\n",
       " 'BC_01_0877_(006,003).png',\n",
       " 'BC_01_0015_(003,003).png',\n",
       " 'BC_01_0015_(002,003).png',\n",
       " 'BC_01_0876_(003,002).png',\n",
       " 'BC_01_0454_(004,009).png',\n",
       " 'BC_01_0612_(005,003).png',\n",
       " 'BC_01_0612_(004,003).png',\n",
       " 'BC_01_0925_(004,004).png',\n",
       " 'BC_01_0925_(005,004).png',\n",
       " 'BC_01_0417_(002,009).png',\n",
       " 'BC_01_0587_(001,006).png',\n",
       " 'BC_01_0612_(003,004).png',\n",
       " 'BC_01_0693_(001,002).png',\n",
       " 'BC_01_0015_(005,004).png',\n",
       " 'BC_01_0876_(004,005).png',\n",
       " 'BC_01_0015_(004,004).png',\n",
       " 'BC_01_0876_(005,005).png',\n",
       " 'BC_01_0516_(002,001).png',\n",
       " 'BC_01_0907_(005,001).png',\n",
       " 'BC_01_0660_(002,010).png',\n",
       " 'BC_01_0907_(004,001).png',\n",
       " 'BC_01_0454_(001,011).png',\n",
       " 'BC_01_0660_(003,010).png',\n",
       " 'BC_01_0681_(003,004).png',\n",
       " 'BC_01_0922_(002,002).png',\n",
       " 'BC_01_0530_(002,004).png',\n",
       " 'BC_01_0922_(003,002).png',\n",
       " 'BC_01_0530_(003,004).png',\n",
       " 'BC_01_0673_(005,001).png',\n",
       " 'BC_01_0673_(004,001).png',\n",
       " 'BC_01_0980_(002,011).png',\n",
       " 'BC_01_0980_(003,011).png',\n",
       " 'BC_01_0599_(004,002).png',\n",
       " 'BC_01_0599_(005,002).png',\n",
       " 'BC_01_0936_(004,004).png',\n",
       " 'BC_01_0451_(001,008).png',\n",
       " 'BC_01_0516_(006,003).png',\n",
       " 'BC_01_0938_(004,003).png',\n",
       " 'BC_01_0938_(005,003).png',\n",
       " 'BC_01_0668_(005,008).png',\n",
       " 'BC_01_0471_(002,010).png',\n",
       " 'BC_01_0668_(004,008).png',\n",
       " 'BC_01_0471_(003,010).png',\n",
       " 'BC_01_0694_(004,001).png',\n",
       " 'BC_01_0583_(002,003).png',\n",
       " 'BC_01_0583_(003,003).png',\n",
       " 'BC_01_0656_(005,009).png',\n",
       " 'BC_01_0905_(002,004).png',\n",
       " 'BC_01_0656_(004,009).png',\n",
       " 'BC_01_0905_(003,004).png',\n",
       " 'BC_01_0906_(004,002).png',\n",
       " 'BC_01_0906_(005,002).png',\n",
       " 'BC_01_0928_(004,002).png',\n",
       " 'BC_01_0928_(005,002).png',\n",
       " 'BC_01_0587_(004,004).png',\n",
       " 'BC_01_0877_(004,006).png',\n",
       " 'BC_01_0902_(002,005).png',\n",
       " 'BC_01_0510_(002,003).png',\n",
       " 'BC_01_0902_(003,005).png',\n",
       " 'BC_01_0397_(002,004).png',\n",
       " 'BC_01_0397_(003,004).png',\n",
       " 'BC_01_0925_(006,001).png',\n",
       " 'BC_01_0885_(003,003).png',\n",
       " 'BC_01_0981_(003,004).png',\n",
       " 'BC_01_0912_(003,012).png',\n",
       " 'BC_01_0886_(005,005).png',\n",
       " 'BC_01_0886_(004,005).png',\n",
       " 'BC_01_0912_(002,012).png',\n",
       " 'BC_01_0425_(001,008).png',\n",
       " 'BC_01_0902_(004,002).png',\n",
       " 'BC_01_0459_(001,001).png',\n",
       " 'BC_01_0902_(005,002).png',\n",
       " 'BC_01_0652_(005,009).png',\n",
       " 'BC_01_0652_(004,009).png',\n",
       " 'BC_01_0587_(002,003).png',\n",
       " 'BC_01_0587_(003,003).png',\n",
       " 'BC_01_0585_(001,004).png',\n",
       " 'BC_01_0397_(005,003).png',\n",
       " 'BC_01_0885_(005,004).png',\n",
       " 'BC_01_0885_(004,004).png',\n",
       " 'BC_01_0425_(004,010).png',\n",
       " 'BC_01_0881_(003,003).png',\n",
       " 'BC_01_0516_(001,004).png',\n",
       " 'BC_01_0881_(002,003).png',\n",
       " 'BC_01_0938_(002,004).png',\n",
       " 'BC_01_0938_(003,004).png',\n",
       " 'BC_01_0583_(004,004).png',\n",
       " 'BC_01_0974_(003,007).png',\n",
       " 'BC_01_0905_(004,003).png',\n",
       " 'BC_01_0905_(005,003).png',\n",
       " 'BC_01_0947_(003,007).png',\n",
       " 'BC_01_0599_(005,005).png',\n",
       " 'BC_01_0599_(004,005).png',\n",
       " 'BC_01_0947_(002,007).png',\n",
       " 'BC_01_0936_(004,003).png',\n",
       " 'BC_01_0666_(004,008).png',\n",
       " 'BC_01_0532_(001,004).png',\n",
       " 'BC_01_0404_(005,009).png',\n",
       " 'BC_01_0404_(004,009).png',\n",
       " 'BC_01_0530_(003,003).png',\n",
       " 'BC_01_0681_(003,003).png',\n",
       " 'BC_01_0530_(002,003).png',\n",
       " 'BC_01_0015_(004,003).png',\n",
       " 'BC_01_0876_(005,002).png',\n",
       " 'BC_01_0015_(005,003).png',\n",
       " 'BC_01_0876_(004,002).png',\n",
       " 'BC_01_0454_(002,009).png',\n",
       " 'BC_01_0454_(003,009).png',\n",
       " 'BC_01_0612_(003,003).png',\n",
       " 'BC_01_0925_(002,004).png',\n",
       " 'BC_01_0451_(003,010).png',\n",
       " 'BC_01_0455_(006,008).png',\n",
       " 'BC_01_0451_(002,010).png',\n",
       " 'BC_01_0455_(007,008).png',\n",
       " 'BC_01_0612_(004,004).png',\n",
       " 'BC_01_0612_(005,004).png',\n",
       " 'BC_01_0925_(005,003).png',\n",
       " 'BC_01_0925_(004,003).png',\n",
       " 'BC_01_0876_(003,005).png',\n",
       " 'BC_01_0398_(001,002).png',\n",
       " 'BC_01_0417_(005,009).png',\n",
       " 'BC_01_0417_(004,009).png',\n",
       " 'BC_01_0459_(005,004).png',\n",
       " 'BC_01_0459_(004,004).png',\n",
       " 'BC_01_0877_(006,004).png',\n",
       " 'BC_01_0673_(003,001).png',\n",
       " 'BC_01_0980_(005,011).png',\n",
       " 'BC_01_0980_(004,011).png',\n",
       " 'BC_01_0583_(001,001).png',\n",
       " 'BC_01_0936_(003,004).png',\n",
       " 'BC_01_0883_(005,001).png',\n",
       " 'BC_01_0936_(002,004).png',\n",
       " 'BC_01_0883_(004,001).png',\n",
       " 'BC_01_0938_(006,001).png',\n",
       " 'BC_01_0572_(001,002).png',\n",
       " 'BC_01_0681_(004,004).png',\n",
       " 'BC_01_0681_(005,004).png',\n",
       " 'BC_01_0922_(004,002).png',\n",
       " 'BC_01_0583_(004,003).png',\n",
       " 'BC_01_0656_(003,009).png',\n",
       " 'BC_01_0905_(004,004).png',\n",
       " 'BC_01_0906_(003,002).png',\n",
       " 'BC_01_0906_(002,002).png',\n",
       " 'BC_01_0516_(001,003).png',\n",
       " 'BC_01_0881_(002,004).png',\n",
       " 'BC_01_0881_(003,004).png',\n",
       " 'BC_01_0938_(002,003).png',\n",
       " 'BC_01_0471_(004,010).png',\n",
       " 'BC_01_0694_(003,001).png',\n",
       " 'BC_01_0907_(006,003).png',\n",
       " 'BC_01_0981_(005,004).png',\n",
       " 'BC_01_0885_(004,003).png',\n",
       " 'BC_01_0885_(005,003).png',\n",
       " 'BC_01_0912_(004,012).png',\n",
       " 'BC_01_0886_(002,005).png',\n",
       " 'BC_01_0886_(003,005).png',\n",
       " 'BC_01_0912_(005,012).png',\n",
       " 'BC_01_0893_(001,002).png',\n",
       " 'BC_01_0928_(003,002).png',\n",
       " 'BC_01_0928_(002,002).png',\n",
       " 'BC_01_0587_(003,004).png',\n",
       " 'BC_01_0587_(002,004).png',\n",
       " 'BC_01_0877_(003,006).png',\n",
       " 'BC_01_0902_(004,005).png',\n",
       " 'BC_01_0886_(004,002).png',\n",
       " 'BC_01_0886_(005,002).png',\n",
       " 'BC_01_0015_(001,001).png',\n",
       " 'BC_01_0668_(006,010).png',\n",
       " 'BC_01_0397_(003,003).png',\n",
       " 'BC_01_0397_(002,003).png',\n",
       " 'BC_01_0981_(003,003).png',\n",
       " 'BC_01_0885_(003,004).png',\n",
       " 'BC_01_0612_(006,001).png',\n",
       " 'BC_01_0674_(001,005).png',\n",
       " 'BC_01_0902_(003,002).png',\n",
       " 'BC_01_0652_(003,009).png',\n",
       " 'BC_01_0587_(005,003).png',\n",
       " 'BC_01_0587_(004,003).png',\n",
       " 'BC_01_0583_(003,004).png',\n",
       " 'BC_01_0974_(004,007).png',\n",
       " 'BC_01_0673_(001,004).png',\n",
       " 'BC_01_0905_(003,003).png',\n",
       " 'BC_01_0425_(003,010).png',\n",
       " 'BC_01_0881_(004,003).png',\n",
       " 'BC_01_0938_(005,004).png',\n",
       " 'BC_01_0938_(004,004).png',\n",
       " 'BC_01_0881_(004,002).png',\n",
       " 'BC_01_0974_(005,006).png',\n",
       " 'BC_01_0583_(003,005).png',\n",
       " 'BC_01_0974_(004,006).png',\n",
       " 'BC_01_0905_(003,002).png',\n",
       " 'BC_01_0905_(002,002).png',\n",
       " 'BC_01_0531_(003,001).png',\n",
       " 'BC_01_0928_(004,004).png',\n",
       " 'BC_01_0587_(005,002).png',\n",
       " 'BC_01_0587_(004,002).png',\n",
       " 'BC_01_0902_(003,003).png',\n",
       " 'BC_01_0674_(001,004).png',\n",
       " 'BC_01_0397_(002,002).png',\n",
       " 'BC_01_0885_(003,005).png',\n",
       " 'BC_01_0886_(004,003).png',\n",
       " 'BC_01_0425_(002,007).png',\n",
       " 'BC_01_0886_(005,003).png',\n",
       " 'BC_01_0902_(004,004).png',\n",
       " 'BC_01_0510_(004,002).png',\n",
       " 'BC_01_0928_(003,003).png',\n",
       " 'BC_01_0928_(002,003).png',\n",
       " 'BC_01_0587_(003,005).png',\n",
       " 'BC_01_0587_(002,005).png',\n",
       " 'BC_01_0912_(004,013).png',\n",
       " 'BC_01_0886_(003,004).png',\n",
       " 'BC_01_0893_(001,003).png',\n",
       " 'BC_01_0885_(004,002).png',\n",
       " 'BC_01_0693_(002,001).png',\n",
       " 'BC_01_0885_(005,002).png',\n",
       " 'BC_01_0907_(006,002).png',\n",
       " 'BC_01_0938_(003,002).png',\n",
       " 'BC_01_0938_(002,002).png',\n",
       " 'BC_01_0906_(002,003).png',\n",
       " 'BC_01_0583_(005,002).png',\n",
       " 'BC_01_0583_(004,002).png',\n",
       " 'BC_01_0656_(003,008).png',\n",
       " 'BC_01_0660_(004,011).png',\n",
       " 'BC_01_0681_(004,005).png',\n",
       " 'BC_01_0681_(005,005).png',\n",
       " 'BC_01_0922_(004,003).png',\n",
       " 'BC_01_0572_(001,003).png',\n",
       " 'BC_01_0455_(003,011).png',\n",
       " 'BC_01_0980_(005,010).png',\n",
       " 'BC_01_0660_(004,007).png',\n",
       " 'BC_01_0876_(003,004).png',\n",
       " 'BC_01_0893_(004,001).png',\n",
       " 'BC_01_0612_(004,005).png',\n",
       " 'BC_01_0612_(005,005).png',\n",
       " 'BC_01_0925_(005,002).png',\n",
       " 'BC_01_0455_(006,009).png',\n",
       " 'BC_01_0459_(002,002).png',\n",
       " 'BC_01_0455_(007,009).png',\n",
       " 'BC_01_0693_(001,004).png',\n",
       " 'BC_01_0925_(003,005).png',\n",
       " 'BC_01_0925_(002,005).png',\n",
       " 'BC_01_0015_(004,002).png',\n",
       " 'BC_01_0876_(005,003).png',\n",
       " 'BC_01_0876_(004,003).png',\n",
       " 'BC_01_0515_(004,001).png',\n",
       " 'BC_01_0912_(004,009).png',\n",
       " 'BC_01_0404_(004,008).png',\n",
       " 'BC_01_0912_(005,009).png',\n",
       " 'BC_01_0922_(003,004).png',\n",
       " 'BC_01_0530_(003,002).png',\n",
       " 'BC_01_0530_(002,002).png',\n",
       " 'BC_01_0666_(004,009).png',\n",
       " 'BC_01_0532_(001,005).png',\n",
       " 'BC_01_0947_(003,006).png',\n",
       " 'BC_01_0599_(005,004).png',\n",
       " 'BC_01_0451_(002,007).png',\n",
       " 'BC_01_0599_(004,004).png',\n",
       " 'BC_01_0936_(004,002).png']"
      ]
     },
     "execution_count": 14,
     "metadata": {},
     "output_type": "execute_result"
    }
   ],
   "source": [
    "files1"
   ]
  },
  {
   "cell_type": "code",
   "execution_count": 15,
   "id": "05304bed",
   "metadata": {
    "ExecuteTime": {
     "end_time": "2022-11-21T03:46:50.960161Z",
     "start_time": "2022-11-21T03:46:45.522439Z"
    },
    "scrolled": true
   },
   "outputs": [
    {
     "name": "stdout",
     "output_type": "stream",
     "text": [
      "Deviece 확인\n",
      "mps:0\n"
     ]
    }
   ],
   "source": [
    "print('Deviece 확인')\n",
    "device = torch.device(\"mps:0\" if torch.backends.mps.is_available() else \"cpu\")\n",
    "print(device)\n",
    "\n",
    "\n",
    "loader = transforms.Compose([\n",
    "    transforms.ToTensor()])  # 토치 텐서로 변환\n",
    "\n",
    "\n",
    "def image_loader(image_name):\n",
    "    image = Image.open(image_name)\n",
    "    image = loader(image).unsqueeze(0)\n",
    "    return image.to(device, torch.float)\n",
    "\n",
    "train = []\n",
    "label = []\n",
    "\n",
    "for i in range(len(test_image_name)):\n",
    "    image = image_loader('./imgs_without_white/' + test_image_name[i])\n",
    "    train.append(image)\n",
    "\n",
    "for i in range(len(mask_image_name)):\n",
    "    image = image_loader('./masks_without_white/' + mask_image_name[i])\n",
    "    label.append(image)"
   ]
  },
  {
   "cell_type": "code",
   "execution_count": 16,
   "id": "931f3148",
   "metadata": {
    "ExecuteTime": {
     "end_time": "2022-11-21T03:46:51.215844Z",
     "start_time": "2022-11-21T03:46:50.961325Z"
    },
    "scrolled": true
   },
   "outputs": [
    {
     "name": "stdout",
     "output_type": "stream",
     "text": [
      "Train Image -> Tensor 확인\n",
      "628\n",
      "torch.Size([1, 3, 512, 512])\n",
      "tensor([[[[0.9333, 0.8863, 0.9176,  ..., 0.9569, 0.9569, 0.9569],\n",
      "          [0.8510, 0.9176, 0.8588,  ..., 0.9569, 0.9569, 0.9569],\n",
      "          [0.8510, 0.8902, 0.9373,  ..., 0.9569, 0.9569, 0.9569],\n",
      "          ...,\n",
      "          [0.5412, 0.8980, 0.8392,  ..., 0.9569, 0.9569, 0.9569],\n",
      "          [0.5529, 0.8392, 0.8941,  ..., 0.9569, 0.9569, 0.9569],\n",
      "          [0.5961, 0.4824, 0.8941,  ..., 0.9569, 0.9569, 0.9569]],\n",
      "\n",
      "         [[0.8902, 0.8078, 0.8588,  ..., 0.9569, 0.9569, 0.9569],\n",
      "          [0.7961, 0.8902, 0.8196,  ..., 0.9569, 0.9569, 0.9569],\n",
      "          [0.8039, 0.8314, 0.8863,  ..., 0.9569, 0.9569, 0.9569],\n",
      "          ...,\n",
      "          [0.3176, 0.8000, 0.8000,  ..., 0.9569, 0.9569, 0.9569],\n",
      "          [0.3490, 0.6863, 0.7647,  ..., 0.9569, 0.9569, 0.9569],\n",
      "          [0.4431, 0.3020, 0.7686,  ..., 0.9569, 0.9569, 0.9569]],\n",
      "\n",
      "         [[0.9176, 0.8588, 0.8902,  ..., 0.9569, 0.9569, 0.9569],\n",
      "          [0.8510, 0.9059, 0.8392,  ..., 0.9569, 0.9569, 0.9569],\n",
      "          [0.8510, 0.8902, 0.9294,  ..., 0.9569, 0.9569, 0.9569],\n",
      "          ...,\n",
      "          [0.5490, 0.8863, 0.8471,  ..., 0.9569, 0.9569, 0.9569],\n",
      "          [0.5765, 0.7961, 0.8510,  ..., 0.9569, 0.9569, 0.9569],\n",
      "          [0.6627, 0.5216, 0.8431,  ..., 0.9569, 0.9569, 0.9569]]]],\n",
      "       device='mps:0')\n",
      "Label Image -> Tensor 확인\n",
      "628\n",
      "torch.Size([1, 1, 512, 512])\n",
      "tensor([[[[1.0000, 1.0000, 1.0000,  ..., 1.0000, 1.0000, 1.0000],\n",
      "          [1.0000, 1.0000, 1.0000,  ..., 1.0000, 1.0000, 1.0000],\n",
      "          [1.0000, 1.0000, 1.0000,  ..., 1.0000, 1.0000, 1.0000],\n",
      "          ...,\n",
      "          [0.1137, 0.1137, 0.1137,  ..., 1.0000, 1.0000, 1.0000],\n",
      "          [0.1137, 0.1137, 0.1137,  ..., 1.0000, 1.0000, 1.0000],\n",
      "          [0.1137, 0.1137, 0.1137,  ..., 1.0000, 1.0000, 1.0000]]]],\n",
      "       device='mps:0')\n"
     ]
    },
    {
     "name": "stderr",
     "output_type": "stream",
     "text": [
      "/opt/homebrew/Caskroom/miniforge/base/envs/dl/lib/python3.9/site-packages/torch/_tensor_str.py:115: UserWarning: The operator 'aten::nonzero' is not currently supported on the MPS backend and will fall back to run on the CPU. This may have performance implications. (Triggered internally at /Users/runner/work/_temp/anaconda/conda-bld/pytorch_1666646703877/work/aten/src/ATen/mps/MPSFallback.mm:11.)\n",
      "  nonzero_finite_vals = torch.masked_select(\n"
     ]
    }
   ],
   "source": [
    "print('Train Image -> Tensor 확인')\n",
    "print(len(train))\n",
    "print(train[1].size())\n",
    "print(train[1])\n",
    "print('Label Image -> Tensor 확인')\n",
    "print(len(label))\n",
    "print(label[1].size())\n",
    "print(label[1])"
   ]
  },
  {
   "cell_type": "code",
   "execution_count": 17,
   "id": "7be514de",
   "metadata": {
    "ExecuteTime": {
     "end_time": "2022-11-21T03:46:51.412402Z",
     "start_time": "2022-11-21T03:46:51.217075Z"
    },
    "scrolled": true
   },
   "outputs": [
    {
     "data": {
      "image/png": "[encoded data removed]",
      "text/plain": [
       "<Figure size 640x480 with 2 Axes>"
      ]
     },
     "metadata": {},
     "output_type": "display_data"
    }
   ],
   "source": [
    "unloader = transforms.ToPILImage()\n",
    "\n",
    "def imshow1(tensor, title=None):\n",
    "    image = tensor.cpu().clone()  # 텐서의 값에 변화가 적용되지 않도록 텐서를 복제합니다\n",
    "    image = image.squeeze(0)      # 페이크 배치 차원을 제거 합니다\n",
    "    image = unloader(image)\n",
    "    plt.imshow(image)\n",
    "    \n",
    "\n",
    "def imshow2(tensor, title=None):\n",
    "    image = tensor.cpu().clone()  # 텐서의 값에 변화가 적용되지 않도록 텐서를 복제합니다\n",
    "    image = image.squeeze(0)      # 페이크 배치 차원을 제거 합니다\n",
    "    image = unloader(image)\n",
    "    plt.imshow(image, cmap='gray')\n",
    "    \n",
    "test_image_example = plt.subplot(1,2,1)\n",
    "test_image_example.set_title('Test Image Example')\n",
    "imshow1(train[2])\n",
    "\n",
    "label_image_example = plt.subplot(1,2,2)\n",
    "label_image_example.set_title('Label Image Example')\n",
    "imshow2(label[2])"
   ]
  },
  {
   "cell_type": "code",
   "execution_count": 18,
   "id": "f7e10678",
   "metadata": {
    "ExecuteTime": {
     "end_time": "2022-11-21T03:46:51.415073Z",
     "start_time": "2022-11-21T03:46:51.413304Z"
    }
   },
   "outputs": [],
   "source": [
    "# # 사이즈 512 로 만들기\n",
    "# for i in files:\n",
    "#     wb = torch.zeros(512,512,3) +243\n",
    "#     wb = np.array(wb).astype('int')\n",
    "#     src = cv2.imread('./imgs_without_white/'+i, cv2.IMREAD_UNCHANGED)\n",
    "#     height, width, channel = src.shape\n",
    "#     if width or height !=512:\n",
    "#         wb[0:height, 0:width] = src\n",
    "#         cv2.imwrite('./imgs_without_white/'+i, wb)\n",
    "\n",
    "# for i in files:\n",
    "#     wb = torch.zeros(512,512) +255\n",
    "#     wb = np.array(wb).astype('int')\n",
    "#     src = cv2.imread('./masks_without_white/'+i, cv2.IMREAD_UNCHANGED)\n",
    "#     height, width = src.shape\n",
    "#     if width or height !=512:\n",
    "#         wb[0:height, 0:width] = src\n",
    "#         cv2.imwrite('./masks_without_white/'+i, wb)\n",
    "        "
   ]
  },
  {
   "cell_type": "code",
   "execution_count": 19,
   "id": "00a78f79",
   "metadata": {
    "ExecuteTime": {
     "end_time": "2022-11-21T03:46:51.448405Z",
     "start_time": "2022-11-21T03:46:51.416477Z"
    }
   },
   "outputs": [],
   "source": [
    "train_batch = []\n",
    "label_batch = []\n",
    "batch_size = 4\n",
    "for i in range(0,len(train),batch_size):\n",
    "    train_batch.append(torch.cat([train[i],train[i+1]]))\n",
    "\n",
    "for i in range(0,len(label),batch_size):\n",
    "    try:\n",
    "        label_batch.append(torch.cat([label[i],label[i+1]]))\n",
    "    except:\n",
    "        pass"
   ]
  },
  {
   "cell_type": "code",
   "execution_count": 20,
   "id": "617c6b18",
   "metadata": {
    "ExecuteTime": {
     "end_time": "2022-11-21T03:46:51.453196Z",
     "start_time": "2022-11-21T03:46:51.449415Z"
    }
   },
   "outputs": [
    {
     "name": "stdout",
     "output_type": "stream",
     "text": [
      "Batch 개수 확인\n",
      "157\n",
      "157\n",
      "Batch Tensor 정보 확인\n",
      "torch.Size([2, 1, 512, 512])\n"
     ]
    }
   ],
   "source": [
    "print('Batch 개수 확인')\n",
    "print(len(train_batch))\n",
    "print(len(label_batch))\n",
    "print('Batch Tensor 정보 확인')\n",
    "print(label_batch[0].size())"
   ]
  },
  {
   "cell_type": "code",
   "execution_count": 21,
   "id": "f53b8ef8",
   "metadata": {
    "ExecuteTime": {
     "end_time": "2022-11-21T03:46:51.458071Z",
     "start_time": "2022-11-21T03:46:51.454694Z"
    }
   },
   "outputs": [],
   "source": [
    "# 자주 쓰는 연산들과 항상 세트로 쓰는 연산들은 편의를 위해 함수로 정의해 놓습니다.\n",
    "\n",
    "def conv_block(in_dim,out_dim,act_fn):\n",
    "    model = nn.Sequential(\n",
    "        nn.Conv2d(in_dim,out_dim, kernel_size=3, stride=1, padding=1),\n",
    "        nn.BatchNorm2d(out_dim),\n",
    "        act_fn,\n",
    "    )\n",
    "    return model\n",
    "\n",
    "def conv_trans_block(in_dim,out_dim,act_fn):\n",
    "    model = nn.Sequential(\n",
    "        nn.ConvTranspose2d(in_dim,out_dim, kernel_size=3, stride=2, padding=1,output_padding=1),\n",
    "        nn.BatchNorm2d(out_dim),\n",
    "        act_fn,\n",
    "    )\n",
    "    return model\n",
    "\n",
    "def maxpool():\n",
    "    pool = nn.MaxPool2d(kernel_size=2, stride=2, padding=0)\n",
    "    return pool\n",
    "\n",
    "def conv_block_2(in_dim,out_dim,act_fn):\n",
    "    model = nn.Sequential(\n",
    "        conv_block(in_dim,out_dim,act_fn),\n",
    "        nn.Conv2d(out_dim,out_dim, kernel_size=3, stride=1, padding=1),\n",
    "        nn.BatchNorm2d(out_dim),\n",
    "    )\n",
    "    return model    "
   ]
  },
  {
   "cell_type": "code",
   "execution_count": 22,
   "id": "2bced6b4",
   "metadata": {
    "ExecuteTime": {
     "end_time": "2022-11-21T03:46:51.466252Z",
     "start_time": "2022-11-21T03:46:51.459411Z"
    }
   },
   "outputs": [],
   "source": [
    "class UnetGenerator(nn.Module):\n",
    "    def __init__(self,in_dim,out_dim,num_filter):\n",
    "        super(UnetGenerator,self).__init__()\n",
    "        self.in_dim = in_dim\n",
    "        self.out_dim = out_dim\n",
    "        self.num_filter = num_filter\n",
    "        act_fn = nn.LeakyReLU(0.2, inplace=True)\n",
    "\n",
    "        print(\"\\n------Initiating U-Net------\\n\")\n",
    "\n",
    "        self.down_1 = conv_block_2(self.in_dim,self.num_filter,act_fn)\n",
    "        self.pool_1 = maxpool()\n",
    "        self.down_2 = conv_block_2(self.num_filter*1,self.num_filter*2,act_fn)\n",
    "        self.pool_2 = maxpool()\n",
    "        self.down_3 = conv_block_2(self.num_filter*2,self.num_filter*4,act_fn)\n",
    "        self.pool_3 = maxpool()\n",
    "        self.down_4 = conv_block_2(self.num_filter*4,self.num_filter*8,act_fn)\n",
    "        self.pool_4 = maxpool()\n",
    "\n",
    "        self.bridge = conv_block_2(self.num_filter*8,self.num_filter*16,act_fn)\n",
    "\n",
    "        self.trans_1 = conv_trans_block(self.num_filter*16,self.num_filter*8,act_fn)\n",
    "        self.up_1 = conv_block_2(self.num_filter*16,self.num_filter*8,act_fn)\n",
    "        self.trans_2 = conv_trans_block(self.num_filter*8,self.num_filter*4,act_fn)\n",
    "        self.up_2 = conv_block_2(self.num_filter*8,self.num_filter*4,act_fn)\n",
    "        self.trans_3 = conv_trans_block(self.num_filter*4,self.num_filter*2,act_fn)\n",
    "        self.up_3 = conv_block_2(self.num_filter*4,self.num_filter*2,act_fn)\n",
    "        self.trans_4 = conv_trans_block(self.num_filter*2,self.num_filter*1,act_fn)\n",
    "        self.up_4 = conv_block_2(self.num_filter*2,self.num_filter*1,act_fn)\n",
    "        \n",
    "        self.out = nn.Sequential(\n",
    "            nn.Conv2d(self.num_filter,self.out_dim,3,1,1),\n",
    "            nn.Tanh(),  #필수는 아님\n",
    "        )\n",
    "        \n",
    "            \n",
    "    def forward(self,input):\n",
    "        down_1 = self.down_1(input)\n",
    "        pool_1 = self.pool_1(down_1)\n",
    "        down_2 = self.down_2(pool_1)\n",
    "        pool_2 = self.pool_2(down_2)\n",
    "        down_3 = self.down_3(pool_2)\n",
    "        pool_3 = self.pool_3(down_3)\n",
    "        down_4 = self.down_4(pool_3)\n",
    "        pool_4 = self.pool_4(down_4)\n",
    "\n",
    "        bridge = self.bridge(pool_4)\n",
    "\n",
    "        trans_1 = self.trans_1(bridge)\n",
    "        concat_1 = torch.cat([trans_1,down_4],dim=1)\n",
    "        up_1 = self.up_1(concat_1)\n",
    "        trans_2 = self.trans_2(up_1)\n",
    "        concat_2 = torch.cat([trans_2,down_3],dim=1)\n",
    "        up_2 = self.up_2(concat_2)\n",
    "        trans_3 = self.trans_3(up_2)\n",
    "        concat_3 = torch.cat([trans_3,down_2],dim=1)\n",
    "        up_3 = self.up_3(concat_3)\n",
    "        trans_4 = self.trans_4(up_3)\n",
    "        concat_4 = torch.cat([trans_4,down_1],dim=1)\n",
    "        up_4 = self.up_4(concat_4)\n",
    "        out = self.out(up_4)\n",
    "        return out"
   ]
  },
  {
   "cell_type": "code",
   "execution_count": 23,
   "id": "6e275819",
   "metadata": {
    "ExecuteTime": {
     "end_time": "2022-11-21T03:46:51.621041Z",
     "start_time": "2022-11-21T03:46:51.468149Z"
    }
   },
   "outputs": [
    {
     "name": "stdout",
     "output_type": "stream",
     "text": [
      "img_numpy Check\n",
      "[[255 255 255 ... 255 255 255]\n",
      " [255 255 255 ... 255 255 255]\n",
      " [255 255 255 ... 255 255 255]\n",
      " ...\n",
      " [ 29  29  29 ... 255 255 255]\n",
      " [ 29  29  29 ... 255 255 255]\n",
      " [ 29  29  29 ... 255 255 255]]\n",
      "After Kernel Check\n",
      "[[0. 0. 0. ... 0. 0. 0.]\n",
      " [0. 0. 0. ... 0. 0. 0.]\n",
      " [0. 0. 0. ... 0. 0. 0.]\n",
      " ...\n",
      " [0. 0. 0. ... 0. 0. 0.]\n",
      " [0. 0. 0. ... 0. 0. 0.]\n",
      " [0. 0. 0. ... 0. 0. 0.]]\n"
     ]
    },
    {
     "data": {
      "image/png": "[encoded data removed]",
      "text/plain": [
       "<Figure size 640x480 with 3 Axes>"
      ]
     },
     "metadata": {},
     "output_type": "display_data"
    }
   ],
   "source": [
    "def imshow3(tensor, title=None):\n",
    "    image = tensor.cpu().clone()  # 텐서의 값에 변화가 적용되지 않도록 텐서를 복제합니다\n",
    "    image = image.squeeze(0)      # 페이크 배치 차원을 제거 합니다\n",
    "    image = unloader(image)\n",
    "    return image\n",
    "\n",
    "img = imshow3(label[1])\n",
    "img_numpy = np.array(img)\n",
    "print('img_numpy Check')\n",
    "print(img_numpy)\n",
    "\n",
    "\n",
    "kernel = np.ones((3,3),np.uint8)\n",
    "result = cv2.morphologyEx(img_numpy/255, cv2.MORPH_TOPHAT, kernel)\n",
    "\n",
    "print('After Kernel Check')\n",
    "print(result)\n",
    "\n",
    "plt.subplot(131),plt.imshow(img),plt.title('Original')\n",
    "plt.xticks([]), plt.yticks([])\n",
    "plt.subplot(132),plt.imshow(result),plt.title('Feature Map')\n",
    "plt.xticks([]), plt.yticks([])\n",
    "plt.subplot(133),plt.imshow(img+result),plt.title('Feature Map + Original')\n",
    "plt.xticks([]),plt.yticks([])\n",
    "plt.show()"
   ]
  },
  {
   "cell_type": "code",
   "execution_count": 24,
   "id": "e3e390a2",
   "metadata": {
    "ExecuteTime": {
     "end_time": "2022-11-21T03:46:51.967587Z",
     "start_time": "2022-11-21T03:46:51.622281Z"
    }
   },
   "outputs": [
    {
     "name": "stdout",
     "output_type": "stream",
     "text": [
      "\n",
      "------Initiating U-Net------\n",
      "\n"
     ]
    }
   ],
   "source": [
    "img_size = 512\n",
    "in_dim = 3\n",
    "out_dim = 1\n",
    "num_filters = 64\n",
    "num_epoch = 100\n",
    "lr = 0.001\n",
    "\n",
    "# 앞서 정의한대로 vGG 클래스를 인스턴스화 하고 지정한 장치에 올립니다.\n",
    "model = UnetGenerator(in_dim=in_dim,out_dim=out_dim,num_filter=num_filters).to(device)\n",
    "\n",
    "# 손실함수 및 최적화함수를 설정합니다.\n",
    "loss_func = nn.MSELoss()\n",
    "optimizer = torch.optim.Adam(model.parameters(), lr=lr)#, momentum=0.99)"
   ]
  },
  {
   "cell_type": "code",
   "execution_count": 25,
   "id": "1424aee6",
   "metadata": {
    "ExecuteTime": {
     "end_time": "2022-11-21T03:46:51.971651Z",
     "start_time": "2022-11-21T03:46:51.969001Z"
    }
   },
   "outputs": [
    {
     "data": {
      "text/plain": [
       "157"
      ]
     },
     "execution_count": 25,
     "metadata": {},
     "output_type": "execute_result"
    }
   ],
   "source": [
    "len(train_batch)"
   ]
  },
  {
   "cell_type": "code",
   "execution_count": null,
   "id": "39c5e369",
   "metadata": {
    "ExecuteTime": {
     "start_time": "2022-11-21T03:46:43.461Z"
    }
   },
   "outputs": [
    {
     "name": "stderr",
     "output_type": "stream",
     "text": [
      "  1%|▍                                       | 1/100 [04:05<6:45:32, 245.79s/it]"
     ]
    },
    {
     "name": "stdout",
     "output_type": "stream",
     "text": [
      "0.12059028446674347\n"
     ]
    },
    {
     "name": "stderr",
     "output_type": "stream",
     "text": [
      " 30%|███████████                          | 30/100 [2:02:31<4:45:34, 244.78s/it]"
     ]
    }
   ],
   "source": [
    "from tqdm import tqdm\n",
    "\n",
    "for i in tqdm(range(num_epoch)):\n",
    "    for j in range(len(train_batch)):\n",
    "        x = train_batch[j]\n",
    "        y_= label_batch[j]\n",
    "        \n",
    "        optimizer.zero_grad()\n",
    "        output = model.forward(x)\n",
    "        \n",
    "        loss = loss_func(output,y_)\n",
    "        loss.backward()\n",
    "        \n",
    "        optimizer.step()\n",
    "    if i % 100 ==0:\n",
    "        print(loss.item())"
   ]
  },
  {
   "cell_type": "code",
   "execution_count": null,
   "id": "1cd0ed3c",
   "metadata": {
    "ExecuteTime": {
     "start_time": "2022-11-21T03:46:43.462Z"
    }
   },
   "outputs": [],
   "source": [
    "test = []\n",
    "output = []\n",
    "for i in range(2):\n",
    "    image = image_loader('./imgs_without_white/' + test_image_name[i])\n",
    "    test.append(image)\n",
    "\n",
    "with torch.no_grad():\n",
    "    for i in range(len(test)):\n",
    "        output.append(model.forward(test[i]))\n",
    "    \n",
    "        if i % 10 == 0:\n",
    "            print(loss.item())\n",
    "        \n",
    "for i in range(5):\n",
    "    test_image_example = plt.subplot(1,2,1)\n",
    "    test_image_example.set_title('Test Image: ' + str(i))\n",
    "    imshow1(test[i])\n",
    "    \n",
    "    result_image_example = plt.subplot(1,2,2)\n",
    "    result_image_example.set_title('Result Image: ' + str(i))\n",
    "    imshow2(output[i])\n",
    "    \n",
    "    plt.show()"
   ]
  }
 ],
 "metadata": {
  "kernelspec": {
   "display_name": "Python 3 (ipykernel)",
   "language": "python",
   "name": "python3"
  },
  "language_info": {
   "codemirror_mode": {
    "name": "ipython",
    "version": 3
   },
   "file_extension": ".py",
   "mimetype": "text/x-python",
   "name": "python",
   "nbconvert_exporter": "python",
   "pygments_lexer": "ipython3",
   "version": "3.9.13"
  },
  "toc": {
   "base_numbering": 1,
   "nav_menu": {
    "height": "198.988968px",
    "width": "417.996307px"
   },
   "number_sections": true,
   "sideBar": true,
   "skip_h1_title": false,
   "title_cell": "Table of Contents",
   "title_sidebar": "Contents",
   "toc_cell": false,
   "toc_position": {
    "height": "772px",
    "left": "85px",
    "top": "169px",
    "width": "199.1875px"
   },
   "toc_section_display": true,
   "toc_window_display": false
  }
 },
 "nbformat": 4,
 "nbformat_minor": 5
}
