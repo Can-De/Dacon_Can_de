{
 "cells": [
  {
   "cell_type": "code",
   "execution_count": 6,
   "id": "d69ae1cd",
   "metadata": {
    "ExecuteTime": {
     "end_time": "2022-11-17T08:39:49.981260Z",
     "start_time": "2022-11-17T08:39:49.968549Z"
    },
    "colab": {
     "base_uri": "https://localhost:8080/"
    },
    "execution": {
     "iopub.execute_input": "2022-11-21T06:50:37.657555Z",
     "iopub.status.busy": "2022-11-21T06:50:37.657458Z",
     "iopub.status.idle": "2022-11-21T06:50:37.663963Z",
     "shell.execute_reply": "2022-11-21T06:50:37.663715Z",
     "shell.execute_reply.started": "2022-11-21T06:50:37.657523Z"
    },
    "executionInfo": {
     "elapsed": 281,
     "status": "ok",
     "timestamp": 1669029394141,
     "user": {
      "displayName": "",
      "userId": ""
     },
     "user_tz": -540
    },
    "id": "d69ae1cd",
    "outputId": "07622d5b-05b8-4b81-8aff-146c617bfc50",
    "tags": []
   },
   "outputs": [
    {
     "name": "stdout",
     "output_type": "stream",
     "text": [
      "/content/drive/MyDrive/Colab Notebooks_TeamShare/open\n"
     ]
    }
   ],
   "source": [
    "%cd /content/drive/MyDrive/Colab Notebooks_TeamShare/open"
   ]
  },
  {
   "cell_type": "code",
   "execution_count": 7,
   "id": "a4acabfa",
   "metadata": {
    "ExecuteTime": {
     "end_time": "2022-11-17T08:41:07.564619Z",
     "start_time": "2022-11-17T08:41:07.424974Z"
    },
    "colab": {
     "base_uri": "https://localhost:8080/"
    },
    "execution": {
     "iopub.execute_input": "2022-11-21T06:50:37.664483Z",
     "iopub.status.busy": "2022-11-21T06:50:37.664414Z",
     "iopub.status.idle": "2022-11-21T06:50:37.791140Z",
     "shell.execute_reply": "2022-11-21T06:50:37.789841Z",
     "shell.execute_reply.started": "2022-11-21T06:50:37.664473Z"
    },
    "executionInfo": {
     "elapsed": 4,
     "status": "ok",
     "timestamp": 1669029395466,
     "user": {
      "displayName": "",
      "userId": ""
     },
     "user_tz": -540
    },
    "id": "a4acabfa",
    "outputId": "2af892aa-6554-4e3c-9291-eaeb6ce83a62",
    "tags": []
   },
   "outputs": [
    {
     "name": "stdout",
     "output_type": "stream",
     "text": [
      "/content/drive/MyDrive/Colab Notebooks_TeamShare/open\n"
     ]
    }
   ],
   "source": [
    "!pwd"
   ]
  },
  {
   "cell_type": "code",
   "execution_count": null,
   "id": "NTOBhq1gCAME",
   "metadata": {
    "id": "NTOBhq1gCAME"
   },
   "outputs": [],
   "source": []
  },
  {
   "cell_type": "code",
   "execution_count": 1,
   "id": "O72r7WvyCFJi",
   "metadata": {
    "colab": {
     "base_uri": "https://localhost:8080/"
    },
    "executionInfo": {
     "elapsed": 25134,
     "status": "ok",
     "timestamp": 1669094543973,
     "user": {
      "displayName": "",
      "userId": ""
     },
     "user_tz": -540
    },
    "id": "O72r7WvyCFJi",
    "outputId": "fea7de2a-ae23-4250-d034-acccc7fa4f43"
   },
   "outputs": [
    {
     "name": "stdout",
     "output_type": "stream",
     "text": [
      "Mounted at /content/drive\n"
     ]
    }
   ],
   "source": [
    "from google.colab import drive\n",
    "drive.mount('/content/drive')"
   ]
  },
  {
   "cell_type": "code",
   "execution_count": 2,
   "id": "1eea5f60",
   "metadata": {
    "ExecuteTime": {
     "end_time": "2022-11-17T08:39:50.928329Z",
     "start_time": "2022-11-17T08:39:50.917043Z"
    },
    "execution": {
     "iopub.execute_input": "2022-11-21T06:50:37.796672Z",
     "iopub.status.busy": "2022-11-21T06:50:37.796286Z",
     "iopub.status.idle": "2022-11-21T06:50:38.462597Z",
     "shell.execute_reply": "2022-11-21T06:50:38.462306Z",
     "shell.execute_reply.started": "2022-11-21T06:50:37.796627Z"
    },
    "executionInfo": {
     "elapsed": 2,
     "status": "ok",
     "timestamp": 1669029361496,
     "user": {
      "displayName": "",
      "userId": ""
     },
     "user_tz": -540
    },
    "id": "1eea5f60",
    "tags": []
   },
   "outputs": [],
   "source": [
    "import os\n",
    "import cv2\n",
    "import glob\n",
    "import pandas as pd\n",
    "import numpy as np\n",
    "import matplotlib.pyplot as plt\n",
    "from tqdm import tqdm\n",
    "pd.set_option('display.max.colwidth', 150)\n",
    "pd.set_option('display.max.row', 500)"
   ]
  },
  {
   "cell_type": "markdown",
   "id": "4248dc8a",
   "metadata": {
    "id": "4248dc8a"
   },
   "source": [
    "## train_mask  확인"
   ]
  },
  {
   "cell_type": "code",
   "execution_count": 6,
   "id": "37f968be",
   "metadata": {
    "ExecuteTime": {
     "end_time": "2022-11-17T08:39:53.338956Z",
     "start_time": "2022-11-17T08:39:52.969873Z"
    },
    "colab": {
     "base_uri": "https://localhost:8080/",
     "height": 197
    },
    "execution": {
     "iopub.execute_input": "2022-11-21T06:50:38.463054Z",
     "iopub.status.busy": "2022-11-21T06:50:38.462990Z",
     "iopub.status.idle": "2022-11-21T06:50:38.842672Z",
     "shell.execute_reply": "2022-11-21T06:50:38.842294Z",
     "shell.execute_reply.started": "2022-11-21T06:50:38.463046Z"
    },
    "executionInfo": {
     "elapsed": 1124,
     "status": "ok",
     "timestamp": 1669015114490,
     "user": {
      "displayName": "",
      "userId": ""
     },
     "user_tz": -540
    },
    "id": "37f968be",
    "outputId": "419b9194-71cd-4c8c-bb44-54f2db8682a5",
    "tags": []
   },
   "outputs": [
    {
     "data": {
      "image/png": "[encoded data removed]",
      "text/plain": [
       "<Figure size 432x288 with 1 Axes>"
      ]
     },
     "metadata": {
      "needs_background": "light"
     },
     "output_type": "display_data"
    }
   ],
   "source": [
    "trian_mask_test_img = './train_masks/BC_01_0015.png'\n",
    "img = cv2.imread(trian_mask_test_img, cv2.IMREAD_GRAYSCALE)\n",
    "plt.imshow(img, cmap='gray')\n",
    "plt.show()"
   ]
  },
  {
   "cell_type": "markdown",
   "id": "3ca50529",
   "metadata": {
    "id": "3ca50529"
   },
   "source": [
    "## 사용자 함수"
   ]
  },
  {
   "cell_type": "markdown",
   "id": "cf042835",
   "metadata": {
    "id": "cf042835"
   },
   "source": [
    "### 이미지 자르는 사용자 함수"
   ]
  },
  {
   "cell_type": "code",
   "execution_count": null,
   "id": "beddb6e5",
   "metadata": {
    "ExecuteTime": {
     "end_time": "2022-11-17T08:44:57.112816Z",
     "start_time": "2022-11-17T08:44:57.099831Z"
    },
    "execution": {
     "iopub.execute_input": "2022-11-21T06:50:38.843467Z",
     "iopub.status.busy": "2022-11-21T06:50:38.843312Z",
     "iopub.status.idle": "2022-11-21T06:50:38.846548Z",
     "shell.execute_reply": "2022-11-21T06:50:38.846269Z",
     "shell.execute_reply.started": "2022-11-21T06:50:38.843458Z"
    },
    "id": "beddb6e5"
   },
   "outputs": [],
   "source": [
    "def Img_Crop(input_dir, input_img_list, crop_size, output_dir, flags):\n",
    "    print('img_crop 중...') \n",
    "    output_dir = input_dir+'_cropped'\n",
    "#     if ~os.path.exists(output_dir):\n",
    "#         os.makedirs(output_dir)\n",
    "    img_list = [os.path.join(input_dir, img_name) for img_name in input_img_list]\n",
    "    for img in tqdm(img_list):\n",
    "        cv2_img = cv2.imread(img, flags)\n",
    "        for row, start_y_pixel in enumerate(range(0, cv2_img.shape[0], crop_size)):\n",
    "            for col, start_x_pixel in enumerate(range(0, cv2_img.shape[1], crop_size)):\n",
    "                croped_img = cv2_img[start_y_pixel:start_y_pixel + crop_size, start_x_pixel:start_x_pixel+crop_size]\n",
    "                cv2.imwrite(f'{output_dir}/{img.split(\"/\")[-1].split(\".\")[0]}_({row+1:03d},{col+1:03d}).png', croped_img)\n",
    "    print('완료')"
   ]
  },
  {
   "cell_type": "markdown",
   "id": "c2aaadc3",
   "metadata": {
    "id": "c2aaadc3"
   },
   "source": [
    "### 명도 측정 사용자 함수"
   ]
  },
  {
   "cell_type": "code",
   "execution_count": null,
   "id": "efff7505",
   "metadata": {
    "ExecuteTime": {
     "end_time": "2022-11-17T08:44:57.886451Z",
     "start_time": "2022-11-17T08:44:57.872359Z"
    },
    "execution": {
     "iopub.execute_input": "2022-11-21T06:50:38.847205Z",
     "iopub.status.busy": "2022-11-21T06:50:38.847081Z",
     "iopub.status.idle": "2022-11-21T06:50:38.850219Z",
     "shell.execute_reply": "2022-11-21T06:50:38.849932Z",
     "shell.execute_reply.started": "2022-11-21T06:50:38.847196Z"
    },
    "id": "efff7505"
   },
   "outputs": [],
   "source": [
    "def Value_Measure(input_dir, input_img_list, crop_size):\n",
    "    print('Value_Measure 중...')\n",
    "    df = pd.DataFrame(columns=['img_name', 'value', 'class'])\n",
    "    df['img_name'] = pd.Series(input_img_list)\n",
    "    img_list = [os.path.join(input_dir, img_name) for img_name in input_img_list]\n",
    "    for index, img in tqdm(enumerate(img_list)):\n",
    "        li = []\n",
    "        cv2_img = cv2.imread(img, cv2.IMREAD_GRAYSCALE)\n",
    "        for i in range(cv2_img.shape[0]):\n",
    "            for j in range(cv2_img.shape[1]):\n",
    "                li.append(cv2_img[i,j])\n",
    "        \n",
    "        df.loc[index]['value'] = pd.Series(li).value_counts().to_dict()\n",
    "        \n",
    "#         if df['class'].iloc[index]\n",
    "    print('완료')\n",
    "    return df"
   ]
  },
  {
   "cell_type": "markdown",
   "id": "55fc1907",
   "metadata": {
    "id": "55fc1907"
   },
   "source": [
    "## train_masks 이미지 자르기"
   ]
  },
  {
   "cell_type": "code",
   "execution_count": null,
   "id": "46effebf",
   "metadata": {
    "ExecuteTime": {
     "end_time": "2022-11-17T08:54:42.695593Z",
     "start_time": "2022-11-17T08:54:36.097195Z"
    },
    "execution": {
     "iopub.execute_input": "2022-11-21T06:50:38.850853Z",
     "iopub.status.busy": "2022-11-21T06:50:38.850740Z",
     "iopub.status.idle": "2022-11-21T06:50:38.853372Z",
     "shell.execute_reply": "2022-11-21T06:50:38.852695Z",
     "shell.execute_reply.started": "2022-11-21T06:50:38.850845Z"
    },
    "id": "46effebf",
    "scrolled": true
   },
   "outputs": [],
   "source": [
    "# # train masks dir\n",
    "# train_masks_dir = './train_masks'\n",
    "# # train masks image list\n",
    "# train_masks_list = sorted(os.listdir(train_masks_dir))[0:]\n",
    "\n",
    "\n",
    "# # 크롭하려는 img 폴더\n",
    "# input_dir = train_masks_dir\n",
    "# # 크롭하려는 img list\n",
    "# input_img_list = train_masks_list\n",
    "# # 크롭할 사이즈\n",
    "# crop_size = 512\n",
    "# # 크롬된 img 저장 폴더\n",
    "# output_dir = './train_masks_cropped'\n",
    "\n",
    "# # image cropping\n",
    "# Img_Crop(input_dir, input_img_list, crop_size, output_dir, cv2.IMREAD_GRAYSCALE)"
   ]
  },
  {
   "cell_type": "code",
   "execution_count": null,
   "id": "f6d77f45",
   "metadata": {
    "ExecuteTime": {
     "end_time": "2022-11-17T08:54:43.768562Z",
     "start_time": "2022-11-17T08:54:43.762709Z"
    },
    "execution": {
     "iopub.execute_input": "2022-11-21T06:50:38.853945Z",
     "iopub.status.busy": "2022-11-21T06:50:38.853873Z",
     "iopub.status.idle": "2022-11-21T06:50:38.856805Z",
     "shell.execute_reply": "2022-11-21T06:50:38.856383Z",
     "shell.execute_reply.started": "2022-11-21T06:50:38.853936Z"
    },
    "id": "f6d77f45"
   },
   "outputs": [],
   "source": [
    "# len(train_masks_list)"
   ]
  },
  {
   "cell_type": "markdown",
   "id": "3b6cfd86",
   "metadata": {
    "id": "3b6cfd86"
   },
   "source": [
    "## train_imgs 이미지 자르기"
   ]
  },
  {
   "cell_type": "code",
   "execution_count": null,
   "id": "bbb5a572",
   "metadata": {
    "ExecuteTime": {
     "end_time": "2022-11-18T05:45:30.282434Z",
     "start_time": "2022-11-18T05:36:25.410956Z"
    },
    "execution": {
     "iopub.execute_input": "2022-11-21T06:50:38.857687Z",
     "iopub.status.busy": "2022-11-21T06:50:38.857599Z",
     "iopub.status.idle": "2022-11-21T06:50:38.860922Z",
     "shell.execute_reply": "2022-11-21T06:50:38.860514Z",
     "shell.execute_reply.started": "2022-11-21T06:50:38.857678Z"
    },
    "id": "bbb5a572"
   },
   "outputs": [],
   "source": [
    "# # train masks dir\n",
    "# train_imgs_dir = './train_imgs'\n",
    "# # train masks image list\n",
    "# train_imgs_list = sorted(os.listdir(train_imgs_dir))[0:]\n",
    "# # train_imgs_list = train_masks_list\n",
    "\n",
    "\n",
    "# # 크롭하려는 img 폴더\n",
    "# input_dir = train_imgs_dir\n",
    "# # 크롭하려는 img list\n",
    "# input_img_list = train_imgs_list\n",
    "# # 크롭할 사이즈\n",
    "# crop_size = 512\n",
    "# # 크롬된 img 저장 폴더\n",
    "# output_dir = './train_imgs_cropped'\n",
    "\n",
    "# # image cropping\n",
    "# Img_Crop(input_dir, input_img_list, crop_size, output_dir, cv2.IMREAD_UNCHANGED)"
   ]
  },
  {
   "cell_type": "markdown",
   "id": "85917c1a",
   "metadata": {
    "id": "85917c1a"
   },
   "source": [
    "## 명도 측정"
   ]
  },
  {
   "cell_type": "markdown",
   "id": "c7bc33ec",
   "metadata": {
    "id": "c7bc33ec"
   },
   "source": [
    "data:image/png;base64,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![image.png](attachment:image.png)"
   ]
  },
  {
   "cell_type": "code",
   "execution_count": null,
   "id": "db48ba9f",
   "metadata": {
    "ExecuteTime": {
     "end_time": "2022-11-17T16:26:31.266515Z",
     "start_time": "2022-11-17T16:26:31.232827Z"
    },
    "execution": {
     "iopub.execute_input": "2022-11-21T06:50:38.861831Z",
     "iopub.status.busy": "2022-11-21T06:50:38.861742Z",
     "iopub.status.idle": "2022-11-21T06:50:38.865427Z",
     "shell.execute_reply": "2022-11-21T06:50:38.864354Z",
     "shell.execute_reply.started": "2022-11-21T06:50:38.861821Z"
    },
    "id": "db48ba9f"
   },
   "outputs": [],
   "source": [
    "# sorted(os.listdir(cropped_train_mask_img_dir))[0]"
   ]
  },
  {
   "cell_type": "code",
   "execution_count": null,
   "id": "52f1273c",
   "metadata": {
    "ExecuteTime": {
     "end_time": "2022-11-17T09:47:03.261269Z",
     "start_time": "2022-11-17T08:57:19.652205Z"
    },
    "execution": {
     "iopub.execute_input": "2022-11-21T06:50:38.870847Z",
     "iopub.status.busy": "2022-11-21T06:50:38.868762Z",
     "iopub.status.idle": "2022-11-21T06:50:38.875356Z",
     "shell.execute_reply": "2022-11-21T06:50:38.874107Z",
     "shell.execute_reply.started": "2022-11-21T06:50:38.870771Z"
    },
    "id": "52f1273c",
    "scrolled": true
   },
   "outputs": [],
   "source": [
    "# cropped_train_mask_img_dir = './train_masks_cropped'\n",
    "# cropped_train_mask_img_list = sorted(os.listdir(cropped_train_mask_img_dir))[1:]\n",
    "\n",
    "\n",
    "# # 명도 측정할 img 폴더\n",
    "# input_dir = cropped_train_mask_img_dir\n",
    "# # 명도 측정할 img list\n",
    "# input_img_list = cropped_train_mask_img_list\n",
    "# # 크롭할 사이즈\n",
    "# crop_size = crop_size\n",
    "\n",
    "\n",
    "# df = Value_Measure(input_dir, input_img_list, crop_size)\n",
    "# df\n"
   ]
  },
  {
   "cell_type": "code",
   "execution_count": null,
   "id": "4bd0d189",
   "metadata": {
    "execution": {
     "iopub.execute_input": "2022-11-21T06:50:38.878854Z",
     "iopub.status.busy": "2022-11-21T06:50:38.878716Z",
     "iopub.status.idle": "2022-11-21T06:50:38.881621Z",
     "shell.execute_reply": "2022-11-21T06:50:38.880755Z",
     "shell.execute_reply.started": "2022-11-21T06:50:38.878841Z"
    },
    "id": "4bd0d189"
   },
   "outputs": [],
   "source": [
    "# df = pd.read_pickle('')"
   ]
  },
  {
   "cell_type": "code",
   "execution_count": null,
   "id": "2fc2cbbd",
   "metadata": {
    "ExecuteTime": {
     "end_time": "2022-11-18T02:06:54.908518Z",
     "start_time": "2022-11-18T02:06:54.900573Z"
    },
    "execution": {
     "iopub.execute_input": "2022-11-21T06:50:38.882781Z",
     "iopub.status.busy": "2022-11-21T06:50:38.882488Z",
     "iopub.status.idle": "2022-11-21T06:50:38.884984Z",
     "shell.execute_reply": "2022-11-21T06:50:38.884598Z",
     "shell.execute_reply.started": "2022-11-21T06:50:38.882768Z"
    },
    "id": "2fc2cbbd"
   },
   "outputs": [],
   "source": [
    "# len(df.value[0].keys())"
   ]
  },
  {
   "cell_type": "code",
   "execution_count": null,
   "id": "135b14c0",
   "metadata": {
    "ExecuteTime": {
     "end_time": "2022-11-18T02:09:15.581829Z",
     "start_time": "2022-11-18T02:09:15.534446Z"
    },
    "execution": {
     "iopub.execute_input": "2022-11-21T06:50:38.890635Z",
     "iopub.status.busy": "2022-11-21T06:50:38.887998Z",
     "iopub.status.idle": "2022-11-21T06:50:38.893069Z",
     "shell.execute_reply": "2022-11-21T06:50:38.892310Z",
     "shell.execute_reply.started": "2022-11-21T06:50:38.890610Z"
    },
    "id": "135b14c0",
    "scrolled": true
   },
   "outputs": [],
   "source": [
    "# tl=[]\n",
    "# for i in range(len(df)):\n",
    "#     if len(df.value[i].keys()) != 1:\n",
    "#         tl.append(df.img_name[i])\n",
    "# tl"
   ]
  },
  {
   "cell_type": "code",
   "execution_count": null,
   "id": "ec664698",
   "metadata": {
    "ExecuteTime": {
     "end_time": "2022-11-18T05:32:12.716034Z",
     "start_time": "2022-11-18T05:32:12.550617Z"
    },
    "execution": {
     "iopub.execute_input": "2022-11-21T06:50:38.894840Z",
     "iopub.status.busy": "2022-11-21T06:50:38.894654Z",
     "iopub.status.idle": "2022-11-21T06:50:38.899107Z",
     "shell.execute_reply": "2022-11-21T06:50:38.898722Z",
     "shell.execute_reply.started": "2022-11-21T06:50:38.894828Z"
    },
    "id": "ec664698"
   },
   "outputs": [],
   "source": [
    "# import shutil\n",
    "\n",
    "# for i in tl:\n",
    "#     s = './train_masks_cropped/'+i\n",
    "#     d = './masks_without_white/'+i\n",
    "#     shutil.copyfile(s, d)"
   ]
  },
  {
   "cell_type": "code",
   "execution_count": null,
   "id": "99a44c7e",
   "metadata": {
    "ExecuteTime": {
     "end_time": "2022-11-18T05:32:15.170934Z",
     "start_time": "2022-11-18T05:32:14.765805Z"
    },
    "execution": {
     "iopub.execute_input": "2022-11-21T06:50:38.899646Z",
     "iopub.status.busy": "2022-11-21T06:50:38.899569Z",
     "iopub.status.idle": "2022-11-21T06:50:38.902821Z",
     "shell.execute_reply": "2022-11-21T06:50:38.901948Z",
     "shell.execute_reply.started": "2022-11-21T06:50:38.899636Z"
    },
    "id": "99a44c7e"
   },
   "outputs": [],
   "source": [
    "# for i in tl:\n",
    "#     s = './train_imgs_cropped/'+i\n",
    "#     d = './imgs_without_white/'+i\n",
    "#     shutil.copyfile(s, d)"
   ]
  },
  {
   "cell_type": "code",
   "execution_count": null,
   "id": "dc6916b2",
   "metadata": {
    "id": "dc6916b2"
   },
   "outputs": [],
   "source": []
  },
  {
   "cell_type": "code",
   "execution_count": 3,
   "id": "0e67bfc4",
   "metadata": {
    "ExecuteTime": {
     "end_time": "2022-11-18T05:58:21.629215Z",
     "start_time": "2022-11-18T05:58:20.635384Z"
    },
    "execution": {
     "iopub.execute_input": "2022-11-21T06:50:38.904771Z",
     "iopub.status.busy": "2022-11-21T06:50:38.904504Z",
     "iopub.status.idle": "2022-11-21T06:50:39.814790Z",
     "shell.execute_reply": "2022-11-21T06:50:39.814457Z",
     "shell.execute_reply.started": "2022-11-21T06:50:38.904758Z"
    },
    "executionInfo": {
     "elapsed": 868,
     "status": "ok",
     "timestamp": 1669029371192,
     "user": {
      "displayName": "",
      "userId": ""
     },
     "user_tz": -540
    },
    "id": "0e67bfc4",
    "tags": []
   },
   "outputs": [],
   "source": [
    "from os import listdir\n",
    "from os.path import isfile, join\n",
    "import matplotlib.pyplot as plt\n",
    "from PIL import Image\n",
    "import numpy as np\n",
    "import torch\n",
    "import cv2\n",
    "from torchvision import transforms, datasets\n",
    "from torchvision.transforms import ToPILImage\n",
    "import torch.nn as nn\n",
    "import torch.utils as utils\n",
    "import torch.nn.init as init\n",
    "import torch.utils.data as data\n",
    "import torchvision.utils as v_utils\n",
    "import torchvision.datasets as dset\n",
    "import torchvision.transforms as transforms"
   ]
  },
  {
   "cell_type": "code",
   "execution_count": 5,
   "id": "lKGmThZ2504O",
   "metadata": {
    "colab": {
     "base_uri": "https://localhost:8080/"
    },
    "executionInfo": {
     "elapsed": 7,
     "status": "ok",
     "timestamp": 1669029387737,
     "user": {
      "displayName": "",
      "userId": ""
     },
     "user_tz": -540
    },
    "id": "lKGmThZ2504O",
    "outputId": "a48270be-18ff-4edc-d04d-2bf7fd408c4e"
   },
   "outputs": [
    {
     "name": "stdout",
     "output_type": "stream",
     "text": [
      "/content\n"
     ]
    }
   ],
   "source": [
    "!pwd"
   ]
  },
  {
   "cell_type": "code",
   "execution_count": 8,
   "id": "ddcde448",
   "metadata": {
    "ExecuteTime": {
     "end_time": "2022-11-18T06:32:41.887099Z",
     "start_time": "2022-11-18T06:32:41.857849Z"
    },
    "colab": {
     "base_uri": "https://localhost:8080/"
    },
    "execution": {
     "iopub.execute_input": "2022-11-21T06:50:39.815406Z",
     "iopub.status.busy": "2022-11-21T06:50:39.815321Z",
     "iopub.status.idle": "2022-11-21T06:50:39.829336Z",
     "shell.execute_reply": "2022-11-21T06:50:39.828961Z",
     "shell.execute_reply.started": "2022-11-21T06:50:39.815397Z"
    },
    "executionInfo": {
     "elapsed": 2,
     "status": "ok",
     "timestamp": 1669029403295,
     "user": {
      "displayName": "",
      "userId": ""
     },
     "user_tz": -540
    },
    "id": "ddcde448",
    "outputId": "fc232277-d2d9-46a1-f0d6-3bf881ee0d63",
    "tags": []
   },
   "outputs": [
    {
     "name": "stdout",
     "output_type": "stream",
     "text": [
      "File 개수 확인\n",
      "628\n",
      "628\n"
     ]
    }
   ],
   "source": [
    "files1 = [f for f in listdir('./imgs_without_white') if isfile(join('./imgs_without_white', f))]\n",
    "files1 = sorted(files1,reverse=False)\n",
    "files2 = [f for f in listdir('./masks_without_white') if isfile(join('./masks_without_white', f))]\n",
    "files2 = sorted(files2,reverse=False)\n",
    "test_image_name = [x for x in files1 if x.find(\"png\") != -1]\n",
    "mask_image_name = [x for x in files2 if x.find(\"png\") != -1]\n",
    "\n",
    "print('File 개수 확인')\n",
    "print(len(test_image_name))\n",
    "print(len(mask_image_name))"
   ]
  },
  {
   "cell_type": "code",
   "execution_count": 9,
   "id": "1bce6904-87d5-4282-895a-209bb79ac0aa",
   "metadata": {
    "colab": {
     "base_uri": "https://localhost:8080/",
     "height": 287
    },
    "execution": {
     "iopub.execute_input": "2022-11-21T06:50:39.835595Z",
     "iopub.status.busy": "2022-11-21T06:50:39.835516Z",
     "iopub.status.idle": "2022-11-21T06:50:44.160605Z",
     "shell.execute_reply": "2022-11-21T06:50:44.160229Z",
     "shell.execute_reply.started": "2022-11-21T06:50:39.835585Z"
    },
    "executionInfo": {
     "elapsed": 4189,
     "status": "ok",
     "timestamp": 1669014906820,
     "user": {
      "displayName": "",
      "userId": ""
     },
     "user_tz": -540
    },
    "id": "1bce6904-87d5-4282-895a-209bb79ac0aa",
    "outputId": "4f37befe-8422-482a-caa1-412b13e47b92",
    "tags": []
   },
   "outputs": [
    {
     "data": {
      "text/plain": [
       "torch.Size([3, 512, 512])"
      ]
     },
     "execution_count": 9,
     "metadata": {},
     "output_type": "execute_result"
    },
    {
     "data": {
      "image/png": "[encoded data removed]",
      "text/plain": [
       "<Figure size 432x288 with 1 Axes>"
      ]
     },
     "metadata": {
      "needs_background": "light"
     },
     "output_type": "display_data"
    }
   ],
   "source": [
    "import matplotlib.pyplot as plt\n",
    "import tensorflow as tf\n",
    "\n",
    "img = tf.keras.preprocessing.image.load_img('./imgs_without_white/' + test_image_name[0],target_size=(512,512))\n",
    "plt.imshow(img)\n",
    "x = tf.keras.preprocessing.image.img_to_array(img)\n",
    "# x = x.reshape(1,x.shape[2],x.shape[1],x.shape[0])\n",
    "\n",
    "from torchvision.transforms import ToTensor\n",
    "tf_toTensor = ToTensor() \n",
    "tf_toTensor(x).shape"
   ]
  },
  {
   "cell_type": "code",
   "execution_count": 10,
   "id": "f80e8406-df18-4466-941a-ebd058b7124b",
   "metadata": {
    "colab": {
     "base_uri": "https://localhost:8080/"
    },
    "execution": {
     "iopub.execute_input": "2022-11-21T06:50:44.161361Z",
     "iopub.status.busy": "2022-11-21T06:50:44.161291Z",
     "iopub.status.idle": "2022-11-21T06:50:44.166763Z",
     "shell.execute_reply": "2022-11-21T06:50:44.166403Z",
     "shell.execute_reply.started": "2022-11-21T06:50:44.161352Z"
    },
    "executionInfo": {
     "elapsed": 283,
     "status": "ok",
     "timestamp": 1669014923579,
     "user": {
      "displayName": "",
      "userId": ""
     },
     "user_tz": -540
    },
    "id": "f80e8406-df18-4466-941a-ebd058b7124b",
    "outputId": "2bb014e4-7f24-4d98-93f6-2eb33a524286",
    "tags": []
   },
   "outputs": [
    {
     "data": {
      "text/plain": [
       "torch.Size([3, 512, 512])"
      ]
     },
     "execution_count": 10,
     "metadata": {},
     "output_type": "execute_result"
    }
   ],
   "source": [
    "from torchvision.transforms import ToTensor\n",
    "tf_toTensor = ToTensor() \n",
    "tf_toTensor(x).shape"
   ]
  },
  {
   "cell_type": "code",
   "execution_count": 14,
   "id": "9ac27027-d490-454f-a1dd-0fd995793c11",
   "metadata": {
    "colab": {
     "base_uri": "https://localhost:8080/"
    },
    "execution": {
     "iopub.execute_input": "2022-11-21T06:50:44.167839Z",
     "iopub.status.busy": "2022-11-21T06:50:44.167747Z",
     "iopub.status.idle": "2022-11-21T06:50:44.178668Z",
     "shell.execute_reply": "2022-11-21T06:50:44.177918Z",
     "shell.execute_reply.started": "2022-11-21T06:50:44.167830Z"
    },
    "executionInfo": {
     "elapsed": 257,
     "status": "ok",
     "timestamp": 1669015008805,
     "user": {
      "displayName": "",
      "userId": ""
     },
     "user_tz": -540
    },
    "id": "9ac27027-d490-454f-a1dd-0fd995793c11",
    "outputId": "5226ec9d-7462-4f98-ec65-0d47d5086671",
    "tags": []
   },
   "outputs": [
    {
     "name": "stdout",
     "output_type": "stream",
     "text": [
      "(512, 512, 3)\n",
      "(512, 512, 3)\n"
     ]
    }
   ],
   "source": [
    "image1  = Image.open('./imgs_without_white/' + test_image_name[31]).convert('RGB')\n",
    "image1_arr  = np.array(image1)\n",
    "print(image1_arr.shape)\n",
    "image1 = image1.resize((512, 512))\n",
    "image1_arr_2  = np.array(image1)\n",
    "imag1_size = image1_arr_2.shape\n",
    "print(imag1_size)\n"
   ]
  },
  {
   "cell_type": "code",
   "execution_count": 12,
   "id": "298b7698-a6f8-4374-9c60-8477e79540f8",
   "metadata": {
    "colab": {
     "base_uri": "https://localhost:8080/"
    },
    "execution": {
     "iopub.execute_input": "2022-11-21T06:50:44.179341Z",
     "iopub.status.busy": "2022-11-21T06:50:44.179255Z",
     "iopub.status.idle": "2022-11-21T06:50:44.190830Z",
     "shell.execute_reply": "2022-11-21T06:50:44.190426Z",
     "shell.execute_reply.started": "2022-11-21T06:50:44.179331Z"
    },
    "executionInfo": {
     "elapsed": 274,
     "status": "ok",
     "timestamp": 1669014935843,
     "user": {
      "displayName": "",
      "userId": ""
     },
     "user_tz": -540
    },
    "id": "298b7698-a6f8-4374-9c60-8477e79540f8",
    "outputId": "8fbf5fc1-71ac-4f28-ea71-4d4ac69ce591",
    "tags": []
   },
   "outputs": [
    {
     "data": {
      "text/plain": [
       "torch.Size([3, 512, 512])"
      ]
     },
     "execution_count": 12,
     "metadata": {},
     "output_type": "execute_result"
    }
   ],
   "source": [
    "img_RGB_tensor_from_PIL = tf_toTensor(image1_arr_2)\n",
    "img_RGB_tensor_from_PIL.shape"
   ]
  },
  {
   "cell_type": "code",
   "execution_count": 9,
   "id": "001f7fb7",
   "metadata": {
    "ExecuteTime": {
     "end_time": "2022-11-18T06:32:58.618761Z",
     "start_time": "2022-11-18T06:32:52.391538Z"
    },
    "colab": {
     "base_uri": "https://localhost:8080/"
    },
    "execution": {
     "iopub.execute_input": "2022-11-21T06:50:44.191585Z",
     "iopub.status.busy": "2022-11-21T06:50:44.191463Z",
     "iopub.status.idle": "2022-11-21T06:50:50.101752Z",
     "shell.execute_reply": "2022-11-21T06:50:50.101092Z",
     "shell.execute_reply.started": "2022-11-21T06:50:44.191575Z"
    },
    "executionInfo": {
     "elapsed": 9439,
     "status": "ok",
     "timestamp": 1669029423976,
     "user": {
      "displayName": "",
      "userId": ""
     },
     "user_tz": -540
    },
    "id": "001f7fb7",
    "outputId": "84b0a5b7-d635-4c47-9b16-4aa58353e0d9",
    "scrolled": true,
    "tags": []
   },
   "outputs": [
    {
     "name": "stdout",
     "output_type": "stream",
     "text": [
      "Deviece 확인\n",
      "cuda:0\n"
     ]
    }
   ],
   "source": [
    "print('Deviece 확인')\n",
    "# device = torch.device(\"mps:0\" if torch.backends.mps.is_available() else \"cpu\")\n",
    "device = torch.device(\"cuda:0\" if torch.cuda.is_available() else \"cpu\")\n",
    "print(device)\n",
    "\n",
    "\n",
    "loader = transforms.Compose([\n",
    "    transforms.ToTensor()])  # 토치 텐서로 변환\n",
    "\n",
    "\n",
    "def image_loader(image_name):\n",
    "    image = Image.open(image_name)\n",
    "    # image = image.resize((512, 512))\n",
    "    image = loader(image).unsqueeze(0)\n",
    "    return image.to(device, torch.float)\n",
    "\n",
    "train = []\n",
    "label = []\n",
    "\n",
    "for i in range(len(test_image_name)):\n",
    "    image = image_loader('./imgs_without_white/' + test_image_name[i])\n",
    "    # image=image.reshape(1,3,512,512)\n",
    "    train.append(image)\n",
    "\n",
    "for i in range(len(mask_image_name)):\n",
    "    image = image_loader('./masks_without_white/' + mask_image_name[i])\n",
    "    # image=image.reshape(1,1,512,512)\n",
    "    label.append(image)"
   ]
  },
  {
   "cell_type": "code",
   "execution_count": 10,
   "id": "56d29276-71fe-4421-a214-801e43ef68ea",
   "metadata": {
    "colab": {
     "base_uri": "https://localhost:8080/"
    },
    "execution": {
     "iopub.execute_input": "2022-11-21T06:50:50.105237Z",
     "iopub.status.busy": "2022-11-21T06:50:50.105039Z",
     "iopub.status.idle": "2022-11-21T06:50:50.111365Z",
     "shell.execute_reply": "2022-11-21T06:50:50.111081Z",
     "shell.execute_reply.started": "2022-11-21T06:50:50.105215Z"
    },
    "executionInfo": {
     "elapsed": 309,
     "status": "ok",
     "timestamp": 1669029428020,
     "user": {
      "displayName": "",
      "userId": ""
     },
     "user_tz": -540
    },
    "id": "56d29276-71fe-4421-a214-801e43ef68ea",
    "outputId": "292da38b-a49f-4cee-a874-b06c23ed7212",
    "tags": []
   },
   "outputs": [
    {
     "data": {
      "text/plain": [
       "torch.Size([1, 3, 512, 512])"
      ]
     },
     "execution_count": 10,
     "metadata": {},
     "output_type": "execute_result"
    }
   ],
   "source": [
    "train[31].shape"
   ]
  },
  {
   "cell_type": "code",
   "execution_count": 11,
   "id": "61c781f3",
   "metadata": {
    "ExecuteTime": {
     "end_time": "2022-11-18T06:33:02.343271Z",
     "start_time": "2022-11-18T06:33:02.257386Z"
    },
    "colab": {
     "base_uri": "https://localhost:8080/"
    },
    "execution": {
     "iopub.execute_input": "2022-11-21T06:50:50.112002Z",
     "iopub.status.busy": "2022-11-21T06:50:50.111932Z",
     "iopub.status.idle": "2022-11-21T06:50:50.448900Z",
     "shell.execute_reply": "2022-11-21T06:50:50.448635Z",
     "shell.execute_reply.started": "2022-11-21T06:50:50.111993Z"
    },
    "executionInfo": {
     "elapsed": 3,
     "status": "ok",
     "timestamp": 1669029432010,
     "user": {
      "displayName": "",
      "userId": ""
     },
     "user_tz": -540
    },
    "id": "61c781f3",
    "outputId": "3cbebae7-408c-4339-81f0-ded986a77685",
    "scrolled": true,
    "tags": []
   },
   "outputs": [
    {
     "name": "stdout",
     "output_type": "stream",
     "text": [
      "Train Image -> Tensor 확인\n",
      "628\n",
      "torch.Size([1, 3, 512, 512])\n",
      "tensor([[[[0.9569, 0.9569, 0.9569,  ..., 0.9569, 0.9569, 0.9569],\n",
      "          [0.9569, 0.9569, 0.9569,  ..., 0.9569, 0.9569, 0.9569],\n",
      "          [0.9569, 0.9569, 0.9569,  ..., 0.9569, 0.9569, 0.9569],\n",
      "          ...,\n",
      "          [0.9373, 0.8863, 0.6392,  ..., 0.9608, 0.9569, 0.9529],\n",
      "          [0.9059, 0.8824, 0.8510,  ..., 0.9333, 0.9569, 0.9569],\n",
      "          [0.8392, 0.8000, 0.8549,  ..., 0.9373, 0.9490, 0.9529]],\n",
      "\n",
      "         [[0.9569, 0.9569, 0.9569,  ..., 0.9569, 0.9569, 0.9569],\n",
      "          [0.9569, 0.9569, 0.9569,  ..., 0.9569, 0.9569, 0.9569],\n",
      "          [0.9569, 0.9569, 0.9569,  ..., 0.9569, 0.9569, 0.9569],\n",
      "          ...,\n",
      "          [0.9137, 0.8784, 0.6118,  ..., 0.9569, 0.9569, 0.9569],\n",
      "          [0.8824, 0.8706, 0.8235,  ..., 0.9255, 0.9569, 0.9529],\n",
      "          [0.8078, 0.7412, 0.7843,  ..., 0.9255, 0.9529, 0.9490]],\n",
      "\n",
      "         [[0.9569, 0.9569, 0.9569,  ..., 0.9569, 0.9569, 0.9569],\n",
      "          [0.9569, 0.9569, 0.9569,  ..., 0.9569, 0.9569, 0.9569],\n",
      "          [0.9569, 0.9569, 0.9569,  ..., 0.9569, 0.9569, 0.9569],\n",
      "          ...,\n",
      "          [0.9333, 0.9020, 0.7412,  ..., 0.9569, 0.9529, 0.9569],\n",
      "          [0.9216, 0.9020, 0.8667,  ..., 0.9373, 0.9529, 0.9569],\n",
      "          [0.8824, 0.8392, 0.8784,  ..., 0.9373, 0.9529, 0.9569]]]],\n",
      "       device='cuda:0')\n",
      "Label Image -> Tensor 확인\n",
      "628\n",
      "torch.Size([1, 1, 512, 512])\n",
      "tensor([[[[1., 1., 1.,  ..., 1., 1., 1.],\n",
      "          [1., 1., 1.,  ..., 1., 1., 1.],\n",
      "          [1., 1., 1.,  ..., 1., 1., 1.],\n",
      "          ...,\n",
      "          [0., 0., 0.,  ..., 1., 1., 1.],\n",
      "          [0., 0., 0.,  ..., 1., 1., 1.],\n",
      "          [0., 0., 0.,  ..., 1., 1., 1.]]]], device='cuda:0')\n"
     ]
    }
   ],
   "source": [
    "print('Train Image -> Tensor 확인')\n",
    "print(len(train))\n",
    "print(train[1].size())\n",
    "print(train[1])\n",
    "print('Label Image -> Tensor 확인')\n",
    "print(len(label))\n",
    "print(label[1].size())\n",
    "print(label[1])"
   ]
  },
  {
   "cell_type": "code",
   "execution_count": 12,
   "id": "7be514de",
   "metadata": {
    "ExecuteTime": {
     "end_time": "2022-11-18T06:36:19.462300Z",
     "start_time": "2022-11-18T06:36:19.293062Z"
    },
    "colab": {
     "base_uri": "https://localhost:8080/",
     "height": 216
    },
    "execution": {
     "iopub.execute_input": "2022-11-21T06:50:50.449470Z",
     "iopub.status.busy": "2022-11-21T06:50:50.449407Z",
     "iopub.status.idle": "2022-11-21T06:50:50.563475Z",
     "shell.execute_reply": "2022-11-21T06:50:50.563146Z",
     "shell.execute_reply.started": "2022-11-21T06:50:50.449462Z"
    },
    "executionInfo": {
     "elapsed": 528,
     "status": "ok",
     "timestamp": 1669029437260,
     "user": {
      "displayName": "",
      "userId": ""
     },
     "user_tz": -540
    },
    "id": "7be514de",
    "outputId": "b3c646e8-0807-4f71-ed09-aec9aebe2996",
    "scrolled": true,
    "tags": []
   },
   "outputs": [
    {
     "data": {
      "image/png": "[encoded data removed]",
      "text/plain": [
       "<Figure size 432x288 with 2 Axes>"
      ]
     },
     "metadata": {
      "needs_background": "light"
     },
     "output_type": "display_data"
    }
   ],
   "source": [
    "unloader = transforms.ToPILImage()\n",
    "\n",
    "def imshow1(tensor, title=None):\n",
    "    image = tensor.cpu().clone()  # 텐서의 값에 변화가 적용되지 않도록 텐서를 복제합니다\n",
    "    image = image.squeeze(0)      # 페이크 배치 차원을 제거 합니다\n",
    "    image = unloader(image)\n",
    "    plt.imshow(image)\n",
    "    \n",
    "\n",
    "def imshow_gray(tensor, title=None):\n",
    "    image = tensor.cpu().clone()  # 텐서의 값에 변화가 적용되지 않도록 텐서를 복제합니다\n",
    "    image = image.squeeze(0)      # 페이크 배치 차원을 제거 합니다\n",
    "    image = unloader(image)\n",
    "    plt.imshow(image, cmap='gray')\n",
    "    \n",
    "    \n",
    "    \n",
    "    \n",
    "test_image_example = plt.subplot(1,2,1)\n",
    "test_image_example.set_title('Test Image Example')\n",
    "imshow1(train[-3])\n",
    "\n",
    "label_image_example = plt.subplot(1,2,2)\n",
    "label_image_example.set_title('Label Image Example')\n",
    "imshow_gray(label[-3])"
   ]
  },
  {
   "cell_type": "code",
   "execution_count": null,
   "id": "9577b521",
   "metadata": {
    "ExecuteTime": {
     "end_time": "2022-11-18T07:05:13.553083Z",
     "start_time": "2022-11-18T07:05:13.527032Z"
    },
    "execution": {
     "iopub.execute_input": "2022-11-21T06:50:50.564352Z",
     "iopub.status.busy": "2022-11-21T06:50:50.564259Z",
     "iopub.status.idle": "2022-11-21T06:50:50.566065Z",
     "shell.execute_reply": "2022-11-21T06:50:50.565710Z",
     "shell.execute_reply.started": "2022-11-21T06:50:50.564340Z"
    },
    "id": "9577b521"
   },
   "outputs": [],
   "source": [
    "# from torch.nn.utils.rnn import pad_sequence\n",
    "\n",
    "\n",
    "# maxlen=512\n",
    "\n",
    "\n",
    "# image = image_loader('./imgs_without_white/' + 'BC_01_0455_(007,009).png')\n",
    "# image.shape\n",
    "\n",
    "\n",
    "\n",
    "# a = torch.zeros(25, 300)\n",
    "# b = torch.zeros(22, 300)\n",
    "# c = torch.zeros(15, 300)\n",
    "# pad_sequence([a, b, c]).size()"
   ]
  },
  {
   "cell_type": "code",
   "execution_count": null,
   "id": "e5013d0b-29a1-4b5c-96f4-bf205858808e",
   "metadata": {
    "id": "e5013d0b-29a1-4b5c-96f4-bf205858808e"
   },
   "outputs": [],
   "source": []
  },
  {
   "cell_type": "code",
   "execution_count": 25,
   "id": "f1b89d64-422a-49cb-98fc-7919b28dc15e",
   "metadata": {
    "execution": {
     "iopub.execute_input": "2022-11-21T06:50:50.566549Z",
     "iopub.status.busy": "2022-11-21T06:50:50.566483Z",
     "iopub.status.idle": "2022-11-21T06:50:50.802502Z",
     "shell.execute_reply": "2022-11-21T06:50:50.801027Z",
     "shell.execute_reply.started": "2022-11-21T06:50:50.566540Z"
    },
    "executionInfo": {
     "elapsed": 274,
     "status": "ok",
     "timestamp": 1669015736733,
     "user": {
      "displayName": "",
      "userId": ""
     },
     "user_tz": -540
    },
    "id": "f1b89d64-422a-49cb-98fc-7919b28dc15e",
    "tags": []
   },
   "outputs": [],
   "source": [
    "# imshow_gray(white_imgs)"
   ]
  },
  {
   "cell_type": "code",
   "execution_count": null,
   "id": "f1b042df-8317-45bb-a2d3-8c7129288ba3",
   "metadata": {
    "execution": {
     "iopub.status.busy": "2022-11-21T06:50:50.802853Z",
     "iopub.status.idle": "2022-11-21T06:50:50.803059Z",
     "shell.execute_reply": "2022-11-21T06:50:50.802981Z",
     "shell.execute_reply.started": "2022-11-21T06:50:50.802973Z"
    },
    "id": "f1b042df-8317-45bb-a2d3-8c7129288ba3"
   },
   "outputs": [],
   "source": [
    "# white_imgs"
   ]
  },
  {
   "cell_type": "code",
   "execution_count": null,
   "id": "e283c65d",
   "metadata": {
    "execution": {
     "iopub.status.busy": "2022-11-21T06:50:50.803619Z",
     "iopub.status.idle": "2022-11-21T06:50:50.803745Z",
     "shell.execute_reply": "2022-11-21T06:50:50.803678Z",
     "shell.execute_reply.started": "2022-11-21T06:50:50.803672Z"
    },
    "id": "e283c65d",
    "tags": []
   },
   "outputs": [],
   "source": [
    "# white_imgs = torch.ones(1,3,512,512)\n",
    "# white_imgs_zero = torch.zeros(1,3,512,512)"
   ]
  },
  {
   "cell_type": "code",
   "execution_count": null,
   "id": "9d08ff22-5e4b-4356-9fce-95f695986a69",
   "metadata": {
    "execution": {
     "iopub.status.busy": "2022-11-21T06:50:50.804362Z",
     "iopub.status.idle": "2022-11-21T06:50:50.804480Z",
     "shell.execute_reply": "2022-11-21T06:50:50.804415Z",
     "shell.execute_reply.started": "2022-11-21T06:50:50.804410Z"
    },
    "id": "9d08ff22-5e4b-4356-9fce-95f695986a69",
    "tags": []
   },
   "outputs": [],
   "source": [
    "# transforms_Tensor_to_numpy(white_imgs.squeeze(0)) # tensor 1 -> numpy에서의 255"
   ]
  },
  {
   "cell_type": "code",
   "execution_count": null,
   "id": "6ee4be82-86ed-4b41-98aa-5d80489fa37a",
   "metadata": {
    "execution": {
     "iopub.status.busy": "2022-11-21T06:50:50.804963Z",
     "iopub.status.idle": "2022-11-21T06:50:50.805072Z",
     "shell.execute_reply": "2022-11-21T06:50:50.805010Z",
     "shell.execute_reply.started": "2022-11-21T06:50:50.805005Z"
    },
    "id": "6ee4be82-86ed-4b41-98aa-5d80489fa37a",
    "tags": []
   },
   "outputs": [],
   "source": [
    "# transforms_Tensor_to_numpy(white_imgs_zero.squeeze(0) + 243/255)"
   ]
  },
  {
   "cell_type": "code",
   "execution_count": null,
   "id": "2ceb8dd0-284d-444a-b923-a6df300f643e",
   "metadata": {
    "execution": {
     "iopub.status.busy": "2022-11-21T06:50:50.805575Z",
     "iopub.status.idle": "2022-11-21T06:50:50.805685Z",
     "shell.execute_reply": "2022-11-21T06:50:50.805624Z",
     "shell.execute_reply.started": "2022-11-21T06:50:50.805619Z"
    },
    "id": "2ceb8dd0-284d-444a-b923-a6df300f643e",
    "tags": []
   },
   "outputs": [],
   "source": [
    "# white_imgs = cv2.imread(white_imgs, cv2.IMREAD_GRAYSCALE)\n",
    "# # white_imgs.to_\n",
    "# import cv2\n",
    "# white_imgs.toNu\n",
    "# plt.imshow(cv2.cvtColor(white_imgs,cv2.COLOR_BGR2GRAY))\n",
    "# plt.show()"
   ]
  },
  {
   "cell_type": "code",
   "execution_count": null,
   "id": "da26027d-c90c-44b0-b093-b80dfdab3f0f",
   "metadata": {
    "execution": {
     "iopub.status.busy": "2022-11-21T06:50:50.806309Z",
     "iopub.status.idle": "2022-11-21T06:50:50.806451Z",
     "shell.execute_reply": "2022-11-21T06:50:50.806391Z",
     "shell.execute_reply.started": "2022-11-21T06:50:50.806386Z"
    },
    "id": "da26027d-c90c-44b0-b093-b80dfdab3f0f",
    "tags": []
   },
   "outputs": [],
   "source": [
    "# white_imgs = white_imgs.cpu().clone()  # 텐서의 값에 변화가 적용되지 않도록 텐서를 복제합니다\n",
    "# white_imgs = white_imgs.squeeze(0)      # 페cv2 배치 차원을 제거 합니다\n",
    "# image = unloader(white_imgs)\n",
    "# plt.imshow(image)"
   ]
  },
  {
   "cell_type": "code",
   "execution_count": null,
   "id": "b245cfc4-f0b2-4881-b670-b7c4b05848ec",
   "metadata": {
    "execution": {
     "iopub.status.busy": "2022-11-21T06:50:50.806942Z",
     "iopub.status.idle": "2022-11-21T06:50:50.807045Z",
     "shell.execute_reply": "2022-11-21T06:50:50.806985Z",
     "shell.execute_reply.started": "2022-11-21T06:50:50.806981Z"
    },
    "id": "b245cfc4-f0b2-4881-b670-b7c4b05848ec",
    "tags": []
   },
   "outputs": [],
   "source": [
    "# imshow2(white_masks)"
   ]
  },
  {
   "cell_type": "code",
   "execution_count": null,
   "id": "7efd037d",
   "metadata": {
    "ExecuteTime": {
     "end_time": "2022-11-18T07:24:58.998628Z",
     "start_time": "2022-11-18T07:24:58.987340Z"
    },
    "execution": {
     "iopub.status.busy": "2022-11-21T06:50:50.807527Z",
     "iopub.status.idle": "2022-11-21T06:50:50.807652Z",
     "shell.execute_reply": "2022-11-21T06:50:50.807585Z",
     "shell.execute_reply.started": "2022-11-21T06:50:50.807579Z"
    },
    "id": "7efd037d"
   },
   "outputs": [],
   "source": [
    "def padimgs(image):\n",
    "    while image.shape[2] or image.shape[3] < 512:\n",
    "        if image.shape[2] != 512:\n",
    "            v=torch.zeros(1,3,1,512)\n",
    "            image=torch.cat([image,v],dim=2)\n",
    "        elif image.shape[3] != 512:\n",
    "            h = torch.zeros(1,3,512,1)\n",
    "            image=torch.cat([image,h],dim=3)\n",
    "    return image"
   ]
  },
  {
   "cell_type": "code",
   "execution_count": 26,
   "id": "00a78f79",
   "metadata": {
    "ExecuteTime": {
     "end_time": "2022-11-18T06:39:16.621449Z",
     "start_time": "2022-11-18T06:39:16.499619Z"
    },
    "execution": {
     "iopub.execute_input": "2022-11-21T06:51:22.611004Z",
     "iopub.status.busy": "2022-11-21T06:51:22.609742Z",
     "iopub.status.idle": "2022-11-21T06:51:23.111995Z",
     "shell.execute_reply": "2022-11-21T06:51:23.111527Z",
     "shell.execute_reply.started": "2022-11-21T06:51:22.610939Z"
    },
    "executionInfo": {
     "elapsed": 304,
     "status": "ok",
     "timestamp": 1669015754192,
     "user": {
      "displayName": "",
      "userId": ""
     },
     "user_tz": -540
    },
    "id": "00a78f79",
    "tags": []
   },
   "outputs": [],
   "source": [
    "train_batch = []\n",
    "label_batch = []\n",
    "batch_size = 2\n",
    "for i in range(0,len(train),batch_size):\n",
    "    train_batch.append(torch.cat([train[i],train[i+1]]))\n",
    "\n",
    "for i in range(0,len(label),2):\n",
    "    try:\n",
    "        label_batch.append(torch.cat([label[i],label[i+1]]))\n",
    "    except:\n",
    "        pass"
   ]
  },
  {
   "cell_type": "code",
   "execution_count": 27,
   "id": "617c6b18",
   "metadata": {
    "colab": {
     "base_uri": "https://localhost:8080/"
    },
    "execution": {
     "iopub.execute_input": "2022-11-21T06:51:26.430581Z",
     "iopub.status.busy": "2022-11-21T06:51:26.429899Z",
     "iopub.status.idle": "2022-11-21T06:51:26.445188Z",
     "shell.execute_reply": "2022-11-21T06:51:26.444349Z",
     "shell.execute_reply.started": "2022-11-21T06:51:26.430555Z"
    },
    "executionInfo": {
     "elapsed": 286,
     "status": "ok",
     "timestamp": 1669015758796,
     "user": {
      "displayName": "",
      "userId": ""
     },
     "user_tz": -540
    },
    "id": "617c6b18",
    "outputId": "ead6822d-d2a7-4b07-916e-13a190ac7a37",
    "tags": []
   },
   "outputs": [
    {
     "name": "stdout",
     "output_type": "stream",
     "text": [
      "Batch 개수 확인\n",
      "314\n",
      "314\n",
      "Batch Tensor 정보 확인\n",
      "torch.Size([2, 1, 512, 512])\n"
     ]
    }
   ],
   "source": [
    "print('Batch 개수 확인')\n",
    "print(len(train_batch))\n",
    "print(len(label_batch))\n",
    "print('Batch Tensor 정보 확인')\n",
    "print(label_batch[0].size())"
   ]
  },
  {
   "cell_type": "code",
   "execution_count": 28,
   "id": "463001c6-c833-41a6-b79b-54b6399bdd29",
   "metadata": {
    "colab": {
     "base_uri": "https://localhost:8080/"
    },
    "execution": {
     "iopub.execute_input": "2022-11-21T06:51:31.089431Z",
     "iopub.status.busy": "2022-11-21T06:51:31.089142Z",
     "iopub.status.idle": "2022-11-21T06:51:31.133554Z",
     "shell.execute_reply": "2022-11-21T06:51:31.132638Z",
     "shell.execute_reply.started": "2022-11-21T06:51:31.089403Z"
    },
    "executionInfo": {
     "elapsed": 359,
     "status": "ok",
     "timestamp": 1669015763081,
     "user": {
      "displayName": "",
      "userId": ""
     },
     "user_tz": -540
    },
    "id": "463001c6-c833-41a6-b79b-54b6399bdd29",
    "outputId": "fa587007-1587-424f-f8b5-4258b63e2e73",
    "tags": []
   },
   "outputs": [
    {
     "data": {
      "text/plain": [
       "torch.Size([2, 3, 512, 512])"
      ]
     },
     "execution_count": 28,
     "metadata": {},
     "output_type": "execute_result"
    }
   ],
   "source": [
    "train_batch[0].shape"
   ]
  },
  {
   "cell_type": "markdown",
   "id": "6b8346dc-c0d8-468e-9d36-df08d7780301",
   "metadata": {
    "id": "6b8346dc-c0d8-468e-9d36-df08d7780301"
   },
   "source": [
    "### Model\n",
    "\n",
    "Model을 단순하게 살펴보면 다음과 같다.  \n",
    "<img src=\"https://modulabs-biomedical.github.io/assets/images/posts/2018-04-02-U_Net/u-net_fig_1.png\"/>\n",
    "\n",
    "Model의 Encoder부분인 Contracting Path와 Decoder부분인 Expanding Path부분으로 크게 두가지고 나눌 수 있다. 각각의 특징을 살펴보면 다음과 같다.  \n",
    "**Contracting Path**  \n",
    "1. Fully Connected Convolution Networ구조\n",
    "2. 3 x 3 Convolution을 반복 수행\n",
    "3. Activation Function: ReLU\n",
    "4. 2 x 2 Max Pooling: Stride 2를 사용하여 1/2로 Scaling\n",
    "5. Downsampling 시에는 2배의 Feature Channel사용\n",
    "\n",
    "Contracting Path로 인하여 64 Channel의 Input Image는 1024의 Channel로서 향상 될 수 있다.  \n",
    "이러한 늘어난 Encoder의 Output만을 사용하는 것은 전체적인 Image의 Feature를 가져올 수 없다는 단점이 생기게 된다.  \n",
    "따라서 Upsampling시 **Copy and Crop**을 사용하여 같은 Channel인 Contracting Path의 Feature Map을 붙여서 Input으로 활용하는 것을 알 수 있다.  \n",
    ">One important modification in our architecture is that in the upsampling\n",
    "part we have also a large number of feature channels, which allow the network\n",
    "to propagate context information to higher resolution layers. As a consequence,\n",
    "the expansive path is more or less symmetric to the contracting path, and yields\n",
    "a u-shaped architecture\n",
    "\n",
    "**Expanding Path**  \n",
    "1. 2 x 2 convolution(up-convolution)\n",
    "2. Feature channel을 반으로 줄여서 사용\n",
    "3. **Contracting Path에서 Max-Pooling 되기 전의 Feature map을 Crop하여 Up-Convolution할 때 Concatenation을 수행**\n",
    "4. 3 x 3 Convolution 반복\n",
    "5. ReLu사용\n",
    "\n",
    "여기서 **가장 중요한 것은 AutoEncoder의 구조이지만 Input Image의 전체적인 특성을 가져오기 위하여 Contracting Path의 중간중가 결과물인 Feature Map을 Copy and Crop한다는 것** 이다."
   ]
  },
  {
   "cell_type": "code",
   "execution_count": 13,
   "id": "2ed72f2f-285e-48da-b641-fa187e014989",
   "metadata": {
    "execution": {
     "iopub.execute_input": "2022-11-21T06:51:35.034901Z",
     "iopub.status.busy": "2022-11-21T06:51:35.034575Z",
     "iopub.status.idle": "2022-11-21T06:51:35.058240Z",
     "shell.execute_reply": "2022-11-21T06:51:35.057796Z",
     "shell.execute_reply.started": "2022-11-21T06:51:35.034873Z"
    },
    "executionInfo": {
     "elapsed": 396,
     "status": "ok",
     "timestamp": 1669029447810,
     "user": {
      "displayName": "",
      "userId": ""
     },
     "user_tz": -540
    },
    "id": "2ed72f2f-285e-48da-b641-fa187e014989",
    "tags": []
   },
   "outputs": [],
   "source": [
    "# 자주 쓰는 연산들과 항상 세트로 쓰는 연산들은 편의를 위해 함수로 정의해 놓습니다.\n",
    "\n",
    "def conv_block(in_dim,out_dim,act_fn):\n",
    "    model = nn.Sequential(\n",
    "        nn.Conv2d(in_dim,out_dim, kernel_size=3, stride=1, padding=1),\n",
    "        nn.BatchNorm2d(out_dim),\n",
    "        act_fn,\n",
    "    )\n",
    "    return model\n",
    "\n",
    "def conv_trans_block(in_dim,out_dim,act_fn):\n",
    "    model = nn.Sequential(\n",
    "        nn.ConvTranspose2d(in_dim,out_dim, kernel_size=3, stride=2, padding=1,output_padding=1),\n",
    "        nn.BatchNorm2d(out_dim),\n",
    "        act_fn,\n",
    "    )\n",
    "    return model\n",
    "\n",
    "def maxpool():\n",
    "    pool = nn.MaxPool2d(kernel_size=2, stride=2, padding=0)\n",
    "    return pool\n",
    "\n",
    "def conv_block_2(in_dim,out_dim,act_fn):\n",
    "    model = nn.Sequential(\n",
    "        conv_block(in_dim,out_dim,act_fn),\n",
    "        nn.Conv2d(out_dim,out_dim, kernel_size=3, stride=1, padding=1),\n",
    "        nn.BatchNorm2d(out_dim),\n",
    "    )\n",
    "    return model   "
   ]
  },
  {
   "cell_type": "markdown",
   "id": "0fccfd45-8415-4c28-af10-7dec956218d9",
   "metadata": {
    "id": "0fccfd45-8415-4c28-af10-7dec956218d9"
   },
   "source": [
    "#### Copy and Crop\n",
    "개인적으로 **U-net**에서 가장 중요한 부분이다.  \n",
    "U-net에서 가장 중요한 부분인 **Copy and Crop**을 다음과 같이 구현하였다.  \n",
    "<code>concat_1 = torch.cat([trans_1,down_4],dim=1)</code><br>\n",
    "<code>up_1 = self.up_1(concat_1)</code><br>\n",
    "위의 Code를 보게 되면 Contraction Path에서 뽑아낸 Feature Map을 합쳐서 Input으로 들어가는 것을 확인할 수 있다."
   ]
  },
  {
   "cell_type": "code",
   "execution_count": 14,
   "id": "7db429f9-e917-45dd-987b-f670c8372de8",
   "metadata": {
    "execution": {
     "iopub.execute_input": "2022-11-21T06:51:36.477654Z",
     "iopub.status.busy": "2022-11-21T06:51:36.477203Z",
     "iopub.status.idle": "2022-11-21T06:51:36.506331Z",
     "shell.execute_reply": "2022-11-21T06:51:36.505756Z",
     "shell.execute_reply.started": "2022-11-21T06:51:36.477616Z"
    },
    "executionInfo": {
     "elapsed": 268,
     "status": "ok",
     "timestamp": 1669029450100,
     "user": {
      "displayName": "",
      "userId": ""
     },
     "user_tz": -540
    },
    "id": "7db429f9-e917-45dd-987b-f670c8372de8",
    "tags": []
   },
   "outputs": [],
   "source": [
    "class UnetGenerator(nn.Module):\n",
    "    def __init__(self,in_dim,out_dim,num_filter):\n",
    "        super(UnetGenerator,self).__init__()\n",
    "        self.in_dim = in_dim\n",
    "        self.out_dim = out_dim\n",
    "        self.num_filter = num_filter\n",
    "        act_fn = nn.LeakyReLU(0.2, inplace=True)\n",
    "\n",
    "        print(\"\\n------Initiating U-Net------\\n\")\n",
    "\n",
    "        self.down_1 = conv_block_2(self.in_dim,self.num_filter,act_fn)\n",
    "        self.pool_1 = maxpool()\n",
    "        self.down_2 = conv_block_2(self.num_filter*1,self.num_filter*2,act_fn)\n",
    "        self.pool_2 = maxpool()\n",
    "        self.down_3 = conv_block_2(self.num_filter*2,self.num_filter*4,act_fn)\n",
    "        self.pool_3 = maxpool()\n",
    "        self.down_4 = conv_block_2(self.num_filter*4,self.num_filter*8,act_fn)\n",
    "        self.pool_4 = maxpool()\n",
    "\n",
    "        self.bridge = conv_block_2(self.num_filter*8,self.num_filter*16,act_fn)\n",
    "\n",
    "        self.trans_1 = conv_trans_block(self.num_filter*16,self.num_filter*8,act_fn)\n",
    "        self.up_1 = conv_block_2(self.num_filter*16,self.num_filter*8,act_fn)\n",
    "        self.trans_2 = conv_trans_block(self.num_filter*8,self.num_filter*4,act_fn)\n",
    "        self.up_2 = conv_block_2(self.num_filter*8,self.num_filter*4,act_fn)\n",
    "        self.trans_3 = conv_trans_block(self.num_filter*4,self.num_filter*2,act_fn)\n",
    "        self.up_3 = conv_block_2(self.num_filter*4,self.num_filter*2,act_fn)\n",
    "        self.trans_4 = conv_trans_block(self.num_filter*2,self.num_filter*1,act_fn)\n",
    "        self.up_4 = conv_block_2(self.num_filter*2,self.num_filter*1,act_fn)\n",
    "        \n",
    "        self.out = nn.Sequential(\n",
    "            nn.Conv2d(self.num_filter,self.out_dim,3,1,1),\n",
    "            nn.Tanh(),  #필수는 아님\n",
    "        )\n",
    "        \n",
    "            \n",
    "    def forward(self,input):\n",
    "        down_1 = self.down_1(input)\n",
    "        pool_1 = self.pool_1(down_1)\n",
    "        down_2 = self.down_2(pool_1)\n",
    "        pool_2 = self.pool_2(down_2)\n",
    "        down_3 = self.down_3(pool_2)\n",
    "        pool_3 = self.pool_3(down_3)\n",
    "        down_4 = self.down_4(pool_3)\n",
    "        pool_4 = self.pool_4(down_4)\n",
    "\n",
    "        bridge = self.bridge(pool_4)\n",
    "\n",
    "        trans_1 = self.trans_1(bridge)\n",
    "        concat_1 = torch.cat([trans_1,down_4],dim=1)\n",
    "        up_1 = self.up_1(concat_1)\n",
    "        trans_2 = self.trans_2(up_1)\n",
    "        concat_2 = torch.cat([trans_2,down_3],dim=1)\n",
    "        up_2 = self.up_2(concat_2)\n",
    "        trans_3 = self.trans_3(up_2)\n",
    "        concat_3 = torch.cat([trans_3,down_2],dim=1)\n",
    "        up_3 = self.up_3(concat_3)\n",
    "        trans_4 = self.trans_4(up_3)\n",
    "        concat_4 = torch.cat([trans_4,down_1],dim=1)\n",
    "        up_4 = self.up_4(concat_4)\n",
    "        out = self.out(up_4)\n",
    "        return out"
   ]
  },
  {
   "cell_type": "markdown",
   "id": "053befd7-659e-48b2-b89c-bf5141309a25",
   "metadata": {
    "id": "053befd7-659e-48b2-b89c-bf5141309a25"
   },
   "source": [
    "#### Loss and Optimizer\n",
    "**Optimizer**  \n",
    "Optimizer의 경우 SGD를 사용하고 **Batch size를 크게해서 학습시키는 것 보다 Input Tile의 size를 크게 주는 방법을 선택**하였다.  \n",
    "이에 관련된 이유는 Image를 일정 크기(Patch)로서 자르게 되는데 너무 작게 자르게 되는 경우 Image자체의 Context의 의미가 없어지므로 이러한 선택을 하였다.  \n",
    "이러한 **Batch Size가 작기 때문에, 이를 보안하고자 momentum의 값을 0.99를 주어서 과거의 겂들을 더 많이 반영하게 하여 학습이 진행하도록 하였다.**  \n",
    "\n",
    "**Loss Function**  \n",
    "Biomedical Image의 특성상 Cell이 서로 인접하여서 구분하기 힘든 특징이 있다.  \n",
    "각각의 Cell과 배경은 잘 구분되는 특징은 있지만, 각각의 Cell이 구분되지 않는 특징이 존재하게 된다.  \n",
    "\n",
    "이러한 특성 때문에 서로 붙어있는 물체를 쉽게 합치고 떨어뜨리기 위하여, Weight map을 추가하여 Network의 Output을 결정하게 된다.\n",
    "- $d_1(x)$: 가장 근접한 Cell의 경계와의 거리\n",
    "- $d_2(x)$: 두번째로 근접한 Cell의 경계와의 거리\n",
    "$$w(x) = w_c(x) + w_0 * exp(-\\frac{(d_1(x) + d_2(x))^2}{2\\alpha^2})$$\n",
    "\n",
    "이러한 Weight Map을 통하여 Loss Function을 정의하게 되면 Cross Entropy를 사용할 시 다음과 같이 나타낼 수 있다.\n",
    "$$E = \\sum_{x \\in \\Omega}w(x)log(p_{l(x)}(x))$$\n",
    "\n",
    "위와 같은 결과로서 얻는 Image의 변환은 아래와 같다.\n",
    "<img width=\"600\" height=\"250\" role=\"presentation\" src=\"http://openresearch.ai/uploads/default/original/1X/5f404882292f729534593e970b891346fe270f10.png\">\n",
    "\n",
    "**위의 사진에서도 알 수 있듯이 Cell이 인접해 있으면, 각 셀과 배경을 구분하도록 둘 사이에 배경으로 인식할 틈을 만들겠다는 의미이다.**"
   ]
  },
  {
   "cell_type": "markdown",
   "id": "0a3778b1-afe0-478f-87ad-b9f60f48b2f4",
   "metadata": {
    "id": "0a3778b1-afe0-478f-87ad-b9f60f48b2f4"
   },
   "source": [
    "#### 간단한 $w_c(x)$ 확인"
   ]
  },
  {
   "cell_type": "code",
   "execution_count": 15,
   "id": "f67ed90d-4386-4d7c-ad7e-66d90ed0afa4",
   "metadata": {
    "colab": {
     "base_uri": "https://localhost:8080/",
     "height": 435
    },
    "execution": {
     "iopub.execute_input": "2022-11-21T06:51:36.908684Z",
     "iopub.status.busy": "2022-11-21T06:51:36.908179Z",
     "iopub.status.idle": "2022-11-21T06:51:37.103108Z",
     "shell.execute_reply": "2022-11-21T06:51:37.102434Z",
     "shell.execute_reply.started": "2022-11-21T06:51:36.908637Z"
    },
    "executionInfo": {
     "elapsed": 317,
     "status": "ok",
     "timestamp": 1669029455682,
     "user": {
      "displayName": "",
      "userId": ""
     },
     "user_tz": -540
    },
    "id": "f67ed90d-4386-4d7c-ad7e-66d90ed0afa4",
    "outputId": "c07e061a-4ae4-4c48-e348-e67cbe8b10ce",
    "tags": []
   },
   "outputs": [
    {
     "name": "stdout",
     "output_type": "stream",
     "text": [
      "img_numpy Check\n",
      "[[255 255 255 ... 255 255 255]\n",
      " [255 255 255 ... 255 255 255]\n",
      " [255 255 255 ... 255 255 255]\n",
      " ...\n",
      " [255 255 255 ... 255 255 255]\n",
      " [255 255 255 ... 255 255 255]\n",
      " [255 255 255 ... 255 255 255]]\n",
      "After Kernel Check\n",
      "[[0. 0. 0. ... 0. 0. 0.]\n",
      " [0. 0. 0. ... 0. 0. 0.]\n",
      " [0. 0. 0. ... 0. 0. 0.]\n",
      " ...\n",
      " [0. 0. 0. ... 0. 0. 0.]\n",
      " [0. 0. 0. ... 0. 0. 0.]\n",
      " [0. 0. 0. ... 0. 0. 0.]]\n"
     ]
    },
    {
     "data": {
      "image/png": "[encoded data removed]",
      "text/plain": [
       "<Figure size 432x288 with 3 Axes>"
      ]
     },
     "metadata": {},
     "output_type": "display_data"
    }
   ],
   "source": [
    "def imshow2(tensor, title=None):\n",
    "    image = tensor.cpu().clone()  # 텐서의 값에 변화가 적용되지 않도록 텐서를 복제합니다\n",
    "    image = image.squeeze(0)      # 페이크 배치 차원을 제거 합니다\n",
    "    image = unloader(image)\n",
    "    return image\n",
    "\n",
    "img = imshow2(label[31])\n",
    "img_numpy = np.array(img)\n",
    "print('img_numpy Check')\n",
    "print(img_numpy)\n",
    "\n",
    "\n",
    "kernel = np.ones((3,3),np.uint8)\n",
    "result = cv2.morphologyEx(img_numpy/255, cv2.MORPH_TOPHAT, kernel)\n",
    "\n",
    "print('After Kernel Check')\n",
    "print(result)\n",
    "\n",
    "plt.subplot(131),plt.imshow(img),plt.title('Original')\n",
    "plt.xticks([]), plt.yticks([])\n",
    "plt.subplot(132),plt.imshow(result),plt.title('Feature Map')\n",
    "plt.xticks([]), plt.yticks([])\n",
    "plt.subplot(133),plt.imshow(img+result),plt.title('Feature Map + Original')\n",
    "plt.xticks([]),plt.yticks([])\n",
    "plt.show()"
   ]
  },
  {
   "cell_type": "markdown",
   "id": "4c34a71a-f345-47c3-9d66-7757e9a2dcee",
   "metadata": {
    "id": "4c34a71a-f345-47c3-9d66-7757e9a2dcee"
   },
   "source": [
    "#### Hyper Parameter 및 Model, Loss 선언\n",
    "\n",
    "원래 Loss는 아래와 같다.\n",
    "**Weight Map**  \n",
    "- $d_1(x)$: 가장 근접한 Cell의 경계와의 거리\n",
    "- $d_2(x)$: 두번째로 근접한 Cell의 경계와의 거리\n",
    "$$w(x) = w_c(x) + w_0 * exp(-\\frac{(d_1(x) + d_2(x))^2}{2\\alpha^2})$$\n",
    "\n",
    "**Loss Function**  \n",
    "이러한 Weight Map을 통하여 Loss Function을 정의하게 되면 Cross Entropy를 사용할 시 다음과 같이 나타낼 수 있다.\n",
    "$$E = \\sum_{x \\in \\Omega}w(x)log(p_{l(x)}(x))$$\n",
    "\n",
    "현재 **Weight Map**에서 가장 인접한 Cell과의 거리를 어떻게 해야할 지 몰라서 간단한 **Weight Map**만 구하였다.  \n",
    "즉 식은 아래와 같이 바뀌게 된다.  \n",
    "$$w(x) = w_c(x) + w_0 * exp(-\\frac{(d_1(x) + d_2(x))^2}{2\\alpha^2})$$\n",
    "\n",
    "또한 Loss Function도 MSE를 사용하여 아래와 같이 식이 변하게 된다.  \n",
    "$$E = \\sum{(y - (\\hat{y} + w_c(x)))^2}$$\n",
    "\n",
    "**나중에 OpenCV를 공부후 각각의 Cell사이의 거리를 구할 수 있게 되면 다시 구현하는 것을 목표로 한다.**  "
   ]
  },
  {
   "cell_type": "code",
   "execution_count": 31,
   "id": "WqODGyiMGMwz",
   "metadata": {
    "colab": {
     "base_uri": "https://localhost:8080/"
    },
    "executionInfo": {
     "elapsed": 5,
     "status": "ok",
     "timestamp": 1669015854233,
     "user": {
      "displayName": "",
      "userId": ""
     },
     "user_tz": -540
    },
    "id": "WqODGyiMGMwz",
    "outputId": "786a11a4-3ac9-4ac6-be63-9aedeb45ec7a"
   },
   "outputs": [
    {
     "data": {
      "text/plain": [
       "device(type='cuda', index=0)"
      ]
     },
     "execution_count": 31,
     "metadata": {},
     "output_type": "execute_result"
    }
   ],
   "source": [
    "device"
   ]
  },
  {
   "cell_type": "code",
   "execution_count": 19,
   "id": "8f9469b2-adc8-4410-bfe4-148ed113abf4",
   "metadata": {
    "colab": {
     "base_uri": "https://localhost:8080/"
    },
    "execution": {
     "iopub.execute_input": "2022-11-21T06:51:37.528879Z",
     "iopub.status.busy": "2022-11-21T06:51:37.528562Z",
     "iopub.status.idle": "2022-11-21T06:51:37.888591Z",
     "shell.execute_reply": "2022-11-21T06:51:37.888258Z",
     "shell.execute_reply.started": "2022-11-21T06:51:37.528851Z"
    },
    "executionInfo": {
     "elapsed": 435,
     "status": "ok",
     "timestamp": 1669029513363,
     "user": {
      "displayName": "",
      "userId": ""
     },
     "user_tz": -540
    },
    "id": "8f9469b2-adc8-4410-bfe4-148ed113abf4",
    "outputId": "f66870c7-bef4-44c0-dd1d-53ca9bcace3b",
    "scrolled": true,
    "tags": []
   },
   "outputs": [
    {
     "name": "stdout",
     "output_type": "stream",
     "text": [
      "\n",
      "------Initiating U-Net------\n",
      "\n"
     ]
    }
   ],
   "source": [
    "img_size = 512\n",
    "in_dim = 3\n",
    "out_dim = 1\n",
    "num_filters = 64\n",
    "# num_epoch = 3000\n",
    "num_epoch = 300\n",
    "\n",
    "lr = 0.001\n",
    "\n",
    "# 앞서 정의한대로 vGG 클래스를 인스턴스화 하고 지정한 장치에 올립니다.\n",
    "model = UnetGenerator(in_dim=in_dim,out_dim=out_dim,num_filter=num_filters).to(device)\n",
    "\n",
    "# 손실함수 및 최적화함수를 설정합니다.\n",
    "loss_func = nn.MSELoss()\n",
    "optimizer = torch.optim.SGD(model.parameters(), lr=lr, momentum=0.99)"
   ]
  },
  {
   "cell_type": "markdown",
   "id": "2f05b03e-b775-476b-847b-c2b5c09c594d",
   "metadata": {
    "id": "2f05b03e-b775-476b-847b-c2b5c09c594d"
   },
   "source": [
    "#### Model Trainning"
   ]
  },
  {
   "cell_type": "code",
   "execution_count": 16,
   "id": "989158ed-949d-4fc6-a42a-d192295d3fca",
   "metadata": {
    "colab": {
     "base_uri": "https://localhost:8080/"
    },
    "execution": {
     "iopub.execute_input": "2022-11-21T06:51:42.458032Z",
     "iopub.status.busy": "2022-11-21T06:51:42.457716Z",
     "iopub.status.idle": "2022-11-21T06:51:42.464773Z",
     "shell.execute_reply": "2022-11-21T06:51:42.463995Z",
     "shell.execute_reply.started": "2022-11-21T06:51:42.458003Z"
    },
    "executionInfo": {
     "elapsed": 266,
     "status": "ok",
     "timestamp": 1669029460326,
     "user": {
      "displayName": "",
      "userId": ""
     },
     "user_tz": -540
    },
    "id": "989158ed-949d-4fc6-a42a-d192295d3fca",
    "outputId": "814381a0-c07d-42ac-b5ab-8d465a6d0317",
    "tags": []
   },
   "outputs": [
    {
     "data": {
      "text/plain": [
       "device(type='cuda', index=0)"
      ]
     },
     "execution_count": 16,
     "metadata": {},
     "output_type": "execute_result"
    }
   ],
   "source": [
    "device\n"
   ]
  },
  {
   "cell_type": "code",
   "execution_count": 36,
   "id": "f3fd64b2-4788-46b5-9751-e8ad3683ab71",
   "metadata": {
    "execution": {
     "iopub.execute_input": "2022-11-21T06:51:44.296189Z",
     "iopub.status.busy": "2022-11-21T06:51:44.295886Z",
     "iopub.status.idle": "2022-11-21T06:51:44.300298Z",
     "shell.execute_reply": "2022-11-21T06:51:44.299549Z",
     "shell.execute_reply.started": "2022-11-21T06:51:44.296164Z"
    },
    "executionInfo": {
     "elapsed": 2,
     "status": "ok",
     "timestamp": 1669015897848,
     "user": {
      "displayName": "",
      "userId": ""
     },
     "user_tz": -540
    },
    "id": "f3fd64b2-4788-46b5-9751-e8ad3683ab71",
    "tags": []
   },
   "outputs": [],
   "source": [
    "from tqdm import tqdm"
   ]
  },
  {
   "cell_type": "code",
   "execution_count": 42,
   "id": "4c3bef4f-dc1c-49ec-b6a3-b890bc77d169",
   "metadata": {
    "colab": {
     "base_uri": "https://localhost:8080/"
    },
    "execution": {
     "iopub.execute_input": "2022-11-21T06:52:57.843979Z",
     "iopub.status.busy": "2022-11-21T06:52:57.842011Z",
     "iopub.status.idle": "2022-11-21T06:56:06.647650Z",
     "shell.execute_reply": "2022-11-21T06:56:06.619213Z",
     "shell.execute_reply.started": "2022-11-21T06:52:57.843932Z"
    },
    "executionInfo": {
     "elapsed": 7012775,
     "status": "ok",
     "timestamp": 1669023457746,
     "user": {
      "displayName": "",
      "userId": ""
     },
     "user_tz": -540
    },
    "id": "4c3bef4f-dc1c-49ec-b6a3-b890bc77d169",
    "outputId": "aef7c38b-624a-4d37-8735-877b144ffcb2",
    "tags": []
   },
   "outputs": [
    {
     "name": "stderr",
     "output_type": "stream",
     "text": [
      "100%|██████████| 314/314 [00:23<00:00, 13.29it/s]\n"
     ]
    },
    {
     "name": "stdout",
     "output_type": "stream",
     "text": [
      "0.13052402436733246\n"
     ]
    },
    {
     "name": "stderr",
     "output_type": "stream",
     "text": [
      "100%|██████████| 314/314 [00:23<00:00, 13.36it/s]\n",
      "100%|██████████| 314/314 [00:23<00:00, 13.33it/s]\n",
      "100%|██████████| 314/314 [00:23<00:00, 13.43it/s]\n",
      "100%|██████████| 314/314 [00:23<00:00, 13.50it/s]\n",
      "100%|██████████| 314/314 [00:23<00:00, 13.38it/s]\n",
      "100%|██████████| 314/314 [00:23<00:00, 13.50it/s]\n",
      "100%|██████████| 314/314 [00:23<00:00, 13.49it/s]\n",
      "100%|██████████| 314/314 [00:23<00:00, 13.40it/s]\n",
      "100%|██████████| 314/314 [00:23<00:00, 13.35it/s]\n",
      "100%|██████████| 314/314 [00:23<00:00, 13.35it/s]\n",
      "100%|██████████| 314/314 [00:23<00:00, 13.44it/s]\n",
      "100%|██████████| 314/314 [00:23<00:00, 13.35it/s]\n",
      "100%|██████████| 314/314 [00:23<00:00, 13.47it/s]\n",
      "100%|██████████| 314/314 [00:23<00:00, 13.36it/s]\n",
      "100%|██████████| 314/314 [00:23<00:00, 13.45it/s]\n",
      "100%|██████████| 314/314 [00:23<00:00, 13.34it/s]\n",
      "100%|██████████| 314/314 [00:23<00:00, 13.29it/s]\n",
      "100%|██████████| 314/314 [00:23<00:00, 13.31it/s]\n",
      "100%|██████████| 314/314 [00:23<00:00, 13.43it/s]\n",
      "100%|██████████| 314/314 [00:23<00:00, 13.44it/s]\n",
      "100%|██████████| 314/314 [00:23<00:00, 13.40it/s]\n",
      "100%|██████████| 314/314 [00:23<00:00, 13.38it/s]\n",
      "100%|██████████| 314/314 [00:23<00:00, 13.44it/s]\n",
      "100%|██████████| 314/314 [00:23<00:00, 13.34it/s]\n",
      "100%|██████████| 314/314 [00:23<00:00, 13.31it/s]\n",
      "100%|██████████| 314/314 [00:23<00:00, 13.40it/s]\n",
      "100%|██████████| 314/314 [00:23<00:00, 13.30it/s]\n",
      "100%|██████████| 314/314 [00:23<00:00, 13.47it/s]\n",
      "100%|██████████| 314/314 [00:23<00:00, 13.36it/s]\n",
      "100%|██████████| 314/314 [00:23<00:00, 13.51it/s]\n",
      "100%|██████████| 314/314 [00:23<00:00, 13.52it/s]\n",
      "100%|██████████| 314/314 [00:23<00:00, 13.41it/s]\n",
      "100%|██████████| 314/314 [00:23<00:00, 13.44it/s]\n",
      "100%|██████████| 314/314 [00:23<00:00, 13.46it/s]\n",
      "100%|██████████| 314/314 [00:23<00:00, 13.36it/s]\n",
      "100%|██████████| 314/314 [00:23<00:00, 13.39it/s]\n",
      "100%|██████████| 314/314 [00:23<00:00, 13.35it/s]\n",
      "100%|██████████| 314/314 [00:23<00:00, 13.38it/s]\n",
      "100%|██████████| 314/314 [00:23<00:00, 13.48it/s]\n",
      "100%|██████████| 314/314 [00:23<00:00, 13.35it/s]\n",
      "100%|██████████| 314/314 [00:23<00:00, 13.51it/s]\n",
      "100%|██████████| 314/314 [00:23<00:00, 13.52it/s]\n",
      "100%|██████████| 314/314 [00:23<00:00, 13.40it/s]\n",
      "100%|██████████| 314/314 [00:23<00:00, 13.34it/s]\n",
      "100%|██████████| 314/314 [00:23<00:00, 13.50it/s]\n",
      "100%|██████████| 314/314 [00:23<00:00, 13.38it/s]\n",
      "100%|██████████| 314/314 [00:23<00:00, 13.30it/s]\n",
      "100%|██████████| 314/314 [00:23<00:00, 13.45it/s]\n",
      "100%|██████████| 314/314 [00:23<00:00, 13.36it/s]\n",
      "100%|██████████| 314/314 [00:23<00:00, 13.33it/s]\n"
     ]
    },
    {
     "name": "stdout",
     "output_type": "stream",
     "text": [
      "0.13082526624202728\n"
     ]
    },
    {
     "name": "stderr",
     "output_type": "stream",
     "text": [
      "100%|██████████| 314/314 [00:23<00:00, 13.45it/s]\n",
      "100%|██████████| 314/314 [00:23<00:00, 13.47it/s]\n",
      "100%|██████████| 314/314 [00:23<00:00, 13.32it/s]\n",
      "100%|██████████| 314/314 [00:23<00:00, 13.31it/s]\n",
      "100%|██████████| 314/314 [00:23<00:00, 13.42it/s]\n",
      "100%|██████████| 314/314 [00:23<00:00, 13.50it/s]\n",
      "100%|██████████| 314/314 [00:23<00:00, 13.38it/s]\n",
      "100%|██████████| 314/314 [00:23<00:00, 13.44it/s]\n",
      "100%|██████████| 314/314 [00:23<00:00, 13.42it/s]\n",
      "100%|██████████| 314/314 [00:23<00:00, 13.47it/s]\n",
      "100%|██████████| 314/314 [00:23<00:00, 13.40it/s]\n",
      "100%|██████████| 314/314 [00:23<00:00, 13.37it/s]\n",
      "100%|██████████| 314/314 [00:23<00:00, 13.36it/s]\n",
      "100%|██████████| 314/314 [00:23<00:00, 13.36it/s]\n",
      "100%|██████████| 314/314 [00:23<00:00, 13.34it/s]\n",
      "100%|██████████| 314/314 [00:23<00:00, 13.37it/s]\n",
      "100%|██████████| 314/314 [00:23<00:00, 13.43it/s]\n",
      "100%|██████████| 314/314 [00:23<00:00, 13.46it/s]\n",
      "100%|██████████| 314/314 [00:23<00:00, 13.34it/s]\n",
      "100%|██████████| 314/314 [00:23<00:00, 13.45it/s]\n",
      "100%|██████████| 314/314 [00:23<00:00, 13.39it/s]\n",
      "100%|██████████| 314/314 [00:23<00:00, 13.39it/s]\n",
      "100%|██████████| 314/314 [00:23<00:00, 13.45it/s]\n",
      "100%|██████████| 314/314 [00:23<00:00, 13.42it/s]\n",
      "100%|██████████| 314/314 [00:23<00:00, 13.29it/s]\n",
      "100%|██████████| 314/314 [00:23<00:00, 13.46it/s]\n",
      "100%|██████████| 314/314 [00:23<00:00, 13.46it/s]\n",
      "100%|██████████| 314/314 [00:23<00:00, 13.38it/s]\n",
      "100%|██████████| 314/314 [00:23<00:00, 13.30it/s]\n",
      "100%|██████████| 314/314 [00:23<00:00, 13.37it/s]\n",
      "100%|██████████| 314/314 [00:23<00:00, 13.38it/s]\n",
      "100%|██████████| 314/314 [00:23<00:00, 13.44it/s]\n",
      "100%|██████████| 314/314 [00:23<00:00, 13.46it/s]\n",
      "100%|██████████| 314/314 [00:23<00:00, 13.48it/s]\n",
      "100%|██████████| 314/314 [00:23<00:00, 13.49it/s]\n",
      "100%|██████████| 314/314 [00:23<00:00, 13.46it/s]\n",
      "100%|██████████| 314/314 [00:23<00:00, 13.45it/s]\n",
      "100%|██████████| 314/314 [00:23<00:00, 13.44it/s]\n",
      "100%|██████████| 314/314 [00:23<00:00, 13.44it/s]\n",
      "100%|██████████| 314/314 [00:23<00:00, 13.39it/s]\n",
      "100%|██████████| 314/314 [00:23<00:00, 13.29it/s]\n",
      "100%|██████████| 314/314 [00:23<00:00, 13.32it/s]\n",
      "100%|██████████| 314/314 [00:23<00:00, 13.41it/s]\n",
      "100%|██████████| 314/314 [00:23<00:00, 13.38it/s]\n",
      "100%|██████████| 314/314 [00:23<00:00, 13.51it/s]\n",
      "100%|██████████| 314/314 [00:23<00:00, 13.43it/s]\n",
      "100%|██████████| 314/314 [00:23<00:00, 13.43it/s]\n",
      "100%|██████████| 314/314 [00:23<00:00, 13.41it/s]\n",
      "100%|██████████| 314/314 [00:23<00:00, 13.41it/s]\n",
      "100%|██████████| 314/314 [00:23<00:00, 13.34it/s]\n"
     ]
    },
    {
     "name": "stdout",
     "output_type": "stream",
     "text": [
      "0.13082489371299744\n"
     ]
    },
    {
     "name": "stderr",
     "output_type": "stream",
     "text": [
      "100%|██████████| 314/314 [00:23<00:00, 13.44it/s]\n",
      "100%|██████████| 314/314 [00:23<00:00, 13.39it/s]\n",
      "100%|██████████| 314/314 [00:23<00:00, 13.41it/s]\n",
      "100%|██████████| 314/314 [00:23<00:00, 13.36it/s]\n",
      "100%|██████████| 314/314 [00:23<00:00, 13.45it/s]\n",
      "100%|██████████| 314/314 [00:23<00:00, 13.45it/s]\n",
      "100%|██████████| 314/314 [00:23<00:00, 13.46it/s]\n",
      "100%|██████████| 314/314 [00:23<00:00, 13.39it/s]\n",
      "100%|██████████| 314/314 [00:23<00:00, 13.30it/s]\n",
      "100%|██████████| 314/314 [00:23<00:00, 13.38it/s]\n",
      "100%|██████████| 314/314 [00:23<00:00, 13.44it/s]\n",
      "100%|██████████| 314/314 [00:23<00:00, 13.44it/s]\n",
      "100%|██████████| 314/314 [00:23<00:00, 13.41it/s]\n",
      "100%|██████████| 314/314 [00:23<00:00, 13.43it/s]\n",
      "100%|██████████| 314/314 [00:23<00:00, 13.30it/s]\n",
      "100%|██████████| 314/314 [00:23<00:00, 13.41it/s]\n",
      "100%|██████████| 314/314 [00:23<00:00, 13.36it/s]\n",
      "100%|██████████| 314/314 [00:23<00:00, 13.28it/s]\n",
      "100%|██████████| 314/314 [00:23<00:00, 13.34it/s]\n",
      "100%|██████████| 314/314 [00:23<00:00, 13.37it/s]\n",
      "100%|██████████| 314/314 [00:23<00:00, 13.48it/s]\n",
      "100%|██████████| 314/314 [00:23<00:00, 13.42it/s]\n",
      "100%|██████████| 314/314 [00:23<00:00, 13.38it/s]\n",
      "100%|██████████| 314/314 [00:23<00:00, 13.42it/s]\n",
      "100%|██████████| 314/314 [00:23<00:00, 13.39it/s]\n",
      "100%|██████████| 314/314 [00:23<00:00, 13.27it/s]\n",
      "100%|██████████| 314/314 [00:23<00:00, 13.29it/s]\n",
      "100%|██████████| 314/314 [00:23<00:00, 13.44it/s]\n",
      "100%|██████████| 314/314 [00:23<00:00, 13.43it/s]\n",
      "100%|██████████| 314/314 [00:23<00:00, 13.30it/s]\n",
      "100%|██████████| 314/314 [00:23<00:00, 13.31it/s]\n",
      "100%|██████████| 314/314 [00:23<00:00, 13.32it/s]\n",
      "100%|██████████| 314/314 [00:23<00:00, 13.32it/s]\n",
      "100%|██████████| 314/314 [00:23<00:00, 13.34it/s]\n",
      "100%|██████████| 314/314 [00:23<00:00, 13.37it/s]\n",
      "100%|██████████| 314/314 [00:23<00:00, 13.41it/s]\n",
      "100%|██████████| 314/314 [00:23<00:00, 13.23it/s]\n",
      "100%|██████████| 314/314 [00:23<00:00, 13.44it/s]\n",
      "100%|██████████| 314/314 [00:23<00:00, 13.38it/s]\n",
      "100%|██████████| 314/314 [00:23<00:00, 13.38it/s]\n",
      "100%|██████████| 314/314 [00:23<00:00, 13.45it/s]\n",
      "100%|██████████| 314/314 [00:23<00:00, 13.40it/s]\n",
      "100%|██████████| 314/314 [00:23<00:00, 13.44it/s]\n",
      "100%|██████████| 314/314 [00:23<00:00, 13.49it/s]\n",
      "100%|██████████| 314/314 [00:23<00:00, 13.35it/s]\n",
      "100%|██████████| 314/314 [00:23<00:00, 13.49it/s]\n",
      "100%|██████████| 314/314 [00:23<00:00, 13.43it/s]\n",
      "100%|██████████| 314/314 [00:23<00:00, 13.36it/s]\n",
      "100%|██████████| 314/314 [00:23<00:00, 13.38it/s]\n",
      "100%|██████████| 314/314 [00:23<00:00, 13.50it/s]\n"
     ]
    },
    {
     "name": "stdout",
     "output_type": "stream",
     "text": [
      "0.13082504272460938\n"
     ]
    },
    {
     "name": "stderr",
     "output_type": "stream",
     "text": [
      "100%|██████████| 314/314 [00:23<00:00, 13.52it/s]\n",
      "100%|██████████| 314/314 [00:23<00:00, 13.37it/s]\n",
      "100%|██████████| 314/314 [00:23<00:00, 13.45it/s]\n",
      "100%|██████████| 314/314 [00:23<00:00, 13.58it/s]\n",
      "100%|██████████| 314/314 [00:23<00:00, 13.53it/s]\n",
      "100%|██████████| 314/314 [00:23<00:00, 13.62it/s]\n",
      "100%|██████████| 314/314 [00:22<00:00, 13.65it/s]\n",
      "100%|██████████| 314/314 [00:23<00:00, 13.53it/s]\n",
      "100%|██████████| 314/314 [00:23<00:00, 13.60it/s]\n",
      "100%|██████████| 314/314 [00:22<00:00, 13.66it/s]\n",
      "100%|██████████| 314/314 [00:23<00:00, 13.63it/s]\n",
      "100%|██████████| 314/314 [00:23<00:00, 13.52it/s]\n",
      "100%|██████████| 314/314 [00:23<00:00, 13.48it/s]\n",
      "100%|██████████| 314/314 [00:22<00:00, 13.66it/s]\n",
      "100%|██████████| 314/314 [00:23<00:00, 13.60it/s]\n",
      "100%|██████████| 314/314 [00:23<00:00, 13.57it/s]\n",
      "100%|██████████| 314/314 [00:23<00:00, 13.60it/s]\n",
      "100%|██████████| 314/314 [00:23<00:00, 13.53it/s]\n",
      "100%|██████████| 314/314 [00:23<00:00, 13.56it/s]\n",
      "100%|██████████| 314/314 [00:23<00:00, 13.58it/s]\n",
      "100%|██████████| 314/314 [00:23<00:00, 13.56it/s]\n",
      "100%|██████████| 314/314 [00:22<00:00, 13.67it/s]\n",
      "100%|██████████| 314/314 [00:23<00:00, 13.52it/s]\n",
      "100%|██████████| 314/314 [00:23<00:00, 13.51it/s]\n",
      "100%|██████████| 314/314 [00:23<00:00, 13.52it/s]\n",
      "100%|██████████| 314/314 [00:23<00:00, 13.45it/s]\n",
      "100%|██████████| 314/314 [00:23<00:00, 13.51it/s]\n",
      "100%|██████████| 314/314 [00:23<00:00, 13.49it/s]\n",
      "100%|██████████| 314/314 [00:23<00:00, 13.58it/s]\n",
      "100%|██████████| 314/314 [00:23<00:00, 13.63it/s]\n",
      "100%|██████████| 314/314 [00:23<00:00, 13.54it/s]\n",
      "100%|██████████| 314/314 [00:23<00:00, 13.58it/s]\n",
      "100%|██████████| 314/314 [00:23<00:00, 13.59it/s]\n",
      "100%|██████████| 314/314 [00:23<00:00, 13.55it/s]\n",
      "100%|██████████| 314/314 [00:23<00:00, 13.56it/s]\n",
      "100%|██████████| 314/314 [00:22<00:00, 13.67it/s]\n",
      "100%|██████████| 314/314 [00:22<00:00, 13.69it/s]\n",
      "100%|██████████| 314/314 [00:23<00:00, 13.62it/s]\n",
      "100%|██████████| 314/314 [00:22<00:00, 13.68it/s]\n",
      "100%|██████████| 314/314 [00:23<00:00, 13.52it/s]\n",
      "100%|██████████| 314/314 [00:23<00:00, 13.55it/s]\n",
      "100%|██████████| 314/314 [00:23<00:00, 13.56it/s]\n",
      "100%|██████████| 314/314 [00:22<00:00, 13.67it/s]\n",
      "100%|██████████| 314/314 [00:23<00:00, 13.51it/s]\n",
      "100%|██████████| 314/314 [00:22<00:00, 13.66it/s]\n",
      "100%|██████████| 314/314 [00:23<00:00, 13.54it/s]\n",
      "100%|██████████| 314/314 [00:23<00:00, 13.61it/s]\n",
      "100%|██████████| 314/314 [00:23<00:00, 13.57it/s]\n",
      "100%|██████████| 314/314 [00:23<00:00, 13.64it/s]\n",
      "100%|██████████| 314/314 [00:23<00:00, 13.55it/s]\n"
     ]
    },
    {
     "name": "stdout",
     "output_type": "stream",
     "text": [
      "0.13082490861415863\n"
     ]
    },
    {
     "name": "stderr",
     "output_type": "stream",
     "text": [
      "100%|██████████| 314/314 [00:22<00:00, 13.67it/s]\n",
      "100%|██████████| 314/314 [00:23<00:00, 13.55it/s]\n",
      "100%|██████████| 314/314 [00:23<00:00, 13.55it/s]\n",
      "100%|██████████| 314/314 [00:23<00:00, 13.62it/s]\n",
      "100%|██████████| 314/314 [00:23<00:00, 13.58it/s]\n",
      "100%|██████████| 314/314 [00:22<00:00, 13.69it/s]\n",
      "100%|██████████| 314/314 [00:23<00:00, 13.63it/s]\n",
      "100%|██████████| 314/314 [00:23<00:00, 13.45it/s]\n",
      "100%|██████████| 314/314 [00:23<00:00, 13.35it/s]\n",
      "100%|██████████| 314/314 [00:23<00:00, 13.36it/s]\n",
      "100%|██████████| 314/314 [00:23<00:00, 13.40it/s]\n",
      "100%|██████████| 314/314 [00:23<00:00, 13.45it/s]\n",
      "100%|██████████| 314/314 [00:23<00:00, 13.49it/s]\n",
      "100%|██████████| 314/314 [00:23<00:00, 13.43it/s]\n",
      "100%|██████████| 314/314 [00:23<00:00, 13.40it/s]\n",
      "100%|██████████| 314/314 [00:23<00:00, 13.41it/s]\n",
      "100%|██████████| 314/314 [00:23<00:00, 13.46it/s]\n",
      "100%|██████████| 314/314 [00:23<00:00, 13.51it/s]\n",
      "100%|██████████| 314/314 [00:23<00:00, 13.43it/s]\n",
      "100%|██████████| 314/314 [00:23<00:00, 13.37it/s]\n",
      "100%|██████████| 314/314 [00:23<00:00, 13.39it/s]\n",
      "100%|██████████| 314/314 [00:23<00:00, 13.41it/s]\n",
      "100%|██████████| 314/314 [00:23<00:00, 13.37it/s]\n",
      "100%|██████████| 314/314 [00:23<00:00, 13.36it/s]\n",
      "100%|██████████| 314/314 [00:23<00:00, 13.54it/s]\n",
      "100%|██████████| 314/314 [00:23<00:00, 13.39it/s]\n",
      "100%|██████████| 314/314 [00:23<00:00, 13.46it/s]\n",
      "100%|██████████| 314/314 [00:23<00:00, 13.44it/s]\n",
      "100%|██████████| 314/314 [00:23<00:00, 13.51it/s]\n",
      "100%|██████████| 314/314 [00:23<00:00, 13.50it/s]\n",
      "100%|██████████| 314/314 [00:23<00:00, 13.49it/s]\n",
      "100%|██████████| 314/314 [00:23<00:00, 13.37it/s]\n",
      "100%|██████████| 314/314 [00:23<00:00, 13.53it/s]\n",
      "100%|██████████| 314/314 [00:23<00:00, 13.35it/s]\n",
      "100%|██████████| 314/314 [00:23<00:00, 13.35it/s]\n",
      "100%|██████████| 314/314 [00:23<00:00, 13.43it/s]\n",
      "100%|██████████| 314/314 [00:23<00:00, 13.28it/s]\n",
      "100%|██████████| 314/314 [00:23<00:00, 13.51it/s]\n",
      "100%|██████████| 314/314 [00:23<00:00, 13.40it/s]\n",
      "100%|██████████| 314/314 [00:23<00:00, 13.34it/s]\n",
      "100%|██████████| 314/314 [00:23<00:00, 13.53it/s]\n",
      "100%|██████████| 314/314 [00:23<00:00, 13.49it/s]\n",
      "100%|██████████| 314/314 [00:23<00:00, 13.41it/s]\n",
      "100%|██████████| 314/314 [00:23<00:00, 13.53it/s]\n",
      "100%|██████████| 314/314 [00:23<00:00, 13.44it/s]\n",
      "100%|██████████| 314/314 [00:23<00:00, 13.38it/s]\n",
      "100%|██████████| 314/314 [00:23<00:00, 13.52it/s]\n",
      "100%|██████████| 314/314 [00:23<00:00, 13.37it/s]\n",
      "100%|██████████| 314/314 [00:23<00:00, 13.30it/s]\n",
      "100%|██████████| 314/314 [00:23<00:00, 13.29it/s]\n"
     ]
    },
    {
     "name": "stdout",
     "output_type": "stream",
     "text": [
      "0.13082462549209595\n"
     ]
    },
    {
     "name": "stderr",
     "output_type": "stream",
     "text": [
      "100%|██████████| 314/314 [00:23<00:00, 13.42it/s]\n",
      "100%|██████████| 314/314 [00:23<00:00, 13.52it/s]\n",
      "100%|██████████| 314/314 [00:23<00:00, 13.43it/s]\n",
      "100%|██████████| 314/314 [00:23<00:00, 13.49it/s]\n",
      "100%|██████████| 314/314 [00:23<00:00, 13.33it/s]\n",
      "100%|██████████| 314/314 [00:23<00:00, 13.39it/s]\n",
      "100%|██████████| 314/314 [00:23<00:00, 13.33it/s]\n",
      "100%|██████████| 314/314 [00:23<00:00, 13.28it/s]\n",
      "100%|██████████| 314/314 [00:23<00:00, 13.42it/s]\n",
      "100%|██████████| 314/314 [00:23<00:00, 13.50it/s]\n",
      "100%|██████████| 314/314 [00:23<00:00, 13.40it/s]\n",
      "100%|██████████| 314/314 [00:23<00:00, 13.45it/s]\n",
      "100%|██████████| 314/314 [00:23<00:00, 13.34it/s]\n",
      "100%|██████████| 314/314 [00:23<00:00, 13.47it/s]\n",
      "100%|██████████| 314/314 [00:23<00:00, 13.34it/s]\n",
      "100%|██████████| 314/314 [00:23<00:00, 13.40it/s]\n",
      "100%|██████████| 314/314 [00:23<00:00, 13.44it/s]\n",
      "100%|██████████| 314/314 [00:23<00:00, 13.43it/s]\n",
      "100%|██████████| 314/314 [00:23<00:00, 13.48it/s]\n",
      "100%|██████████| 314/314 [00:23<00:00, 13.40it/s]\n",
      "100%|██████████| 314/314 [00:23<00:00, 13.40it/s]\n",
      "100%|██████████| 314/314 [00:23<00:00, 13.27it/s]\n",
      "100%|██████████| 314/314 [00:23<00:00, 13.32it/s]\n",
      "100%|██████████| 314/314 [00:23<00:00, 13.41it/s]\n",
      "100%|██████████| 314/314 [00:23<00:00, 13.37it/s]\n",
      "100%|██████████| 314/314 [00:23<00:00, 13.42it/s]\n",
      "100%|██████████| 314/314 [00:23<00:00, 13.39it/s]\n",
      "100%|██████████| 314/314 [00:23<00:00, 13.37it/s]\n",
      "100%|██████████| 314/314 [00:23<00:00, 13.45it/s]\n",
      "100%|██████████| 314/314 [00:23<00:00, 13.41it/s]\n",
      "100%|██████████| 314/314 [00:23<00:00, 13.43it/s]\n",
      "100%|██████████| 314/314 [00:23<00:00, 13.41it/s]\n",
      "100%|██████████| 314/314 [00:23<00:00, 13.39it/s]\n",
      "100%|██████████| 314/314 [00:23<00:00, 13.43it/s]\n",
      "100%|██████████| 314/314 [00:23<00:00, 13.40it/s]\n",
      "100%|██████████| 314/314 [00:23<00:00, 13.44it/s]\n",
      "100%|██████████| 314/314 [00:23<00:00, 13.44it/s]\n",
      "100%|██████████| 314/314 [00:23<00:00, 13.40it/s]\n",
      "100%|██████████| 314/314 [00:23<00:00, 13.38it/s]\n",
      "100%|██████████| 314/314 [00:23<00:00, 13.43it/s]\n",
      "100%|██████████| 314/314 [00:23<00:00, 13.39it/s]\n",
      "100%|██████████| 314/314 [00:23<00:00, 13.39it/s]\n",
      "100%|██████████| 314/314 [00:23<00:00, 13.42it/s]\n",
      "100%|██████████| 314/314 [00:23<00:00, 13.34it/s]\n",
      "100%|██████████| 314/314 [00:23<00:00, 13.47it/s]\n",
      "100%|██████████| 314/314 [00:23<00:00, 13.50it/s]\n",
      "100%|██████████| 314/314 [00:23<00:00, 13.36it/s]\n",
      "100%|██████████| 314/314 [00:23<00:00, 13.43it/s]\n",
      "100%|██████████| 314/314 [00:23<00:00, 13.42it/s]\n"
     ]
    }
   ],
   "source": [
    "def imshow2(tensor, title=None):\n",
    "    image = tensor.cpu().clone() # 텐서의 값에 변화가 적용되지 않도록 텐서를 복제합니다\n",
    "    # image = tensor.to(device).clone()\n",
    "    image = image.squeeze(0)      # 페이크 배치 차원을 제거 합니다\n",
    "    image = unloader(image)\n",
    "    return image\n",
    "\n",
    "for i in range(num_epoch):\n",
    "    for j in tqdm(range(len(train_batch))):\n",
    "        x = train_batch[j]\n",
    "        y_= label_batch[j]\n",
    "        \n",
    "        optimizer.zero_grad()\n",
    "        output = model.forward(x)\n",
    "        \n",
    "        img = imshow2(output[0])\n",
    "        img_numpy = np.array(img)\n",
    "        img_2 = imshow2(output[1])\n",
    "        img_numpy_2 = np.array(img_2)\n",
    "        kernel = np.ones((3,3),np.uint8)\n",
    "        result = cv2.morphologyEx(img_numpy/255, cv2.MORPH_TOPHAT, kernel)\n",
    "        result_2 = cv2.morphologyEx(img_numpy_2/255, cv2.MORPH_TOPHAT, kernel)\n",
    "        \n",
    "        \n",
    "        result = torch.from_numpy(result).unsqueeze(0).to(device,torch.float)\n",
    "        result_2 = torch.from_numpy(result_2).unsqueeze(0).to(device,torch.float)\n",
    "        \n",
    "        \n",
    "        final_result = torch.cat([result,result_2],0).view([2,1,512,512])\n",
    "        \n",
    "      \n",
    "        loss = loss_func((output+final_result),y_)\n",
    "        loss.backward()\n",
    "        \n",
    "        optimizer.step()\n",
    "    if i % 50 ==0:\n",
    "        print(loss.item())"
   ]
  },
  {
   "cell_type": "markdown",
   "id": "cc4a2eea-5004-47a8-98e1-903d91860f28",
   "metadata": {
    "id": "cc4a2eea-5004-47a8-98e1-903d91860f28"
   },
   "source": [
    "#### Test 결과 확인"
   ]
  },
  {
   "cell_type": "code",
   "execution_count": 66,
   "id": "6144bb4d-9882-4752-9fd8-6644bc5173c3",
   "metadata": {
    "colab": {
     "base_uri": "https://localhost:8080/"
    },
    "execution": {
     "iopub.status.busy": "2022-11-21T06:50:50.816645Z",
     "iopub.status.idle": "2022-11-21T06:50:50.816830Z",
     "shell.execute_reply": "2022-11-21T06:50:50.816693Z",
     "shell.execute_reply.started": "2022-11-21T06:50:50.816689Z"
    },
    "executionInfo": {
     "elapsed": 316,
     "status": "ok",
     "timestamp": 1669025818164,
     "user": {
      "displayName": "",
      "userId": ""
     },
     "user_tz": -540
    },
    "id": "6144bb4d-9882-4752-9fd8-6644bc5173c3",
    "outputId": "54880b8e-3a8e-4a10-fc41-0ed41eb11c7a"
   },
   "outputs": [
    {
     "name": "stdout",
     "output_type": "stream",
     "text": [
      "/content/drive/MyDrive/Colab Notebooks_TeamShare/open\n"
     ]
    }
   ],
   "source": [
    "!pwd"
   ]
  },
  {
   "cell_type": "markdown",
   "id": "FSGeF6qOsd9J",
   "metadata": {
    "id": "FSGeF6qOsd9J"
   },
   "source": [
    "해야될것\n",
    "1. 마스킹 사진 세이브\n",
    "2. 모델 세이브\n",
    "3. 짤라진 마스킹 사진들 라벨링"
   ]
  },
  {
   "cell_type": "code",
   "execution_count": 21,
   "id": "TC3uS-Sp6Ntc",
   "metadata": {
    "colab": {
     "base_uri": "https://localhost:8080/"
    },
    "executionInfo": {
     "elapsed": 436,
     "status": "ok",
     "timestamp": 1669029537596,
     "user": {
      "displayName": "",
      "userId": ""
     },
     "user_tz": -540
    },
    "id": "TC3uS-Sp6Ntc",
    "outputId": "2a59e9f0-7bc5-4a02-bdf7-ade32d222e7d"
   },
   "outputs": [
    {
     "name": "stdout",
     "output_type": "stream",
     "text": [
      "\n",
      "------Initiating U-Net------\n",
      "\n"
     ]
    },
    {
     "data": {
      "text/plain": [
       "<All keys matched successfully>"
      ]
     },
     "execution_count": 21,
     "metadata": {},
     "output_type": "execute_result"
    }
   ],
   "source": [
    "model_name = 'Unet_version_1.pth'\n",
    "model = UnetGenerator(in_dim=in_dim,out_dim=out_dim,num_filter=num_filters).to(device)\n",
    "\n",
    "model.load_state_dict(torch.load('/content/drive/MyDrive/Colab Notebooks_TeamShare/open/'+ model_name))"
   ]
  },
  {
   "cell_type": "code",
   "execution_count": 96,
   "id": "d3fbd56c-b7c8-461b-8f13-a93025c77f35",
   "metadata": {
    "colab": {
     "base_uri": "https://localhost:8080/",
     "height": 742
    },
    "execution": {
     "iopub.status.busy": "2022-11-21T06:50:50.830739Z",
     "iopub.status.idle": "2022-11-21T06:50:50.831848Z",
     "shell.execute_reply": "2022-11-21T06:50:50.831669Z",
     "shell.execute_reply.started": "2022-11-21T06:50:50.831566Z"
    },
    "executionInfo": {
     "elapsed": 17037,
     "status": "ok",
     "timestamp": 1669032245445,
     "user": {
      "displayName": "",
      "userId": ""
     },
     "user_tz": -540
    },
    "id": "d3fbd56c-b7c8-461b-8f13-a93025c77f35",
    "outputId": "da7c8a5d-d779-462f-9ad5-3f1cf9945af3",
    "tags": []
   },
   "outputs": [
    {
     "data": {
      "image/png": "[encoded data removed]",
      "text/plain": [
       "<Figure size 432x288 with 3 Axes>"
      ]
     },
     "metadata": {
      "needs_background": "light"
     },
     "output_type": "display_data"
    },
    {
     "data": {
      "image/png": "[encoded data removed]",
      "text/plain": [
       "<Figure size 432x288 with 3 Axes>"
      ]
     },
     "metadata": {
      "needs_background": "light"
     },
     "output_type": "display_data"
    },
    {
     "data": {
      "image/png": "[encoded data removed]",
      "text/plain": [
       "<Figure size 432x288 with 3 Axes>"
      ]
     },
     "metadata": {
      "needs_background": "light"
     },
     "output_type": "display_data"
    },
    {
     "data": {
      "image/png": "[encoded data removed]",
      "text/plain": [
       "<Figure size 432x288 with 3 Axes>"
      ]
     },
     "metadata": {
      "needs_background": "light"
     },
     "output_type": "display_data"
    },
    {
     "data": {
      "image/png": "[encoded data removed]",
      "text/plain": [
       "<Figure size 432x288 with 3 Axes>"
      ]
     },
     "metadata": {
      "needs_background": "light"
     },
     "output_type": "display_data"
    }
   ],
   "source": [
    "test = []\n",
    "masks = []\n",
    "output = []\n",
    "for i in range(628):\n",
    "    # './imgs_without_white/' + test_image_name[31]\n",
    "    # image = image_loader('./Data/test/' + str(i) + '.png')\n",
    "    image = image_loader('./imgs_without_white/' + test_image_name[i])\n",
    "    mask = image_loader('./masks_without_white/' + test_image_name[i])\n",
    "    \n",
    "    test.append(image)\n",
    "    masks.append(mask)\n",
    "\n",
    "\n",
    "\n",
    "with torch.no_grad():\n",
    "    for i in range(len(test)):\n",
    "        output.append(model.forward(test[i]))\n",
    "\n",
    "        # if i % 10 == 0:\n",
    "            # print(loss.item())\n",
    "        \n",
    "for i in range(5):\n",
    "    test_image_example = plt.subplot(1,3,1)\n",
    "    test_image_example.set_title('Test Image: ' + str(i))\n",
    "    imshow1(test[i])\n",
    "    \n",
    "    result_image_example = plt.subplot(1,3,2)\n",
    "    result_image_example.set_title('Result Image: ' + str(i))\n",
    "    imshow_gray(-output[i])\n",
    "\n",
    "    result_image_example_real = plt.subplot(1,3,3)\n",
    "    result_image_example_real.set_title('Result Image: ' + str(i))\n",
    "    imshow_gray(masks[i])\n",
    "    \n",
    "    plt.show()"
   ]
  },
  {
   "cell_type": "code",
   "execution_count": 111,
   "id": "JrfV8UzlIR7f",
   "metadata": {
    "colab": {
     "base_uri": "https://localhost:8080/"
    },
    "executionInfo": {
     "elapsed": 8,
     "status": "ok",
     "timestamp": 1669033180739,
     "user": {
      "displayName": "",
      "userId": ""
     },
     "user_tz": -540
    },
    "id": "JrfV8UzlIR7f",
    "outputId": "3558dbd0-11b4-46c4-d95d-4e50139cfb04"
   },
   "outputs": [
    {
     "name": "stdout",
     "output_type": "stream",
     "text": [
      "/content/drive/MyDrive/Colab Notebooks_TeamShare/open\n"
     ]
    }
   ],
   "source": [
    "!pwd"
   ]
  },
  {
   "cell_type": "code",
   "execution_count": 121,
   "id": "n6pRhp-CJMOU",
   "metadata": {
    "colab": {
     "base_uri": "https://localhost:8080/"
    },
    "executionInfo": {
     "elapsed": 5,
     "status": "ok",
     "timestamp": 1669033462297,
     "user": {
      "displayName": "",
      "userId": ""
     },
     "user_tz": -540
    },
    "id": "n6pRhp-CJMOU",
    "outputId": "b3d7ba8f-3dea-4124-8dee-12d718f53718"
   },
   "outputs": [
    {
     "data": {
      "text/plain": [
       "[1, 2, 5]"
      ]
     },
     "execution_count": 121,
     "metadata": {},
     "output_type": "execute_result"
    }
   ],
   "source": [
    "li = [1,2.3,5.1]\n",
    "li_TF=list(map(lambda x: int(x),li))\n",
    "li_TF"
   ]
  },
  {
   "cell_type": "code",
   "execution_count": 134,
   "id": "hC3bajSxJ-wT",
   "metadata": {
    "colab": {
     "base_uri": "https://localhost:8080/"
    },
    "executionInfo": {
     "elapsed": 4,
     "status": "ok",
     "timestamp": 1669033791822,
     "user": {
      "displayName": "",
      "userId": ""
     },
     "user_tz": -540
    },
    "id": "hC3bajSxJ-wT",
    "outputId": "defd524e-a235-4666-fb49-51d8842a44be"
   },
   "outputs": [
    {
     "data": {
      "text/plain": [
       "array([[[[0.99999946, 1.        , 1.        , ..., 1.        ,\n",
       "          1.        , 0.99999994],\n",
       "         [1.        , 1.        , 1.        , ..., 1.        ,\n",
       "          1.        , 1.        ],\n",
       "         [1.        , 1.        , 1.        , ..., 1.        ,\n",
       "          1.        , 1.        ],\n",
       "         ...,\n",
       "         [1.        , 1.        , 1.        , ..., 1.        ,\n",
       "          1.        , 1.        ],\n",
       "         [1.        , 1.        , 1.        , ..., 1.        ,\n",
       "          1.        , 1.        ],\n",
       "         [0.9999984 , 1.        , 1.        , ..., 1.        ,\n",
       "          1.        , 0.9999999 ]]]], dtype=float32)"
      ]
     },
     "execution_count": 134,
     "metadata": {},
     "output_type": "execute_result"
    }
   ],
   "source": [
    "inst = output[0].cpu().clone()\n",
    "inst.numpy()"
   ]
  },
  {
   "cell_type": "code",
   "execution_count": 135,
   "id": "XTIjkshDIKRI",
   "metadata": {
    "executionInfo": {
     "elapsed": 1683,
     "status": "ok",
     "timestamp": 1669033834431,
     "user": {
      "displayName": "",
      "userId": ""
     },
     "user_tz": -540
    },
    "id": "XTIjkshDIKRI"
   },
   "outputs": [],
   "source": [
    "len(output)\n",
    "# inst = output[0].cpu().clone()\n",
    "# inst.numpy()\n",
    "x = list(map(lambda x: x.cpu().clone().numpy(),output))\n",
    "np.save('test.npy',x)\n",
    "# np.array(output)"
   ]
  },
  {
   "cell_type": "markdown",
   "id": "b8ae9b7b-9ef5-49be-978f-54e55617d56b",
   "metadata": {
    "id": "b8ae9b7b-9ef5-49be-978f-54e55617d56b"
   },
   "source": [
    "현재 U-Net의 **Loss Function을 논문에서 제시한 Weight Cross Entropy가 아닌 MSE로 구현하였기 때문에 Loss는 적어도 만족하지 못한 결과를 얻었다.**\n",
    "OpenCv를 공부 후 Image처리를 통하여 다시 Loss Function을 구현 후 확인해 봐야하는 사항이다."
   ]
  },
  {
   "cell_type": "code",
   "execution_count": 93,
   "id": "uzfeViJmzLed",
   "metadata": {
    "colab": {
     "base_uri": "https://localhost:8080/"
    },
    "executionInfo": {
     "elapsed": 3,
     "status": "ok",
     "timestamp": 1669028109536,
     "user": {
      "displayName": "",
      "userId": ""
     },
     "user_tz": -540
    },
    "id": "uzfeViJmzLed",
    "outputId": "dea0cc65-3cb4-462c-ed1b-2307775538d4"
   },
   "outputs": [
    {
     "name": "stdout",
     "output_type": "stream",
     "text": [
      "/content/drive/MyDrive/Colab Notebooks_TeamShare/open/masks_total_slide\n"
     ]
    }
   ],
   "source": [
    "%cd /content/drive/MyDrive/Colab Notebooks_TeamShare/open/masks_total_slide"
   ]
  },
  {
   "cell_type": "code",
   "execution_count": 94,
   "id": "z6TmnCz21Agr",
   "metadata": {
    "colab": {
     "base_uri": "https://localhost:8080/"
    },
    "executionInfo": {
     "elapsed": 285,
     "status": "ok",
     "timestamp": 1669028125260,
     "user": {
      "displayName": "",
      "userId": ""
     },
     "user_tz": -540
    },
    "id": "z6TmnCz21Agr",
    "outputId": "308b78c1-7cfa-44c8-8fc8-6505b9394516"
   },
   "outputs": [
    {
     "name": "stdout",
     "output_type": "stream",
     "text": [
      "/content/drive/MyDrive/Colab Notebooks_TeamShare/open/masks_total_slide\n"
     ]
    }
   ],
   "source": [
    "!pwd"
   ]
  },
  {
   "cell_type": "code",
   "execution_count": 97,
   "id": "GjMtUUW0yv12",
   "metadata": {
    "executionInfo": {
     "elapsed": 496,
     "status": "ok",
     "timestamp": 1669028433201,
     "user": {
      "displayName": "",
      "userId": ""
     },
     "user_tz": -540
    },
    "id": "GjMtUUW0yv12"
   },
   "outputs": [],
   "source": [
    "# model_name = 'Unet_version_1.pth'\n",
    "# torch.save(model.state_dict(),'/content/drive/MyDrive/Colab Notebooks_TeamShare/open/'+ model_name)"
   ]
  },
  {
   "cell_type": "code",
   "execution_count": 66,
   "id": "lgOKXNF12Mx_",
   "metadata": {
    "colab": {
     "base_uri": "https://localhost:8080/"
    },
    "executionInfo": {
     "elapsed": 734,
     "status": "ok",
     "timestamp": 1669031568316,
     "user": {
      "displayName": "",
      "userId": ""
     },
     "user_tz": -540
    },
    "id": "lgOKXNF12Mx_",
    "outputId": "97771e07-d800-434b-e628-afde7414fe4a"
   },
   "outputs": [
    {
     "name": "stdout",
     "output_type": "stream",
     "text": [
      "\n",
      "------Initiating U-Net------\n",
      "\n"
     ]
    },
    {
     "data": {
      "text/plain": [
       "<All keys matched successfully>"
      ]
     },
     "execution_count": 66,
     "metadata": {},
     "output_type": "execute_result"
    }
   ],
   "source": [
    "model = UnetGenerator(in_dim=in_dim,out_dim=out_dim,num_filter=num_filters).to(device)\n",
    "\n",
    "model.load_state_dict(torch.load('/content/drive/MyDrive/Colab Notebooks_TeamShare/open/'+ model_name))"
   ]
  },
  {
   "cell_type": "code",
   "execution_count": 100,
   "id": "gMVyT4eb2uhu",
   "metadata": {
    "colab": {
     "base_uri": "https://localhost:8080/",
     "height": 269
    },
    "executionInfo": {
     "elapsed": 350,
     "status": "ok",
     "timestamp": 1669032294848,
     "user": {
      "displayName": "",
      "userId": ""
     },
     "user_tz": -540
    },
    "id": "gMVyT4eb2uhu",
    "outputId": "94490a04-9617-435b-a8dd-a1ca7b1c5074"
   },
   "outputs": [
    {
     "data": {
      "image/png": "[encoded data removed]",
      "text/plain": [
       "<Figure size 432x288 with 1 Axes>"
      ]
     },
     "metadata": {
      "needs_background": "light"
     },
     "output_type": "display_data"
    }
   ],
   "source": [
    "imshow_gray(-output[3])"
   ]
  },
  {
   "cell_type": "code",
   "execution_count": 98,
   "id": "FJmmP1RBET2u",
   "metadata": {
    "colab": {
     "base_uri": "https://localhost:8080/"
    },
    "executionInfo": {
     "elapsed": 522,
     "status": "ok",
     "timestamp": 1669032255510,
     "user": {
      "displayName": "",
      "userId": ""
     },
     "user_tz": -540
    },
    "id": "FJmmP1RBET2u",
    "outputId": "80fafda6-6adc-43c4-a8a7-bc9a4eee65ba"
   },
   "outputs": [
    {
     "data": {
      "text/plain": [
       "tensor([[[[-0.9999, -1.0000, -1.0000,  ..., -1.0000, -1.0000, -1.0000],\n",
       "          [-1.0000, -1.0000, -1.0000,  ..., -1.0000, -1.0000, -1.0000],\n",
       "          [-1.0000, -1.0000, -1.0000,  ..., -1.0000, -1.0000, -1.0000],\n",
       "          ...,\n",
       "          [-1.0000, -1.0000, -1.0000,  ..., -1.0000, -1.0000, -1.0000],\n",
       "          [-1.0000, -1.0000, -1.0000,  ..., -1.0000, -1.0000, -1.0000],\n",
       "          [-0.9999, -1.0000, -1.0000,  ..., -1.0000, -1.0000, -1.0000]]]],\n",
       "       device='cuda:0')"
      ]
     },
     "execution_count": 98,
     "metadata": {},
     "output_type": "execute_result"
    }
   ],
   "source": [
    "-output[3]"
   ]
  },
  {
   "cell_type": "code",
   "execution_count": 104,
   "id": "Z-ea_UTg9XNi",
   "metadata": {
    "colab": {
     "base_uri": "https://localhost:8080/",
     "height": 36
    },
    "executionInfo": {
     "elapsed": 343,
     "status": "ok",
     "timestamp": 1669032461055,
     "user": {
      "displayName": "",
      "userId": ""
     },
     "user_tz": -540
    },
    "id": "Z-ea_UTg9XNi",
    "outputId": "261e5b0d-f6ee-454b-b18a-fa03128044a4"
   },
   "outputs": [
    {
     "data": {
      "application/vnd.google.colaboratory.intrinsic+json": {
       "type": "string"
      },
      "text/plain": [
       "'masked_epoch(300)_BC_01_0015_(002,001).png'"
      ]
     },
     "execution_count": 104,
     "metadata": {},
     "output_type": "execute_result"
    }
   ],
   "source": [
    "f'masked_epoch(300)_{test_image_name[i]}'"
   ]
  },
  {
   "cell_type": "code",
   "execution_count": 109,
   "id": "aCO6zFNE29L_",
   "metadata": {
    "colab": {
     "base_uri": "https://localhost:8080/",
     "height": 287
    },
    "executionInfo": {
     "elapsed": 352,
     "status": "ok",
     "timestamp": 1669032712966,
     "user": {
      "displayName": "",
      "userId": ""
     },
     "user_tz": -540
    },
    "id": "aCO6zFNE29L_",
    "outputId": "0de6b90b-8198-445b-e993-a511e916434d"
   },
   "outputs": [
    {
     "data": {
      "text/plain": [
       "<matplotlib.image.AxesImage at 0x7f8c7edc4310>"
      ]
     },
     "execution_count": 109,
     "metadata": {},
     "output_type": "execute_result"
    },
    {
     "data": {
      "image/png": "[encoded data removed]",
      "text/plain": [
       "<Figure size 432x288 with 1 Axes>"
      ]
     },
     "metadata": {
      "needs_background": "light"
     },
     "output_type": "display_data"
    }
   ],
   "source": [
    "from torchvision.utils import save_image\n",
    "from torchvision.transforms import ToTensor, ToPILImage\n",
    "tf_toPILImage = ToPILImage() \n",
    "\n",
    "\n",
    "i = 3\n",
    "instance = output[i]\n",
    "image = instance.cpu().clone()  # 텐서의 값에 변화가 적용되지 않도록 텐서를 복제합니다\n",
    "image = image.squeeze(0) \n",
    "\n",
    "# save_image(image, f'masked_epoch(300)_{test_image_name[i]}')\n",
    "# arr = cv2.imread(f'masked_epoch(300)_{test_image_name[i]}')\n",
    "# plt.imshow(arr)\n",
    "# plt.show()\n",
    "\n",
    "image = unloader(-image)\n",
    "plt.imshow(image, cmap='gray')\n",
    "    \n",
    "\n",
    "# output.append(model.forward(test[i]))\n",
    "# instance = model.forward(test[i])\n",
    "# instance = output[i]\n",
    "# image = instance.cpu().clone()  # 텐서의 값에 변화가 적용되지 않도록 텐서를 복제합니다\n",
    "# image = image.squeeze(0)  \n",
    "# image = unloader(image)\n",
    "# image = unloader(-image)\n",
    "# image = image * 255\n",
    "# image = tf_toPILImage(image)\n",
    "# image\n",
    "\n",
    "# save_image(image, f'masked_epoch(300)_{test_image_name[i]}')\n",
    "# arr=cv2.imread(f'masked_epoch(300)_{test_image_name[i]}')\n",
    "# plt.imshow(arr)\n",
    "\n",
    "\n",
    "#     # 페이크 배치 차원을 제거 합니다\n",
    "image = unloader(-image)\n",
    "x = 512 / 72\n",
    "# x = 10\n",
    "plt.figure(figsize=(x,x),dpi=72)\n",
    "plt.axis('off')\n",
    "plt.imshow(image,cmap='gray')\n",
    "plt.savefig(f'masked_epoch(300)_{test_image_name[i]}')\n"
   ]
  },
  {
   "cell_type": "code",
   "execution_count": 89,
   "id": "fIDQBhy1DU59",
   "metadata": {
    "colab": {
     "base_uri": "https://localhost:8080/",
     "height": 529
    },
    "executionInfo": {
     "elapsed": 8,
     "status": "ok",
     "timestamp": 1669032091046,
     "user": {
      "displayName": "",
      "userId": ""
     },
     "user_tz": -540
    },
    "id": "fIDQBhy1DU59",
    "outputId": "2269605b-142e-414b-8d18-a10c4879dc57"
   },
   "outputs": [
    {
     "data": {
      "image/png": "[encoded data removed]",
      "text/plain": [
       "<PIL.Image.Image image mode=L size=512x512 at 0x7F8C7F6B08D0>"
      ]
     },
     "execution_count": 89,
     "metadata": {},
     "output_type": "execute_result"
    }
   ],
   "source": [
    "pimage"
   ]
  },
  {
   "cell_type": "code",
   "execution_count": 79,
   "id": "Y9jcnqPb_SW5",
   "metadata": {
    "colab": {
     "base_uri": "https://localhost:8080/",
     "height": 287
    },
    "executionInfo": {
     "elapsed": 645,
     "status": "ok",
     "timestamp": 1669031733999,
     "user": {
      "displayName": "",
      "userId": ""
     },
     "user_tz": -540
    },
    "id": "Y9jcnqPb_SW5",
    "outputId": "acc3a8de-25b3-4b44-e3e8-a27acd33ba66"
   },
   "outputs": [
    {
     "data": {
      "text/plain": [
       "<matplotlib.image.AxesImage at 0x7f8ee0326f50>"
      ]
     },
     "execution_count": 79,
     "metadata": {},
     "output_type": "execute_result"
    },
    {
     "data": {
      "image/png": "[encoded data removed]",
      "text/plain": [
       "<Figure size 432x288 with 1 Axes>"
      ]
     },
     "metadata": {
      "needs_background": "light"
     },
     "output_type": "display_data"
    }
   ],
   "source": [
    "arr=cv2.imread(f'masked_epoch(300)_{test_image_name[i]}')\n",
    "plt.imshow(arr)"
   ]
  },
  {
   "cell_type": "code",
   "execution_count": 114,
   "id": "88UzSmZR4Euw",
   "metadata": {
    "colab": {
     "base_uri": "https://localhost:8080/"
    },
    "executionInfo": {
     "elapsed": 273,
     "status": "ok",
     "timestamp": 1669028972827,
     "user": {
      "displayName": "",
      "userId": ""
     },
     "user_tz": -540
    },
    "id": "88UzSmZR4Euw",
    "outputId": "bd34b796-2d13-495d-9231-6533b0fcd6d5"
   },
   "outputs": [
    {
     "name": "stdout",
     "output_type": "stream",
     "text": [
      "/content/drive/MyDrive/Colab Notebooks_TeamShare/open\n"
     ]
    }
   ],
   "source": [
    "%cd /content/drive/MyDrive/Colab Notebooks_TeamShare/open"
   ]
  },
  {
   "cell_type": "code",
   "execution_count": 29,
   "id": "doT3czqi7OvA",
   "metadata": {
    "colab": {
     "base_uri": "https://localhost:8080/",
     "height": 170
    },
    "executionInfo": {
     "elapsed": 266,
     "status": "error",
     "timestamp": 1669029754513,
     "user": {
      "displayName": "",
      "userId": ""
     },
     "user_tz": -540
    },
    "id": "doT3czqi7OvA",
    "outputId": "f1f62a4a-b4a9-4848-82fb-d3211244beed"
   },
   "outputs": [
    {
     "ename": "NameError",
     "evalue": "ignored",
     "output_type": "error",
     "traceback": [
      "\u001b[0;31m---------------------------------------------------------------------------\u001b[0m",
      "\u001b[0;31mNameError\u001b[0m                                 Traceback (most recent call last)",
      "\u001b[0;32m<ipython-input-29-50ea46c38cd9>\u001b[0m in \u001b[0;36m<module>\u001b[0;34m\u001b[0m\n\u001b[0;32m----> 1\u001b[0;31m \u001b[0minstance\u001b[0m\u001b[0;34m\u001b[0m\u001b[0;34m\u001b[0m\u001b[0m\n\u001b[0m",
      "\u001b[0;31mNameError\u001b[0m: name 'instance' is not defined"
     ]
    }
   ],
   "source": [
    "instance"
   ]
  },
  {
   "cell_type": "code",
   "execution_count": 30,
   "id": "VvnJr60B3Fc6",
   "metadata": {
    "colab": {
     "base_uri": "https://localhost:8080/",
     "height": 241
    },
    "executionInfo": {
     "elapsed": 7,
     "status": "error",
     "timestamp": 1669030206896,
     "user": {
      "displayName": "",
      "userId": ""
     },
     "user_tz": -540
    },
    "id": "VvnJr60B3Fc6",
    "outputId": "fb13424a-1c4d-437e-a03f-aeb0ea863162"
   },
   "outputs": [
    {
     "ename": "NameError",
     "evalue": "ignored",
     "output_type": "error",
     "traceback": [
      "\u001b[0;31m---------------------------------------------------------------------------\u001b[0m",
      "\u001b[0;31mNameError\u001b[0m                                 Traceback (most recent call last)",
      "\u001b[0;32m<ipython-input-30-e053a8f3e894>\u001b[0m in \u001b[0;36m<module>\u001b[0;34m\u001b[0m\n\u001b[0;32m----> 1\u001b[0;31m \u001b[0mimage\u001b[0m \u001b[0;34m=\u001b[0m \u001b[0minstance\u001b[0m\u001b[0;34m.\u001b[0m\u001b[0mcpu\u001b[0m\u001b[0;34m(\u001b[0m\u001b[0;34m)\u001b[0m\u001b[0;34m.\u001b[0m\u001b[0mclone\u001b[0m\u001b[0;34m(\u001b[0m\u001b[0;34m)\u001b[0m  \u001b[0;31m# 텐서의 값에 변화가 적용되지 않도록 텐서를 복제합니다\u001b[0m\u001b[0;34m\u001b[0m\u001b[0;34m\u001b[0m\u001b[0m\n\u001b[0m\u001b[1;32m      2\u001b[0m \u001b[0mimage\u001b[0m \u001b[0;34m=\u001b[0m \u001b[0mimage\u001b[0m\u001b[0;34m.\u001b[0m\u001b[0msqueeze\u001b[0m\u001b[0;34m(\u001b[0m\u001b[0;36m0\u001b[0m\u001b[0;34m)\u001b[0m      \u001b[0;31m# 페이크 배치 차원을 제거 합니다\u001b[0m\u001b[0;34m\u001b[0m\u001b[0;34m\u001b[0m\u001b[0m\n\u001b[1;32m      3\u001b[0m \u001b[0mimage\u001b[0m \u001b[0;34m=\u001b[0m \u001b[0munloader\u001b[0m\u001b[0;34m(\u001b[0m\u001b[0;34m-\u001b[0m\u001b[0mimage\u001b[0m\u001b[0;34m)\u001b[0m\u001b[0;34m\u001b[0m\u001b[0;34m\u001b[0m\u001b[0m\n\u001b[1;32m      4\u001b[0m \u001b[0mplt\u001b[0m\u001b[0;34m.\u001b[0m\u001b[0mimshow\u001b[0m\u001b[0;34m(\u001b[0m\u001b[0mimage\u001b[0m\u001b[0;34m,\u001b[0m\u001b[0mcmap\u001b[0m\u001b[0;34m=\u001b[0m\u001b[0;34m'gray'\u001b[0m\u001b[0;34m)\u001b[0m\u001b[0;34m\u001b[0m\u001b[0;34m\u001b[0m\u001b[0m\n\u001b[1;32m      5\u001b[0m \u001b[0mx\u001b[0m \u001b[0;34m=\u001b[0m \u001b[0;36m512\u001b[0m \u001b[0;34m/\u001b[0m \u001b[0;36m72\u001b[0m\u001b[0;34m\u001b[0m\u001b[0;34m\u001b[0m\u001b[0m\n",
      "\u001b[0;31mNameError\u001b[0m: name 'instance' is not defined"
     ]
    }
   ],
   "source": [
    "image = instance.cpu().clone()  # 텐서의 값에 변화가 적용되지 않도록 텐서를 복제합니다\n",
    "image = image.squeeze(0)      # 페이크 배치 차원을 제거 합니다\n",
    "image = unloader(-image)\n",
    "plt.imshow(image,cmap='gray')\n",
    "x = 512 / 72\n",
    "plt.figure(figsize=(x,x),dpi=72)\n",
    "plt.axis('off')\n",
    "plt.savefig('test_grayscale.png')"
   ]
  },
  {
   "cell_type": "code",
   "execution_count": 106,
   "id": "3DDAQ0H43NmO",
   "metadata": {
    "colab": {
     "base_uri": "https://localhost:8080/"
    },
    "executionInfo": {
     "elapsed": 2,
     "status": "ok",
     "timestamp": 1669028713986,
     "user": {
      "displayName": "",
      "userId": ""
     },
     "user_tz": -540
    },
    "id": "3DDAQ0H43NmO",
    "outputId": "f639e2af-a324-4acd-a5fb-afdf711beab0"
   },
   "outputs": [
    {
     "data": {
      "text/plain": [
       "tensor([[[[0.9997, 1.0000, 1.0000,  ..., 1.0000, 1.0000, 0.9999],\n",
       "          [1.0000, 1.0000, 1.0000,  ..., 1.0000, 1.0000, 1.0000],\n",
       "          [1.0000, 1.0000, 1.0000,  ..., 1.0000, 1.0000, 1.0000],\n",
       "          ...,\n",
       "          [1.0000, 1.0000, 1.0000,  ..., 1.0000, 1.0000, 1.0000],\n",
       "          [1.0000, 1.0000, 1.0000,  ..., 1.0000, 1.0000, 1.0000],\n",
       "          [0.9996, 1.0000, 1.0000,  ..., 1.0000, 1.0000, 0.9998]]]],\n",
       "       device='cuda:0')"
      ]
     },
     "execution_count": 106,
     "metadata": {},
     "output_type": "execute_result"
    }
   ],
   "source": [
    "\"instance"
   ]
  },
  {
   "cell_type": "code",
   "execution_count": 95,
   "id": "wpe3BpvAt21a",
   "metadata": {
    "colab": {
     "base_uri": "https://localhost:8080/",
     "height": 1000
    },
    "executionInfo": {
     "elapsed": 24199,
     "status": "ok",
     "timestamp": 1669028281379,
     "user": {
      "displayName": "",
      "userId": ""
     },
     "user_tz": -540
    },
    "id": "wpe3BpvAt21a",
    "outputId": "3c51bc26-a37b-4baa-8537-7c36bb88cf5d"
   },
   "outputs": [
    {
     "name": "stdout",
     "output_type": "stream",
     "text": [
      "0.130824476480484\n"
     ]
    },
    {
     "data": {
      "text/plain": [
       "<Figure size 432x288 with 0 Axes>"
      ]
     },
     "metadata": {},
     "output_type": "display_data"
    },
    {
     "data": {
      "text/plain": [
       "<Figure size 432x288 with 0 Axes>"
      ]
     },
     "metadata": {},
     "output_type": "display_data"
    },
    {
     "data": {
      "text/plain": [
       "<Figure size 432x288 with 0 Axes>"
      ]
     },
     "metadata": {},
     "output_type": "display_data"
    },
    {
     "data": {
      "text/plain": [
       "<Figure size 432x288 with 0 Axes>"
      ]
     },
     "metadata": {},
     "output_type": "display_data"
    },
    {
     "data": {
      "text/plain": [
       "<Figure size 432x288 with 0 Axes>"
      ]
     },
     "metadata": {},
     "output_type": "display_data"
    },
    {
     "data": {
      "text/plain": [
       "<Figure size 432x288 with 0 Axes>"
      ]
     },
     "metadata": {},
     "output_type": "display_data"
    },
    {
     "data": {
      "text/plain": [
       "<Figure size 432x288 with 0 Axes>"
      ]
     },
     "metadata": {},
     "output_type": "display_data"
    },
    {
     "data": {
      "text/plain": [
       "<Figure size 432x288 with 0 Axes>"
      ]
     },
     "metadata": {},
     "output_type": "display_data"
    },
    {
     "data": {
      "text/plain": [
       "<Figure size 432x288 with 0 Axes>"
      ]
     },
     "metadata": {},
     "output_type": "display_data"
    },
    {
     "data": {
      "text/plain": [
       "<Figure size 432x288 with 0 Axes>"
      ]
     },
     "metadata": {},
     "output_type": "display_data"
    },
    {
     "data": {
      "text/plain": [
       "<Figure size 432x288 with 0 Axes>"
      ]
     },
     "metadata": {},
     "output_type": "display_data"
    },
    {
     "data": {
      "text/plain": [
       "<Figure size 432x288 with 0 Axes>"
      ]
     },
     "metadata": {},
     "output_type": "display_data"
    },
    {
     "data": {
      "text/plain": [
       "<Figure size 432x288 with 0 Axes>"
      ]
     },
     "metadata": {},
     "output_type": "display_data"
    },
    {
     "data": {
      "text/plain": [
       "<Figure size 432x288 with 0 Axes>"
      ]
     },
     "metadata": {},
     "output_type": "display_data"
    },
    {
     "data": {
      "text/plain": [
       "<Figure size 432x288 with 0 Axes>"
      ]
     },
     "metadata": {},
     "output_type": "display_data"
    },
    {
     "data": {
      "text/plain": [
       "<Figure size 432x288 with 0 Axes>"
      ]
     },
     "metadata": {},
     "output_type": "display_data"
    },
    {
     "data": {
      "text/plain": [
       "<Figure size 432x288 with 0 Axes>"
      ]
     },
     "metadata": {},
     "output_type": "display_data"
    },
    {
     "data": {
      "text/plain": [
       "<Figure size 432x288 with 0 Axes>"
      ]
     },
     "metadata": {},
     "output_type": "display_data"
    },
    {
     "data": {
      "text/plain": [
       "<Figure size 432x288 with 0 Axes>"
      ]
     },
     "metadata": {},
     "output_type": "display_data"
    },
    {
     "data": {
      "text/plain": [
       "<Figure size 432x288 with 0 Axes>"
      ]
     },
     "metadata": {},
     "output_type": "display_data"
    },
    {
     "data": {
      "text/plain": [
       "<Figure size 432x288 with 0 Axes>"
      ]
     },
     "metadata": {},
     "output_type": "display_data"
    },
    {
     "data": {
      "text/plain": [
       "<Figure size 432x288 with 0 Axes>"
      ]
     },
     "metadata": {},
     "output_type": "display_data"
    },
    {
     "data": {
      "text/plain": [
       "<Figure size 432x288 with 0 Axes>"
      ]
     },
     "metadata": {},
     "output_type": "display_data"
    },
    {
     "data": {
      "text/plain": [
       "<Figure size 432x288 with 0 Axes>"
      ]
     },
     "metadata": {},
     "output_type": "display_data"
    },
    {
     "data": {
      "text/plain": [
       "<Figure size 432x288 with 0 Axes>"
      ]
     },
     "metadata": {},
     "output_type": "display_data"
    },
    {
     "data": {
      "text/plain": [
       "<Figure size 432x288 with 0 Axes>"
      ]
     },
     "metadata": {},
     "output_type": "display_data"
    },
    {
     "data": {
      "text/plain": [
       "<Figure size 432x288 with 0 Axes>"
      ]
     },
     "metadata": {},
     "output_type": "display_data"
    },
    {
     "data": {
      "text/plain": [
       "<Figure size 432x288 with 0 Axes>"
      ]
     },
     "metadata": {},
     "output_type": "display_data"
    },
    {
     "data": {
      "text/plain": [
       "<Figure size 432x288 with 0 Axes>"
      ]
     },
     "metadata": {},
     "output_type": "display_data"
    },
    {
     "data": {
      "text/plain": [
       "<Figure size 432x288 with 0 Axes>"
      ]
     },
     "metadata": {},
     "output_type": "display_data"
    },
    {
     "data": {
      "text/plain": [
       "<Figure size 432x288 with 0 Axes>"
      ]
     },
     "metadata": {},
     "output_type": "display_data"
    },
    {
     "data": {
      "text/plain": [
       "<Figure size 432x288 with 0 Axes>"
      ]
     },
     "metadata": {},
     "output_type": "display_data"
    },
    {
     "data": {
      "text/plain": [
       "<Figure size 432x288 with 0 Axes>"
      ]
     },
     "metadata": {},
     "output_type": "display_data"
    },
    {
     "data": {
      "text/plain": [
       "<Figure size 432x288 with 0 Axes>"
      ]
     },
     "metadata": {},
     "output_type": "display_data"
    },
    {
     "data": {
      "text/plain": [
       "<Figure size 432x288 with 0 Axes>"
      ]
     },
     "metadata": {},
     "output_type": "display_data"
    },
    {
     "data": {
      "text/plain": [
       "<Figure size 432x288 with 0 Axes>"
      ]
     },
     "metadata": {},
     "output_type": "display_data"
    },
    {
     "data": {
      "text/plain": [
       "<Figure size 432x288 with 0 Axes>"
      ]
     },
     "metadata": {},
     "output_type": "display_data"
    },
    {
     "data": {
      "text/plain": [
       "<Figure size 432x288 with 0 Axes>"
      ]
     },
     "metadata": {},
     "output_type": "display_data"
    },
    {
     "data": {
      "text/plain": [
       "<Figure size 432x288 with 0 Axes>"
      ]
     },
     "metadata": {},
     "output_type": "display_data"
    },
    {
     "data": {
      "text/plain": [
       "<Figure size 432x288 with 0 Axes>"
      ]
     },
     "metadata": {},
     "output_type": "display_data"
    },
    {
     "data": {
      "text/plain": [
       "<Figure size 432x288 with 0 Axes>"
      ]
     },
     "metadata": {},
     "output_type": "display_data"
    },
    {
     "data": {
      "text/plain": [
       "<Figure size 432x288 with 0 Axes>"
      ]
     },
     "metadata": {},
     "output_type": "display_data"
    },
    {
     "data": {
      "text/plain": [
       "<Figure size 432x288 with 0 Axes>"
      ]
     },
     "metadata": {},
     "output_type": "display_data"
    },
    {
     "data": {
      "text/plain": [
       "<Figure size 432x288 with 0 Axes>"
      ]
     },
     "metadata": {},
     "output_type": "display_data"
    },
    {
     "data": {
      "text/plain": [
       "<Figure size 432x288 with 0 Axes>"
      ]
     },
     "metadata": {},
     "output_type": "display_data"
    },
    {
     "data": {
      "text/plain": [
       "<Figure size 432x288 with 0 Axes>"
      ]
     },
     "metadata": {},
     "output_type": "display_data"
    },
    {
     "data": {
      "text/plain": [
       "<Figure size 432x288 with 0 Axes>"
      ]
     },
     "metadata": {},
     "output_type": "display_data"
    },
    {
     "data": {
      "text/plain": [
       "<Figure size 432x288 with 0 Axes>"
      ]
     },
     "metadata": {},
     "output_type": "display_data"
    },
    {
     "data": {
      "text/plain": [
       "<Figure size 432x288 with 0 Axes>"
      ]
     },
     "metadata": {},
     "output_type": "display_data"
    },
    {
     "data": {
      "text/plain": [
       "<Figure size 432x288 with 0 Axes>"
      ]
     },
     "metadata": {},
     "output_type": "display_data"
    },
    {
     "data": {
      "text/plain": [
       "<Figure size 432x288 with 0 Axes>"
      ]
     },
     "metadata": {},
     "output_type": "display_data"
    },
    {
     "data": {
      "text/plain": [
       "<Figure size 432x288 with 0 Axes>"
      ]
     },
     "metadata": {},
     "output_type": "display_data"
    },
    {
     "data": {
      "text/plain": [
       "<Figure size 432x288 with 0 Axes>"
      ]
     },
     "metadata": {},
     "output_type": "display_data"
    },
    {
     "data": {
      "text/plain": [
       "<Figure size 432x288 with 0 Axes>"
      ]
     },
     "metadata": {},
     "output_type": "display_data"
    },
    {
     "data": {
      "text/plain": [
       "<Figure size 432x288 with 0 Axes>"
      ]
     },
     "metadata": {},
     "output_type": "display_data"
    },
    {
     "data": {
      "text/plain": [
       "<Figure size 432x288 with 0 Axes>"
      ]
     },
     "metadata": {},
     "output_type": "display_data"
    },
    {
     "data": {
      "text/plain": [
       "<Figure size 432x288 with 0 Axes>"
      ]
     },
     "metadata": {},
     "output_type": "display_data"
    },
    {
     "data": {
      "text/plain": [
       "<Figure size 432x288 with 0 Axes>"
      ]
     },
     "metadata": {},
     "output_type": "display_data"
    },
    {
     "data": {
      "text/plain": [
       "<Figure size 432x288 with 0 Axes>"
      ]
     },
     "metadata": {},
     "output_type": "display_data"
    },
    {
     "data": {
      "text/plain": [
       "<Figure size 432x288 with 0 Axes>"
      ]
     },
     "metadata": {},
     "output_type": "display_data"
    },
    {
     "data": {
      "text/plain": [
       "<Figure size 432x288 with 0 Axes>"
      ]
     },
     "metadata": {},
     "output_type": "display_data"
    },
    {
     "data": {
      "text/plain": [
       "<Figure size 432x288 with 0 Axes>"
      ]
     },
     "metadata": {},
     "output_type": "display_data"
    },
    {
     "data": {
      "text/plain": [
       "<Figure size 432x288 with 0 Axes>"
      ]
     },
     "metadata": {},
     "output_type": "display_data"
    },
    {
     "data": {
      "text/plain": [
       "<Figure size 432x288 with 0 Axes>"
      ]
     },
     "metadata": {},
     "output_type": "display_data"
    },
    {
     "data": {
      "text/plain": [
       "<Figure size 432x288 with 0 Axes>"
      ]
     },
     "metadata": {},
     "output_type": "display_data"
    },
    {
     "data": {
      "text/plain": [
       "<Figure size 432x288 with 0 Axes>"
      ]
     },
     "metadata": {},
     "output_type": "display_data"
    },
    {
     "data": {
      "text/plain": [
       "<Figure size 432x288 with 0 Axes>"
      ]
     },
     "metadata": {},
     "output_type": "display_data"
    },
    {
     "data": {
      "text/plain": [
       "<Figure size 432x288 with 0 Axes>"
      ]
     },
     "metadata": {},
     "output_type": "display_data"
    },
    {
     "data": {
      "text/plain": [
       "<Figure size 432x288 with 0 Axes>"
      ]
     },
     "metadata": {},
     "output_type": "display_data"
    },
    {
     "data": {
      "text/plain": [
       "<Figure size 432x288 with 0 Axes>"
      ]
     },
     "metadata": {},
     "output_type": "display_data"
    },
    {
     "data": {
      "text/plain": [
       "<Figure size 432x288 with 0 Axes>"
      ]
     },
     "metadata": {},
     "output_type": "display_data"
    },
    {
     "data": {
      "text/plain": [
       "<Figure size 432x288 with 0 Axes>"
      ]
     },
     "metadata": {},
     "output_type": "display_data"
    },
    {
     "data": {
      "text/plain": [
       "<Figure size 432x288 with 0 Axes>"
      ]
     },
     "metadata": {},
     "output_type": "display_data"
    },
    {
     "data": {
      "text/plain": [
       "<Figure size 432x288 with 0 Axes>"
      ]
     },
     "metadata": {},
     "output_type": "display_data"
    },
    {
     "data": {
      "text/plain": [
       "<Figure size 432x288 with 0 Axes>"
      ]
     },
     "metadata": {},
     "output_type": "display_data"
    },
    {
     "data": {
      "text/plain": [
       "<Figure size 432x288 with 0 Axes>"
      ]
     },
     "metadata": {},
     "output_type": "display_data"
    },
    {
     "data": {
      "text/plain": [
       "<Figure size 432x288 with 0 Axes>"
      ]
     },
     "metadata": {},
     "output_type": "display_data"
    },
    {
     "data": {
      "text/plain": [
       "<Figure size 432x288 with 0 Axes>"
      ]
     },
     "metadata": {},
     "output_type": "display_data"
    },
    {
     "data": {
      "text/plain": [
       "<Figure size 432x288 with 0 Axes>"
      ]
     },
     "metadata": {},
     "output_type": "display_data"
    },
    {
     "data": {
      "text/plain": [
       "<Figure size 432x288 with 0 Axes>"
      ]
     },
     "metadata": {},
     "output_type": "display_data"
    },
    {
     "data": {
      "text/plain": [
       "<Figure size 432x288 with 0 Axes>"
      ]
     },
     "metadata": {},
     "output_type": "display_data"
    },
    {
     "data": {
      "text/plain": [
       "<Figure size 432x288 with 0 Axes>"
      ]
     },
     "metadata": {},
     "output_type": "display_data"
    },
    {
     "data": {
      "text/plain": [
       "<Figure size 432x288 with 0 Axes>"
      ]
     },
     "metadata": {},
     "output_type": "display_data"
    },
    {
     "data": {
      "text/plain": [
       "<Figure size 432x288 with 0 Axes>"
      ]
     },
     "metadata": {},
     "output_type": "display_data"
    },
    {
     "data": {
      "text/plain": [
       "<Figure size 432x288 with 0 Axes>"
      ]
     },
     "metadata": {},
     "output_type": "display_data"
    },
    {
     "data": {
      "text/plain": [
       "<Figure size 432x288 with 0 Axes>"
      ]
     },
     "metadata": {},
     "output_type": "display_data"
    },
    {
     "data": {
      "text/plain": [
       "<Figure size 432x288 with 0 Axes>"
      ]
     },
     "metadata": {},
     "output_type": "display_data"
    },
    {
     "data": {
      "text/plain": [
       "<Figure size 432x288 with 0 Axes>"
      ]
     },
     "metadata": {},
     "output_type": "display_data"
    },
    {
     "data": {
      "text/plain": [
       "<Figure size 432x288 with 0 Axes>"
      ]
     },
     "metadata": {},
     "output_type": "display_data"
    },
    {
     "data": {
      "text/plain": [
       "<Figure size 432x288 with 0 Axes>"
      ]
     },
     "metadata": {},
     "output_type": "display_data"
    },
    {
     "data": {
      "text/plain": [
       "<Figure size 432x288 with 0 Axes>"
      ]
     },
     "metadata": {},
     "output_type": "display_data"
    },
    {
     "data": {
      "text/plain": [
       "<Figure size 432x288 with 0 Axes>"
      ]
     },
     "metadata": {},
     "output_type": "display_data"
    },
    {
     "data": {
      "text/plain": [
       "<Figure size 432x288 with 0 Axes>"
      ]
     },
     "metadata": {},
     "output_type": "display_data"
    },
    {
     "data": {
      "text/plain": [
       "<Figure size 432x288 with 0 Axes>"
      ]
     },
     "metadata": {},
     "output_type": "display_data"
    },
    {
     "data": {
      "text/plain": [
       "<Figure size 432x288 with 0 Axes>"
      ]
     },
     "metadata": {},
     "output_type": "display_data"
    },
    {
     "data": {
      "text/plain": [
       "<Figure size 432x288 with 0 Axes>"
      ]
     },
     "metadata": {},
     "output_type": "display_data"
    },
    {
     "data": {
      "text/plain": [
       "<Figure size 432x288 with 0 Axes>"
      ]
     },
     "metadata": {},
     "output_type": "display_data"
    },
    {
     "data": {
      "text/plain": [
       "<Figure size 432x288 with 0 Axes>"
      ]
     },
     "metadata": {},
     "output_type": "display_data"
    },
    {
     "data": {
      "text/plain": [
       "<Figure size 432x288 with 0 Axes>"
      ]
     },
     "metadata": {},
     "output_type": "display_data"
    },
    {
     "data": {
      "text/plain": [
       "<Figure size 432x288 with 0 Axes>"
      ]
     },
     "metadata": {},
     "output_type": "display_data"
    },
    {
     "name": "stdout",
     "output_type": "stream",
     "text": [
      "0.130824476480484\n"
     ]
    },
    {
     "data": {
      "text/plain": [
       "<Figure size 432x288 with 0 Axes>"
      ]
     },
     "metadata": {},
     "output_type": "display_data"
    },
    {
     "data": {
      "text/plain": [
       "<Figure size 432x288 with 0 Axes>"
      ]
     },
     "metadata": {},
     "output_type": "display_data"
    },
    {
     "data": {
      "text/plain": [
       "<Figure size 432x288 with 0 Axes>"
      ]
     },
     "metadata": {},
     "output_type": "display_data"
    },
    {
     "data": {
      "text/plain": [
       "<Figure size 432x288 with 0 Axes>"
      ]
     },
     "metadata": {},
     "output_type": "display_data"
    },
    {
     "data": {
      "text/plain": [
       "<Figure size 432x288 with 0 Axes>"
      ]
     },
     "metadata": {},
     "output_type": "display_data"
    },
    {
     "data": {
      "text/plain": [
       "<Figure size 432x288 with 0 Axes>"
      ]
     },
     "metadata": {},
     "output_type": "display_data"
    },
    {
     "data": {
      "text/plain": [
       "<Figure size 432x288 with 0 Axes>"
      ]
     },
     "metadata": {},
     "output_type": "display_data"
    },
    {
     "data": {
      "text/plain": [
       "<Figure size 432x288 with 0 Axes>"
      ]
     },
     "metadata": {},
     "output_type": "display_data"
    },
    {
     "data": {
      "text/plain": [
       "<Figure size 432x288 with 0 Axes>"
      ]
     },
     "metadata": {},
     "output_type": "display_data"
    },
    {
     "data": {
      "text/plain": [
       "<Figure size 432x288 with 0 Axes>"
      ]
     },
     "metadata": {},
     "output_type": "display_data"
    },
    {
     "data": {
      "text/plain": [
       "<Figure size 432x288 with 0 Axes>"
      ]
     },
     "metadata": {},
     "output_type": "display_data"
    },
    {
     "data": {
      "text/plain": [
       "<Figure size 432x288 with 0 Axes>"
      ]
     },
     "metadata": {},
     "output_type": "display_data"
    },
    {
     "data": {
      "text/plain": [
       "<Figure size 432x288 with 0 Axes>"
      ]
     },
     "metadata": {},
     "output_type": "display_data"
    },
    {
     "data": {
      "text/plain": [
       "<Figure size 432x288 with 0 Axes>"
      ]
     },
     "metadata": {},
     "output_type": "display_data"
    },
    {
     "data": {
      "text/plain": [
       "<Figure size 432x288 with 0 Axes>"
      ]
     },
     "metadata": {},
     "output_type": "display_data"
    },
    {
     "data": {
      "text/plain": [
       "<Figure size 432x288 with 0 Axes>"
      ]
     },
     "metadata": {},
     "output_type": "display_data"
    },
    {
     "data": {
      "text/plain": [
       "<Figure size 432x288 with 0 Axes>"
      ]
     },
     "metadata": {},
     "output_type": "display_data"
    },
    {
     "data": {
      "text/plain": [
       "<Figure size 432x288 with 0 Axes>"
      ]
     },
     "metadata": {},
     "output_type": "display_data"
    },
    {
     "data": {
      "text/plain": [
       "<Figure size 432x288 with 0 Axes>"
      ]
     },
     "metadata": {},
     "output_type": "display_data"
    },
    {
     "data": {
      "text/plain": [
       "<Figure size 432x288 with 0 Axes>"
      ]
     },
     "metadata": {},
     "output_type": "display_data"
    },
    {
     "data": {
      "text/plain": [
       "<Figure size 432x288 with 0 Axes>"
      ]
     },
     "metadata": {},
     "output_type": "display_data"
    },
    {
     "data": {
      "text/plain": [
       "<Figure size 432x288 with 0 Axes>"
      ]
     },
     "metadata": {},
     "output_type": "display_data"
    },
    {
     "data": {
      "text/plain": [
       "<Figure size 432x288 with 0 Axes>"
      ]
     },
     "metadata": {},
     "output_type": "display_data"
    },
    {
     "data": {
      "text/plain": [
       "<Figure size 432x288 with 0 Axes>"
      ]
     },
     "metadata": {},
     "output_type": "display_data"
    },
    {
     "data": {
      "text/plain": [
       "<Figure size 432x288 with 0 Axes>"
      ]
     },
     "metadata": {},
     "output_type": "display_data"
    },
    {
     "data": {
      "text/plain": [
       "<Figure size 432x288 with 0 Axes>"
      ]
     },
     "metadata": {},
     "output_type": "display_data"
    },
    {
     "data": {
      "text/plain": [
       "<Figure size 432x288 with 0 Axes>"
      ]
     },
     "metadata": {},
     "output_type": "display_data"
    },
    {
     "data": {
      "text/plain": [
       "<Figure size 432x288 with 0 Axes>"
      ]
     },
     "metadata": {},
     "output_type": "display_data"
    },
    {
     "data": {
      "text/plain": [
       "<Figure size 432x288 with 0 Axes>"
      ]
     },
     "metadata": {},
     "output_type": "display_data"
    },
    {
     "data": {
      "text/plain": [
       "<Figure size 432x288 with 0 Axes>"
      ]
     },
     "metadata": {},
     "output_type": "display_data"
    },
    {
     "data": {
      "text/plain": [
       "<Figure size 432x288 with 0 Axes>"
      ]
     },
     "metadata": {},
     "output_type": "display_data"
    },
    {
     "data": {
      "text/plain": [
       "<Figure size 432x288 with 0 Axes>"
      ]
     },
     "metadata": {},
     "output_type": "display_data"
    },
    {
     "data": {
      "text/plain": [
       "<Figure size 432x288 with 0 Axes>"
      ]
     },
     "metadata": {},
     "output_type": "display_data"
    },
    {
     "data": {
      "text/plain": [
       "<Figure size 432x288 with 0 Axes>"
      ]
     },
     "metadata": {},
     "output_type": "display_data"
    },
    {
     "data": {
      "text/plain": [
       "<Figure size 432x288 with 0 Axes>"
      ]
     },
     "metadata": {},
     "output_type": "display_data"
    },
    {
     "data": {
      "text/plain": [
       "<Figure size 432x288 with 0 Axes>"
      ]
     },
     "metadata": {},
     "output_type": "display_data"
    },
    {
     "data": {
      "text/plain": [
       "<Figure size 432x288 with 0 Axes>"
      ]
     },
     "metadata": {},
     "output_type": "display_data"
    },
    {
     "data": {
      "text/plain": [
       "<Figure size 432x288 with 0 Axes>"
      ]
     },
     "metadata": {},
     "output_type": "display_data"
    },
    {
     "data": {
      "text/plain": [
       "<Figure size 432x288 with 0 Axes>"
      ]
     },
     "metadata": {},
     "output_type": "display_data"
    },
    {
     "data": {
      "text/plain": [
       "<Figure size 432x288 with 0 Axes>"
      ]
     },
     "metadata": {},
     "output_type": "display_data"
    },
    {
     "data": {
      "text/plain": [
       "<Figure size 432x288 with 0 Axes>"
      ]
     },
     "metadata": {},
     "output_type": "display_data"
    },
    {
     "data": {
      "text/plain": [
       "<Figure size 432x288 with 0 Axes>"
      ]
     },
     "metadata": {},
     "output_type": "display_data"
    },
    {
     "data": {
      "text/plain": [
       "<Figure size 432x288 with 0 Axes>"
      ]
     },
     "metadata": {},
     "output_type": "display_data"
    },
    {
     "data": {
      "text/plain": [
       "<Figure size 432x288 with 0 Axes>"
      ]
     },
     "metadata": {},
     "output_type": "display_data"
    },
    {
     "data": {
      "text/plain": [
       "<Figure size 432x288 with 0 Axes>"
      ]
     },
     "metadata": {},
     "output_type": "display_data"
    },
    {
     "data": {
      "text/plain": [
       "<Figure size 432x288 with 0 Axes>"
      ]
     },
     "metadata": {},
     "output_type": "display_data"
    },
    {
     "data": {
      "text/plain": [
       "<Figure size 432x288 with 0 Axes>"
      ]
     },
     "metadata": {},
     "output_type": "display_data"
    },
    {
     "data": {
      "text/plain": [
       "<Figure size 432x288 with 0 Axes>"
      ]
     },
     "metadata": {},
     "output_type": "display_data"
    },
    {
     "data": {
      "text/plain": [
       "<Figure size 432x288 with 0 Axes>"
      ]
     },
     "metadata": {},
     "output_type": "display_data"
    },
    {
     "data": {
      "text/plain": [
       "<Figure size 432x288 with 0 Axes>"
      ]
     },
     "metadata": {},
     "output_type": "display_data"
    },
    {
     "data": {
      "text/plain": [
       "<Figure size 432x288 with 0 Axes>"
      ]
     },
     "metadata": {},
     "output_type": "display_data"
    },
    {
     "data": {
      "text/plain": [
       "<Figure size 432x288 with 0 Axes>"
      ]
     },
     "metadata": {},
     "output_type": "display_data"
    },
    {
     "data": {
      "text/plain": [
       "<Figure size 432x288 with 0 Axes>"
      ]
     },
     "metadata": {},
     "output_type": "display_data"
    },
    {
     "data": {
      "text/plain": [
       "<Figure size 432x288 with 0 Axes>"
      ]
     },
     "metadata": {},
     "output_type": "display_data"
    },
    {
     "data": {
      "text/plain": [
       "<Figure size 432x288 with 0 Axes>"
      ]
     },
     "metadata": {},
     "output_type": "display_data"
    },
    {
     "data": {
      "text/plain": [
       "<Figure size 432x288 with 0 Axes>"
      ]
     },
     "metadata": {},
     "output_type": "display_data"
    },
    {
     "data": {
      "text/plain": [
       "<Figure size 432x288 with 0 Axes>"
      ]
     },
     "metadata": {},
     "output_type": "display_data"
    },
    {
     "data": {
      "text/plain": [
       "<Figure size 432x288 with 0 Axes>"
      ]
     },
     "metadata": {},
     "output_type": "display_data"
    },
    {
     "data": {
      "text/plain": [
       "<Figure size 432x288 with 0 Axes>"
      ]
     },
     "metadata": {},
     "output_type": "display_data"
    },
    {
     "data": {
      "text/plain": [
       "<Figure size 432x288 with 0 Axes>"
      ]
     },
     "metadata": {},
     "output_type": "display_data"
    },
    {
     "data": {
      "text/plain": [
       "<Figure size 432x288 with 0 Axes>"
      ]
     },
     "metadata": {},
     "output_type": "display_data"
    },
    {
     "data": {
      "text/plain": [
       "<Figure size 432x288 with 0 Axes>"
      ]
     },
     "metadata": {},
     "output_type": "display_data"
    },
    {
     "data": {
      "text/plain": [
       "<Figure size 432x288 with 0 Axes>"
      ]
     },
     "metadata": {},
     "output_type": "display_data"
    },
    {
     "data": {
      "text/plain": [
       "<Figure size 432x288 with 0 Axes>"
      ]
     },
     "metadata": {},
     "output_type": "display_data"
    },
    {
     "data": {
      "text/plain": [
       "<Figure size 432x288 with 0 Axes>"
      ]
     },
     "metadata": {},
     "output_type": "display_data"
    },
    {
     "data": {
      "text/plain": [
       "<Figure size 432x288 with 0 Axes>"
      ]
     },
     "metadata": {},
     "output_type": "display_data"
    },
    {
     "data": {
      "text/plain": [
       "<Figure size 432x288 with 0 Axes>"
      ]
     },
     "metadata": {},
     "output_type": "display_data"
    },
    {
     "data": {
      "text/plain": [
       "<Figure size 432x288 with 0 Axes>"
      ]
     },
     "metadata": {},
     "output_type": "display_data"
    },
    {
     "data": {
      "text/plain": [
       "<Figure size 432x288 with 0 Axes>"
      ]
     },
     "metadata": {},
     "output_type": "display_data"
    },
    {
     "data": {
      "text/plain": [
       "<Figure size 432x288 with 0 Axes>"
      ]
     },
     "metadata": {},
     "output_type": "display_data"
    },
    {
     "data": {
      "text/plain": [
       "<Figure size 432x288 with 0 Axes>"
      ]
     },
     "metadata": {},
     "output_type": "display_data"
    },
    {
     "data": {
      "text/plain": [
       "<Figure size 432x288 with 0 Axes>"
      ]
     },
     "metadata": {},
     "output_type": "display_data"
    },
    {
     "data": {
      "text/plain": [
       "<Figure size 432x288 with 0 Axes>"
      ]
     },
     "metadata": {},
     "output_type": "display_data"
    },
    {
     "data": {
      "text/plain": [
       "<Figure size 432x288 with 0 Axes>"
      ]
     },
     "metadata": {},
     "output_type": "display_data"
    },
    {
     "data": {
      "text/plain": [
       "<Figure size 432x288 with 0 Axes>"
      ]
     },
     "metadata": {},
     "output_type": "display_data"
    },
    {
     "data": {
      "text/plain": [
       "<Figure size 432x288 with 0 Axes>"
      ]
     },
     "metadata": {},
     "output_type": "display_data"
    },
    {
     "data": {
      "text/plain": [
       "<Figure size 432x288 with 0 Axes>"
      ]
     },
     "metadata": {},
     "output_type": "display_data"
    },
    {
     "data": {
      "text/plain": [
       "<Figure size 432x288 with 0 Axes>"
      ]
     },
     "metadata": {},
     "output_type": "display_data"
    },
    {
     "data": {
      "text/plain": [
       "<Figure size 432x288 with 0 Axes>"
      ]
     },
     "metadata": {},
     "output_type": "display_data"
    },
    {
     "data": {
      "text/plain": [
       "<Figure size 432x288 with 0 Axes>"
      ]
     },
     "metadata": {},
     "output_type": "display_data"
    },
    {
     "data": {
      "text/plain": [
       "<Figure size 432x288 with 0 Axes>"
      ]
     },
     "metadata": {},
     "output_type": "display_data"
    },
    {
     "data": {
      "text/plain": [
       "<Figure size 432x288 with 0 Axes>"
      ]
     },
     "metadata": {},
     "output_type": "display_data"
    },
    {
     "data": {
      "text/plain": [
       "<Figure size 432x288 with 0 Axes>"
      ]
     },
     "metadata": {},
     "output_type": "display_data"
    },
    {
     "data": {
      "text/plain": [
       "<Figure size 432x288 with 0 Axes>"
      ]
     },
     "metadata": {},
     "output_type": "display_data"
    },
    {
     "data": {
      "text/plain": [
       "<Figure size 432x288 with 0 Axes>"
      ]
     },
     "metadata": {},
     "output_type": "display_data"
    },
    {
     "data": {
      "text/plain": [
       "<Figure size 432x288 with 0 Axes>"
      ]
     },
     "metadata": {},
     "output_type": "display_data"
    },
    {
     "data": {
      "text/plain": [
       "<Figure size 432x288 with 0 Axes>"
      ]
     },
     "metadata": {},
     "output_type": "display_data"
    },
    {
     "data": {
      "text/plain": [
       "<Figure size 432x288 with 0 Axes>"
      ]
     },
     "metadata": {},
     "output_type": "display_data"
    },
    {
     "data": {
      "text/plain": [
       "<Figure size 432x288 with 0 Axes>"
      ]
     },
     "metadata": {},
     "output_type": "display_data"
    },
    {
     "data": {
      "text/plain": [
       "<Figure size 432x288 with 0 Axes>"
      ]
     },
     "metadata": {},
     "output_type": "display_data"
    },
    {
     "data": {
      "text/plain": [
       "<Figure size 432x288 with 0 Axes>"
      ]
     },
     "metadata": {},
     "output_type": "display_data"
    },
    {
     "data": {
      "text/plain": [
       "<Figure size 432x288 with 0 Axes>"
      ]
     },
     "metadata": {},
     "output_type": "display_data"
    },
    {
     "data": {
      "text/plain": [
       "<Figure size 432x288 with 0 Axes>"
      ]
     },
     "metadata": {},
     "output_type": "display_data"
    },
    {
     "data": {
      "text/plain": [
       "<Figure size 432x288 with 0 Axes>"
      ]
     },
     "metadata": {},
     "output_type": "display_data"
    },
    {
     "data": {
      "text/plain": [
       "<Figure size 432x288 with 0 Axes>"
      ]
     },
     "metadata": {},
     "output_type": "display_data"
    },
    {
     "data": {
      "text/plain": [
       "<Figure size 432x288 with 0 Axes>"
      ]
     },
     "metadata": {},
     "output_type": "display_data"
    },
    {
     "data": {
      "text/plain": [
       "<Figure size 432x288 with 0 Axes>"
      ]
     },
     "metadata": {},
     "output_type": "display_data"
    },
    {
     "data": {
      "text/plain": [
       "<Figure size 432x288 with 0 Axes>"
      ]
     },
     "metadata": {},
     "output_type": "display_data"
    },
    {
     "data": {
      "text/plain": [
       "<Figure size 432x288 with 0 Axes>"
      ]
     },
     "metadata": {},
     "output_type": "display_data"
    },
    {
     "data": {
      "text/plain": [
       "<Figure size 432x288 with 0 Axes>"
      ]
     },
     "metadata": {},
     "output_type": "display_data"
    },
    {
     "name": "stdout",
     "output_type": "stream",
     "text": [
      "0.130824476480484\n"
     ]
    },
    {
     "data": {
      "text/plain": [
       "<Figure size 432x288 with 0 Axes>"
      ]
     },
     "metadata": {},
     "output_type": "display_data"
    },
    {
     "data": {
      "text/plain": [
       "<Figure size 432x288 with 0 Axes>"
      ]
     },
     "metadata": {},
     "output_type": "display_data"
    },
    {
     "data": {
      "text/plain": [
       "<Figure size 432x288 with 0 Axes>"
      ]
     },
     "metadata": {},
     "output_type": "display_data"
    },
    {
     "data": {
      "text/plain": [
       "<Figure size 432x288 with 0 Axes>"
      ]
     },
     "metadata": {},
     "output_type": "display_data"
    },
    {
     "data": {
      "text/plain": [
       "<Figure size 432x288 with 0 Axes>"
      ]
     },
     "metadata": {},
     "output_type": "display_data"
    },
    {
     "data": {
      "text/plain": [
       "<Figure size 432x288 with 0 Axes>"
      ]
     },
     "metadata": {},
     "output_type": "display_data"
    },
    {
     "data": {
      "text/plain": [
       "<Figure size 432x288 with 0 Axes>"
      ]
     },
     "metadata": {},
     "output_type": "display_data"
    },
    {
     "data": {
      "text/plain": [
       "<Figure size 432x288 with 0 Axes>"
      ]
     },
     "metadata": {},
     "output_type": "display_data"
    },
    {
     "data": {
      "text/plain": [
       "<Figure size 432x288 with 0 Axes>"
      ]
     },
     "metadata": {},
     "output_type": "display_data"
    },
    {
     "data": {
      "text/plain": [
       "<Figure size 432x288 with 0 Axes>"
      ]
     },
     "metadata": {},
     "output_type": "display_data"
    },
    {
     "data": {
      "text/plain": [
       "<Figure size 432x288 with 0 Axes>"
      ]
     },
     "metadata": {},
     "output_type": "display_data"
    },
    {
     "data": {
      "text/plain": [
       "<Figure size 432x288 with 0 Axes>"
      ]
     },
     "metadata": {},
     "output_type": "display_data"
    },
    {
     "data": {
      "text/plain": [
       "<Figure size 432x288 with 0 Axes>"
      ]
     },
     "metadata": {},
     "output_type": "display_data"
    },
    {
     "data": {
      "text/plain": [
       "<Figure size 432x288 with 0 Axes>"
      ]
     },
     "metadata": {},
     "output_type": "display_data"
    },
    {
     "data": {
      "text/plain": [
       "<Figure size 432x288 with 0 Axes>"
      ]
     },
     "metadata": {},
     "output_type": "display_data"
    },
    {
     "data": {
      "text/plain": [
       "<Figure size 432x288 with 0 Axes>"
      ]
     },
     "metadata": {},
     "output_type": "display_data"
    },
    {
     "data": {
      "text/plain": [
       "<Figure size 432x288 with 0 Axes>"
      ]
     },
     "metadata": {},
     "output_type": "display_data"
    },
    {
     "data": {
      "text/plain": [
       "<Figure size 432x288 with 0 Axes>"
      ]
     },
     "metadata": {},
     "output_type": "display_data"
    },
    {
     "data": {
      "text/plain": [
       "<Figure size 432x288 with 0 Axes>"
      ]
     },
     "metadata": {},
     "output_type": "display_data"
    },
    {
     "data": {
      "text/plain": [
       "<Figure size 432x288 with 0 Axes>"
      ]
     },
     "metadata": {},
     "output_type": "display_data"
    },
    {
     "data": {
      "text/plain": [
       "<Figure size 432x288 with 0 Axes>"
      ]
     },
     "metadata": {},
     "output_type": "display_data"
    },
    {
     "data": {
      "text/plain": [
       "<Figure size 432x288 with 0 Axes>"
      ]
     },
     "metadata": {},
     "output_type": "display_data"
    },
    {
     "data": {
      "text/plain": [
       "<Figure size 432x288 with 0 Axes>"
      ]
     },
     "metadata": {},
     "output_type": "display_data"
    },
    {
     "data": {
      "text/plain": [
       "<Figure size 432x288 with 0 Axes>"
      ]
     },
     "metadata": {},
     "output_type": "display_data"
    },
    {
     "data": {
      "text/plain": [
       "<Figure size 432x288 with 0 Axes>"
      ]
     },
     "metadata": {},
     "output_type": "display_data"
    },
    {
     "data": {
      "text/plain": [
       "<Figure size 432x288 with 0 Axes>"
      ]
     },
     "metadata": {},
     "output_type": "display_data"
    },
    {
     "data": {
      "text/plain": [
       "<Figure size 432x288 with 0 Axes>"
      ]
     },
     "metadata": {},
     "output_type": "display_data"
    },
    {
     "data": {
      "text/plain": [
       "<Figure size 432x288 with 0 Axes>"
      ]
     },
     "metadata": {},
     "output_type": "display_data"
    },
    {
     "data": {
      "text/plain": [
       "<Figure size 432x288 with 0 Axes>"
      ]
     },
     "metadata": {},
     "output_type": "display_data"
    },
    {
     "data": {
      "text/plain": [
       "<Figure size 432x288 with 0 Axes>"
      ]
     },
     "metadata": {},
     "output_type": "display_data"
    },
    {
     "data": {
      "text/plain": [
       "<Figure size 432x288 with 0 Axes>"
      ]
     },
     "metadata": {},
     "output_type": "display_data"
    },
    {
     "data": {
      "text/plain": [
       "<Figure size 432x288 with 0 Axes>"
      ]
     },
     "metadata": {},
     "output_type": "display_data"
    },
    {
     "data": {
      "text/plain": [
       "<Figure size 432x288 with 0 Axes>"
      ]
     },
     "metadata": {},
     "output_type": "display_data"
    },
    {
     "data": {
      "text/plain": [
       "<Figure size 432x288 with 0 Axes>"
      ]
     },
     "metadata": {},
     "output_type": "display_data"
    },
    {
     "data": {
      "text/plain": [
       "<Figure size 432x288 with 0 Axes>"
      ]
     },
     "metadata": {},
     "output_type": "display_data"
    },
    {
     "data": {
      "text/plain": [
       "<Figure size 432x288 with 0 Axes>"
      ]
     },
     "metadata": {},
     "output_type": "display_data"
    },
    {
     "data": {
      "text/plain": [
       "<Figure size 432x288 with 0 Axes>"
      ]
     },
     "metadata": {},
     "output_type": "display_data"
    },
    {
     "data": {
      "text/plain": [
       "<Figure size 432x288 with 0 Axes>"
      ]
     },
     "metadata": {},
     "output_type": "display_data"
    },
    {
     "data": {
      "text/plain": [
       "<Figure size 432x288 with 0 Axes>"
      ]
     },
     "metadata": {},
     "output_type": "display_data"
    },
    {
     "data": {
      "text/plain": [
       "<Figure size 432x288 with 0 Axes>"
      ]
     },
     "metadata": {},
     "output_type": "display_data"
    },
    {
     "data": {
      "text/plain": [
       "<Figure size 432x288 with 0 Axes>"
      ]
     },
     "metadata": {},
     "output_type": "display_data"
    },
    {
     "data": {
      "text/plain": [
       "<Figure size 432x288 with 0 Axes>"
      ]
     },
     "metadata": {},
     "output_type": "display_data"
    },
    {
     "data": {
      "text/plain": [
       "<Figure size 432x288 with 0 Axes>"
      ]
     },
     "metadata": {},
     "output_type": "display_data"
    },
    {
     "data": {
      "text/plain": [
       "<Figure size 432x288 with 0 Axes>"
      ]
     },
     "metadata": {},
     "output_type": "display_data"
    },
    {
     "data": {
      "text/plain": [
       "<Figure size 432x288 with 0 Axes>"
      ]
     },
     "metadata": {},
     "output_type": "display_data"
    },
    {
     "data": {
      "text/plain": [
       "<Figure size 432x288 with 0 Axes>"
      ]
     },
     "metadata": {},
     "output_type": "display_data"
    },
    {
     "data": {
      "text/plain": [
       "<Figure size 432x288 with 0 Axes>"
      ]
     },
     "metadata": {},
     "output_type": "display_data"
    },
    {
     "data": {
      "text/plain": [
       "<Figure size 432x288 with 0 Axes>"
      ]
     },
     "metadata": {},
     "output_type": "display_data"
    },
    {
     "data": {
      "text/plain": [
       "<Figure size 432x288 with 0 Axes>"
      ]
     },
     "metadata": {},
     "output_type": "display_data"
    },
    {
     "data": {
      "text/plain": [
       "<Figure size 432x288 with 0 Axes>"
      ]
     },
     "metadata": {},
     "output_type": "display_data"
    },
    {
     "data": {
      "text/plain": [
       "<Figure size 432x288 with 0 Axes>"
      ]
     },
     "metadata": {},
     "output_type": "display_data"
    },
    {
     "data": {
      "text/plain": [
       "<Figure size 432x288 with 0 Axes>"
      ]
     },
     "metadata": {},
     "output_type": "display_data"
    },
    {
     "data": {
      "text/plain": [
       "<Figure size 432x288 with 0 Axes>"
      ]
     },
     "metadata": {},
     "output_type": "display_data"
    },
    {
     "data": {
      "text/plain": [
       "<Figure size 432x288 with 0 Axes>"
      ]
     },
     "metadata": {},
     "output_type": "display_data"
    },
    {
     "data": {
      "text/plain": [
       "<Figure size 432x288 with 0 Axes>"
      ]
     },
     "metadata": {},
     "output_type": "display_data"
    },
    {
     "data": {
      "text/plain": [
       "<Figure size 432x288 with 0 Axes>"
      ]
     },
     "metadata": {},
     "output_type": "display_data"
    },
    {
     "data": {
      "text/plain": [
       "<Figure size 432x288 with 0 Axes>"
      ]
     },
     "metadata": {},
     "output_type": "display_data"
    },
    {
     "data": {
      "text/plain": [
       "<Figure size 432x288 with 0 Axes>"
      ]
     },
     "metadata": {},
     "output_type": "display_data"
    },
    {
     "data": {
      "text/plain": [
       "<Figure size 432x288 with 0 Axes>"
      ]
     },
     "metadata": {},
     "output_type": "display_data"
    },
    {
     "data": {
      "text/plain": [
       "<Figure size 432x288 with 0 Axes>"
      ]
     },
     "metadata": {},
     "output_type": "display_data"
    },
    {
     "data": {
      "text/plain": [
       "<Figure size 432x288 with 0 Axes>"
      ]
     },
     "metadata": {},
     "output_type": "display_data"
    },
    {
     "data": {
      "text/plain": [
       "<Figure size 432x288 with 0 Axes>"
      ]
     },
     "metadata": {},
     "output_type": "display_data"
    },
    {
     "data": {
      "text/plain": [
       "<Figure size 432x288 with 0 Axes>"
      ]
     },
     "metadata": {},
     "output_type": "display_data"
    },
    {
     "data": {
      "text/plain": [
       "<Figure size 432x288 with 0 Axes>"
      ]
     },
     "metadata": {},
     "output_type": "display_data"
    },
    {
     "data": {
      "text/plain": [
       "<Figure size 432x288 with 0 Axes>"
      ]
     },
     "metadata": {},
     "output_type": "display_data"
    },
    {
     "data": {
      "text/plain": [
       "<Figure size 432x288 with 0 Axes>"
      ]
     },
     "metadata": {},
     "output_type": "display_data"
    },
    {
     "data": {
      "text/plain": [
       "<Figure size 432x288 with 0 Axes>"
      ]
     },
     "metadata": {},
     "output_type": "display_data"
    },
    {
     "data": {
      "text/plain": [
       "<Figure size 432x288 with 0 Axes>"
      ]
     },
     "metadata": {},
     "output_type": "display_data"
    },
    {
     "data": {
      "text/plain": [
       "<Figure size 432x288 with 0 Axes>"
      ]
     },
     "metadata": {},
     "output_type": "display_data"
    },
    {
     "data": {
      "text/plain": [
       "<Figure size 432x288 with 0 Axes>"
      ]
     },
     "metadata": {},
     "output_type": "display_data"
    },
    {
     "data": {
      "text/plain": [
       "<Figure size 432x288 with 0 Axes>"
      ]
     },
     "metadata": {},
     "output_type": "display_data"
    },
    {
     "data": {
      "text/plain": [
       "<Figure size 432x288 with 0 Axes>"
      ]
     },
     "metadata": {},
     "output_type": "display_data"
    },
    {
     "data": {
      "text/plain": [
       "<Figure size 432x288 with 0 Axes>"
      ]
     },
     "metadata": {},
     "output_type": "display_data"
    },
    {
     "data": {
      "text/plain": [
       "<Figure size 432x288 with 0 Axes>"
      ]
     },
     "metadata": {},
     "output_type": "display_data"
    },
    {
     "data": {
      "text/plain": [
       "<Figure size 432x288 with 0 Axes>"
      ]
     },
     "metadata": {},
     "output_type": "display_data"
    },
    {
     "data": {
      "text/plain": [
       "<Figure size 432x288 with 0 Axes>"
      ]
     },
     "metadata": {},
     "output_type": "display_data"
    },
    {
     "data": {
      "text/plain": [
       "<Figure size 432x288 with 0 Axes>"
      ]
     },
     "metadata": {},
     "output_type": "display_data"
    },
    {
     "data": {
      "text/plain": [
       "<Figure size 432x288 with 0 Axes>"
      ]
     },
     "metadata": {},
     "output_type": "display_data"
    },
    {
     "data": {
      "text/plain": [
       "<Figure size 432x288 with 0 Axes>"
      ]
     },
     "metadata": {},
     "output_type": "display_data"
    },
    {
     "data": {
      "text/plain": [
       "<Figure size 432x288 with 0 Axes>"
      ]
     },
     "metadata": {},
     "output_type": "display_data"
    },
    {
     "data": {
      "text/plain": [
       "<Figure size 432x288 with 0 Axes>"
      ]
     },
     "metadata": {},
     "output_type": "display_data"
    },
    {
     "data": {
      "text/plain": [
       "<Figure size 432x288 with 0 Axes>"
      ]
     },
     "metadata": {},
     "output_type": "display_data"
    },
    {
     "data": {
      "text/plain": [
       "<Figure size 432x288 with 0 Axes>"
      ]
     },
     "metadata": {},
     "output_type": "display_data"
    },
    {
     "data": {
      "text/plain": [
       "<Figure size 432x288 with 0 Axes>"
      ]
     },
     "metadata": {},
     "output_type": "display_data"
    },
    {
     "data": {
      "text/plain": [
       "<Figure size 432x288 with 0 Axes>"
      ]
     },
     "metadata": {},
     "output_type": "display_data"
    },
    {
     "data": {
      "text/plain": [
       "<Figure size 432x288 with 0 Axes>"
      ]
     },
     "metadata": {},
     "output_type": "display_data"
    },
    {
     "data": {
      "text/plain": [
       "<Figure size 432x288 with 0 Axes>"
      ]
     },
     "metadata": {},
     "output_type": "display_data"
    },
    {
     "data": {
      "text/plain": [
       "<Figure size 432x288 with 0 Axes>"
      ]
     },
     "metadata": {},
     "output_type": "display_data"
    },
    {
     "data": {
      "text/plain": [
       "<Figure size 432x288 with 0 Axes>"
      ]
     },
     "metadata": {},
     "output_type": "display_data"
    },
    {
     "data": {
      "text/plain": [
       "<Figure size 432x288 with 0 Axes>"
      ]
     },
     "metadata": {},
     "output_type": "display_data"
    },
    {
     "data": {
      "text/plain": [
       "<Figure size 432x288 with 0 Axes>"
      ]
     },
     "metadata": {},
     "output_type": "display_data"
    },
    {
     "data": {
      "text/plain": [
       "<Figure size 432x288 with 0 Axes>"
      ]
     },
     "metadata": {},
     "output_type": "display_data"
    },
    {
     "data": {
      "text/plain": [
       "<Figure size 432x288 with 0 Axes>"
      ]
     },
     "metadata": {},
     "output_type": "display_data"
    },
    {
     "data": {
      "text/plain": [
       "<Figure size 432x288 with 0 Axes>"
      ]
     },
     "metadata": {},
     "output_type": "display_data"
    },
    {
     "data": {
      "text/plain": [
       "<Figure size 432x288 with 0 Axes>"
      ]
     },
     "metadata": {},
     "output_type": "display_data"
    },
    {
     "data": {
      "text/plain": [
       "<Figure size 432x288 with 0 Axes>"
      ]
     },
     "metadata": {},
     "output_type": "display_data"
    },
    {
     "data": {
      "text/plain": [
       "<Figure size 432x288 with 0 Axes>"
      ]
     },
     "metadata": {},
     "output_type": "display_data"
    },
    {
     "data": {
      "text/plain": [
       "<Figure size 432x288 with 0 Axes>"
      ]
     },
     "metadata": {},
     "output_type": "display_data"
    },
    {
     "data": {
      "text/plain": [
       "<Figure size 432x288 with 0 Axes>"
      ]
     },
     "metadata": {},
     "output_type": "display_data"
    },
    {
     "data": {
      "text/plain": [
       "<Figure size 432x288 with 0 Axes>"
      ]
     },
     "metadata": {},
     "output_type": "display_data"
    },
    {
     "name": "stdout",
     "output_type": "stream",
     "text": [
      "0.130824476480484\n"
     ]
    },
    {
     "data": {
      "text/plain": [
       "<Figure size 432x288 with 0 Axes>"
      ]
     },
     "metadata": {},
     "output_type": "display_data"
    },
    {
     "data": {
      "text/plain": [
       "<Figure size 432x288 with 0 Axes>"
      ]
     },
     "metadata": {},
     "output_type": "display_data"
    },
    {
     "data": {
      "text/plain": [
       "<Figure size 432x288 with 0 Axes>"
      ]
     },
     "metadata": {},
     "output_type": "display_data"
    },
    {
     "data": {
      "text/plain": [
       "<Figure size 432x288 with 0 Axes>"
      ]
     },
     "metadata": {},
     "output_type": "display_data"
    },
    {
     "data": {
      "text/plain": [
       "<Figure size 432x288 with 0 Axes>"
      ]
     },
     "metadata": {},
     "output_type": "display_data"
    },
    {
     "data": {
      "text/plain": [
       "<Figure size 432x288 with 0 Axes>"
      ]
     },
     "metadata": {},
     "output_type": "display_data"
    },
    {
     "data": {
      "text/plain": [
       "<Figure size 432x288 with 0 Axes>"
      ]
     },
     "metadata": {},
     "output_type": "display_data"
    },
    {
     "data": {
      "text/plain": [
       "<Figure size 432x288 with 0 Axes>"
      ]
     },
     "metadata": {},
     "output_type": "display_data"
    },
    {
     "data": {
      "text/plain": [
       "<Figure size 432x288 with 0 Axes>"
      ]
     },
     "metadata": {},
     "output_type": "display_data"
    },
    {
     "data": {
      "text/plain": [
       "<Figure size 432x288 with 0 Axes>"
      ]
     },
     "metadata": {},
     "output_type": "display_data"
    },
    {
     "data": {
      "text/plain": [
       "<Figure size 432x288 with 0 Axes>"
      ]
     },
     "metadata": {},
     "output_type": "display_data"
    },
    {
     "data": {
      "text/plain": [
       "<Figure size 432x288 with 0 Axes>"
      ]
     },
     "metadata": {},
     "output_type": "display_data"
    },
    {
     "data": {
      "text/plain": [
       "<Figure size 432x288 with 0 Axes>"
      ]
     },
     "metadata": {},
     "output_type": "display_data"
    },
    {
     "data": {
      "text/plain": [
       "<Figure size 432x288 with 0 Axes>"
      ]
     },
     "metadata": {},
     "output_type": "display_data"
    },
    {
     "data": {
      "text/plain": [
       "<Figure size 432x288 with 0 Axes>"
      ]
     },
     "metadata": {},
     "output_type": "display_data"
    },
    {
     "data": {
      "text/plain": [
       "<Figure size 432x288 with 0 Axes>"
      ]
     },
     "metadata": {},
     "output_type": "display_data"
    },
    {
     "data": {
      "text/plain": [
       "<Figure size 432x288 with 0 Axes>"
      ]
     },
     "metadata": {},
     "output_type": "display_data"
    },
    {
     "data": {
      "text/plain": [
       "<Figure size 432x288 with 0 Axes>"
      ]
     },
     "metadata": {},
     "output_type": "display_data"
    },
    {
     "data": {
      "text/plain": [
       "<Figure size 432x288 with 0 Axes>"
      ]
     },
     "metadata": {},
     "output_type": "display_data"
    },
    {
     "data": {
      "text/plain": [
       "<Figure size 432x288 with 0 Axes>"
      ]
     },
     "metadata": {},
     "output_type": "display_data"
    },
    {
     "data": {
      "text/plain": [
       "<Figure size 432x288 with 0 Axes>"
      ]
     },
     "metadata": {},
     "output_type": "display_data"
    },
    {
     "data": {
      "text/plain": [
       "<Figure size 432x288 with 0 Axes>"
      ]
     },
     "metadata": {},
     "output_type": "display_data"
    },
    {
     "data": {
      "text/plain": [
       "<Figure size 432x288 with 0 Axes>"
      ]
     },
     "metadata": {},
     "output_type": "display_data"
    },
    {
     "data": {
      "text/plain": [
       "<Figure size 432x288 with 0 Axes>"
      ]
     },
     "metadata": {},
     "output_type": "display_data"
    },
    {
     "data": {
      "text/plain": [
       "<Figure size 432x288 with 0 Axes>"
      ]
     },
     "metadata": {},
     "output_type": "display_data"
    },
    {
     "data": {
      "text/plain": [
       "<Figure size 432x288 with 0 Axes>"
      ]
     },
     "metadata": {},
     "output_type": "display_data"
    },
    {
     "data": {
      "text/plain": [
       "<Figure size 432x288 with 0 Axes>"
      ]
     },
     "metadata": {},
     "output_type": "display_data"
    },
    {
     "data": {
      "text/plain": [
       "<Figure size 432x288 with 0 Axes>"
      ]
     },
     "metadata": {},
     "output_type": "display_data"
    },
    {
     "data": {
      "text/plain": [
       "<Figure size 432x288 with 0 Axes>"
      ]
     },
     "metadata": {},
     "output_type": "display_data"
    },
    {
     "data": {
      "text/plain": [
       "<Figure size 432x288 with 0 Axes>"
      ]
     },
     "metadata": {},
     "output_type": "display_data"
    },
    {
     "data": {
      "text/plain": [
       "<Figure size 432x288 with 0 Axes>"
      ]
     },
     "metadata": {},
     "output_type": "display_data"
    },
    {
     "data": {
      "text/plain": [
       "<Figure size 432x288 with 0 Axes>"
      ]
     },
     "metadata": {},
     "output_type": "display_data"
    },
    {
     "data": {
      "text/plain": [
       "<Figure size 432x288 with 0 Axes>"
      ]
     },
     "metadata": {},
     "output_type": "display_data"
    },
    {
     "data": {
      "text/plain": [
       "<Figure size 432x288 with 0 Axes>"
      ]
     },
     "metadata": {},
     "output_type": "display_data"
    },
    {
     "data": {
      "text/plain": [
       "<Figure size 432x288 with 0 Axes>"
      ]
     },
     "metadata": {},
     "output_type": "display_data"
    },
    {
     "data": {
      "text/plain": [
       "<Figure size 432x288 with 0 Axes>"
      ]
     },
     "metadata": {},
     "output_type": "display_data"
    },
    {
     "data": {
      "text/plain": [
       "<Figure size 432x288 with 0 Axes>"
      ]
     },
     "metadata": {},
     "output_type": "display_data"
    },
    {
     "data": {
      "text/plain": [
       "<Figure size 432x288 with 0 Axes>"
      ]
     },
     "metadata": {},
     "output_type": "display_data"
    },
    {
     "data": {
      "text/plain": [
       "<Figure size 432x288 with 0 Axes>"
      ]
     },
     "metadata": {},
     "output_type": "display_data"
    },
    {
     "data": {
      "text/plain": [
       "<Figure size 432x288 with 0 Axes>"
      ]
     },
     "metadata": {},
     "output_type": "display_data"
    },
    {
     "data": {
      "text/plain": [
       "<Figure size 432x288 with 0 Axes>"
      ]
     },
     "metadata": {},
     "output_type": "display_data"
    },
    {
     "data": {
      "text/plain": [
       "<Figure size 432x288 with 0 Axes>"
      ]
     },
     "metadata": {},
     "output_type": "display_data"
    },
    {
     "data": {
      "text/plain": [
       "<Figure size 432x288 with 0 Axes>"
      ]
     },
     "metadata": {},
     "output_type": "display_data"
    },
    {
     "data": {
      "text/plain": [
       "<Figure size 432x288 with 0 Axes>"
      ]
     },
     "metadata": {},
     "output_type": "display_data"
    },
    {
     "data": {
      "text/plain": [
       "<Figure size 432x288 with 0 Axes>"
      ]
     },
     "metadata": {},
     "output_type": "display_data"
    },
    {
     "data": {
      "text/plain": [
       "<Figure size 432x288 with 0 Axes>"
      ]
     },
     "metadata": {},
     "output_type": "display_data"
    },
    {
     "data": {
      "text/plain": [
       "<Figure size 432x288 with 0 Axes>"
      ]
     },
     "metadata": {},
     "output_type": "display_data"
    },
    {
     "data": {
      "text/plain": [
       "<Figure size 432x288 with 0 Axes>"
      ]
     },
     "metadata": {},
     "output_type": "display_data"
    },
    {
     "data": {
      "text/plain": [
       "<Figure size 432x288 with 0 Axes>"
      ]
     },
     "metadata": {},
     "output_type": "display_data"
    },
    {
     "data": {
      "text/plain": [
       "<Figure size 432x288 with 0 Axes>"
      ]
     },
     "metadata": {},
     "output_type": "display_data"
    },
    {
     "data": {
      "text/plain": [
       "<Figure size 432x288 with 0 Axes>"
      ]
     },
     "metadata": {},
     "output_type": "display_data"
    },
    {
     "data": {
      "text/plain": [
       "<Figure size 432x288 with 0 Axes>"
      ]
     },
     "metadata": {},
     "output_type": "display_data"
    },
    {
     "data": {
      "text/plain": [
       "<Figure size 432x288 with 0 Axes>"
      ]
     },
     "metadata": {},
     "output_type": "display_data"
    },
    {
     "data": {
      "text/plain": [
       "<Figure size 432x288 with 0 Axes>"
      ]
     },
     "metadata": {},
     "output_type": "display_data"
    },
    {
     "data": {
      "text/plain": [
       "<Figure size 432x288 with 0 Axes>"
      ]
     },
     "metadata": {},
     "output_type": "display_data"
    },
    {
     "data": {
      "text/plain": [
       "<Figure size 432x288 with 0 Axes>"
      ]
     },
     "metadata": {},
     "output_type": "display_data"
    },
    {
     "data": {
      "text/plain": [
       "<Figure size 432x288 with 0 Axes>"
      ]
     },
     "metadata": {},
     "output_type": "display_data"
    },
    {
     "data": {
      "text/plain": [
       "<Figure size 432x288 with 0 Axes>"
      ]
     },
     "metadata": {},
     "output_type": "display_data"
    },
    {
     "data": {
      "text/plain": [
       "<Figure size 432x288 with 0 Axes>"
      ]
     },
     "metadata": {},
     "output_type": "display_data"
    },
    {
     "data": {
      "text/plain": [
       "<Figure size 432x288 with 0 Axes>"
      ]
     },
     "metadata": {},
     "output_type": "display_data"
    },
    {
     "data": {
      "text/plain": [
       "<Figure size 432x288 with 0 Axes>"
      ]
     },
     "metadata": {},
     "output_type": "display_data"
    },
    {
     "data": {
      "text/plain": [
       "<Figure size 432x288 with 0 Axes>"
      ]
     },
     "metadata": {},
     "output_type": "display_data"
    },
    {
     "data": {
      "text/plain": [
       "<Figure size 432x288 with 0 Axes>"
      ]
     },
     "metadata": {},
     "output_type": "display_data"
    },
    {
     "data": {
      "text/plain": [
       "<Figure size 432x288 with 0 Axes>"
      ]
     },
     "metadata": {},
     "output_type": "display_data"
    },
    {
     "data": {
      "text/plain": [
       "<Figure size 432x288 with 0 Axes>"
      ]
     },
     "metadata": {},
     "output_type": "display_data"
    },
    {
     "data": {
      "text/plain": [
       "<Figure size 432x288 with 0 Axes>"
      ]
     },
     "metadata": {},
     "output_type": "display_data"
    },
    {
     "data": {
      "text/plain": [
       "<Figure size 432x288 with 0 Axes>"
      ]
     },
     "metadata": {},
     "output_type": "display_data"
    },
    {
     "data": {
      "text/plain": [
       "<Figure size 432x288 with 0 Axes>"
      ]
     },
     "metadata": {},
     "output_type": "display_data"
    },
    {
     "data": {
      "text/plain": [
       "<Figure size 432x288 with 0 Axes>"
      ]
     },
     "metadata": {},
     "output_type": "display_data"
    },
    {
     "data": {
      "text/plain": [
       "<Figure size 432x288 with 0 Axes>"
      ]
     },
     "metadata": {},
     "output_type": "display_data"
    },
    {
     "data": {
      "text/plain": [
       "<Figure size 432x288 with 0 Axes>"
      ]
     },
     "metadata": {},
     "output_type": "display_data"
    },
    {
     "data": {
      "text/plain": [
       "<Figure size 432x288 with 0 Axes>"
      ]
     },
     "metadata": {},
     "output_type": "display_data"
    },
    {
     "data": {
      "text/plain": [
       "<Figure size 432x288 with 0 Axes>"
      ]
     },
     "metadata": {},
     "output_type": "display_data"
    },
    {
     "data": {
      "text/plain": [
       "<Figure size 432x288 with 0 Axes>"
      ]
     },
     "metadata": {},
     "output_type": "display_data"
    },
    {
     "data": {
      "text/plain": [
       "<Figure size 432x288 with 0 Axes>"
      ]
     },
     "metadata": {},
     "output_type": "display_data"
    },
    {
     "data": {
      "text/plain": [
       "<Figure size 432x288 with 0 Axes>"
      ]
     },
     "metadata": {},
     "output_type": "display_data"
    },
    {
     "data": {
      "text/plain": [
       "<Figure size 432x288 with 0 Axes>"
      ]
     },
     "metadata": {},
     "output_type": "display_data"
    },
    {
     "data": {
      "text/plain": [
       "<Figure size 432x288 with 0 Axes>"
      ]
     },
     "metadata": {},
     "output_type": "display_data"
    },
    {
     "data": {
      "text/plain": [
       "<Figure size 432x288 with 0 Axes>"
      ]
     },
     "metadata": {},
     "output_type": "display_data"
    },
    {
     "data": {
      "text/plain": [
       "<Figure size 432x288 with 0 Axes>"
      ]
     },
     "metadata": {},
     "output_type": "display_data"
    },
    {
     "data": {
      "text/plain": [
       "<Figure size 432x288 with 0 Axes>"
      ]
     },
     "metadata": {},
     "output_type": "display_data"
    },
    {
     "data": {
      "text/plain": [
       "<Figure size 432x288 with 0 Axes>"
      ]
     },
     "metadata": {},
     "output_type": "display_data"
    },
    {
     "data": {
      "text/plain": [
       "<Figure size 432x288 with 0 Axes>"
      ]
     },
     "metadata": {},
     "output_type": "display_data"
    },
    {
     "data": {
      "text/plain": [
       "<Figure size 432x288 with 0 Axes>"
      ]
     },
     "metadata": {},
     "output_type": "display_data"
    },
    {
     "data": {
      "text/plain": [
       "<Figure size 432x288 with 0 Axes>"
      ]
     },
     "metadata": {},
     "output_type": "display_data"
    },
    {
     "data": {
      "text/plain": [
       "<Figure size 432x288 with 0 Axes>"
      ]
     },
     "metadata": {},
     "output_type": "display_data"
    },
    {
     "data": {
      "text/plain": [
       "<Figure size 432x288 with 0 Axes>"
      ]
     },
     "metadata": {},
     "output_type": "display_data"
    },
    {
     "data": {
      "text/plain": [
       "<Figure size 432x288 with 0 Axes>"
      ]
     },
     "metadata": {},
     "output_type": "display_data"
    },
    {
     "data": {
      "text/plain": [
       "<Figure size 432x288 with 0 Axes>"
      ]
     },
     "metadata": {},
     "output_type": "display_data"
    },
    {
     "data": {
      "text/plain": [
       "<Figure size 432x288 with 0 Axes>"
      ]
     },
     "metadata": {},
     "output_type": "display_data"
    },
    {
     "data": {
      "text/plain": [
       "<Figure size 432x288 with 0 Axes>"
      ]
     },
     "metadata": {},
     "output_type": "display_data"
    },
    {
     "data": {
      "text/plain": [
       "<Figure size 432x288 with 0 Axes>"
      ]
     },
     "metadata": {},
     "output_type": "display_data"
    },
    {
     "data": {
      "text/plain": [
       "<Figure size 432x288 with 0 Axes>"
      ]
     },
     "metadata": {},
     "output_type": "display_data"
    },
    {
     "data": {
      "text/plain": [
       "<Figure size 432x288 with 0 Axes>"
      ]
     },
     "metadata": {},
     "output_type": "display_data"
    },
    {
     "data": {
      "text/plain": [
       "<Figure size 432x288 with 0 Axes>"
      ]
     },
     "metadata": {},
     "output_type": "display_data"
    },
    {
     "data": {
      "text/plain": [
       "<Figure size 432x288 with 0 Axes>"
      ]
     },
     "metadata": {},
     "output_type": "display_data"
    },
    {
     "data": {
      "text/plain": [
       "<Figure size 432x288 with 0 Axes>"
      ]
     },
     "metadata": {},
     "output_type": "display_data"
    },
    {
     "data": {
      "text/plain": [
       "<Figure size 432x288 with 0 Axes>"
      ]
     },
     "metadata": {},
     "output_type": "display_data"
    },
    {
     "data": {
      "text/plain": [
       "<Figure size 432x288 with 0 Axes>"
      ]
     },
     "metadata": {},
     "output_type": "display_data"
    },
    {
     "data": {
      "text/plain": [
       "<Figure size 432x288 with 0 Axes>"
      ]
     },
     "metadata": {},
     "output_type": "display_data"
    },
    {
     "name": "stdout",
     "output_type": "stream",
     "text": [
      "0.130824476480484\n"
     ]
    },
    {
     "data": {
      "text/plain": [
       "<Figure size 432x288 with 0 Axes>"
      ]
     },
     "metadata": {},
     "output_type": "display_data"
    },
    {
     "data": {
      "text/plain": [
       "<Figure size 432x288 with 0 Axes>"
      ]
     },
     "metadata": {},
     "output_type": "display_data"
    },
    {
     "data": {
      "text/plain": [
       "<Figure size 432x288 with 0 Axes>"
      ]
     },
     "metadata": {},
     "output_type": "display_data"
    },
    {
     "data": {
      "text/plain": [
       "<Figure size 432x288 with 0 Axes>"
      ]
     },
     "metadata": {},
     "output_type": "display_data"
    },
    {
     "data": {
      "text/plain": [
       "<Figure size 432x288 with 0 Axes>"
      ]
     },
     "metadata": {},
     "output_type": "display_data"
    },
    {
     "data": {
      "text/plain": [
       "<Figure size 432x288 with 0 Axes>"
      ]
     },
     "metadata": {},
     "output_type": "display_data"
    },
    {
     "data": {
      "text/plain": [
       "<Figure size 432x288 with 0 Axes>"
      ]
     },
     "metadata": {},
     "output_type": "display_data"
    },
    {
     "data": {
      "text/plain": [
       "<Figure size 432x288 with 0 Axes>"
      ]
     },
     "metadata": {},
     "output_type": "display_data"
    },
    {
     "data": {
      "text/plain": [
       "<Figure size 432x288 with 0 Axes>"
      ]
     },
     "metadata": {},
     "output_type": "display_data"
    },
    {
     "data": {
      "text/plain": [
       "<Figure size 432x288 with 0 Axes>"
      ]
     },
     "metadata": {},
     "output_type": "display_data"
    },
    {
     "data": {
      "text/plain": [
       "<Figure size 432x288 with 0 Axes>"
      ]
     },
     "metadata": {},
     "output_type": "display_data"
    },
    {
     "data": {
      "text/plain": [
       "<Figure size 432x288 with 0 Axes>"
      ]
     },
     "metadata": {},
     "output_type": "display_data"
    },
    {
     "data": {
      "text/plain": [
       "<Figure size 432x288 with 0 Axes>"
      ]
     },
     "metadata": {},
     "output_type": "display_data"
    },
    {
     "data": {
      "text/plain": [
       "<Figure size 432x288 with 0 Axes>"
      ]
     },
     "metadata": {},
     "output_type": "display_data"
    },
    {
     "data": {
      "text/plain": [
       "<Figure size 432x288 with 0 Axes>"
      ]
     },
     "metadata": {},
     "output_type": "display_data"
    },
    {
     "data": {
      "text/plain": [
       "<Figure size 432x288 with 0 Axes>"
      ]
     },
     "metadata": {},
     "output_type": "display_data"
    },
    {
     "data": {
      "text/plain": [
       "<Figure size 432x288 with 0 Axes>"
      ]
     },
     "metadata": {},
     "output_type": "display_data"
    },
    {
     "data": {
      "text/plain": [
       "<Figure size 432x288 with 0 Axes>"
      ]
     },
     "metadata": {},
     "output_type": "display_data"
    },
    {
     "data": {
      "text/plain": [
       "<Figure size 432x288 with 0 Axes>"
      ]
     },
     "metadata": {},
     "output_type": "display_data"
    },
    {
     "data": {
      "text/plain": [
       "<Figure size 432x288 with 0 Axes>"
      ]
     },
     "metadata": {},
     "output_type": "display_data"
    },
    {
     "data": {
      "text/plain": [
       "<Figure size 432x288 with 0 Axes>"
      ]
     },
     "metadata": {},
     "output_type": "display_data"
    },
    {
     "data": {
      "text/plain": [
       "<Figure size 432x288 with 0 Axes>"
      ]
     },
     "metadata": {},
     "output_type": "display_data"
    },
    {
     "data": {
      "text/plain": [
       "<Figure size 432x288 with 0 Axes>"
      ]
     },
     "metadata": {},
     "output_type": "display_data"
    },
    {
     "data": {
      "text/plain": [
       "<Figure size 432x288 with 0 Axes>"
      ]
     },
     "metadata": {},
     "output_type": "display_data"
    },
    {
     "data": {
      "text/plain": [
       "<Figure size 432x288 with 0 Axes>"
      ]
     },
     "metadata": {},
     "output_type": "display_data"
    },
    {
     "data": {
      "text/plain": [
       "<Figure size 432x288 with 0 Axes>"
      ]
     },
     "metadata": {},
     "output_type": "display_data"
    },
    {
     "data": {
      "text/plain": [
       "<Figure size 432x288 with 0 Axes>"
      ]
     },
     "metadata": {},
     "output_type": "display_data"
    },
    {
     "data": {
      "text/plain": [
       "<Figure size 432x288 with 0 Axes>"
      ]
     },
     "metadata": {},
     "output_type": "display_data"
    },
    {
     "data": {
      "text/plain": [
       "<Figure size 432x288 with 0 Axes>"
      ]
     },
     "metadata": {},
     "output_type": "display_data"
    },
    {
     "data": {
      "text/plain": [
       "<Figure size 432x288 with 0 Axes>"
      ]
     },
     "metadata": {},
     "output_type": "display_data"
    },
    {
     "data": {
      "text/plain": [
       "<Figure size 432x288 with 0 Axes>"
      ]
     },
     "metadata": {},
     "output_type": "display_data"
    },
    {
     "data": {
      "text/plain": [
       "<Figure size 432x288 with 0 Axes>"
      ]
     },
     "metadata": {},
     "output_type": "display_data"
    },
    {
     "data": {
      "text/plain": [
       "<Figure size 432x288 with 0 Axes>"
      ]
     },
     "metadata": {},
     "output_type": "display_data"
    },
    {
     "data": {
      "text/plain": [
       "<Figure size 432x288 with 0 Axes>"
      ]
     },
     "metadata": {},
     "output_type": "display_data"
    },
    {
     "data": {
      "text/plain": [
       "<Figure size 432x288 with 0 Axes>"
      ]
     },
     "metadata": {},
     "output_type": "display_data"
    },
    {
     "data": {
      "text/plain": [
       "<Figure size 432x288 with 0 Axes>"
      ]
     },
     "metadata": {},
     "output_type": "display_data"
    },
    {
     "data": {
      "text/plain": [
       "<Figure size 432x288 with 0 Axes>"
      ]
     },
     "metadata": {},
     "output_type": "display_data"
    },
    {
     "data": {
      "text/plain": [
       "<Figure size 432x288 with 0 Axes>"
      ]
     },
     "metadata": {},
     "output_type": "display_data"
    },
    {
     "data": {
      "text/plain": [
       "<Figure size 432x288 with 0 Axes>"
      ]
     },
     "metadata": {},
     "output_type": "display_data"
    },
    {
     "data": {
      "text/plain": [
       "<Figure size 432x288 with 0 Axes>"
      ]
     },
     "metadata": {},
     "output_type": "display_data"
    },
    {
     "data": {
      "text/plain": [
       "<Figure size 432x288 with 0 Axes>"
      ]
     },
     "metadata": {},
     "output_type": "display_data"
    },
    {
     "data": {
      "text/plain": [
       "<Figure size 432x288 with 0 Axes>"
      ]
     },
     "metadata": {},
     "output_type": "display_data"
    },
    {
     "data": {
      "text/plain": [
       "<Figure size 432x288 with 0 Axes>"
      ]
     },
     "metadata": {},
     "output_type": "display_data"
    },
    {
     "data": {
      "text/plain": [
       "<Figure size 432x288 with 0 Axes>"
      ]
     },
     "metadata": {},
     "output_type": "display_data"
    },
    {
     "data": {
      "text/plain": [
       "<Figure size 432x288 with 0 Axes>"
      ]
     },
     "metadata": {},
     "output_type": "display_data"
    },
    {
     "data": {
      "text/plain": [
       "<Figure size 432x288 with 0 Axes>"
      ]
     },
     "metadata": {},
     "output_type": "display_data"
    },
    {
     "data": {
      "text/plain": [
       "<Figure size 432x288 with 0 Axes>"
      ]
     },
     "metadata": {},
     "output_type": "display_data"
    },
    {
     "data": {
      "text/plain": [
       "<Figure size 432x288 with 0 Axes>"
      ]
     },
     "metadata": {},
     "output_type": "display_data"
    },
    {
     "data": {
      "text/plain": [
       "<Figure size 432x288 with 0 Axes>"
      ]
     },
     "metadata": {},
     "output_type": "display_data"
    },
    {
     "data": {
      "text/plain": [
       "<Figure size 432x288 with 0 Axes>"
      ]
     },
     "metadata": {},
     "output_type": "display_data"
    },
    {
     "data": {
      "text/plain": [
       "<Figure size 432x288 with 0 Axes>"
      ]
     },
     "metadata": {},
     "output_type": "display_data"
    },
    {
     "data": {
      "text/plain": [
       "<Figure size 432x288 with 0 Axes>"
      ]
     },
     "metadata": {},
     "output_type": "display_data"
    },
    {
     "data": {
      "text/plain": [
       "<Figure size 432x288 with 0 Axes>"
      ]
     },
     "metadata": {},
     "output_type": "display_data"
    },
    {
     "data": {
      "text/plain": [
       "<Figure size 432x288 with 0 Axes>"
      ]
     },
     "metadata": {},
     "output_type": "display_data"
    },
    {
     "data": {
      "text/plain": [
       "<Figure size 432x288 with 0 Axes>"
      ]
     },
     "metadata": {},
     "output_type": "display_data"
    },
    {
     "data": {
      "text/plain": [
       "<Figure size 432x288 with 0 Axes>"
      ]
     },
     "metadata": {},
     "output_type": "display_data"
    },
    {
     "data": {
      "text/plain": [
       "<Figure size 432x288 with 0 Axes>"
      ]
     },
     "metadata": {},
     "output_type": "display_data"
    },
    {
     "data": {
      "text/plain": [
       "<Figure size 432x288 with 0 Axes>"
      ]
     },
     "metadata": {},
     "output_type": "display_data"
    },
    {
     "data": {
      "text/plain": [
       "<Figure size 432x288 with 0 Axes>"
      ]
     },
     "metadata": {},
     "output_type": "display_data"
    },
    {
     "data": {
      "text/plain": [
       "<Figure size 432x288 with 0 Axes>"
      ]
     },
     "metadata": {},
     "output_type": "display_data"
    },
    {
     "data": {
      "text/plain": [
       "<Figure size 432x288 with 0 Axes>"
      ]
     },
     "metadata": {},
     "output_type": "display_data"
    },
    {
     "data": {
      "text/plain": [
       "<Figure size 432x288 with 0 Axes>"
      ]
     },
     "metadata": {},
     "output_type": "display_data"
    },
    {
     "data": {
      "text/plain": [
       "<Figure size 432x288 with 0 Axes>"
      ]
     },
     "metadata": {},
     "output_type": "display_data"
    },
    {
     "data": {
      "text/plain": [
       "<Figure size 432x288 with 0 Axes>"
      ]
     },
     "metadata": {},
     "output_type": "display_data"
    },
    {
     "data": {
      "text/plain": [
       "<Figure size 432x288 with 0 Axes>"
      ]
     },
     "metadata": {},
     "output_type": "display_data"
    },
    {
     "data": {
      "text/plain": [
       "<Figure size 432x288 with 0 Axes>"
      ]
     },
     "metadata": {},
     "output_type": "display_data"
    },
    {
     "data": {
      "text/plain": [
       "<Figure size 432x288 with 0 Axes>"
      ]
     },
     "metadata": {},
     "output_type": "display_data"
    },
    {
     "data": {
      "text/plain": [
       "<Figure size 432x288 with 0 Axes>"
      ]
     },
     "metadata": {},
     "output_type": "display_data"
    },
    {
     "data": {
      "text/plain": [
       "<Figure size 432x288 with 0 Axes>"
      ]
     },
     "metadata": {},
     "output_type": "display_data"
    },
    {
     "data": {
      "text/plain": [
       "<Figure size 432x288 with 0 Axes>"
      ]
     },
     "metadata": {},
     "output_type": "display_data"
    },
    {
     "data": {
      "text/plain": [
       "<Figure size 432x288 with 0 Axes>"
      ]
     },
     "metadata": {},
     "output_type": "display_data"
    },
    {
     "data": {
      "text/plain": [
       "<Figure size 432x288 with 0 Axes>"
      ]
     },
     "metadata": {},
     "output_type": "display_data"
    },
    {
     "data": {
      "text/plain": [
       "<Figure size 432x288 with 0 Axes>"
      ]
     },
     "metadata": {},
     "output_type": "display_data"
    },
    {
     "data": {
      "text/plain": [
       "<Figure size 432x288 with 0 Axes>"
      ]
     },
     "metadata": {},
     "output_type": "display_data"
    },
    {
     "data": {
      "text/plain": [
       "<Figure size 432x288 with 0 Axes>"
      ]
     },
     "metadata": {},
     "output_type": "display_data"
    },
    {
     "data": {
      "text/plain": [
       "<Figure size 432x288 with 0 Axes>"
      ]
     },
     "metadata": {},
     "output_type": "display_data"
    },
    {
     "data": {
      "text/plain": [
       "<Figure size 432x288 with 0 Axes>"
      ]
     },
     "metadata": {},
     "output_type": "display_data"
    },
    {
     "data": {
      "text/plain": [
       "<Figure size 432x288 with 0 Axes>"
      ]
     },
     "metadata": {},
     "output_type": "display_data"
    },
    {
     "data": {
      "text/plain": [
       "<Figure size 432x288 with 0 Axes>"
      ]
     },
     "metadata": {},
     "output_type": "display_data"
    },
    {
     "data": {
      "text/plain": [
       "<Figure size 432x288 with 0 Axes>"
      ]
     },
     "metadata": {},
     "output_type": "display_data"
    },
    {
     "data": {
      "text/plain": [
       "<Figure size 432x288 with 0 Axes>"
      ]
     },
     "metadata": {},
     "output_type": "display_data"
    },
    {
     "data": {
      "text/plain": [
       "<Figure size 432x288 with 0 Axes>"
      ]
     },
     "metadata": {},
     "output_type": "display_data"
    },
    {
     "data": {
      "text/plain": [
       "<Figure size 432x288 with 0 Axes>"
      ]
     },
     "metadata": {},
     "output_type": "display_data"
    },
    {
     "data": {
      "text/plain": [
       "<Figure size 432x288 with 0 Axes>"
      ]
     },
     "metadata": {},
     "output_type": "display_data"
    },
    {
     "data": {
      "text/plain": [
       "<Figure size 432x288 with 0 Axes>"
      ]
     },
     "metadata": {},
     "output_type": "display_data"
    },
    {
     "data": {
      "text/plain": [
       "<Figure size 432x288 with 0 Axes>"
      ]
     },
     "metadata": {},
     "output_type": "display_data"
    },
    {
     "data": {
      "text/plain": [
       "<Figure size 432x288 with 0 Axes>"
      ]
     },
     "metadata": {},
     "output_type": "display_data"
    },
    {
     "data": {
      "text/plain": [
       "<Figure size 432x288 with 0 Axes>"
      ]
     },
     "metadata": {},
     "output_type": "display_data"
    },
    {
     "data": {
      "text/plain": [
       "<Figure size 432x288 with 0 Axes>"
      ]
     },
     "metadata": {},
     "output_type": "display_data"
    },
    {
     "data": {
      "text/plain": [
       "<Figure size 432x288 with 0 Axes>"
      ]
     },
     "metadata": {},
     "output_type": "display_data"
    },
    {
     "data": {
      "text/plain": [
       "<Figure size 432x288 with 0 Axes>"
      ]
     },
     "metadata": {},
     "output_type": "display_data"
    },
    {
     "data": {
      "text/plain": [
       "<Figure size 432x288 with 0 Axes>"
      ]
     },
     "metadata": {},
     "output_type": "display_data"
    },
    {
     "data": {
      "text/plain": [
       "<Figure size 432x288 with 0 Axes>"
      ]
     },
     "metadata": {},
     "output_type": "display_data"
    },
    {
     "data": {
      "text/plain": [
       "<Figure size 432x288 with 0 Axes>"
      ]
     },
     "metadata": {},
     "output_type": "display_data"
    },
    {
     "data": {
      "text/plain": [
       "<Figure size 432x288 with 0 Axes>"
      ]
     },
     "metadata": {},
     "output_type": "display_data"
    },
    {
     "data": {
      "text/plain": [
       "<Figure size 432x288 with 0 Axes>"
      ]
     },
     "metadata": {},
     "output_type": "display_data"
    },
    {
     "data": {
      "text/plain": [
       "<Figure size 432x288 with 0 Axes>"
      ]
     },
     "metadata": {},
     "output_type": "display_data"
    },
    {
     "data": {
      "text/plain": [
       "<Figure size 432x288 with 0 Axes>"
      ]
     },
     "metadata": {},
     "output_type": "display_data"
    },
    {
     "data": {
      "text/plain": [
       "<Figure size 432x288 with 0 Axes>"
      ]
     },
     "metadata": {},
     "output_type": "display_data"
    },
    {
     "data": {
      "text/plain": [
       "<Figure size 432x288 with 0 Axes>"
      ]
     },
     "metadata": {},
     "output_type": "display_data"
    },
    {
     "name": "stdout",
     "output_type": "stream",
     "text": [
      "0.130824476480484\n"
     ]
    },
    {
     "data": {
      "text/plain": [
       "<Figure size 432x288 with 0 Axes>"
      ]
     },
     "metadata": {},
     "output_type": "display_data"
    },
    {
     "data": {
      "text/plain": [
       "<Figure size 432x288 with 0 Axes>"
      ]
     },
     "metadata": {},
     "output_type": "display_data"
    },
    {
     "data": {
      "text/plain": [
       "<Figure size 432x288 with 0 Axes>"
      ]
     },
     "metadata": {},
     "output_type": "display_data"
    },
    {
     "data": {
      "text/plain": [
       "<Figure size 432x288 with 0 Axes>"
      ]
     },
     "metadata": {},
     "output_type": "display_data"
    },
    {
     "data": {
      "text/plain": [
       "<Figure size 432x288 with 0 Axes>"
      ]
     },
     "metadata": {},
     "output_type": "display_data"
    },
    {
     "data": {
      "text/plain": [
       "<Figure size 432x288 with 0 Axes>"
      ]
     },
     "metadata": {},
     "output_type": "display_data"
    },
    {
     "data": {
      "text/plain": [
       "<Figure size 432x288 with 0 Axes>"
      ]
     },
     "metadata": {},
     "output_type": "display_data"
    },
    {
     "data": {
      "text/plain": [
       "<Figure size 432x288 with 0 Axes>"
      ]
     },
     "metadata": {},
     "output_type": "display_data"
    },
    {
     "data": {
      "text/plain": [
       "<Figure size 432x288 with 0 Axes>"
      ]
     },
     "metadata": {},
     "output_type": "display_data"
    },
    {
     "data": {
      "text/plain": [
       "<Figure size 432x288 with 0 Axes>"
      ]
     },
     "metadata": {},
     "output_type": "display_data"
    },
    {
     "data": {
      "text/plain": [
       "<Figure size 432x288 with 0 Axes>"
      ]
     },
     "metadata": {},
     "output_type": "display_data"
    },
    {
     "data": {
      "text/plain": [
       "<Figure size 432x288 with 0 Axes>"
      ]
     },
     "metadata": {},
     "output_type": "display_data"
    },
    {
     "data": {
      "text/plain": [
       "<Figure size 432x288 with 0 Axes>"
      ]
     },
     "metadata": {},
     "output_type": "display_data"
    },
    {
     "data": {
      "text/plain": [
       "<Figure size 432x288 with 0 Axes>"
      ]
     },
     "metadata": {},
     "output_type": "display_data"
    },
    {
     "data": {
      "text/plain": [
       "<Figure size 432x288 with 0 Axes>"
      ]
     },
     "metadata": {},
     "output_type": "display_data"
    },
    {
     "data": {
      "text/plain": [
       "<Figure size 432x288 with 0 Axes>"
      ]
     },
     "metadata": {},
     "output_type": "display_data"
    },
    {
     "data": {
      "text/plain": [
       "<Figure size 432x288 with 0 Axes>"
      ]
     },
     "metadata": {},
     "output_type": "display_data"
    },
    {
     "data": {
      "text/plain": [
       "<Figure size 432x288 with 0 Axes>"
      ]
     },
     "metadata": {},
     "output_type": "display_data"
    },
    {
     "data": {
      "text/plain": [
       "<Figure size 432x288 with 0 Axes>"
      ]
     },
     "metadata": {},
     "output_type": "display_data"
    },
    {
     "data": {
      "text/plain": [
       "<Figure size 432x288 with 0 Axes>"
      ]
     },
     "metadata": {},
     "output_type": "display_data"
    },
    {
     "data": {
      "text/plain": [
       "<Figure size 432x288 with 0 Axes>"
      ]
     },
     "metadata": {},
     "output_type": "display_data"
    },
    {
     "data": {
      "text/plain": [
       "<Figure size 432x288 with 0 Axes>"
      ]
     },
     "metadata": {},
     "output_type": "display_data"
    },
    {
     "data": {
      "text/plain": [
       "<Figure size 432x288 with 0 Axes>"
      ]
     },
     "metadata": {},
     "output_type": "display_data"
    },
    {
     "data": {
      "text/plain": [
       "<Figure size 432x288 with 0 Axes>"
      ]
     },
     "metadata": {},
     "output_type": "display_data"
    },
    {
     "data": {
      "text/plain": [
       "<Figure size 432x288 with 0 Axes>"
      ]
     },
     "metadata": {},
     "output_type": "display_data"
    },
    {
     "data": {
      "text/plain": [
       "<Figure size 432x288 with 0 Axes>"
      ]
     },
     "metadata": {},
     "output_type": "display_data"
    },
    {
     "data": {
      "text/plain": [
       "<Figure size 432x288 with 0 Axes>"
      ]
     },
     "metadata": {},
     "output_type": "display_data"
    },
    {
     "data": {
      "text/plain": [
       "<Figure size 432x288 with 0 Axes>"
      ]
     },
     "metadata": {},
     "output_type": "display_data"
    },
    {
     "data": {
      "text/plain": [
       "<Figure size 432x288 with 0 Axes>"
      ]
     },
     "metadata": {},
     "output_type": "display_data"
    },
    {
     "data": {
      "text/plain": [
       "<Figure size 432x288 with 0 Axes>"
      ]
     },
     "metadata": {},
     "output_type": "display_data"
    },
    {
     "data": {
      "text/plain": [
       "<Figure size 432x288 with 0 Axes>"
      ]
     },
     "metadata": {},
     "output_type": "display_data"
    },
    {
     "data": {
      "text/plain": [
       "<Figure size 432x288 with 0 Axes>"
      ]
     },
     "metadata": {},
     "output_type": "display_data"
    },
    {
     "data": {
      "text/plain": [
       "<Figure size 432x288 with 0 Axes>"
      ]
     },
     "metadata": {},
     "output_type": "display_data"
    },
    {
     "data": {
      "text/plain": [
       "<Figure size 432x288 with 0 Axes>"
      ]
     },
     "metadata": {},
     "output_type": "display_data"
    },
    {
     "data": {
      "text/plain": [
       "<Figure size 432x288 with 0 Axes>"
      ]
     },
     "metadata": {},
     "output_type": "display_data"
    },
    {
     "data": {
      "text/plain": [
       "<Figure size 432x288 with 0 Axes>"
      ]
     },
     "metadata": {},
     "output_type": "display_data"
    },
    {
     "data": {
      "text/plain": [
       "<Figure size 432x288 with 0 Axes>"
      ]
     },
     "metadata": {},
     "output_type": "display_data"
    },
    {
     "data": {
      "text/plain": [
       "<Figure size 432x288 with 0 Axes>"
      ]
     },
     "metadata": {},
     "output_type": "display_data"
    },
    {
     "data": {
      "text/plain": [
       "<Figure size 432x288 with 0 Axes>"
      ]
     },
     "metadata": {},
     "output_type": "display_data"
    },
    {
     "data": {
      "text/plain": [
       "<Figure size 432x288 with 0 Axes>"
      ]
     },
     "metadata": {},
     "output_type": "display_data"
    },
    {
     "data": {
      "text/plain": [
       "<Figure size 432x288 with 0 Axes>"
      ]
     },
     "metadata": {},
     "output_type": "display_data"
    },
    {
     "data": {
      "text/plain": [
       "<Figure size 432x288 with 0 Axes>"
      ]
     },
     "metadata": {},
     "output_type": "display_data"
    },
    {
     "data": {
      "text/plain": [
       "<Figure size 432x288 with 0 Axes>"
      ]
     },
     "metadata": {},
     "output_type": "display_data"
    },
    {
     "data": {
      "text/plain": [
       "<Figure size 432x288 with 0 Axes>"
      ]
     },
     "metadata": {},
     "output_type": "display_data"
    },
    {
     "data": {
      "text/plain": [
       "<Figure size 432x288 with 0 Axes>"
      ]
     },
     "metadata": {},
     "output_type": "display_data"
    },
    {
     "data": {
      "text/plain": [
       "<Figure size 432x288 with 0 Axes>"
      ]
     },
     "metadata": {},
     "output_type": "display_data"
    },
    {
     "data": {
      "text/plain": [
       "<Figure size 432x288 with 0 Axes>"
      ]
     },
     "metadata": {},
     "output_type": "display_data"
    },
    {
     "data": {
      "text/plain": [
       "<Figure size 432x288 with 0 Axes>"
      ]
     },
     "metadata": {},
     "output_type": "display_data"
    },
    {
     "data": {
      "text/plain": [
       "<Figure size 432x288 with 0 Axes>"
      ]
     },
     "metadata": {},
     "output_type": "display_data"
    },
    {
     "data": {
      "text/plain": [
       "<Figure size 432x288 with 0 Axes>"
      ]
     },
     "metadata": {},
     "output_type": "display_data"
    },
    {
     "data": {
      "text/plain": [
       "<Figure size 432x288 with 0 Axes>"
      ]
     },
     "metadata": {},
     "output_type": "display_data"
    },
    {
     "data": {
      "text/plain": [
       "<Figure size 432x288 with 0 Axes>"
      ]
     },
     "metadata": {},
     "output_type": "display_data"
    },
    {
     "data": {
      "text/plain": [
       "<Figure size 432x288 with 0 Axes>"
      ]
     },
     "metadata": {},
     "output_type": "display_data"
    },
    {
     "data": {
      "text/plain": [
       "<Figure size 432x288 with 0 Axes>"
      ]
     },
     "metadata": {},
     "output_type": "display_data"
    },
    {
     "data": {
      "text/plain": [
       "<Figure size 432x288 with 0 Axes>"
      ]
     },
     "metadata": {},
     "output_type": "display_data"
    },
    {
     "data": {
      "text/plain": [
       "<Figure size 432x288 with 0 Axes>"
      ]
     },
     "metadata": {},
     "output_type": "display_data"
    },
    {
     "data": {
      "text/plain": [
       "<Figure size 432x288 with 0 Axes>"
      ]
     },
     "metadata": {},
     "output_type": "display_data"
    },
    {
     "data": {
      "text/plain": [
       "<Figure size 432x288 with 0 Axes>"
      ]
     },
     "metadata": {},
     "output_type": "display_data"
    },
    {
     "data": {
      "text/plain": [
       "<Figure size 432x288 with 0 Axes>"
      ]
     },
     "metadata": {},
     "output_type": "display_data"
    },
    {
     "data": {
      "text/plain": [
       "<Figure size 432x288 with 0 Axes>"
      ]
     },
     "metadata": {},
     "output_type": "display_data"
    },
    {
     "data": {
      "text/plain": [
       "<Figure size 432x288 with 0 Axes>"
      ]
     },
     "metadata": {},
     "output_type": "display_data"
    },
    {
     "data": {
      "text/plain": [
       "<Figure size 432x288 with 0 Axes>"
      ]
     },
     "metadata": {},
     "output_type": "display_data"
    },
    {
     "data": {
      "text/plain": [
       "<Figure size 432x288 with 0 Axes>"
      ]
     },
     "metadata": {},
     "output_type": "display_data"
    },
    {
     "data": {
      "text/plain": [
       "<Figure size 432x288 with 0 Axes>"
      ]
     },
     "metadata": {},
     "output_type": "display_data"
    },
    {
     "data": {
      "text/plain": [
       "<Figure size 432x288 with 0 Axes>"
      ]
     },
     "metadata": {},
     "output_type": "display_data"
    },
    {
     "data": {
      "text/plain": [
       "<Figure size 432x288 with 0 Axes>"
      ]
     },
     "metadata": {},
     "output_type": "display_data"
    },
    {
     "data": {
      "text/plain": [
       "<Figure size 432x288 with 0 Axes>"
      ]
     },
     "metadata": {},
     "output_type": "display_data"
    },
    {
     "data": {
      "text/plain": [
       "<Figure size 432x288 with 0 Axes>"
      ]
     },
     "metadata": {},
     "output_type": "display_data"
    },
    {
     "data": {
      "text/plain": [
       "<Figure size 432x288 with 0 Axes>"
      ]
     },
     "metadata": {},
     "output_type": "display_data"
    },
    {
     "data": {
      "text/plain": [
       "<Figure size 432x288 with 0 Axes>"
      ]
     },
     "metadata": {},
     "output_type": "display_data"
    },
    {
     "data": {
      "text/plain": [
       "<Figure size 432x288 with 0 Axes>"
      ]
     },
     "metadata": {},
     "output_type": "display_data"
    },
    {
     "data": {
      "text/plain": [
       "<Figure size 432x288 with 0 Axes>"
      ]
     },
     "metadata": {},
     "output_type": "display_data"
    },
    {
     "data": {
      "text/plain": [
       "<Figure size 432x288 with 0 Axes>"
      ]
     },
     "metadata": {},
     "output_type": "display_data"
    },
    {
     "data": {
      "text/plain": [
       "<Figure size 432x288 with 0 Axes>"
      ]
     },
     "metadata": {},
     "output_type": "display_data"
    },
    {
     "data": {
      "text/plain": [
       "<Figure size 432x288 with 0 Axes>"
      ]
     },
     "metadata": {},
     "output_type": "display_data"
    },
    {
     "data": {
      "text/plain": [
       "<Figure size 432x288 with 0 Axes>"
      ]
     },
     "metadata": {},
     "output_type": "display_data"
    },
    {
     "data": {
      "text/plain": [
       "<Figure size 432x288 with 0 Axes>"
      ]
     },
     "metadata": {},
     "output_type": "display_data"
    },
    {
     "data": {
      "text/plain": [
       "<Figure size 432x288 with 0 Axes>"
      ]
     },
     "metadata": {},
     "output_type": "display_data"
    },
    {
     "data": {
      "text/plain": [
       "<Figure size 432x288 with 0 Axes>"
      ]
     },
     "metadata": {},
     "output_type": "display_data"
    },
    {
     "data": {
      "text/plain": [
       "<Figure size 432x288 with 0 Axes>"
      ]
     },
     "metadata": {},
     "output_type": "display_data"
    },
    {
     "data": {
      "text/plain": [
       "<Figure size 432x288 with 0 Axes>"
      ]
     },
     "metadata": {},
     "output_type": "display_data"
    },
    {
     "data": {
      "text/plain": [
       "<Figure size 432x288 with 0 Axes>"
      ]
     },
     "metadata": {},
     "output_type": "display_data"
    },
    {
     "data": {
      "text/plain": [
       "<Figure size 432x288 with 0 Axes>"
      ]
     },
     "metadata": {},
     "output_type": "display_data"
    },
    {
     "data": {
      "text/plain": [
       "<Figure size 432x288 with 0 Axes>"
      ]
     },
     "metadata": {},
     "output_type": "display_data"
    },
    {
     "data": {
      "text/plain": [
       "<Figure size 432x288 with 0 Axes>"
      ]
     },
     "metadata": {},
     "output_type": "display_data"
    },
    {
     "data": {
      "text/plain": [
       "<Figure size 432x288 with 0 Axes>"
      ]
     },
     "metadata": {},
     "output_type": "display_data"
    },
    {
     "data": {
      "text/plain": [
       "<Figure size 432x288 with 0 Axes>"
      ]
     },
     "metadata": {},
     "output_type": "display_data"
    },
    {
     "data": {
      "text/plain": [
       "<Figure size 432x288 with 0 Axes>"
      ]
     },
     "metadata": {},
     "output_type": "display_data"
    },
    {
     "data": {
      "text/plain": [
       "<Figure size 432x288 with 0 Axes>"
      ]
     },
     "metadata": {},
     "output_type": "display_data"
    },
    {
     "data": {
      "text/plain": [
       "<Figure size 432x288 with 0 Axes>"
      ]
     },
     "metadata": {},
     "output_type": "display_data"
    },
    {
     "data": {
      "text/plain": [
       "<Figure size 432x288 with 0 Axes>"
      ]
     },
     "metadata": {},
     "output_type": "display_data"
    },
    {
     "data": {
      "text/plain": [
       "<Figure size 432x288 with 0 Axes>"
      ]
     },
     "metadata": {},
     "output_type": "display_data"
    },
    {
     "data": {
      "text/plain": [
       "<Figure size 432x288 with 0 Axes>"
      ]
     },
     "metadata": {},
     "output_type": "display_data"
    },
    {
     "data": {
      "text/plain": [
       "<Figure size 432x288 with 0 Axes>"
      ]
     },
     "metadata": {},
     "output_type": "display_data"
    },
    {
     "data": {
      "text/plain": [
       "<Figure size 432x288 with 0 Axes>"
      ]
     },
     "metadata": {},
     "output_type": "display_data"
    },
    {
     "data": {
      "text/plain": [
       "<Figure size 432x288 with 0 Axes>"
      ]
     },
     "metadata": {},
     "output_type": "display_data"
    },
    {
     "data": {
      "text/plain": [
       "<Figure size 432x288 with 0 Axes>"
      ]
     },
     "metadata": {},
     "output_type": "display_data"
    },
    {
     "data": {
      "text/plain": [
       "<Figure size 432x288 with 0 Axes>"
      ]
     },
     "metadata": {},
     "output_type": "display_data"
    },
    {
     "data": {
      "text/plain": [
       "<Figure size 432x288 with 0 Axes>"
      ]
     },
     "metadata": {},
     "output_type": "display_data"
    },
    {
     "data": {
      "text/plain": [
       "<Figure size 432x288 with 0 Axes>"
      ]
     },
     "metadata": {},
     "output_type": "display_data"
    },
    {
     "name": "stdout",
     "output_type": "stream",
     "text": [
      "0.130824476480484\n"
     ]
    },
    {
     "data": {
      "text/plain": [
       "<Figure size 432x288 with 0 Axes>"
      ]
     },
     "metadata": {},
     "output_type": "display_data"
    },
    {
     "data": {
      "text/plain": [
       "<Figure size 432x288 with 0 Axes>"
      ]
     },
     "metadata": {},
     "output_type": "display_data"
    },
    {
     "data": {
      "text/plain": [
       "<Figure size 432x288 with 0 Axes>"
      ]
     },
     "metadata": {},
     "output_type": "display_data"
    },
    {
     "data": {
      "text/plain": [
       "<Figure size 432x288 with 0 Axes>"
      ]
     },
     "metadata": {},
     "output_type": "display_data"
    },
    {
     "data": {
      "text/plain": [
       "<Figure size 432x288 with 0 Axes>"
      ]
     },
     "metadata": {},
     "output_type": "display_data"
    },
    {
     "data": {
      "text/plain": [
       "<Figure size 432x288 with 0 Axes>"
      ]
     },
     "metadata": {},
     "output_type": "display_data"
    },
    {
     "data": {
      "text/plain": [
       "<Figure size 432x288 with 0 Axes>"
      ]
     },
     "metadata": {},
     "output_type": "display_data"
    },
    {
     "data": {
      "text/plain": [
       "<Figure size 432x288 with 0 Axes>"
      ]
     },
     "metadata": {},
     "output_type": "display_data"
    },
    {
     "data": {
      "text/plain": [
       "<Figure size 432x288 with 0 Axes>"
      ]
     },
     "metadata": {},
     "output_type": "display_data"
    },
    {
     "data": {
      "text/plain": [
       "<Figure size 432x288 with 0 Axes>"
      ]
     },
     "metadata": {},
     "output_type": "display_data"
    },
    {
     "data": {
      "text/plain": [
       "<Figure size 432x288 with 0 Axes>"
      ]
     },
     "metadata": {},
     "output_type": "display_data"
    },
    {
     "data": {
      "text/plain": [
       "<Figure size 432x288 with 0 Axes>"
      ]
     },
     "metadata": {},
     "output_type": "display_data"
    },
    {
     "data": {
      "text/plain": [
       "<Figure size 432x288 with 0 Axes>"
      ]
     },
     "metadata": {},
     "output_type": "display_data"
    },
    {
     "data": {
      "text/plain": [
       "<Figure size 432x288 with 0 Axes>"
      ]
     },
     "metadata": {},
     "output_type": "display_data"
    },
    {
     "data": {
      "text/plain": [
       "<Figure size 432x288 with 0 Axes>"
      ]
     },
     "metadata": {},
     "output_type": "display_data"
    },
    {
     "data": {
      "text/plain": [
       "<Figure size 432x288 with 0 Axes>"
      ]
     },
     "metadata": {},
     "output_type": "display_data"
    },
    {
     "data": {
      "text/plain": [
       "<Figure size 432x288 with 0 Axes>"
      ]
     },
     "metadata": {},
     "output_type": "display_data"
    },
    {
     "data": {
      "text/plain": [
       "<Figure size 432x288 with 0 Axes>"
      ]
     },
     "metadata": {},
     "output_type": "display_data"
    },
    {
     "data": {
      "text/plain": [
       "<Figure size 432x288 with 0 Axes>"
      ]
     },
     "metadata": {},
     "output_type": "display_data"
    },
    {
     "data": {
      "text/plain": [
       "<Figure size 432x288 with 0 Axes>"
      ]
     },
     "metadata": {},
     "output_type": "display_data"
    },
    {
     "data": {
      "text/plain": [
       "<Figure size 432x288 with 0 Axes>"
      ]
     },
     "metadata": {},
     "output_type": "display_data"
    },
    {
     "data": {
      "text/plain": [
       "<Figure size 432x288 with 0 Axes>"
      ]
     },
     "metadata": {},
     "output_type": "display_data"
    },
    {
     "data": {
      "text/plain": [
       "<Figure size 432x288 with 0 Axes>"
      ]
     },
     "metadata": {},
     "output_type": "display_data"
    },
    {
     "data": {
      "text/plain": [
       "<Figure size 432x288 with 0 Axes>"
      ]
     },
     "metadata": {},
     "output_type": "display_data"
    },
    {
     "data": {
      "text/plain": [
       "<Figure size 432x288 with 0 Axes>"
      ]
     },
     "metadata": {},
     "output_type": "display_data"
    },
    {
     "data": {
      "text/plain": [
       "<Figure size 432x288 with 0 Axes>"
      ]
     },
     "metadata": {},
     "output_type": "display_data"
    },
    {
     "data": {
      "text/plain": [
       "<Figure size 432x288 with 0 Axes>"
      ]
     },
     "metadata": {},
     "output_type": "display_data"
    },
    {
     "data": {
      "text/plain": [
       "<Figure size 432x288 with 0 Axes>"
      ]
     },
     "metadata": {},
     "output_type": "display_data"
    }
   ],
   "source": [
    "\n",
    "with torch.no_grad():\n",
    "    for i in range(len(test)):\n",
    "        # output.append(model.forward(test[i]))\n",
    "        instance=model.forward(test[i])\n",
    "        image = instance.cpu().clone()  # 텐서의 값에 변화가 적용되지 않도록 텐서를 복제합니다\n",
    "        image = image.squeeze(0)      # 페이크 배치 차원을 제거 합니다\n",
    "        image = unloader(image)\n",
    "        plt.show(image)\n",
    "        plt.savefig(f'masked_epoch(300)_{test_image_name[i]}')\n",
    "        \n",
    "        if i % 100 == 0:\n",
    "            print(loss.item())"
   ]
  },
  {
   "cell_type": "code",
   "execution_count": null,
   "id": "351VUJg62qw2",
   "metadata": {
    "id": "351VUJg62qw2"
   },
   "outputs": [],
   "source": []
  },
  {
   "cell_type": "code",
   "execution_count": null,
   "id": "2bced6b4",
   "metadata": {
    "id": "2bced6b4"
   },
   "outputs": [],
   "source": [
    "import csv\n",
    "\n",
    "list_name = [\"가방\", \"스타크래프트\", \"핸드폰\", \"손전등\", \"스위치\"]\n",
    "\n",
    "with open(\"filename.csv\", 'w') as file:\n",
    "  writer = csv.writer(file)\n",
    "  writer.writerow(output)"
   ]
  },
  {
   "cell_type": "markdown",
   "id": "bcd27a8c",
   "metadata": {
    "id": "bcd27a8c"
   },
   "source": [
    "# test"
   ]
  },
  {
   "cell_type": "code",
   "execution_count": null,
   "id": "909fcf22",
   "metadata": {
    "ExecuteTime": {
     "end_time": "2022-11-15T16:44:51.746959Z",
     "start_time": "2022-11-15T16:44:49.628233Z"
    },
    "execution": {
     "iopub.status.busy": "2022-11-21T06:50:50.833523Z",
     "iopub.status.idle": "2022-11-21T06:50:50.833669Z",
     "shell.execute_reply": "2022-11-21T06:50:50.833599Z",
     "shell.execute_reply.started": "2022-11-21T06:50:50.833593Z"
    },
    "id": "909fcf22"
   },
   "outputs": [],
   "source": [
    "img_test_1 = cv2.imread('../../open//train_masks/BC_01_0015.png')\n",
    "plt.imshow(img_test_1)\n",
    "plt.show()\n",
    "print(img_test_1[1000,900])\n",
    "\n",
    "plt.imshow(img_test_1, cmap='gray')\n",
    "plt.show()\n",
    "print(img_test_1[1000,900])\n",
    "\n",
    "plt.imshow(cv2.cvtColor(img_test_1, cv2.COLOR_BGR2GRAY))\n",
    "plt.show()\n",
    "print(img_test_2[1000,900])\n",
    "\n",
    "img_test_2 = cv2.imread('../../open//train_masks/BC_01_0015.png', cv2.IMREAD_GRAYSCALE)\n",
    "plt.imshow(img_test_2)\n",
    "plt.show()\n",
    "print(img_test_2[1000,900])\n",
    "\n",
    "plt.imshow(img_test_2, cmap='gray')\n",
    "plt.show()\n",
    "print(img_test_2[1000,900])\n",
    "\n",
    "# cv2.imwrite('./test_1.png', img_test)"
   ]
  },
  {
   "cell_type": "code",
   "execution_count": null,
   "id": "6e275819",
   "metadata": {
    "id": "6e275819"
   },
   "outputs": [],
   "source": []
  }
 ],
 "metadata": {
  "accelerator": "GPU",
  "colab": {
   "machine_shape": "hm",
   "provenance": [
    {
     "file_id": "https://github.com/Can-De/Dacon_Can_de/blob/main/WorkSpace/KIM/Open_CV-%EC%83%81%EC%9C%A4.ipynb",
     "timestamp": 1669094681440
    }
   ]
  },
  "gpuClass": "premium",
  "kernelspec": {
   "display_name": "Python 3 (ipykernel)",
   "language": "python",
   "name": "python3"
  },
  "language_info": {
   "codemirror_mode": {
    "name": "ipython",
    "version": 3
   },
   "file_extension": ".py",
   "mimetype": "text/x-python",
   "name": "python",
   "nbconvert_exporter": "python",
   "pygments_lexer": "ipython3",
   "version": "3.9.13"
  },
  "toc": {
   "base_numbering": 1,
   "nav_menu": {
    "height": "198.988968px",
    "width": "417.996307px"
   },
   "number_sections": true,
   "sideBar": true,
   "skip_h1_title": false,
   "title_cell": "Table of Contents",
   "title_sidebar": "Contents",
   "toc_cell": false,
   "toc_position": {
    "height": "772px",
    "left": "85px",
    "top": "169px",
    "width": "199.1875px"
   },
   "toc_section_display": true,
   "toc_window_display": false
  }
 },
 "nbformat": 4,
 "nbformat_minor": 5
}
