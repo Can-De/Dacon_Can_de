{
 "cells": [
  {
   "cell_type": "markdown",
   "metadata": {
    "id": "QUMNrmSb6nLg"
   },
   "source": [
    "<a href=\"https://www.kaggle.com/code/proxzima/skin-cancer-mnist-resnet50-iv3-vgg16-19-googlenet?scriptVersionId=105345653\" target=\"_blank\"><img align=\"left\" alt=\"Kaggle\" title=\"Open in Kaggle\" src=\"https://kaggle.com/static/images/open-in-kaggle.svg\"></a>"
   ]
  },
  {
   "cell_type": "markdown",
   "metadata": {
    "_cell_guid": "b1076dfc-b9ad-4769-8c92-a6c4dae69d19",
    "_uuid": "8f2839f25d086af736a60e9eeb907d3b93b6e0e5",
    "id": "WUJZ9NZQ6nLi",
    "papermill": {
     "duration": 0.033397,
     "end_time": "2021-06-08T00:26:32.26735",
     "exception": false,
     "start_time": "2021-06-08T00:26:32.233953",
     "status": "completed"
    },
    "tags": []
   },
   "source": [
    "<div align=\"center\">\n",
    "<font size=\"6\"> Skin Cancer MNIST Classification (ResNet50, InceptionV3, VGG16, VGG19, GoogLeNet)  </font>  \n",
    "</div> "
   ]
  },
  {
   "cell_type": "markdown",
   "metadata": {
    "id": "-kz-v_EQ6nLi",
    "papermill": {
     "duration": 0.030716,
     "end_time": "2021-06-08T00:26:32.596412",
     "exception": false,
     "start_time": "2021-06-08T00:26:32.565696",
     "status": "completed"
    },
    "tags": []
   },
   "source": [
    "# 1. Convolutional Neural Network"
   ]
  },
  {
   "cell_type": "markdown",
   "metadata": {
    "execution": {
     "iopub.execute_input": "2021-06-05T23:40:18.015577Z",
     "iopub.status.busy": "2021-06-05T23:40:18.015199Z",
     "iopub.status.idle": "2021-06-05T23:40:18.020793Z",
     "shell.execute_reply": "2021-06-05T23:40:18.018907Z",
     "shell.execute_reply.started": "2021-06-05T23:40:18.015547Z"
    },
    "id": "NibbgNcE6nLj",
    "papermill": {
     "duration": 0.031024,
     "end_time": "2021-06-08T00:26:32.660709",
     "exception": false,
     "start_time": "2021-06-08T00:26:32.629685",
     "status": "completed"
    },
    "tags": []
   },
   "source": [
    "<div align=\"center\">\n",
    "<font size=\"4\"> Residual learning: a building block.  </font>  \n",
    "</div> \n",
    "\n",
    "<img align=\"left\" src=\"https://raw.githubusercontent.com/kabartay/kaggle-siim-isic-melanoma-classification/master/materials/A-cell-from-the-Residual-Network-architecture-The-identity-connection-helps-to-reduce.png\" width=\"350\" style='margin-right:10px'/>\n",
    "The degradation (of training accuracy) indicates that not all systems are similarly easy to optimize. In [Kaiming He et all. 2015] the degradation problem is adressed by introducing a deep residual learning framework. Instead of hoping each few stacked layers directly fit a desired underlying mapping, we explicitly let these layers fit a residual mapping. Formally, denoting the desired underlying mapping as H(x), we let the stacked nonlinear layers fit another mapping of F(x) := H(x)−x. The original mapping is recast into F(x)+x. We hypothesize that it is easier to optimize the residual mapping than to optimize the original, unreferenced mapping. To the extreme, if an identity mapping were optimal, it would be easier to push the residual to zero than to fit an identity mapping by a stack of nonlinear layers. \n",
    "\n",
    "The formulation of F(x)+x can be realized by feedforward neural networks with ''shortcut connections'' (see scheme). Shortcut connections are those skipping one or\n",
    "more layers. In our case, the shortcut connections simply perform identity mapping, and their outputs are added to the outputs of the stacked layers (see scheme). Identity shortcut connections add neither extra parameter nor computational complexity. The entire network can still be trained end-to-end by SGD with backpropagation, and can be easily implemented using common libraries\n",
    "\n",
    "&nbsp;\n",
    "&nbsp;\n",
    "\n",
    "<div align=\"center\">\n",
    "<font size=\"4\"> Example of ResNet50 vs Xception vs Inception-V3 vs VGG-19 vs VGG-16 as reference model.  </font>  \n",
    "<img align=\"center\" src=\"https://github.com/PROxZIMA/Skin-Cancer-MNIST-HAM10000/raw/master/assets/ResNet50%20vs%20Xception%20vs%20Inception-V3%20vs%20VGG-19%20vs%20VGG-16.png\" width=\"870\" />\n",
    "</div>\n",
    "\n",
    "&nbsp;\n",
    "&nbsp;\n",
    "\n",
    "<div align=\"center\">\n",
    "<font size=\"4\"> Detailed example of GoogLeNet a.k.a. Inception-V1 (Szegedy, 2015) as reference model.  </font>  \n",
    "<img align=\"center\" src=\"https://github.com/PROxZIMA/Skin-Cancer-MNIST-HAM10000/raw/master/assets/GoogLeNet%20(Inception-V1).png\" />\n",
    "</div> "
   ]
  },
  {
   "cell_type": "markdown",
   "metadata": {
    "id": "BdACDRWG6nLj",
    "papermill": {
     "duration": 0.031962,
     "end_time": "2021-06-08T00:26:32.731649",
     "exception": false,
     "start_time": "2021-06-08T00:26:32.699687",
     "status": "completed"
    },
    "tags": []
   },
   "source": [
    "# 2. Libraries"
   ]
  },
  {
   "cell_type": "markdown",
   "metadata": {
    "id": "agyeQ_S26nLj",
    "papermill": {
     "duration": 0.030999,
     "end_time": "2021-06-08T00:26:32.794242",
     "exception": false,
     "start_time": "2021-06-08T00:26:32.763243",
     "status": "completed"
    },
    "tags": []
   },
   "source": [
    "# 2.1 Load Required Libraries"
   ]
  },
  {
   "cell_type": "code",
   "execution_count": 29,
   "metadata": {
    "ExecuteTime": {
     "end_time": "2022-11-16T08:33:18.171761Z",
     "start_time": "2022-11-16T08:33:17.366940Z"
    },
    "execution": {
     "iopub.execute_input": "2022-11-16T11:38:00.986488Z",
     "iopub.status.busy": "2022-11-16T11:38:00.986037Z",
     "iopub.status.idle": "2022-11-16T11:38:01.433246Z",
     "shell.execute_reply": "2022-11-16T11:38:01.432928Z",
     "shell.execute_reply.started": "2022-11-16T11:38:00.986452Z"
    },
    "executionInfo": {
     "elapsed": 1404,
     "status": "ok",
     "timestamp": 1668581721340,
     "user": {
      "displayName": "h헨",
      "userId": "04656015639148485018"
     },
     "user_tz": -540
    },
    "id": "CXSIDZby6nLk",
    "papermill": {
     "duration": 0.967801,
     "end_time": "2021-06-08T00:26:33.79371",
     "exception": false,
     "start_time": "2021-06-08T00:26:32.825909",
     "status": "completed"
    },
    "tags": []
   },
   "outputs": [],
   "source": [
    "import os\n",
    "os.environ['TF_CPP_MIN_LOG_LEVEL'] = '2'\n",
    "\n",
    "# os.environ['TF_CPP_MIN_LOG_LEVEL'] 에 입력될 수 있는 값은 아래와 같습니다.\n",
    "# 0 = all messages are logged (default behavior)\n",
    "# 1 = INFO messages are not printed\n",
    "# 2 = INFO and WARNING messages are not printed\n",
    "# 3 = INFO, WARNING, and ERROR messages are not printed\n",
    "\n",
    "import re\n",
    "import gc\n",
    "import sys\n",
    "import glob\n",
    "import pathlib\n",
    "# path 경로에서 폴더 있는지 없는지 확인해줌 말고도 기능 많음\n",
    "import time\n",
    "import math\n",
    "import numpy as np\n",
    "import pandas as pd\n",
    "import matplotlib.pyplot as plt\n",
    "%matplotlib inline\n",
    "import seaborn as sns\n",
    "from glob import glob\n",
    "# 파일명을 리스트 형식으로 반환\n",
    "\n",
    "import cv2\n",
    "\n",
    "import PIL\n",
    "from PIL import Image\n",
    "# 이미지 컷팅\n",
    "\n",
    "from sklearn.metrics import confusion_matrix, classification_report\n",
    "from sklearn.model_selection import train_test_split\n",
    "from sklearn.utils import class_weight\n",
    "\n",
    "from collections import Counter\n",
    "# =value_counts\n",
    "\n",
    "from warnings import filterwarnings\n",
    "filterwarnings('ignore')\n",
    "\n",
    "SEED=123\n",
    "np.random.seed(SEED)"
   ]
  },
  {
   "cell_type": "code",
   "execution_count": 1,
   "metadata": {
    "ExecuteTime": {
     "end_time": "2022-11-16T08:33:18.787697Z",
     "start_time": "2022-11-16T08:33:18.173210Z"
    },
    "execution": {
     "iopub.execute_input": "2022-11-16T11:32:02.055716Z",
     "iopub.status.busy": "2022-11-16T11:32:02.055321Z",
     "iopub.status.idle": "2022-11-16T11:32:03.439897Z",
     "shell.execute_reply": "2022-11-16T11:32:03.439187Z",
     "shell.execute_reply.started": "2022-11-16T11:32:02.055626Z"
    },
    "executionInfo": {
     "elapsed": 7510,
     "status": "ok",
     "timestamp": 1668582179192,
     "user": {
      "displayName": "h헨",
      "userId": "04656015639148485018"
     },
     "user_tz": -540
    },
    "id": "Cnm72nbcP1fP"
   },
   "outputs": [],
   "source": [
    "import random\n",
    "import pandas as pd\n",
    "import numpy as np\n",
    "import os\n",
    "import cv2\n",
    "from tqdm.auto import tqdm\n",
    "\n",
    "import torch\n",
    "import torch.nn as nn\n",
    "import torch.optim as optim\n",
    "import torch.nn.functional as F\n",
    "from torch.utils.data import Dataset, DataLoader\n",
    "\n",
    "import albumentations as A\n",
    "from albumentations.pytorch.transforms import ToTensorV2\n",
    "\n",
    "import torchvision.models as models\n",
    "\n",
    "from sklearn import metrics\n",
    "from sklearn.preprocessing import StandardScaler, LabelEncoder\n",
    "\n",
    "from sklearn.model_selection import train_test_split\n",
    "\n",
    "import warnings\n",
    "warnings.filterwarnings(action='ignore') "
   ]
  },
  {
   "cell_type": "markdown",
   "metadata": {
    "id": "4WEHHfy16nLl",
    "papermill": {
     "duration": 0.030919,
     "end_time": "2021-06-08T00:26:33.855803",
     "exception": false,
     "start_time": "2021-06-08T00:26:33.824884",
     "status": "completed"
    },
    "tags": []
   },
   "source": [
    "# 2.2 Load TensorFlow"
   ]
  },
  {
   "cell_type": "code",
   "execution_count": 2,
   "metadata": {
    "ExecuteTime": {
     "end_time": "2022-11-16T08:33:22.144875Z",
     "start_time": "2022-11-16T08:33:18.789099Z"
    },
    "execution": {
     "iopub.execute_input": "2022-11-16T11:32:43.206478Z",
     "iopub.status.busy": "2022-11-16T11:32:43.205741Z",
     "iopub.status.idle": "2022-11-16T11:32:48.659037Z",
     "shell.execute_reply": "2022-11-16T11:32:48.658738Z",
     "shell.execute_reply.started": "2022-11-16T11:32:43.206425Z"
    },
    "executionInfo": {
     "elapsed": 348,
     "status": "ok",
     "timestamp": 1668581860232,
     "user": {
      "displayName": "h헨",
      "userId": "04656015639148485018"
     },
     "user_tz": -540
    },
    "id": "KuFnM5R36nLl",
    "papermill": {
     "duration": 4.802316,
     "end_time": "2021-06-08T00:26:38.689028",
     "exception": false,
     "start_time": "2021-06-08T00:26:33.886712",
     "status": "completed"
    },
    "tags": []
   },
   "outputs": [],
   "source": [
    "import tensorflow as tf\n",
    "from tensorflow import keras\n",
    "from tensorflow.keras import layers, regularizers\n",
    "from tensorflow.keras.models import Model, Sequential, load_model\n",
    "from tensorflow.keras.optimizers import Adam, SGD, RMSprop\n",
    "from tensorflow.keras.layers import (\n",
    "    Input, Dense, Conv2D, Flatten, Activation, Dropout, BatchNormalization,\n",
    "    MaxPooling2D, AveragePooling2D, ZeroPadding2D, GlobalAveragePooling2D, GlobalMaxPooling2D, add\n",
    ")\n",
    "from keras.layers.merging import concatenate\n",
    "\n",
    "from tensorflow.python.keras.callbacks import Callback, EarlyStopping, ModelCheckpoint\n",
    "# Callback : 특정 이벤트가 발생할 때마다 Tensorflow는 개발자가 등록해 둔 Callback 함수들을 호출\n",
    "# EalryStopping : 일정 성능이 나지 않으면 멈추기\n",
    "\n",
    "from tensorflow.keras.preprocessing import image\n",
    "from tensorflow.keras.preprocessing.image import ImageDataGenerator\n",
    "\n",
    "from tensorflow.keras.utils import plot_model\n",
    "# model.summary 시각화 **중요\n",
    "\n",
    "from tensorflow.keras.applications.vgg16 import VGG16\n",
    "from tensorflow.keras.applications.vgg16 import preprocess_input\n",
    "from tensorflow.keras.applications.vgg19 import VGG19\n",
    "from tensorflow.keras.applications.vgg19 import preprocess_input\n",
    "from tensorflow.keras.applications.resnet50 import ResNet50\n",
    "from tensorflow.keras.applications.resnet50 import preprocess_input\n",
    "from tensorflow.keras.applications.inception_v3 import InceptionV3\n",
    "from tensorflow.keras.applications.inception_v3 import preprocess_input\n",
    "\n",
    "tf.get_logger().setLevel('ERROR')"
   ]
  },
  {
   "cell_type": "code",
   "execution_count": 3,
   "metadata": {
    "ExecuteTime": {
     "end_time": "2022-11-16T08:33:22.149770Z",
     "start_time": "2022-11-16T08:33:22.147307Z"
    },
    "execution": {
     "iopub.execute_input": "2022-11-16T11:33:03.097519Z",
     "iopub.status.busy": "2022-11-16T11:33:03.097176Z",
     "iopub.status.idle": "2022-11-16T11:33:03.106307Z",
     "shell.execute_reply": "2022-11-16T11:33:03.105602Z",
     "shell.execute_reply.started": "2022-11-16T11:33:03.097494Z"
    },
    "executionInfo": {
     "elapsed": 1,
     "status": "ok",
     "timestamp": 1668583834033,
     "user": {
      "displayName": "h헨",
      "userId": "04656015639148485018"
     },
     "user_tz": -540
    },
    "id": "3XvISgLI6nLl",
    "papermill": {
     "duration": 0.040717,
     "end_time": "2021-06-08T00:26:38.826354",
     "exception": false,
     "start_time": "2021-06-08T00:26:38.785637",
     "status": "completed"
    },
    "tags": []
   },
   "outputs": [],
   "source": [
    "CFG = dict(\n",
    "    batch_size            =  20,   # 8; 16; 32; 64; bigger batch size => moemry allocation issue\n",
    "    epochs                =  30,   # 5; 10; 20;\n",
    "    last_trainable_layers =   0,\n",
    "    verbose               =   1,   # 0; 1\n",
    "    fontsize              =  14,\n",
    "\n",
    "    # Images sizes\n",
    "    img_width             = 512,   # 600 Original -> 150\n",
    "    img_height            = 512,   # 450 Original -> 112\n",
    "\n",
    "    # Images augs\n",
    "    ROTATION_RANGE        =  90.0,\n",
    "    ZOOM_RANGE            =   0.1,\n",
    "    HSHIFT_RANGE          =   0.1,\n",
    "    WSHIFT_RANGE          =   0.1,\n",
    "    HFLIP                 = False,\n",
    "    VFLIP                 = False,\n",
    "\n",
    "    # Postprocessing\n",
    "    stopper_patience      =  10,   # 0.01; 0.05; 0.1; 0.2;\n",
    "    run_functions_eagerly = False,\n",
    "\n",
    "    SEED = 41\n",
    ")\n",
    "# CFG = {\n",
    "#     'IMG_SIZE':512,\n",
    "#     'EPOCHS':5,\n",
    "#     'LEARNING_RATE':1e-4,\n",
    "#     'BATCH_SIZE':16,\n",
    "#     'SEED':41\n",
    "# }"
   ]
  },
  {
   "cell_type": "markdown",
   "metadata": {
    "execution": {
     "iopub.execute_input": "2021-06-05T23:43:09.019279Z",
     "iopub.status.busy": "2021-06-05T23:43:09.018882Z",
     "iopub.status.idle": "2021-06-05T23:43:09.761092Z",
     "shell.execute_reply": "2021-06-05T23:43:09.759959Z",
     "shell.execute_reply.started": "2021-06-05T23:43:09.019246Z"
    },
    "id": "v67wVw236nLm",
    "papermill": {
     "duration": 0.031376,
     "end_time": "2021-06-08T00:26:38.888938",
     "exception": false,
     "start_time": "2021-06-08T00:26:38.857562",
     "status": "completed"
    },
    "tags": []
   },
   "source": [
    "# 4. Paths"
   ]
  },
  {
   "cell_type": "code",
   "execution_count": 8,
   "metadata": {
    "ExecuteTime": {
     "end_time": "2022-11-16T08:33:22.278279Z",
     "start_time": "2022-11-16T08:33:22.151137Z"
    },
    "colab": {
     "base_uri": "https://localhost:8080/"
    },
    "execution": {
     "iopub.execute_input": "2022-11-16T11:33:54.620236Z",
     "iopub.status.busy": "2022-11-16T11:33:54.619683Z",
     "iopub.status.idle": "2022-11-16T11:33:54.791285Z",
     "shell.execute_reply": "2022-11-16T11:33:54.790402Z",
     "shell.execute_reply.started": "2022-11-16T11:33:54.620208Z"
    },
    "executionInfo": {
     "elapsed": 3,
     "status": "ok",
     "timestamp": 1668581275618,
     "user": {
      "displayName": "h헨",
      "userId": "04656015639148485018"
     },
     "user_tz": -540
    },
    "id": "p0Zd-6KBMGeW",
    "outputId": "c2e0f087-19a9-4063-d2e0-a1e5edb909d9",
    "tags": []
   },
   "outputs": [
    {
     "name": "stdout",
     "output_type": "stream",
     "text": [
      "/Users/alexkim/Library/CloudStorage/GoogleDrive-amdtheg@gmail.com/내 드라이브/Colab Notebooks_TeamShare/open\n"
     ]
    }
   ],
   "source": [
    "!pwd"
   ]
  },
  {
   "cell_type": "code",
   "execution_count": 7,
   "metadata": {
    "ExecuteTime": {
     "end_time": "2022-11-16T08:33:22.285069Z",
     "start_time": "2022-11-16T08:33:22.279550Z"
    },
    "colab": {
     "base_uri": "https://localhost:8080/"
    },
    "execution": {
     "iopub.execute_input": "2022-11-16T11:33:53.219305Z",
     "iopub.status.busy": "2022-11-16T11:33:53.218557Z",
     "iopub.status.idle": "2022-11-16T11:33:53.242644Z",
     "shell.execute_reply": "2022-11-16T11:33:53.242235Z",
     "shell.execute_reply.started": "2022-11-16T11:33:53.219261Z"
    },
    "executionInfo": {
     "elapsed": 487,
     "status": "ok",
     "timestamp": 1668581273522,
     "user": {
      "displayName": "h헨",
      "userId": "04656015639148485018"
     },
     "user_tz": -540
    },
    "id": "6zYyxONMMTTB",
    "outputId": "63bd745d-a798-4bde-ddd2-c85057246e1a",
    "tags": []
   },
   "outputs": [
    {
     "name": "stdout",
     "output_type": "stream",
     "text": [
      "/Users/alexkim/Library/CloudStorage/GoogleDrive-amdtheg@gmail.com/내 드라이브/Colab Notebooks_TeamShare/open\n"
     ]
    }
   ],
   "source": [
    "%cd /Users/alexkim/Library/CloudStorage/GoogleDrive-amdtheg@gmail.com/내 드라이브/Colab Notebooks_TeamShare/open"
   ]
  },
  {
   "cell_type": "code",
   "execution_count": 9,
   "metadata": {
    "ExecuteTime": {
     "end_time": "2022-11-16T08:33:22.290056Z",
     "start_time": "2022-11-16T08:33:22.285942Z"
    },
    "execution": {
     "iopub.execute_input": "2022-11-16T11:33:56.298124Z",
     "iopub.status.busy": "2022-11-16T11:33:56.297535Z",
     "iopub.status.idle": "2022-11-16T11:33:56.323183Z",
     "shell.execute_reply": "2022-11-16T11:33:56.322780Z",
     "shell.execute_reply.started": "2022-11-16T11:33:56.298077Z"
    },
    "id": "RBk6VeuS6nLm",
    "papermill": {
     "duration": 0.038097,
     "end_time": "2021-06-08T00:26:39.154751",
     "exception": false,
     "start_time": "2021-06-08T00:26:39.116654",
     "status": "completed"
    },
    "tags": []
   },
   "outputs": [
    {
     "data": {
      "text/plain": [
       "device(type='mps', index=0)"
      ]
     },
     "execution_count": 9,
     "metadata": {},
     "output_type": "execute_result"
    }
   ],
   "source": [
    "# base_skin_dir = os.path.join('..', 'input')\n",
    "#Dictionary for Image Names\n",
    "\n",
    "# base_skin_dir = '/Users/sylee/Desktop/프로젝트/open'\n",
    "device = torch.device('mps:0') if torch.backends.mps.is_available() else torch.device('cpu')\n",
    "device\n",
    "#imageid_path_dict = {os.path.splitext(os.path.basename(x))[0]: x for x in glob(os.path.join(base_skin_dir, '*','*', '*.jpg'))}"
   ]
  },
  {
   "cell_type": "markdown",
   "metadata": {
    "id": "GzwWeFTF6nLm",
    "papermill": {
     "duration": 0.031262,
     "end_time": "2021-06-08T00:26:39.353478",
     "exception": false,
     "start_time": "2021-06-08T00:26:39.322216",
     "status": "completed"
    },
    "tags": []
   },
   "source": [
    "# 5. Dataset\n",
    "# 5.1 Description"
   ]
  },
  {
   "cell_type": "markdown",
   "metadata": {
    "id": "3MGXz2sw6nLm",
    "papermill": {
     "duration": 0.031351,
     "end_time": "2021-06-08T00:26:39.416996",
     "exception": false,
     "start_time": "2021-06-08T00:26:39.385645",
     "status": "completed"
    },
    "tags": []
   },
   "source": [
    "The data set contains the following diseases:  \n",
    "- Actinic Keratosis\n",
    "- Basal Cell Carcinoma\n",
    "- Dermatofibroma\n",
    "- Melanoma\n",
    "- Nevus\n",
    "- Pigmented Benign Keratosis\n",
    "- Vascular Lesion"
   ]
  },
  {
   "cell_type": "code",
   "execution_count": 8,
   "metadata": {
    "ExecuteTime": {
     "end_time": "2022-11-16T08:33:22.292884Z",
     "start_time": "2022-11-16T08:33:22.291252Z"
    },
    "execution": {
     "iopub.execute_input": "2022-09-10T12:36:18.816288Z",
     "iopub.status.busy": "2022-09-10T12:36:18.815814Z",
     "iopub.status.idle": "2022-09-10T12:36:39.726106Z",
     "shell.execute_reply": "2022-09-10T12:36:39.724421Z",
     "shell.execute_reply.started": "2022-09-10T12:36:18.816254Z"
    },
    "executionInfo": {
     "elapsed": 1,
     "status": "ok",
     "timestamp": 1668581707472,
     "user": {
      "displayName": "h헨",
      "userId": "04656015639148485018"
     },
     "user_tz": -540
    },
    "id": "Nr3re01V6nLm"
   },
   "outputs": [],
   "source": [
    "# df = pd.read_csv('../input/skin-cancer-mnist-ham10000/HAM10000_metadata.csv')\n",
    "# df = pd.read_pickle(f\"../input/skin-cancer-mnist-ham10000-pickle/HAM10000_metadata-h{CFG['img_height']}-w{CFG['img_width']}.pkl\")\n",
    "# df.head()"
   ]
  },
  {
   "cell_type": "code",
   "execution_count": 10,
   "metadata": {
    "ExecuteTime": {
     "end_time": "2022-11-16T08:33:22.313756Z",
     "start_time": "2022-11-16T08:33:22.293920Z"
    },
    "colab": {
     "base_uri": "https://localhost:8080/",
     "height": 490
    },
    "execution": {
     "iopub.execute_input": "2022-11-16T11:34:11.348823Z",
     "iopub.status.busy": "2022-11-16T11:34:11.348448Z",
     "iopub.status.idle": "2022-11-16T11:34:11.402662Z",
     "shell.execute_reply": "2022-11-16T11:34:11.402310Z",
     "shell.execute_reply.started": "2022-11-16T11:34:11.348794Z"
    },
    "executionInfo": {
     "elapsed": 618,
     "status": "ok",
     "timestamp": 1668582014510,
     "user": {
      "displayName": "h헨",
      "userId": "04656015639148485018"
     },
     "user_tz": -540
    },
    "id": "dBn_nh94N_d9",
    "outputId": "8faccf4e-d545-407c-a9e9-e5922593dea1"
   },
   "outputs": [
    {
     "data": {
      "text/html": [
       "<div>\n",
       "<style scoped>\n",
       "    .dataframe tbody tr th:only-of-type {\n",
       "        vertical-align: middle;\n",
       "    }\n",
       "\n",
       "    .dataframe tbody tr th {\n",
       "        vertical-align: top;\n",
       "    }\n",
       "\n",
       "    .dataframe thead th {\n",
       "        text-align: right;\n",
       "    }\n",
       "</style>\n",
       "<table border=\"1\" class=\"dataframe\">\n",
       "  <thead>\n",
       "    <tr style=\"text-align: right;\">\n",
       "      <th></th>\n",
       "      <th>ID</th>\n",
       "      <th>img_path</th>\n",
       "      <th>mask_path</th>\n",
       "      <th>나이</th>\n",
       "      <th>수술연월일</th>\n",
       "      <th>진단명</th>\n",
       "      <th>암의 위치</th>\n",
       "      <th>암의 개수</th>\n",
       "      <th>암의 장경</th>\n",
       "      <th>NG</th>\n",
       "      <th>...</th>\n",
       "      <th>ER_Allred_score</th>\n",
       "      <th>PR</th>\n",
       "      <th>PR_Allred_score</th>\n",
       "      <th>KI-67_LI_percent</th>\n",
       "      <th>HER2</th>\n",
       "      <th>HER2_IHC</th>\n",
       "      <th>HER2_SISH</th>\n",
       "      <th>HER2_SISH_ratio</th>\n",
       "      <th>BRCA_mutation</th>\n",
       "      <th>N_category</th>\n",
       "    </tr>\n",
       "  </thead>\n",
       "  <tbody>\n",
       "    <tr>\n",
       "      <th>0</th>\n",
       "      <td>BC_01_0001</td>\n",
       "      <td>./train_imgs/BC_01_0001.png</td>\n",
       "      <td>-</td>\n",
       "      <td>63</td>\n",
       "      <td>2015-10-23</td>\n",
       "      <td>1</td>\n",
       "      <td>2</td>\n",
       "      <td>1</td>\n",
       "      <td>19.0</td>\n",
       "      <td>2.0</td>\n",
       "      <td>...</td>\n",
       "      <td>8.0</td>\n",
       "      <td>1.0</td>\n",
       "      <td>6.0</td>\n",
       "      <td>12.0</td>\n",
       "      <td>0.0</td>\n",
       "      <td>1.0</td>\n",
       "      <td>NaN</td>\n",
       "      <td>NaN</td>\n",
       "      <td>NaN</td>\n",
       "      <td>0</td>\n",
       "    </tr>\n",
       "    <tr>\n",
       "      <th>1</th>\n",
       "      <td>BC_01_0002</td>\n",
       "      <td>./train_imgs/BC_01_0002.png</td>\n",
       "      <td>-</td>\n",
       "      <td>51</td>\n",
       "      <td>2015-10-28</td>\n",
       "      <td>1</td>\n",
       "      <td>1</td>\n",
       "      <td>1</td>\n",
       "      <td>22.0</td>\n",
       "      <td>3.0</td>\n",
       "      <td>...</td>\n",
       "      <td>NaN</td>\n",
       "      <td>0.0</td>\n",
       "      <td>NaN</td>\n",
       "      <td>70.0</td>\n",
       "      <td>0.0</td>\n",
       "      <td>0.0</td>\n",
       "      <td>NaN</td>\n",
       "      <td>NaN</td>\n",
       "      <td>NaN</td>\n",
       "      <td>1</td>\n",
       "    </tr>\n",
       "    <tr>\n",
       "      <th>2</th>\n",
       "      <td>BC_01_0003</td>\n",
       "      <td>./train_imgs/BC_01_0003.png</td>\n",
       "      <td>-</td>\n",
       "      <td>37</td>\n",
       "      <td>2015-10-29</td>\n",
       "      <td>1</td>\n",
       "      <td>2</td>\n",
       "      <td>1</td>\n",
       "      <td>NaN</td>\n",
       "      <td>2.0</td>\n",
       "      <td>...</td>\n",
       "      <td>7.0</td>\n",
       "      <td>1.0</td>\n",
       "      <td>4.0</td>\n",
       "      <td>7.0</td>\n",
       "      <td>0.0</td>\n",
       "      <td>1.0</td>\n",
       "      <td>NaN</td>\n",
       "      <td>NaN</td>\n",
       "      <td>0.0</td>\n",
       "      <td>0</td>\n",
       "    </tr>\n",
       "    <tr>\n",
       "      <th>3</th>\n",
       "      <td>BC_01_0004</td>\n",
       "      <td>./train_imgs/BC_01_0004.png</td>\n",
       "      <td>-</td>\n",
       "      <td>54</td>\n",
       "      <td>2016-03-08</td>\n",
       "      <td>1</td>\n",
       "      <td>2</td>\n",
       "      <td>1</td>\n",
       "      <td>0.0</td>\n",
       "      <td>3.0</td>\n",
       "      <td>...</td>\n",
       "      <td>NaN</td>\n",
       "      <td>0.0</td>\n",
       "      <td>NaN</td>\n",
       "      <td>1.0</td>\n",
       "      <td>1.0</td>\n",
       "      <td>3.0</td>\n",
       "      <td>NaN</td>\n",
       "      <td>NaN</td>\n",
       "      <td>NaN</td>\n",
       "      <td>0</td>\n",
       "    </tr>\n",
       "    <tr>\n",
       "      <th>4</th>\n",
       "      <td>BC_01_0005</td>\n",
       "      <td>./train_imgs/BC_01_0005.png</td>\n",
       "      <td>-</td>\n",
       "      <td>57</td>\n",
       "      <td>2015-10-30</td>\n",
       "      <td>1</td>\n",
       "      <td>2</td>\n",
       "      <td>1</td>\n",
       "      <td>8.0</td>\n",
       "      <td>2.0</td>\n",
       "      <td>...</td>\n",
       "      <td>8.0</td>\n",
       "      <td>0.0</td>\n",
       "      <td>NaN</td>\n",
       "      <td>8.0</td>\n",
       "      <td>1.0</td>\n",
       "      <td>2.0</td>\n",
       "      <td>1.0</td>\n",
       "      <td>5.44</td>\n",
       "      <td>NaN</td>\n",
       "      <td>0</td>\n",
       "    </tr>\n",
       "  </tbody>\n",
       "</table>\n",
       "<p>5 rows × 28 columns</p>\n",
       "</div>"
      ],
      "text/plain": [
       "           ID                     img_path mask_path  나이       수술연월일  진단명  \\\n",
       "0  BC_01_0001  ./train_imgs/BC_01_0001.png         -  63  2015-10-23    1   \n",
       "1  BC_01_0002  ./train_imgs/BC_01_0002.png         -  51  2015-10-28    1   \n",
       "2  BC_01_0003  ./train_imgs/BC_01_0003.png         -  37  2015-10-29    1   \n",
       "3  BC_01_0004  ./train_imgs/BC_01_0004.png         -  54  2016-03-08    1   \n",
       "4  BC_01_0005  ./train_imgs/BC_01_0005.png         -  57  2015-10-30    1   \n",
       "\n",
       "   암의 위치  암의 개수  암의 장경   NG  ...  ER_Allred_score   PR  PR_Allred_score  \\\n",
       "0      2      1   19.0  2.0  ...              8.0  1.0              6.0   \n",
       "1      1      1   22.0  3.0  ...              NaN  0.0              NaN   \n",
       "2      2      1    NaN  2.0  ...              7.0  1.0              4.0   \n",
       "3      2      1    0.0  3.0  ...              NaN  0.0              NaN   \n",
       "4      2      1    8.0  2.0  ...              8.0  0.0              NaN   \n",
       "\n",
       "   KI-67_LI_percent  HER2  HER2_IHC  HER2_SISH  HER2_SISH_ratio  \\\n",
       "0              12.0   0.0       1.0        NaN              NaN   \n",
       "1              70.0   0.0       0.0        NaN              NaN   \n",
       "2               7.0   0.0       1.0        NaN              NaN   \n",
       "3               1.0   1.0       3.0        NaN              NaN   \n",
       "4               8.0   1.0       2.0        1.0             5.44   \n",
       "\n",
       "   BRCA_mutation  N_category  \n",
       "0            NaN           0  \n",
       "1            NaN           1  \n",
       "2            0.0           0  \n",
       "3            NaN           0  \n",
       "4            NaN           0  \n",
       "\n",
       "[5 rows x 28 columns]"
      ]
     },
     "execution_count": 10,
     "metadata": {},
     "output_type": "execute_result"
    }
   ],
   "source": [
    "train_df = pd.read_csv('train.csv')\n",
    "test_df = pd.read_csv('test.csv')\n",
    "train_df[:5]"
   ]
  },
  {
   "cell_type": "code",
   "execution_count": 12,
   "metadata": {
    "ExecuteTime": {
     "end_time": "2022-11-16T08:33:22.333631Z",
     "start_time": "2022-11-16T08:33:22.329426Z"
    },
    "execution": {
     "iopub.execute_input": "2022-11-16T11:34:21.554185Z",
     "iopub.status.busy": "2022-11-16T11:34:21.553895Z",
     "iopub.status.idle": "2022-11-16T11:34:21.565039Z",
     "shell.execute_reply": "2022-11-16T11:34:21.564315Z",
     "shell.execute_reply.started": "2022-11-16T11:34:21.554162Z"
    },
    "executionInfo": {
     "elapsed": 304,
     "status": "ok",
     "timestamp": 1668582017075,
     "user": {
      "displayName": "h헨",
      "userId": "04656015639148485018"
     },
     "user_tz": -540
    },
    "id": "3D7q8OC8PHZi"
   },
   "outputs": [],
   "source": [
    "train_df['암의 장경'] = train_df['암의 장경'].fillna(train_df['암의 장경'].mean())\n",
    "train_df = train_df.fillna(0)\n",
    "\n",
    "test_df['암의 장경'] = test_df['암의 장경'].fillna(train_df['암의 장경'].mean())\n",
    "test_df = test_df.fillna(0)"
   ]
  },
  {
   "cell_type": "code",
   "execution_count": 13,
   "metadata": {
    "ExecuteTime": {
     "end_time": "2022-11-16T08:33:22.338565Z",
     "start_time": "2022-11-16T08:33:22.334445Z"
    },
    "execution": {
     "iopub.execute_input": "2022-11-16T11:34:23.484486Z",
     "iopub.status.busy": "2022-11-16T11:34:23.484177Z",
     "iopub.status.idle": "2022-11-16T11:34:23.498217Z",
     "shell.execute_reply": "2022-11-16T11:34:23.497547Z",
     "shell.execute_reply.started": "2022-11-16T11:34:23.484459Z"
    },
    "executionInfo": {
     "elapsed": 624,
     "status": "ok",
     "timestamp": 1668582119446,
     "user": {
      "displayName": "h헨",
      "userId": "04656015639148485018"
     },
     "user_tz": -540
    },
    "id": "SkluiljlPCI7"
   },
   "outputs": [],
   "source": [
    "train_df, val_df, train_labels, val_labels = train_test_split(\n",
    "                                                    train_df.drop(columns=['N_category']), \n",
    "                                                    train_df['N_category'], \n",
    "                                                    test_size=0.2, \n",
    "                                                    random_state=CFG['SEED']\n",
    "                                                )"
   ]
  },
  {
   "cell_type": "code",
   "execution_count": 14,
   "metadata": {
    "ExecuteTime": {
     "end_time": "2022-11-16T08:33:22.342264Z",
     "start_time": "2022-11-16T08:33:22.339507Z"
    },
    "execution": {
     "iopub.execute_input": "2022-11-16T11:34:30.076498Z",
     "iopub.status.busy": "2022-11-16T11:34:30.076112Z",
     "iopub.status.idle": "2022-11-16T11:34:30.084248Z",
     "shell.execute_reply": "2022-11-16T11:34:30.083537Z",
     "shell.execute_reply.started": "2022-11-16T11:34:30.076465Z"
    }
   },
   "outputs": [],
   "source": [
    "val_df, test_df, val_labels, test_labels = train_test_split(\n",
    "                                                    val_df, \n",
    "                                                    val_labels, \n",
    "                                                    test_size=0.5, \n",
    "                                                    random_state=CFG['SEED']\n",
    "                                                )"
   ]
  },
  {
   "cell_type": "code",
   "execution_count": 18,
   "metadata": {
    "execution": {
     "iopub.execute_input": "2022-11-16T11:34:52.733126Z",
     "iopub.status.busy": "2022-11-16T11:34:52.732799Z",
     "iopub.status.idle": "2022-11-16T11:34:52.738122Z",
     "shell.execute_reply": "2022-11-16T11:34:52.737510Z",
     "shell.execute_reply.started": "2022-11-16T11:34:52.733098Z"
    }
   },
   "outputs": [
    {
     "data": {
      "text/plain": [
       "(800, 27)"
      ]
     },
     "execution_count": 18,
     "metadata": {},
     "output_type": "execute_result"
    }
   ],
   "source": [
    "train_df.shape"
   ]
  },
  {
   "cell_type": "code",
   "execution_count": 17,
   "metadata": {
    "ExecuteTime": {
     "end_time": "2022-11-16T08:33:22.345706Z",
     "start_time": "2022-11-16T08:33:22.343103Z"
    },
    "execution": {
     "iopub.execute_input": "2022-11-16T11:34:47.336323Z",
     "iopub.status.busy": "2022-11-16T11:34:47.335362Z",
     "iopub.status.idle": "2022-11-16T11:34:47.345384Z",
     "shell.execute_reply": "2022-11-16T11:34:47.344393Z",
     "shell.execute_reply.started": "2022-11-16T11:34:47.336259Z"
    },
    "tags": []
   },
   "outputs": [
    {
     "data": {
      "text/plain": [
       "((100, 27), (100, 27))"
      ]
     },
     "execution_count": 17,
     "metadata": {},
     "output_type": "execute_result"
    }
   ],
   "source": [
    "val_df.shape,test_df.shape"
   ]
  },
  {
   "cell_type": "code",
   "execution_count": 19,
   "metadata": {
    "ExecuteTime": {
     "end_time": "2022-11-16T08:33:22.357164Z",
     "start_time": "2022-11-16T08:33:22.347086Z"
    },
    "execution": {
     "iopub.execute_input": "2022-11-16T11:35:00.316597Z",
     "iopub.status.busy": "2022-11-16T11:35:00.316319Z",
     "iopub.status.idle": "2022-11-16T11:35:00.345814Z",
     "shell.execute_reply": "2022-11-16T11:35:00.344768Z",
     "shell.execute_reply.started": "2022-11-16T11:35:00.316574Z"
    },
    "executionInfo": {
     "elapsed": 294,
     "status": "ok",
     "timestamp": 1668582858411,
     "user": {
      "displayName": "h헨",
      "userId": "04656015639148485018"
     },
     "user_tz": -540
    },
    "id": "VUYSgX00PveH"
   },
   "outputs": [],
   "source": [
    "def get_values(value):\n",
    "    return value.values.reshape(-1, 1)\n",
    "\n",
    "numeric_cols = ['나이', '암의 장경', 'ER_Allred_score', 'PR_Allred_score', 'KI-67_LI_percent', 'HER2_SISH_ratio']\n",
    "ignore_cols = ['ID', 'img_path', 'mask_path', '수술연월일', 'N_category']\n",
    "\n",
    "for col in train_df.columns:\n",
    "    if col in ignore_cols:\n",
    "        continue\n",
    "    if col in numeric_cols:\n",
    "        scaler = StandardScaler()\n",
    "        train_df[col] = scaler.fit_transform(get_values(train_df[col]))\n",
    "        val_df[col] = scaler.transform(get_values(val_df[col]))\n",
    "        test_df[col] = scaler.transform(get_values(test_df[col]))\n",
    "    else:\n",
    "        le = LabelEncoder()\n",
    "        train_df[col] = le.fit_transform(get_values(train_df[col]))\n",
    "        val_df[col] = le.transform(get_values(val_df[col]))\n",
    "        test_df[col] = le.transform(get_values(test_df[col]))"
   ]
  },
  {
   "cell_type": "code",
   "execution_count": 20,
   "metadata": {
    "ExecuteTime": {
     "end_time": "2022-11-16T08:33:22.361666Z",
     "start_time": "2022-11-16T08:33:22.358040Z"
    },
    "execution": {
     "iopub.execute_input": "2022-11-16T11:35:03.829241Z",
     "iopub.status.busy": "2022-11-16T11:35:03.828954Z",
     "iopub.status.idle": "2022-11-16T11:35:03.839607Z",
     "shell.execute_reply": "2022-11-16T11:35:03.838587Z",
     "shell.execute_reply.started": "2022-11-16T11:35:03.829218Z"
    },
    "executionInfo": {
     "elapsed": 4,
     "status": "ok",
     "timestamp": 1668583058390,
     "user": {
      "displayName": "h헨",
      "userId": "04656015639148485018"
     },
     "user_tz": -540
    },
    "id": "ChQh12OkTN4v"
   },
   "outputs": [],
   "source": [
    "class CustomDataset(Dataset):\n",
    "    def __init__(self, medical_df, labels, transforms=None):\n",
    "        self.medical_df = medical_df\n",
    "        self.transforms = transforms\n",
    "        self.labels = labels\n",
    "        \n",
    "    def __getitem__(self, index):\n",
    "        img_path = self.medical_df['img_path'].iloc[index]\n",
    "        image = cv2.imread(img_path)\n",
    "        image = cv2.cvtColor(image, cv2.COLOR_BGR2RGB)\n",
    "        \n",
    "        if self.transforms is not None:\n",
    "            image = self.transforms(image=image)['image']\n",
    "                \n",
    "        if self.labels is not None:\n",
    "            tabular = torch.Tensor(self.medical_df.drop(columns=['ID', 'img_path', 'mask_path', '수술연월일']).iloc[index])\n",
    "            label = self.labels[index]\n",
    "            return image, tabular, label\n",
    "        else:\n",
    "            tabular = torch.Tensor(self.medical_df.drop(columns=['ID', 'img_path', '수술연월일']).iloc[index])\n",
    "            return image, tabular\n",
    "        \n",
    "    def __len__(self):\n",
    "        return len(self.medical_df)"
   ]
  },
  {
   "cell_type": "code",
   "execution_count": 21,
   "metadata": {
    "ExecuteTime": {
     "end_time": "2022-11-16T08:33:22.364486Z",
     "start_time": "2022-11-16T08:33:22.362623Z"
    },
    "execution": {
     "iopub.execute_input": "2022-11-16T11:35:05.369006Z",
     "iopub.status.busy": "2022-11-16T11:35:05.368727Z",
     "iopub.status.idle": "2022-11-16T11:35:05.372352Z",
     "shell.execute_reply": "2022-11-16T11:35:05.371531Z",
     "shell.execute_reply.started": "2022-11-16T11:35:05.368983Z"
    },
    "id": "8wg5E2Fz6nLn",
    "outputId": "ea41a0c3-f066-47ea-8233-2a2a35c73087",
    "tags": []
   },
   "outputs": [],
   "source": [
    "# # Given lesion types\n",
    "# classes = df.dx.unique()\n",
    "num_classes = 2\n",
    "# classes, num_classes"
   ]
  },
  {
   "cell_type": "code",
   "execution_count": 18,
   "metadata": {
    "ExecuteTime": {
     "end_time": "2022-11-16T08:33:22.366972Z",
     "start_time": "2022-11-16T08:33:22.365494Z"
    },
    "execution": {
     "iopub.execute_input": "2022-09-10T12:36:39.752109Z",
     "iopub.status.busy": "2022-09-10T12:36:39.75149Z",
     "iopub.status.idle": "2022-09-10T12:36:39.763645Z",
     "shell.execute_reply": "2022-09-10T12:36:39.761954Z",
     "shell.execute_reply.started": "2022-09-10T12:36:39.752044Z"
    },
    "id": "Z8GxbXG96nLn"
   },
   "outputs": [],
   "source": [
    "#Lesion Dictionary created for ease\n",
    "# lesion_type_dict = {\n",
    "#     'bkl'  : 'Pigmented Benign keratosis',\n",
    "#     'nv'   : 'Melanocytic nevi', # nevus\n",
    "#     'df'   : 'Dermatofibroma',\n",
    "#     'mel'  : 'Melanoma',\n",
    "#     'vasc' : 'Vascular lesions',\n",
    "#     'bcc'  : 'Basal cell carcinoma',\n",
    "#     'akiec': 'Actinic keratoses',\n",
    "# }"
   ]
  },
  {
   "cell_type": "code",
   "execution_count": 19,
   "metadata": {
    "ExecuteTime": {
     "end_time": "2022-11-16T08:33:22.369753Z",
     "start_time": "2022-11-16T08:33:22.368040Z"
    },
    "execution": {
     "iopub.execute_input": "2022-09-10T08:20:03.986703Z",
     "iopub.status.busy": "2022-09-10T08:20:03.986191Z",
     "iopub.status.idle": "2022-09-10T08:20:04.042615Z",
     "shell.execute_reply": "2022-09-10T08:20:04.041458Z",
     "shell.execute_reply.started": "2022-09-10T08:20:03.986653Z"
    },
    "id": "mQysuMPp6nLn",
    "outputId": "945643b7-a6d3-4099-9379-a91a61cd6ca9"
   },
   "outputs": [],
   "source": [
    "\n",
    "# Not required for pickled data\n",
    "# Creating New Columns for better readability\n",
    "\n",
    "# df['num_images'] = df.groupby('lesion_id')[\"image_id\"].transform(\"count\")\n",
    "# df['path'] = df.image_id.map(imageid_path_dict.get)\n",
    "# df['cell_type'] = df.dx.map(lesion_type_dict.get) \n",
    "# df['cell_type_idx'] = pd.Categorical(df.dx).codes\n",
    "# df.sample(5)"
   ]
  },
  {
   "cell_type": "markdown",
   "metadata": {
    "id": "cSL4CVxR6nLn"
   },
   "source": [
    "# 5.2 Exploratory Data Analysis x 안함"
   ]
  },
  {
   "cell_type": "code",
   "execution_count": 22,
   "metadata": {
    "ExecuteTime": {
     "end_time": "2022-11-16T08:33:22.454046Z",
     "start_time": "2022-11-16T08:33:22.370788Z"
    },
    "execution": {
     "iopub.execute_input": "2022-11-16T11:35:08.776888Z",
     "iopub.status.busy": "2022-11-16T11:35:08.776608Z",
     "iopub.status.idle": "2022-11-16T11:35:08.781430Z",
     "shell.execute_reply": "2022-11-16T11:35:08.780560Z",
     "shell.execute_reply.started": "2022-11-16T11:35:08.776865Z"
    },
    "id": "AHpgnxaQ6nLn",
    "outputId": "9ca977ca-014c-4e84-af03-f944abb3d55f",
    "tags": []
   },
   "outputs": [],
   "source": [
    "# df.shape"
   ]
  },
  {
   "cell_type": "code",
   "execution_count": null,
   "metadata": {
    "ExecuteTime": {
     "end_time": "2022-11-16T08:33:22.457501Z",
     "start_time": "2022-11-16T08:33:22.457495Z"
    },
    "execution": {
     "iopub.execute_input": "2022-09-10T08:20:10.780187Z",
     "iopub.status.busy": "2022-09-10T08:20:10.779819Z",
     "iopub.status.idle": "2022-09-10T08:20:10.794778Z",
     "shell.execute_reply": "2022-09-10T08:20:10.793708Z",
     "shell.execute_reply.started": "2022-09-10T08:20:10.780156Z"
    },
    "id": "8-G_lHhY6nLn",
    "outputId": "76b47026-4f7b-4a68-c595-58064161ffd9"
   },
   "outputs": [],
   "source": [
    "# df.isnull().sum()"
   ]
  },
  {
   "cell_type": "code",
   "execution_count": null,
   "metadata": {
    "ExecuteTime": {
     "end_time": "2022-11-16T08:33:22.458278Z",
     "start_time": "2022-11-16T08:33:22.458272Z"
    },
    "execution": {
     "iopub.execute_input": "2022-09-10T08:20:13.710377Z",
     "iopub.status.busy": "2022-09-10T08:20:13.709954Z",
     "iopub.status.idle": "2022-09-10T08:20:13.728616Z",
     "shell.execute_reply": "2022-09-10T08:20:13.727614Z",
     "shell.execute_reply.started": "2022-09-10T08:20:13.710341Z"
    },
    "id": "1gLTgNng6nLn",
    "outputId": "b09365ba-b272-499e-d433-859914d2c2f6"
   },
   "outputs": [],
   "source": [
    "# df.age.fillna((df.age.mean()), inplace=True)\n",
    "# df.isnull().sum()"
   ]
  },
  {
   "cell_type": "markdown",
   "metadata": {
    "id": "jC6zHB_X6nLn",
    "papermill": {
     "duration": 0.061819,
     "end_time": "2021-06-08T00:26:50.954521",
     "exception": false,
     "start_time": "2021-06-08T00:26:50.892702",
     "status": "completed"
    },
    "tags": []
   },
   "source": [
    "# 6. Keras image data processing"
   ]
  },
  {
   "cell_type": "code",
   "execution_count": 21,
   "metadata": {
    "ExecuteTime": {
     "end_time": "2022-11-16T08:33:55.834730Z",
     "start_time": "2022-11-16T08:33:55.829095Z"
    },
    "execution": {
     "iopub.execute_input": "2022-09-10T08:20:21.276991Z",
     "iopub.status.busy": "2022-09-10T08:20:21.276205Z",
     "iopub.status.idle": "2022-09-10T08:24:43.293168Z",
     "shell.execute_reply": "2022-09-10T08:24:43.291997Z",
     "shell.execute_reply.started": "2022-09-10T08:20:21.276952Z"
    },
    "id": "6bEFwBcy6nLo"
   },
   "outputs": [],
   "source": [
    "# Not required for pickled data\n",
    "# df['image'] = df.path.map(lambda x: np.asarray(Image.open(x).resize((CFG['img_width'], CFG['img_height']))))\n",
    "# df.to_pickle(f\"HAM10000_metadata-h{CFG['img_height']}-w{CFG['img_width']}.pkl\", compression='infer', protocol=4)"
   ]
  },
  {
   "cell_type": "code",
   "execution_count": 30,
   "metadata": {
    "ExecuteTime": {
     "end_time": "2022-11-16T08:33:55.845355Z",
     "start_time": "2022-11-16T08:33:55.839819Z"
    },
    "execution": {
     "iopub.execute_input": "2022-11-16T11:38:23.283232Z",
     "iopub.status.busy": "2022-11-16T11:38:23.282909Z",
     "iopub.status.idle": "2022-11-16T12:58:40.586285Z",
     "shell.execute_reply": "2022-11-16T12:58:40.585606Z",
     "shell.execute_reply.started": "2022-11-16T11:38:23.283207Z"
    },
    "id": "wnOnjBcpUsyU",
    "tags": []
   },
   "outputs": [
    {
     "ename": "OSError",
     "evalue": "[Errno 89] Operation canceled",
     "output_type": "error",
     "traceback": [
      "\u001b[0;31m---------------------------------------------------------------------------\u001b[0m",
      "\u001b[0;31mOSError\u001b[0m                                   Traceback (most recent call last)",
      "Input \u001b[0;32mIn [30]\u001b[0m, in \u001b[0;36m<cell line: 1>\u001b[0;34m()\u001b[0m\n\u001b[0;32m----> 1\u001b[0m train_df[\u001b[38;5;124m'\u001b[39m\u001b[38;5;124mimage\u001b[39m\u001b[38;5;124m'\u001b[39m] \u001b[38;5;241m=\u001b[39m \u001b[43mtrain_df\u001b[49m\u001b[38;5;241;43m.\u001b[39;49m\u001b[43mimg_path\u001b[49m\u001b[38;5;241;43m.\u001b[39;49m\u001b[43mmap\u001b[49m\u001b[43m(\u001b[49m\u001b[38;5;28;43;01mlambda\u001b[39;49;00m\u001b[43m \u001b[49m\u001b[43mx\u001b[49m\u001b[43m:\u001b[49m\u001b[43m \u001b[49m\u001b[43mnp\u001b[49m\u001b[38;5;241;43m.\u001b[39;49m\u001b[43masarray\u001b[49m\u001b[43m(\u001b[49m\u001b[43mImage\u001b[49m\u001b[38;5;241;43m.\u001b[39;49m\u001b[43mopen\u001b[49m\u001b[43m(\u001b[49m\u001b[43mx\u001b[49m\u001b[43m)\u001b[49m\u001b[38;5;241;43m.\u001b[39;49m\u001b[43mresize\u001b[49m\u001b[43m(\u001b[49m\u001b[43m(\u001b[49m\u001b[43mCFG\u001b[49m\u001b[43m[\u001b[49m\u001b[38;5;124;43m'\u001b[39;49m\u001b[38;5;124;43mimg_width\u001b[39;49m\u001b[38;5;124;43m'\u001b[39;49m\u001b[43m]\u001b[49m\u001b[43m,\u001b[49m\u001b[43m \u001b[49m\u001b[43mCFG\u001b[49m\u001b[43m[\u001b[49m\u001b[38;5;124;43m'\u001b[39;49m\u001b[38;5;124;43mimg_height\u001b[39;49m\u001b[38;5;124;43m'\u001b[39;49m\u001b[43m]\u001b[49m\u001b[43m)\u001b[49m\u001b[43m)\u001b[49m\u001b[43m)\u001b[49m\u001b[43m)\u001b[49m\n\u001b[1;32m      2\u001b[0m test_df[\u001b[38;5;124m'\u001b[39m\u001b[38;5;124mimage\u001b[39m\u001b[38;5;124m'\u001b[39m] \u001b[38;5;241m=\u001b[39m test_df\u001b[38;5;241m.\u001b[39mimg_path\u001b[38;5;241m.\u001b[39mmap(\u001b[38;5;28;01mlambda\u001b[39;00m x: np\u001b[38;5;241m.\u001b[39masarray(Image\u001b[38;5;241m.\u001b[39mopen(x)\u001b[38;5;241m.\u001b[39mresize((CFG[\u001b[38;5;124m'\u001b[39m\u001b[38;5;124mimg_width\u001b[39m\u001b[38;5;124m'\u001b[39m], CFG[\u001b[38;5;124m'\u001b[39m\u001b[38;5;124mimg_height\u001b[39m\u001b[38;5;124m'\u001b[39m]))))\n\u001b[1;32m      3\u001b[0m val_df[\u001b[38;5;124m'\u001b[39m\u001b[38;5;124mimage\u001b[39m\u001b[38;5;124m'\u001b[39m] \u001b[38;5;241m=\u001b[39m val_df\u001b[38;5;241m.\u001b[39mimg_path\u001b[38;5;241m.\u001b[39mmap(\u001b[38;5;28;01mlambda\u001b[39;00m x: np\u001b[38;5;241m.\u001b[39masarray(Image\u001b[38;5;241m.\u001b[39mopen(x)\u001b[38;5;241m.\u001b[39mresize((CFG[\u001b[38;5;124m'\u001b[39m\u001b[38;5;124mimg_width\u001b[39m\u001b[38;5;124m'\u001b[39m], CFG[\u001b[38;5;124m'\u001b[39m\u001b[38;5;124mimg_height\u001b[39m\u001b[38;5;124m'\u001b[39m]))))\n",
      "File \u001b[0;32m/opt/homebrew/Caskroom/miniforge/base/envs/alex/lib/python3.9/site-packages/pandas/core/series.py:4237\u001b[0m, in \u001b[0;36mSeries.map\u001b[0;34m(self, arg, na_action)\u001b[0m\n\u001b[1;32m   4162\u001b[0m \u001b[38;5;28;01mdef\u001b[39;00m \u001b[38;5;21mmap\u001b[39m(\u001b[38;5;28mself\u001b[39m, arg, na_action\u001b[38;5;241m=\u001b[39m\u001b[38;5;28;01mNone\u001b[39;00m) \u001b[38;5;241m-\u001b[39m\u001b[38;5;241m>\u001b[39m Series:\n\u001b[1;32m   4163\u001b[0m     \u001b[38;5;124;03m\"\"\"\u001b[39;00m\n\u001b[1;32m   4164\u001b[0m \u001b[38;5;124;03m    Map values of Series according to an input mapping or function.\u001b[39;00m\n\u001b[1;32m   4165\u001b[0m \n\u001b[0;32m   (...)\u001b[0m\n\u001b[1;32m   4235\u001b[0m \u001b[38;5;124;03m    dtype: object\u001b[39;00m\n\u001b[1;32m   4236\u001b[0m \u001b[38;5;124;03m    \"\"\"\u001b[39;00m\n\u001b[0;32m-> 4237\u001b[0m     new_values \u001b[38;5;241m=\u001b[39m \u001b[38;5;28;43mself\u001b[39;49m\u001b[38;5;241;43m.\u001b[39;49m\u001b[43m_map_values\u001b[49m\u001b[43m(\u001b[49m\u001b[43marg\u001b[49m\u001b[43m,\u001b[49m\u001b[43m \u001b[49m\u001b[43mna_action\u001b[49m\u001b[38;5;241;43m=\u001b[39;49m\u001b[43mna_action\u001b[49m\u001b[43m)\u001b[49m\n\u001b[1;32m   4238\u001b[0m     \u001b[38;5;28;01mreturn\u001b[39;00m \u001b[38;5;28mself\u001b[39m\u001b[38;5;241m.\u001b[39m_constructor(new_values, index\u001b[38;5;241m=\u001b[39m\u001b[38;5;28mself\u001b[39m\u001b[38;5;241m.\u001b[39mindex)\u001b[38;5;241m.\u001b[39m__finalize__(\n\u001b[1;32m   4239\u001b[0m         \u001b[38;5;28mself\u001b[39m, method\u001b[38;5;241m=\u001b[39m\u001b[38;5;124m\"\u001b[39m\u001b[38;5;124mmap\u001b[39m\u001b[38;5;124m\"\u001b[39m\n\u001b[1;32m   4240\u001b[0m     )\n",
      "File \u001b[0;32m/opt/homebrew/Caskroom/miniforge/base/envs/alex/lib/python3.9/site-packages/pandas/core/base.py:880\u001b[0m, in \u001b[0;36mIndexOpsMixin._map_values\u001b[0;34m(self, mapper, na_action)\u001b[0m\n\u001b[1;32m    877\u001b[0m         \u001b[38;5;28;01mraise\u001b[39;00m \u001b[38;5;167;01mValueError\u001b[39;00m(msg)\n\u001b[1;32m    879\u001b[0m \u001b[38;5;66;03m# mapper is a function\u001b[39;00m\n\u001b[0;32m--> 880\u001b[0m new_values \u001b[38;5;241m=\u001b[39m \u001b[43mmap_f\u001b[49m\u001b[43m(\u001b[49m\u001b[43mvalues\u001b[49m\u001b[43m,\u001b[49m\u001b[43m \u001b[49m\u001b[43mmapper\u001b[49m\u001b[43m)\u001b[49m\n\u001b[1;32m    882\u001b[0m \u001b[38;5;28;01mreturn\u001b[39;00m new_values\n",
      "File \u001b[0;32m/opt/homebrew/Caskroom/miniforge/base/envs/alex/lib/python3.9/site-packages/pandas/_libs/lib.pyx:2870\u001b[0m, in \u001b[0;36mpandas._libs.lib.map_infer\u001b[0;34m()\u001b[0m\n",
      "Input \u001b[0;32mIn [30]\u001b[0m, in \u001b[0;36m<lambda>\u001b[0;34m(x)\u001b[0m\n\u001b[0;32m----> 1\u001b[0m train_df[\u001b[38;5;124m'\u001b[39m\u001b[38;5;124mimage\u001b[39m\u001b[38;5;124m'\u001b[39m] \u001b[38;5;241m=\u001b[39m train_df\u001b[38;5;241m.\u001b[39mimg_path\u001b[38;5;241m.\u001b[39mmap(\u001b[38;5;28;01mlambda\u001b[39;00m x: np\u001b[38;5;241m.\u001b[39masarray(\u001b[43mImage\u001b[49m\u001b[38;5;241;43m.\u001b[39;49m\u001b[43mopen\u001b[49m\u001b[43m(\u001b[49m\u001b[43mx\u001b[49m\u001b[43m)\u001b[49m\u001b[38;5;241m.\u001b[39mresize((CFG[\u001b[38;5;124m'\u001b[39m\u001b[38;5;124mimg_width\u001b[39m\u001b[38;5;124m'\u001b[39m], CFG[\u001b[38;5;124m'\u001b[39m\u001b[38;5;124mimg_height\u001b[39m\u001b[38;5;124m'\u001b[39m]))))\n\u001b[1;32m      2\u001b[0m test_df[\u001b[38;5;124m'\u001b[39m\u001b[38;5;124mimage\u001b[39m\u001b[38;5;124m'\u001b[39m] \u001b[38;5;241m=\u001b[39m test_df\u001b[38;5;241m.\u001b[39mimg_path\u001b[38;5;241m.\u001b[39mmap(\u001b[38;5;28;01mlambda\u001b[39;00m x: np\u001b[38;5;241m.\u001b[39masarray(Image\u001b[38;5;241m.\u001b[39mopen(x)\u001b[38;5;241m.\u001b[39mresize((CFG[\u001b[38;5;124m'\u001b[39m\u001b[38;5;124mimg_width\u001b[39m\u001b[38;5;124m'\u001b[39m], CFG[\u001b[38;5;124m'\u001b[39m\u001b[38;5;124mimg_height\u001b[39m\u001b[38;5;124m'\u001b[39m]))))\n\u001b[1;32m      3\u001b[0m val_df[\u001b[38;5;124m'\u001b[39m\u001b[38;5;124mimage\u001b[39m\u001b[38;5;124m'\u001b[39m] \u001b[38;5;241m=\u001b[39m val_df\u001b[38;5;241m.\u001b[39mimg_path\u001b[38;5;241m.\u001b[39mmap(\u001b[38;5;28;01mlambda\u001b[39;00m x: np\u001b[38;5;241m.\u001b[39masarray(Image\u001b[38;5;241m.\u001b[39mopen(x)\u001b[38;5;241m.\u001b[39mresize((CFG[\u001b[38;5;124m'\u001b[39m\u001b[38;5;124mimg_width\u001b[39m\u001b[38;5;124m'\u001b[39m], CFG[\u001b[38;5;124m'\u001b[39m\u001b[38;5;124mimg_height\u001b[39m\u001b[38;5;124m'\u001b[39m]))))\n",
      "File \u001b[0;32m/opt/homebrew/Caskroom/miniforge/base/envs/alex/lib/python3.9/site-packages/PIL/Image.py:3101\u001b[0m, in \u001b[0;36mopen\u001b[0;34m(fp, mode, formats)\u001b[0m\n\u001b[1;32m   3098\u001b[0m     fp \u001b[38;5;241m=\u001b[39m io\u001b[38;5;241m.\u001b[39mBytesIO(fp\u001b[38;5;241m.\u001b[39mread())\n\u001b[1;32m   3099\u001b[0m     exclusive_fp \u001b[38;5;241m=\u001b[39m \u001b[38;5;28;01mTrue\u001b[39;00m\n\u001b[0;32m-> 3101\u001b[0m prefix \u001b[38;5;241m=\u001b[39m \u001b[43mfp\u001b[49m\u001b[38;5;241;43m.\u001b[39;49m\u001b[43mread\u001b[49m\u001b[43m(\u001b[49m\u001b[38;5;241;43m16\u001b[39;49m\u001b[43m)\u001b[49m\n\u001b[1;32m   3103\u001b[0m preinit()\n\u001b[1;32m   3105\u001b[0m accept_warnings \u001b[38;5;241m=\u001b[39m []\n",
      "\u001b[0;31mOSError\u001b[0m: [Errno 89] Operation canceled"
     ]
    }
   ],
   "source": [
    "train_df['image'] = train_df.img_path.map(lambda x: np.asarray(Image.open(x).resize((CFG['img_width'], CFG['img_height']))))\n",
    "test_df['image'] = test_df.img_path.map(lambda x: np.asarray(Image.open(x).resize((CFG['img_width'], CFG['img_height']))))\n",
    "val_df['image'] = val_df.img_path.map(lambda x: np.asarray(Image.open(x).resize((CFG['img_width'], CFG['img_height']))))"
   ]
  },
  {
   "cell_type": "code",
   "execution_count": 23,
   "metadata": {
    "ExecuteTime": {
     "end_time": "2022-11-16T08:33:55.850775Z",
     "start_time": "2022-11-16T08:33:55.848151Z"
    },
    "execution": {
     "iopub.execute_input": "2022-11-16T11:35:15.049657Z",
     "iopub.status.busy": "2022-11-16T11:35:15.049376Z",
     "iopub.status.idle": "2022-11-16T11:35:15.059395Z",
     "shell.execute_reply": "2022-11-16T11:35:15.058519Z",
     "shell.execute_reply.started": "2022-11-16T11:35:15.049634Z"
    },
    "id": "9uernKBbVs_9"
   },
   "outputs": [],
   "source": [
    "train_df.to_pickle('train_df.pkl')\n",
    "test_df.to_pickle('test_df.pkl')\n",
    "val_df.to_pickle('val_df.pkl')"
   ]
  },
  {
   "cell_type": "code",
   "execution_count": 24,
   "metadata": {
    "ExecuteTime": {
     "end_time": "2022-11-16T08:33:56.054107Z",
     "start_time": "2022-11-16T08:33:55.853441Z"
    },
    "execution": {
     "iopub.execute_input": "2022-11-16T11:35:16.074318Z",
     "iopub.status.busy": "2022-11-16T11:35:16.073773Z",
     "iopub.status.idle": "2022-11-16T11:35:16.081905Z",
     "shell.execute_reply": "2022-11-16T11:35:16.081107Z",
     "shell.execute_reply.started": "2022-11-16T11:35:16.074289Z"
    }
   },
   "outputs": [],
   "source": [
    "train_df = pd.read_pickle('train_df.pkl')\n",
    "test_df = pd.read_pickle('test_df.pkl')\n",
    "val_df = pd.read_pickle('val_df.pkl')"
   ]
  },
  {
   "cell_type": "code",
   "execution_count": 27,
   "metadata": {
    "execution": {
     "iopub.execute_input": "2022-11-16T11:36:19.357613Z",
     "iopub.status.busy": "2022-11-16T11:36:19.356882Z",
     "iopub.status.idle": "2022-11-16T11:36:19.394662Z",
     "shell.execute_reply": "2022-11-16T11:36:19.394249Z",
     "shell.execute_reply.started": "2022-11-16T11:36:19.357574Z"
    }
   },
   "outputs": [
    {
     "data": {
      "text/html": [
       "<div>\n",
       "<style scoped>\n",
       "    .dataframe tbody tr th:only-of-type {\n",
       "        vertical-align: middle;\n",
       "    }\n",
       "\n",
       "    .dataframe tbody tr th {\n",
       "        vertical-align: top;\n",
       "    }\n",
       "\n",
       "    .dataframe thead th {\n",
       "        text-align: right;\n",
       "    }\n",
       "</style>\n",
       "<table border=\"1\" class=\"dataframe\">\n",
       "  <thead>\n",
       "    <tr style=\"text-align: right;\">\n",
       "      <th></th>\n",
       "      <th>ID</th>\n",
       "      <th>img_path</th>\n",
       "      <th>mask_path</th>\n",
       "      <th>나이</th>\n",
       "      <th>수술연월일</th>\n",
       "      <th>진단명</th>\n",
       "      <th>암의 위치</th>\n",
       "      <th>암의 개수</th>\n",
       "      <th>암의 장경</th>\n",
       "      <th>NG</th>\n",
       "      <th>...</th>\n",
       "      <th>ER</th>\n",
       "      <th>ER_Allred_score</th>\n",
       "      <th>PR</th>\n",
       "      <th>PR_Allred_score</th>\n",
       "      <th>KI-67_LI_percent</th>\n",
       "      <th>HER2</th>\n",
       "      <th>HER2_IHC</th>\n",
       "      <th>HER2_SISH</th>\n",
       "      <th>HER2_SISH_ratio</th>\n",
       "      <th>BRCA_mutation</th>\n",
       "    </tr>\n",
       "  </thead>\n",
       "  <tbody>\n",
       "    <tr>\n",
       "      <th>976</th>\n",
       "      <td>BC_01_3277</td>\n",
       "      <td>./train_imgs/BC_01_3277.png</td>\n",
       "      <td>-</td>\n",
       "      <td>-2.522114</td>\n",
       "      <td>2010-02-05</td>\n",
       "      <td>0</td>\n",
       "      <td>1</td>\n",
       "      <td>0</td>\n",
       "      <td>-0.793655</td>\n",
       "      <td>3</td>\n",
       "      <td>...</td>\n",
       "      <td>1</td>\n",
       "      <td>0.017689</td>\n",
       "      <td>1</td>\n",
       "      <td>-0.367095</td>\n",
       "      <td>-0.784134</td>\n",
       "      <td>0</td>\n",
       "      <td>0</td>\n",
       "      <td>0</td>\n",
       "      <td>-0.25997</td>\n",
       "      <td>0</td>\n",
       "    </tr>\n",
       "    <tr>\n",
       "      <th>668</th>\n",
       "      <td>BC_01_2734</td>\n",
       "      <td>./train_imgs/BC_01_2734.png</td>\n",
       "      <td>-</td>\n",
       "      <td>-1.208969</td>\n",
       "      <td>2011-10-13</td>\n",
       "      <td>3</td>\n",
       "      <td>0</td>\n",
       "      <td>0</td>\n",
       "      <td>-0.881586</td>\n",
       "      <td>1</td>\n",
       "      <td>...</td>\n",
       "      <td>1</td>\n",
       "      <td>0.619883</td>\n",
       "      <td>1</td>\n",
       "      <td>1.237691</td>\n",
       "      <td>-0.784134</td>\n",
       "      <td>1</td>\n",
       "      <td>2</td>\n",
       "      <td>0</td>\n",
       "      <td>-0.25997</td>\n",
       "      <td>0</td>\n",
       "    </tr>\n",
       "    <tr>\n",
       "      <th>836</th>\n",
       "      <td>BC_01_2962</td>\n",
       "      <td>./train_imgs/BC_01_2962.png</td>\n",
       "      <td>-</td>\n",
       "      <td>-0.596168</td>\n",
       "      <td>2007-11-13</td>\n",
       "      <td>0</td>\n",
       "      <td>1</td>\n",
       "      <td>0</td>\n",
       "      <td>-0.617792</td>\n",
       "      <td>0</td>\n",
       "      <td>...</td>\n",
       "      <td>1</td>\n",
       "      <td>-1.487795</td>\n",
       "      <td>1</td>\n",
       "      <td>-0.902024</td>\n",
       "      <td>-0.784134</td>\n",
       "      <td>0</td>\n",
       "      <td>0</td>\n",
       "      <td>0</td>\n",
       "      <td>-0.25997</td>\n",
       "      <td>0</td>\n",
       "    </tr>\n",
       "    <tr>\n",
       "      <th>479</th>\n",
       "      <td>BC_01_2228</td>\n",
       "      <td>./train_imgs/BC_01_2228.png</td>\n",
       "      <td>-</td>\n",
       "      <td>0.716977</td>\n",
       "      <td>2013-12-09</td>\n",
       "      <td>0</td>\n",
       "      <td>2</td>\n",
       "      <td>0</td>\n",
       "      <td>-1.233311</td>\n",
       "      <td>1</td>\n",
       "      <td>...</td>\n",
       "      <td>1</td>\n",
       "      <td>0.920980</td>\n",
       "      <td>1</td>\n",
       "      <td>0.435298</td>\n",
       "      <td>-0.512041</td>\n",
       "      <td>1</td>\n",
       "      <td>2</td>\n",
       "      <td>0</td>\n",
       "      <td>-0.25997</td>\n",
       "      <td>0</td>\n",
       "    </tr>\n",
       "    <tr>\n",
       "      <th>83</th>\n",
       "      <td>BC_01_0405</td>\n",
       "      <td>./train_imgs/BC_01_0405.png</td>\n",
       "      <td>-</td>\n",
       "      <td>-0.946340</td>\n",
       "      <td>2020-05-07</td>\n",
       "      <td>0</td>\n",
       "      <td>0</td>\n",
       "      <td>1</td>\n",
       "      <td>-0.705724</td>\n",
       "      <td>2</td>\n",
       "      <td>...</td>\n",
       "      <td>1</td>\n",
       "      <td>0.318786</td>\n",
       "      <td>1</td>\n",
       "      <td>0.167834</td>\n",
       "      <td>0.938215</td>\n",
       "      <td>0</td>\n",
       "      <td>0</td>\n",
       "      <td>0</td>\n",
       "      <td>-0.25997</td>\n",
       "      <td>0</td>\n",
       "    </tr>\n",
       "    <tr>\n",
       "      <th>...</th>\n",
       "      <td>...</td>\n",
       "      <td>...</td>\n",
       "      <td>...</td>\n",
       "      <td>...</td>\n",
       "      <td>...</td>\n",
       "      <td>...</td>\n",
       "      <td>...</td>\n",
       "      <td>...</td>\n",
       "      <td>...</td>\n",
       "      <td>...</td>\n",
       "      <td>...</td>\n",
       "      <td>...</td>\n",
       "      <td>...</td>\n",
       "      <td>...</td>\n",
       "      <td>...</td>\n",
       "      <td>...</td>\n",
       "      <td>...</td>\n",
       "      <td>...</td>\n",
       "      <td>...</td>\n",
       "      <td>...</td>\n",
       "      <td>...</td>\n",
       "    </tr>\n",
       "    <tr>\n",
       "      <th>80</th>\n",
       "      <td>BC_01_0397</td>\n",
       "      <td>./train_imgs/BC_01_0397.png</td>\n",
       "      <td>./train_masks/BC_01_0397.png</td>\n",
       "      <td>0.541891</td>\n",
       "      <td>2020-01-08</td>\n",
       "      <td>0</td>\n",
       "      <td>1</td>\n",
       "      <td>0</td>\n",
       "      <td>0.437383</td>\n",
       "      <td>2</td>\n",
       "      <td>...</td>\n",
       "      <td>1</td>\n",
       "      <td>0.619883</td>\n",
       "      <td>1</td>\n",
       "      <td>0.702763</td>\n",
       "      <td>0.316210</td>\n",
       "      <td>0</td>\n",
       "      <td>0</td>\n",
       "      <td>0</td>\n",
       "      <td>-0.25997</td>\n",
       "      <td>0</td>\n",
       "    </tr>\n",
       "    <tr>\n",
       "      <th>994</th>\n",
       "      <td>BC_01_3447</td>\n",
       "      <td>./train_imgs/BC_01_3447.png</td>\n",
       "      <td>-</td>\n",
       "      <td>-0.946340</td>\n",
       "      <td>2009-01-16</td>\n",
       "      <td>0</td>\n",
       "      <td>1</td>\n",
       "      <td>0</td>\n",
       "      <td>-0.705724</td>\n",
       "      <td>1</td>\n",
       "      <td>...</td>\n",
       "      <td>0</td>\n",
       "      <td>-1.487795</td>\n",
       "      <td>0</td>\n",
       "      <td>-0.902024</td>\n",
       "      <td>-0.784134</td>\n",
       "      <td>0</td>\n",
       "      <td>1</td>\n",
       "      <td>0</td>\n",
       "      <td>-0.25997</td>\n",
       "      <td>0</td>\n",
       "    </tr>\n",
       "    <tr>\n",
       "      <th>908</th>\n",
       "      <td>BC_01_3056</td>\n",
       "      <td>./train_imgs/BC_01_3056.png</td>\n",
       "      <td>-</td>\n",
       "      <td>0.541891</td>\n",
       "      <td>2007-03-02</td>\n",
       "      <td>0</td>\n",
       "      <td>1</td>\n",
       "      <td>0</td>\n",
       "      <td>0.613245</td>\n",
       "      <td>2</td>\n",
       "      <td>...</td>\n",
       "      <td>1</td>\n",
       "      <td>-1.487795</td>\n",
       "      <td>1</td>\n",
       "      <td>-0.902024</td>\n",
       "      <td>-0.784134</td>\n",
       "      <td>0</td>\n",
       "      <td>0</td>\n",
       "      <td>0</td>\n",
       "      <td>-0.25997</td>\n",
       "      <td>0</td>\n",
       "    </tr>\n",
       "    <tr>\n",
       "      <th>931</th>\n",
       "      <td>BC_01_3083</td>\n",
       "      <td>./train_imgs/BC_01_3083.png</td>\n",
       "      <td>-</td>\n",
       "      <td>0.804520</td>\n",
       "      <td>2007-01-16</td>\n",
       "      <td>0</td>\n",
       "      <td>1</td>\n",
       "      <td>0</td>\n",
       "      <td>1.228764</td>\n",
       "      <td>2</td>\n",
       "      <td>...</td>\n",
       "      <td>1</td>\n",
       "      <td>-1.487795</td>\n",
       "      <td>1</td>\n",
       "      <td>-0.902024</td>\n",
       "      <td>-0.784134</td>\n",
       "      <td>0</td>\n",
       "      <td>0</td>\n",
       "      <td>0</td>\n",
       "      <td>-0.25997</td>\n",
       "      <td>0</td>\n",
       "    </tr>\n",
       "    <tr>\n",
       "      <th>960</th>\n",
       "      <td>BC_01_3217</td>\n",
       "      <td>./train_imgs/BC_01_3217.png</td>\n",
       "      <td>-</td>\n",
       "      <td>-0.683711</td>\n",
       "      <td>2010-05-14</td>\n",
       "      <td>1</td>\n",
       "      <td>0</td>\n",
       "      <td>0</td>\n",
       "      <td>1.492558</td>\n",
       "      <td>2</td>\n",
       "      <td>...</td>\n",
       "      <td>1</td>\n",
       "      <td>0.017689</td>\n",
       "      <td>1</td>\n",
       "      <td>0.167834</td>\n",
       "      <td>-0.784134</td>\n",
       "      <td>1</td>\n",
       "      <td>2</td>\n",
       "      <td>0</td>\n",
       "      <td>-0.25997</td>\n",
       "      <td>0</td>\n",
       "    </tr>\n",
       "  </tbody>\n",
       "</table>\n",
       "<p>800 rows × 27 columns</p>\n",
       "</div>"
      ],
      "text/plain": [
       "             ID                     img_path                     mask_path  \\\n",
       "976  BC_01_3277  ./train_imgs/BC_01_3277.png                             -   \n",
       "668  BC_01_2734  ./train_imgs/BC_01_2734.png                             -   \n",
       "836  BC_01_2962  ./train_imgs/BC_01_2962.png                             -   \n",
       "479  BC_01_2228  ./train_imgs/BC_01_2228.png                             -   \n",
       "83   BC_01_0405  ./train_imgs/BC_01_0405.png                             -   \n",
       "..          ...                          ...                           ...   \n",
       "80   BC_01_0397  ./train_imgs/BC_01_0397.png  ./train_masks/BC_01_0397.png   \n",
       "994  BC_01_3447  ./train_imgs/BC_01_3447.png                             -   \n",
       "908  BC_01_3056  ./train_imgs/BC_01_3056.png                             -   \n",
       "931  BC_01_3083  ./train_imgs/BC_01_3083.png                             -   \n",
       "960  BC_01_3217  ./train_imgs/BC_01_3217.png                             -   \n",
       "\n",
       "           나이       수술연월일  진단명  암의 위치  암의 개수     암의 장경  NG  ...  ER  \\\n",
       "976 -2.522114  2010-02-05    0      1      0 -0.793655   3  ...   1   \n",
       "668 -1.208969  2011-10-13    3      0      0 -0.881586   1  ...   1   \n",
       "836 -0.596168  2007-11-13    0      1      0 -0.617792   0  ...   1   \n",
       "479  0.716977  2013-12-09    0      2      0 -1.233311   1  ...   1   \n",
       "83  -0.946340  2020-05-07    0      0      1 -0.705724   2  ...   1   \n",
       "..        ...         ...  ...    ...    ...       ...  ..  ...  ..   \n",
       "80   0.541891  2020-01-08    0      1      0  0.437383   2  ...   1   \n",
       "994 -0.946340  2009-01-16    0      1      0 -0.705724   1  ...   0   \n",
       "908  0.541891  2007-03-02    0      1      0  0.613245   2  ...   1   \n",
       "931  0.804520  2007-01-16    0      1      0  1.228764   2  ...   1   \n",
       "960 -0.683711  2010-05-14    1      0      0  1.492558   2  ...   1   \n",
       "\n",
       "     ER_Allred_score  PR  PR_Allred_score  KI-67_LI_percent  HER2  HER2_IHC  \\\n",
       "976         0.017689   1        -0.367095         -0.784134     0         0   \n",
       "668         0.619883   1         1.237691         -0.784134     1         2   \n",
       "836        -1.487795   1        -0.902024         -0.784134     0         0   \n",
       "479         0.920980   1         0.435298         -0.512041     1         2   \n",
       "83          0.318786   1         0.167834          0.938215     0         0   \n",
       "..               ...  ..              ...               ...   ...       ...   \n",
       "80          0.619883   1         0.702763          0.316210     0         0   \n",
       "994        -1.487795   0        -0.902024         -0.784134     0         1   \n",
       "908        -1.487795   1        -0.902024         -0.784134     0         0   \n",
       "931        -1.487795   1        -0.902024         -0.784134     0         0   \n",
       "960         0.017689   1         0.167834         -0.784134     1         2   \n",
       "\n",
       "     HER2_SISH  HER2_SISH_ratio  BRCA_mutation  \n",
       "976          0         -0.25997              0  \n",
       "668          0         -0.25997              0  \n",
       "836          0         -0.25997              0  \n",
       "479          0         -0.25997              0  \n",
       "83           0         -0.25997              0  \n",
       "..         ...              ...            ...  \n",
       "80           0         -0.25997              0  \n",
       "994          0         -0.25997              0  \n",
       "908          0         -0.25997              0  \n",
       "931          0         -0.25997              0  \n",
       "960          0         -0.25997              0  \n",
       "\n",
       "[800 rows x 27 columns]"
      ]
     },
     "execution_count": 27,
     "metadata": {},
     "output_type": "execute_result"
    }
   ],
   "source": [
    "train_df"
   ]
  },
  {
   "cell_type": "code",
   "execution_count": 25,
   "metadata": {
    "ExecuteTime": {
     "end_time": "2022-11-16T08:33:57.934990Z",
     "start_time": "2022-11-16T08:33:56.055074Z"
    },
    "execution": {
     "iopub.execute_input": "2022-11-16T11:35:17.866769Z",
     "iopub.status.busy": "2022-11-16T11:35:17.866498Z",
     "iopub.status.idle": "2022-11-16T11:35:18.681628Z",
     "shell.execute_reply": "2022-11-16T11:35:18.680285Z",
     "shell.execute_reply.started": "2022-11-16T11:35:17.866745Z"
    },
    "id": "CTvzqSo66nLo",
    "tags": []
   },
   "outputs": [
    {
     "ename": "AttributeError",
     "evalue": "'DataFrame' object has no attribute 'image'",
     "output_type": "error",
     "traceback": [
      "\u001b[0;31m---------------------------------------------------------------------------\u001b[0m",
      "\u001b[0;31mAttributeError\u001b[0m                            Traceback (most recent call last)",
      "Input \u001b[0;32mIn [25]\u001b[0m, in \u001b[0;36m<cell line: 14>\u001b[0;34m()\u001b[0m\n\u001b[1;32m     10\u001b[0m     images[:, :, :, \u001b[38;5;241m2\u001b[39m] \u001b[38;5;241m-\u001b[39m\u001b[38;5;241m=\u001b[39m m2\n\u001b[1;32m     11\u001b[0m     \u001b[38;5;28;01mreturn\u001b[39;00m images\n\u001b[0;32m---> 14\u001b[0m trainimages \u001b[38;5;241m=\u001b[39m prepareimages(\u001b[38;5;28mlist\u001b[39m(\u001b[43mtrain_df\u001b[49m\u001b[38;5;241;43m.\u001b[39;49m\u001b[43mimage\u001b[49m))\n\u001b[1;32m     15\u001b[0m testimages \u001b[38;5;241m=\u001b[39m prepareimages(\u001b[38;5;28mlist\u001b[39m(test_df\u001b[38;5;241m.\u001b[39mimage))\n\u001b[1;32m     16\u001b[0m validationimages \u001b[38;5;241m=\u001b[39m prepareimages(\u001b[38;5;28mlist\u001b[39m(val_df\u001b[38;5;241m.\u001b[39mimage))\n",
      "File \u001b[0;32m/opt/homebrew/Caskroom/miniforge/base/envs/alex/lib/python3.9/site-packages/pandas/core/generic.py:5575\u001b[0m, in \u001b[0;36mNDFrame.__getattr__\u001b[0;34m(self, name)\u001b[0m\n\u001b[1;32m   5568\u001b[0m \u001b[38;5;28;01mif\u001b[39;00m (\n\u001b[1;32m   5569\u001b[0m     name \u001b[38;5;129;01mnot\u001b[39;00m \u001b[38;5;129;01min\u001b[39;00m \u001b[38;5;28mself\u001b[39m\u001b[38;5;241m.\u001b[39m_internal_names_set\n\u001b[1;32m   5570\u001b[0m     \u001b[38;5;129;01mand\u001b[39;00m name \u001b[38;5;129;01mnot\u001b[39;00m \u001b[38;5;129;01min\u001b[39;00m \u001b[38;5;28mself\u001b[39m\u001b[38;5;241m.\u001b[39m_metadata\n\u001b[1;32m   5571\u001b[0m     \u001b[38;5;129;01mand\u001b[39;00m name \u001b[38;5;129;01mnot\u001b[39;00m \u001b[38;5;129;01min\u001b[39;00m \u001b[38;5;28mself\u001b[39m\u001b[38;5;241m.\u001b[39m_accessors\n\u001b[1;32m   5572\u001b[0m     \u001b[38;5;129;01mand\u001b[39;00m \u001b[38;5;28mself\u001b[39m\u001b[38;5;241m.\u001b[39m_info_axis\u001b[38;5;241m.\u001b[39m_can_hold_identifiers_and_holds_name(name)\n\u001b[1;32m   5573\u001b[0m ):\n\u001b[1;32m   5574\u001b[0m     \u001b[38;5;28;01mreturn\u001b[39;00m \u001b[38;5;28mself\u001b[39m[name]\n\u001b[0;32m-> 5575\u001b[0m \u001b[38;5;28;01mreturn\u001b[39;00m \u001b[38;5;28;43mobject\u001b[39;49m\u001b[38;5;241;43m.\u001b[39;49m\u001b[38;5;21;43m__getattribute__\u001b[39;49m\u001b[43m(\u001b[49m\u001b[38;5;28;43mself\u001b[39;49m\u001b[43m,\u001b[49m\u001b[43m \u001b[49m\u001b[43mname\u001b[49m\u001b[43m)\u001b[49m\n",
      "\u001b[0;31mAttributeError\u001b[0m: 'DataFrame' object has no attribute 'image'"
     ]
    }
   ],
   "source": [
    "def prepareimages(images):\n",
    "    # images is a list of images\n",
    "    images = np.asarray(images).astype(np.float64)\n",
    "    images = images[:, :, :, ::-1]\n",
    "    m0 = np.mean(images[:, :, :, 0])\n",
    "    m1 = np.mean(images[:, :, :, 1])\n",
    "    m2 = np.mean(images[:, :, :, 2])\n",
    "    images[:, :, :, 0] -= m0\n",
    "    images[:, :, :, 1] -= m1\n",
    "    images[:, :, :, 2] -= m2\n",
    "    return images\n",
    "\n",
    "\n",
    "trainimages = prepareimages(list(train_df.image))\n",
    "testimages = prepareimages(list(test_df.image))\n",
    "validationimages = prepareimages(list(val_df.image))\n",
    "trainlabels = np.asarray(train_labels)\n",
    "testlabels = np.asarray(test_labels)\n",
    "validationlabels = np.asarray(val_labels)"
   ]
  },
  {
   "cell_type": "code",
   "execution_count": 26,
   "metadata": {
    "ExecuteTime": {
     "end_time": "2022-11-16T08:34:01.435216Z",
     "start_time": "2022-11-16T08:33:57.936549Z"
    },
    "execution": {
     "iopub.execute_input": "2022-09-10T12:37:03.682785Z",
     "iopub.status.busy": "2022-09-10T12:37:03.680871Z",
     "iopub.status.idle": "2022-09-10T12:37:06.16512Z",
     "shell.execute_reply": "2022-09-10T12:37:06.163471Z",
     "shell.execute_reply.started": "2022-09-10T12:37:03.682734Z"
    },
    "id": "XuxUvqHL6nLp",
    "papermill": {
     "duration": 0.386038,
     "end_time": "2021-06-08T00:26:51.400628",
     "exception": false,
     "start_time": "2021-06-08T00:26:51.01459",
     "status": "completed"
    },
    "tags": []
   },
   "outputs": [],
   "source": [
    "image_shape = (CFG['img_height'], CFG['img_width'], 3)\n",
    "\n",
    "trainimages = trainimages.reshape(trainimages.shape[0], *image_shape)\n",
    "\n",
    "data_gen = ImageDataGenerator(\n",
    "    rotation_range = CFG['ROTATION_RANGE'],    # randomly rotate images in the range (degrees, 0 to 180)\n",
    "    zoom_range = CFG['ZOOM_RANGE'],            # Randomly zoom image \n",
    "    width_shift_range = CFG['WSHIFT_RANGE'],   # randomly shift images horizontally\n",
    "    height_shift_range = CFG['HSHIFT_RANGE'],  # randomly shift images vertically\n",
    "    horizontal_flip=CFG['HFLIP'],              # randomly flip images\n",
    "    vertical_flip=CFG['VFLIP']                 # randomly flip images\n",
    ")\n",
    "data_gen.fit(trainimages)"
   ]
  },
  {
   "cell_type": "markdown",
   "metadata": {
    "execution": {
     "iopub.execute_input": "2021-06-06T15:25:49.684653Z",
     "iopub.status.busy": "2021-06-06T15:25:49.684302Z",
     "iopub.status.idle": "2021-06-06T15:25:49.689686Z",
     "shell.execute_reply": "2021-06-06T15:25:49.688632Z",
     "shell.execute_reply.started": "2021-06-06T15:25:49.684615Z"
    },
    "id": "bndsDl6R6nLp",
    "papermill": {
     "duration": 0.061971,
     "end_time": "2021-06-08T00:26:51.788731",
     "exception": false,
     "start_time": "2021-06-08T00:26:51.72676",
     "status": "completed"
    },
    "tags": []
   },
   "source": [
    "# 7. Model"
   ]
  },
  {
   "cell_type": "markdown",
   "metadata": {
    "id": "aPpNrqvg6nLp",
    "papermill": {
     "duration": 0.06012,
     "end_time": "2021-06-08T00:26:51.909336",
     "exception": false,
     "start_time": "2021-06-08T00:26:51.849216",
     "status": "completed"
    },
    "tags": []
   },
   "source": [
    "# 7.1 Build the model"
   ]
  },
  {
   "cell_type": "code",
   "execution_count": 27,
   "metadata": {
    "ExecuteTime": {
     "end_time": "2022-11-16T08:34:01.443094Z",
     "start_time": "2022-11-16T08:34:01.437893Z"
    },
    "execution": {
     "iopub.execute_input": "2022-09-10T12:37:06.168976Z",
     "iopub.status.busy": "2022-09-10T12:37:06.167914Z",
     "iopub.status.idle": "2022-09-10T12:37:06.18089Z",
     "shell.execute_reply": "2022-09-10T12:37:06.179178Z",
     "shell.execute_reply.started": "2022-09-10T12:37:06.168918Z"
    },
    "id": "sH8BsvQN6nLp",
    "papermill": {
     "duration": 2.94544,
     "end_time": "2021-06-08T00:26:54.915533",
     "exception": false,
     "start_time": "2021-06-08T00:26:51.970093",
     "status": "completed"
    },
    "tags": []
   },
   "outputs": [],
   "source": [
    "def build_model(\n",
    "    base_model,\n",
    "    base_model_name,\n",
    "    model_optimizer,\n",
    "    raw_model = False,\n",
    "    last_trainable_layers = CFG['last_trainable_layers'],\n",
    "    model_loss = 'sparse_categorical_crossentropy'\n",
    "):\n",
    "    print(f'Building {base_model_name} model...')\n",
    "\n",
    "    # We reduce significantly number of trainable parameters by freezing certain layers,\n",
    "    # excluding from training, i.e. their weights will never be updated\n",
    "    for layer in base_model.layers:\n",
    "        layer.trainable = False\n",
    "\n",
    "    if 0 < last_trainable_layers < len(base_model.layers):\n",
    "        for layer in base_model.layers[-last_trainable_layers:]:\n",
    "            layer.trainable = True\n",
    "\n",
    "    if raw_model == True:\n",
    "        model = base_model\n",
    "    else:\n",
    "        model = Sequential([\n",
    "            base_model,\n",
    "\n",
    "            Dropout(0.5),\n",
    "            Dense(128, activation=\"relu\", kernel_regularizer=regularizers.l2(0.02)),\n",
    "\n",
    "            Dropout(0.5),\n",
    "            Dense(num_classes, activation='sigmoid', kernel_regularizer=regularizers.l2(0.02)) # num classes = 9\n",
    "        ])\n",
    "\n",
    "    model.compile(\n",
    "        optimizer = model_optimizer,\n",
    "      # loss = tf.keras.losses.BinaryCrossentropy(label_smoothing = CFG['label_smooth_fac']),\n",
    "        loss = model_loss,\n",
    "        metrics=['accuracy']\n",
    "    )\n",
    "    \n",
    "    return model"
   ]
  },
  {
   "cell_type": "markdown",
   "metadata": {
    "id": "QJsGkk1k6nLp",
    "papermill": {
     "duration": 0.065201,
     "end_time": "2021-06-08T00:26:55.234629",
     "exception": false,
     "start_time": "2021-06-08T00:26:55.169428",
     "status": "completed"
    },
    "tags": []
   },
   "source": [
    "# 7.2 Visualize model"
   ]
  },
  {
   "cell_type": "code",
   "execution_count": 28,
   "metadata": {
    "ExecuteTime": {
     "end_time": "2022-11-16T08:34:01.446808Z",
     "start_time": "2022-11-16T08:34:01.444104Z"
    },
    "execution": {
     "iopub.execute_input": "2022-09-10T12:37:06.186189Z",
     "iopub.status.busy": "2022-09-10T12:37:06.18508Z",
     "iopub.status.idle": "2022-09-10T12:37:06.196104Z",
     "shell.execute_reply": "2022-09-10T12:37:06.19449Z",
     "shell.execute_reply.started": "2022-09-10T12:37:06.186135Z"
    },
    "id": "Up6JJ5nM6nLp",
    "papermill": {
     "duration": 0.091053,
     "end_time": "2021-06-08T00:26:55.545674",
     "exception": false,
     "start_time": "2021-06-08T00:26:55.454621",
     "status": "completed"
    },
    "tags": []
   },
   "outputs": [],
   "source": [
    "def visualize_model(model, model_name):\n",
    "    print(model.summary())\n",
    "    return plot_model(model, to_file=f'{model_name}_plot.png', show_shapes=True, show_layer_names=True)"
   ]
  },
  {
   "cell_type": "markdown",
   "metadata": {
    "id": "HCyS_dir6nLp",
    "papermill": {
     "duration": 0.069285,
     "end_time": "2021-06-08T00:26:56.255496",
     "exception": false,
     "start_time": "2021-06-08T00:26:56.186211",
     "status": "completed"
    },
    "tags": []
   },
   "source": [
    "# 8. Fit model"
   ]
  },
  {
   "cell_type": "code",
   "execution_count": 29,
   "metadata": {
    "ExecuteTime": {
     "end_time": "2022-11-16T08:34:01.449811Z",
     "start_time": "2022-11-16T08:34:01.447843Z"
    },
    "execution": {
     "iopub.execute_input": "2022-09-10T12:37:06.199981Z",
     "iopub.status.busy": "2022-09-10T12:37:06.198812Z",
     "iopub.status.idle": "2022-09-10T12:37:06.2141Z",
     "shell.execute_reply": "2022-09-10T12:37:06.212081Z",
     "shell.execute_reply.started": "2022-09-10T12:37:06.199921Z"
    },
    "id": "qTamg0X_6nLp"
   },
   "outputs": [],
   "source": [
    "class GCCollectCallback(Callback):\n",
    "    def on_epoch_end(self, epoch, logs=None):\n",
    "        gc.collect()"
   ]
  },
  {
   "cell_type": "code",
   "execution_count": 30,
   "metadata": {
    "ExecuteTime": {
     "end_time": "2022-11-16T08:34:01.455807Z",
     "start_time": "2022-11-16T08:34:01.452218Z"
    },
    "execution": {
     "iopub.execute_input": "2022-09-10T12:37:06.21725Z",
     "iopub.status.busy": "2022-09-10T12:37:06.216347Z",
     "iopub.status.idle": "2022-09-10T12:37:06.231355Z",
     "shell.execute_reply": "2022-09-10T12:37:06.229862Z",
     "shell.execute_reply.started": "2022-09-10T12:37:06.2172Z"
    },
    "id": "Rwrkf6B66nLp",
    "papermill": {
     "duration": 1675.154567,
     "end_time": "2021-06-08T00:54:51.47981",
     "exception": false,
     "start_time": "2021-06-08T00:26:56.325243",
     "status": "completed"
    },
    "tags": []
   },
   "outputs": [],
   "source": [
    "def fit_model(\n",
    "    model,\n",
    "    model_name,\n",
    "    trainimages,\n",
    "    trainlabels,\n",
    "    validationimages,\n",
    "    validationlabels,\n",
    "    early_stopper_patience = CFG['stopper_patience'],\n",
    "    epochs = CFG['epochs'],\n",
    "    batch_size = CFG['batch_size']\n",
    "):\n",
    "    # tf.function - decorated function tried to create variables on non-first call'. \n",
    "    tf.config.run_functions_eagerly(CFG['run_functions_eagerly']) # otherwise error\n",
    "\n",
    "    print(f'Fitting {model_name} model...')\n",
    "    # https://www.tensorflow.org/api_docs/python/tf/keras/callbacks/ModelCheckpoint\n",
    "    cb_early_stopper = EarlyStopping(monitor = 'val_loss', patience = early_stopper_patience)\n",
    "    cb_checkpointer  = ModelCheckpoint(\n",
    "        filepath=f'model/{model_name}.hdf5',\n",
    "      # filepath = CFG['path_model']+'ResNet50-{epoch:02d}-{val_loss:.2f}.hdf5',\n",
    "        monitor  = 'val_loss',\n",
    "        save_best_only=True, \n",
    "        mode='min'\n",
    "    )\n",
    "\n",
    "    callbacks_list = [cb_checkpointer, cb_early_stopper]\n",
    "\n",
    "    history = model.fit(\n",
    "        data_gen.flow(trainimages, trainlabels, batch_size = batch_size),\n",
    "        epochs = epochs,\n",
    "        validation_data = data_gen.flow(validationimages, validationlabels, batch_size = batch_size),\n",
    "        verbose = CFG['verbose'],\n",
    "        steps_per_epoch=trainimages.shape[0] // batch_size,                   \n",
    "        callbacks=[cb_checkpointer, cb_early_stopper] # We can add GCCollectCallback() to save memory\n",
    "    )\n",
    "\n",
    "    return history"
   ]
  },
  {
   "cell_type": "markdown",
   "metadata": {
    "id": "FKHvIBHm6nLp",
    "papermill": {
     "duration": 0.874437,
     "end_time": "2021-06-08T00:54:53.741483",
     "exception": false,
     "start_time": "2021-06-08T00:54:52.867046",
     "status": "completed"
    },
    "tags": []
   },
   "source": [
    "# 9. Visualize performance"
   ]
  },
  {
   "cell_type": "code",
   "execution_count": 31,
   "metadata": {
    "ExecuteTime": {
     "end_time": "2022-11-16T08:34:01.460069Z",
     "start_time": "2022-11-16T08:34:01.456747Z"
    },
    "execution": {
     "iopub.execute_input": "2022-09-10T12:37:07.680585Z",
     "iopub.status.busy": "2022-09-10T12:37:07.680086Z",
     "iopub.status.idle": "2022-09-10T12:37:07.693266Z",
     "shell.execute_reply": "2022-09-10T12:37:07.691759Z",
     "shell.execute_reply.started": "2022-09-10T12:37:07.680549Z"
    },
    "id": "6XHsC6pE6nLp",
    "papermill": {
     "duration": 1.169291,
     "end_time": "2021-06-08T00:54:55.819397",
     "exception": false,
     "start_time": "2021-06-08T00:54:54.650106",
     "status": "completed"
    },
    "tags": []
   },
   "outputs": [],
   "source": [
    "def visualize_performance(model_name, history, fontsize = CFG['fontsize']):\n",
    "    acc = history.history['accuracy']\n",
    "    val_acc = history.history['val_accuracy']\n",
    "\n",
    "    loss = history.history['loss']\n",
    "    val_loss = history.history['val_loss']\n",
    "\n",
    "    metrics = history.history['accuracy']\n",
    "    epochs_range = range(1, len(metrics) + 1) \n",
    "\n",
    "    plt.figure(figsize=(23, 8))\n",
    "    plt.subplot(1, 2, 1)\n",
    "    plt.plot(epochs_range, acc, label='Training Accuracy')\n",
    "    plt.plot(epochs_range, val_acc, label='Validation Accuracy')\n",
    "    plt.legend(loc='lower right')\n",
    "    plt.title('Training and Validation Accuracy')\n",
    "\n",
    "    plt.subplot(1, 2, 2)\n",
    "    plt.plot(epochs_range, loss, label='Training Loss')\n",
    "    plt.plot(epochs_range, val_loss, label='Validation Loss')\n",
    "    plt.legend(loc='upper right')\n",
    "    plt.title('Training and Validation Loss')\n",
    "\n",
    "    plt.suptitle(f'Accuracy & Loss for {model_name} model', fontsize=fontsize)\n",
    "    plt.show()"
   ]
  },
  {
   "cell_type": "markdown",
   "metadata": {
    "id": "5hGKdWVZ6nLq",
    "papermill": {
     "duration": 0.878365,
     "end_time": "2021-06-08T00:54:57.550612",
     "exception": false,
     "start_time": "2021-06-08T00:54:56.672247",
     "status": "completed"
    },
    "tags": []
   },
   "source": [
    "# 10. Evaluate on test"
   ]
  },
  {
   "cell_type": "code",
   "execution_count": 32,
   "metadata": {
    "ExecuteTime": {
     "end_time": "2022-11-16T08:34:01.463790Z",
     "start_time": "2022-11-16T08:34:01.461220Z"
    },
    "execution": {
     "iopub.execute_input": "2022-09-10T12:37:09.84724Z",
     "iopub.status.busy": "2022-09-10T12:37:09.846778Z",
     "iopub.status.idle": "2022-09-10T12:37:09.857654Z",
     "shell.execute_reply": "2022-09-10T12:37:09.855911Z",
     "shell.execute_reply.started": "2022-09-10T12:37:09.847206Z"
    },
    "id": "QQu0tEP86nLq"
   },
   "outputs": [],
   "source": [
    "def evaluate_model(\n",
    "    model_name,\n",
    "    trainimages,\n",
    "    trainlabels,\n",
    "    validationimages,\n",
    "    validationlabels,\n",
    "    testimages,\n",
    "    testlabels\n",
    "):\n",
    "    print(f'Evaluating {model_name} model...\\n')\n",
    "    model = load_model(f'./model/{model_name}.hdf5') # Loads the best fit model\n",
    "\n",
    "    print(\"Train loss = {}  ;  Train accuracy = {:.2%}\\n\".format(*model.evaluate(trainimages, trainlabels, verbose = CFG['verbose'])))\n",
    "\n",
    "    print(\"Validation loss = {}  ;  Validation accuracy = {:.2%}\\n\".format(*model.evaluate(validationimages, validationlabels, verbose = CFG['verbose'])))\n",
    "\n",
    "    test_loss, test_acc = model.evaluate(testimages, testlabels, verbose = CFG['verbose'])\n",
    "    print(f\"Test loss = {test_loss}  ;  Test accuracy = {test_acc:.2%}\")\n",
    "\n",
    "    return (model, test_loss, test_acc)"
   ]
  },
  {
   "cell_type": "code",
   "execution_count": 33,
   "metadata": {
    "ExecuteTime": {
     "end_time": "2022-11-16T08:34:01.466778Z",
     "start_time": "2022-11-16T08:34:01.464628Z"
    },
    "execution": {
     "iopub.execute_input": "2022-09-10T12:37:10.852369Z",
     "iopub.status.busy": "2022-09-10T12:37:10.850874Z",
     "iopub.status.idle": "2022-09-10T12:37:10.861301Z",
     "shell.execute_reply": "2022-09-10T12:37:10.859463Z",
     "shell.execute_reply.started": "2022-09-10T12:37:10.852316Z"
    },
    "id": "OAcUSUS46nLq",
    "papermill": {
     "duration": 10.305901,
     "end_time": "2021-06-08T00:55:08.718794",
     "exception": false,
     "start_time": "2021-06-08T00:54:58.412893",
     "status": "completed"
    },
    "scrolled": true,
    "tags": []
   },
   "outputs": [],
   "source": [
    "def computing_prediction(model, model_name, trainimages, testimages):\n",
    "    print(f'Computing predictions for {model_name}...')\n",
    "    train_pred = model.predict(trainimages)\n",
    "    train_pred_classes = np.argmax(train_pred,axis = 1)\n",
    "    test_pred = model.predict(testimages)\n",
    "    # Convert predictions classes to one hot vectors\n",
    "    test_pred_classes = np.argmax(test_pred,axis = 1)\n",
    "\n",
    "    return train_pred, train_pred_classes, test_pred, test_pred_classes"
   ]
  },
  {
   "cell_type": "markdown",
   "metadata": {
    "id": "TtVJxEAw6nLq",
    "papermill": {
     "duration": 1.012659,
     "end_time": "2021-06-08T00:55:23.230618",
     "exception": false,
     "start_time": "2021-06-08T00:55:22.217959",
     "status": "completed"
    },
    "tags": []
   },
   "source": [
    "# 11. Compare test_pred with Ground Truth (train_pred)"
   ]
  },
  {
   "cell_type": "code",
   "execution_count": 34,
   "metadata": {
    "ExecuteTime": {
     "end_time": "2022-11-16T08:34:01.471539Z",
     "start_time": "2022-11-16T08:34:01.467637Z"
    },
    "execution": {
     "iopub.execute_input": "2022-09-10T12:37:12.454851Z",
     "iopub.status.busy": "2022-09-10T12:37:12.452605Z",
     "iopub.status.idle": "2022-09-10T12:37:12.466688Z",
     "shell.execute_reply": "2022-09-10T12:37:12.464973Z",
     "shell.execute_reply.started": "2022-09-10T12:37:12.454786Z"
    },
    "id": "5tzGKLtK6nLq"
   },
   "outputs": [],
   "source": [
    "def model_report(\n",
    "    model_name,\n",
    "    trainlabels,\n",
    "    train_pred_classes,\n",
    "    testlabels,\n",
    "    test_pred_classes,\n",
    "    lesion_type_dict,\n",
    "    fontsize = CFG['fontsize']\n",
    "):\n",
    "    print(f'Model report for {model_name} model ->\\n\\n')\n",
    "    print(\"Train Report :\\n\", classification_report(trainlabels, train_pred_classes, target_names=lesion_type_dict.values()))\n",
    "    print(\"Test Report :\\n\", classification_report(testlabels, test_pred_classes, target_names=lesion_type_dict.values()))\n",
    "\n",
    "    cm = confusion_matrix(testlabels, test_pred_classes)\n",
    "\n",
    "    fig = plt.figure(figsize=(12, 8))\n",
    "    df_cm = pd.DataFrame(cm, index=lesion_type_dict.values(), columns=lesion_type_dict.values())\n",
    "\n",
    "    try:\n",
    "        heatmap = sns.heatmap(df_cm, annot=True, fmt=\"d\", cbar=False, cmap='Blues')\n",
    "    except ValueError:\n",
    "        raise ValueError(\"Confusion matrix values must be integers.\")\n",
    "\n",
    "    heatmap.yaxis.set_ticklabels(heatmap.yaxis.get_ticklabels(), rotation=0, ha='right', fontsize=fontsize)\n",
    "    heatmap.xaxis.set_ticklabels(heatmap.xaxis.get_ticklabels(), rotation=45, ha='right', fontsize=fontsize)\n",
    "    plt.ylabel('True label', fontsize=fontsize)\n",
    "    plt.xlabel('Predicted label', fontsize=fontsize)\n",
    "\n",
    "    plt.tight_layout()\n",
    "    plt.subplots_adjust(top=0.95)\n",
    "    plt.title(f'Confusion Matrix for Multiclass Classifcation ({model_name})', fontsize=fontsize)\n",
    "    plt.show()"
   ]
  },
  {
   "cell_type": "markdown",
   "metadata": {
    "id": "9zlH6VGx6nLq"
   },
   "source": [
    "# 12. ResNet50 model"
   ]
  },
  {
   "cell_type": "code",
   "execution_count": 35,
   "metadata": {
    "ExecuteTime": {
     "end_time": "2022-11-16T08:34:01.474198Z",
     "start_time": "2022-11-16T08:34:01.472603Z"
    },
    "execution": {
     "iopub.execute_input": "2022-09-10T12:37:14.117255Z",
     "iopub.status.busy": "2022-09-10T12:37:14.11678Z",
     "iopub.status.idle": "2022-09-10T12:37:14.123964Z",
     "shell.execute_reply": "2022-09-10T12:37:14.122059Z",
     "shell.execute_reply.started": "2022-09-10T12:37:14.117219Z"
    },
    "id": "I6lxwJe-6nLq"
   },
   "outputs": [],
   "source": [
    "ResNet50_name = 'ResNet50'"
   ]
  },
  {
   "cell_type": "code",
   "execution_count": 36,
   "metadata": {
    "ExecuteTime": {
     "end_time": "2022-11-16T08:34:03.154271Z",
     "start_time": "2022-11-16T08:34:01.475104Z"
    },
    "execution": {
     "iopub.execute_input": "2022-09-10T09:26:21.815068Z",
     "iopub.status.busy": "2022-09-10T09:26:21.814273Z",
     "iopub.status.idle": "2022-09-10T09:26:31.40782Z",
     "shell.execute_reply": "2022-09-10T09:26:31.406429Z",
     "shell.execute_reply.started": "2022-09-10T09:26:21.815035Z"
    },
    "id": "8jKgmoow6nLq",
    "outputId": "64c04938-32c9-4ccc-a364-98ea72b5345c"
   },
   "outputs": [
    {
     "name": "stdout",
     "output_type": "stream",
     "text": [
      "Metal device set to: Apple M1 Pro\n",
      "Building ResNet50 model...\n"
     ]
    }
   ],
   "source": [
    "resnet50 = ResNet50(\n",
    "    include_top=False,\n",
    "    input_shape=image_shape,\n",
    "    pooling = 'avg',\n",
    "    weights='imagenet'\n",
    ")\n",
    "\n",
    "Resnet50_model = build_model(\n",
    "    base_model = resnet50,\n",
    "    base_model_name = ResNet50_name,\n",
    "    model_optimizer = Adam(lr=0.001, beta_1=0.9, beta_2=0.999, epsilon=None, decay=1e-6, amsgrad=False)\n",
    ")"
   ]
  },
  {
   "cell_type": "code",
   "execution_count": 37,
   "metadata": {
    "ExecuteTime": {
     "end_time": "2022-11-16T08:34:03.166130Z",
     "start_time": "2022-11-16T08:34:03.155375Z"
    },
    "execution": {
     "iopub.execute_input": "2022-09-10T09:26:31.412554Z",
     "iopub.status.busy": "2022-09-10T09:26:31.411713Z",
     "iopub.status.idle": "2022-09-10T09:26:32.918877Z",
     "shell.execute_reply": "2022-09-10T09:26:32.91725Z",
     "shell.execute_reply.started": "2022-09-10T09:26:31.412505Z"
    },
    "id": "Ty0Lgun26nLq",
    "outputId": "03f0a331-ea4d-409b-f0c3-12b5b819e483"
   },
   "outputs": [
    {
     "name": "stdout",
     "output_type": "stream",
     "text": [
      "Model: \"sequential\"\n",
      "_________________________________________________________________\n",
      " Layer (type)                Output Shape              Param #   \n",
      "=================================================================\n",
      " resnet50 (Functional)       (None, 2048)              23587712  \n",
      "                                                                 \n",
      " dropout (Dropout)           (None, 2048)              0         \n",
      "                                                                 \n",
      " dense (Dense)               (None, 128)               262272    \n",
      "                                                                 \n",
      " dropout_1 (Dropout)         (None, 128)               0         \n",
      "                                                                 \n",
      " dense_1 (Dense)             (None, 2)                 258       \n",
      "                                                                 \n",
      "=================================================================\n",
      "Total params: 23,850,242\n",
      "Trainable params: 262,530\n",
      "Non-trainable params: 23,587,712\n",
      "_________________________________________________________________\n",
      "None\n",
      "You must install pydot (`pip install pydot`) and install graphviz (see instructions at https://graphviz.gitlab.io/download/) for plot_model to work.\n"
     ]
    }
   ],
   "source": [
    "visualize_model(model = Resnet50_model, model_name = ResNet50_name)"
   ]
  },
  {
   "cell_type": "code",
   "execution_count": 38,
   "metadata": {
    "ExecuteTime": {
     "end_time": "2022-11-16T08:36:08.846354Z",
     "start_time": "2022-11-16T08:34:03.167343Z"
    },
    "execution": {
     "iopub.execute_input": "2022-09-10T09:26:37.21633Z",
     "iopub.status.busy": "2022-09-10T09:26:37.215862Z",
     "iopub.status.idle": "2022-09-10T09:58:38.281116Z",
     "shell.execute_reply": "2022-09-10T09:58:38.27964Z",
     "shell.execute_reply.started": "2022-09-10T09:26:37.216284Z"
    },
    "id": "qfHOWguT6nLq",
    "outputId": "07b01b2f-7c66-4961-fed2-fbf1b1e2d68c"
   },
   "outputs": [
    {
     "name": "stdout",
     "output_type": "stream",
     "text": [
      "Fitting ResNet50 model...\n",
      "Epoch 1/5\n",
      "40/40 [==============================] - 27s 628ms/step - loss: 4.2082 - accuracy: 0.5275 - val_loss: 2.6629 - val_accuracy: 0.5700\n",
      "Epoch 2/5\n",
      "40/40 [==============================] - 24s 592ms/step - loss: 2.2372 - accuracy: 0.5950 - val_loss: 1.7917 - val_accuracy: 0.7400\n",
      "Epoch 3/5\n",
      "40/40 [==============================] - 24s 591ms/step - loss: 1.6045 - accuracy: 0.6312 - val_loss: 1.4157 - val_accuracy: 0.6800\n",
      "Epoch 4/5\n",
      "40/40 [==============================] - 24s 591ms/step - loss: 1.3423 - accuracy: 0.6225 - val_loss: 1.2304 - val_accuracy: 0.5800\n",
      "Epoch 5/5\n",
      "40/40 [==============================] - 25s 605ms/step - loss: 1.1882 - accuracy: 0.5900 - val_loss: 1.0694 - val_accuracy: 0.6700\n"
     ]
    }
   ],
   "source": [
    "history = fit_model(    \n",
    "    model = Resnet50_model,\n",
    "    model_name = ResNet50_name,\n",
    "    trainimages = trainimages,\n",
    "    trainlabels = trainlabels,\n",
    "    validationimages = validationimages,\n",
    "    validationlabels = validationlabels\n",
    ")"
   ]
  },
  {
   "cell_type": "code",
   "execution_count": 39,
   "metadata": {
    "ExecuteTime": {
     "end_time": "2022-11-16T08:36:09.210691Z",
     "start_time": "2022-11-16T08:36:08.847893Z"
    },
    "execution": {
     "iopub.execute_input": "2022-09-10T09:58:43.453058Z",
     "iopub.status.busy": "2022-09-10T09:58:43.452627Z",
     "iopub.status.idle": "2022-09-10T09:58:44.195773Z",
     "shell.execute_reply": "2022-09-10T09:58:44.193524Z",
     "shell.execute_reply.started": "2022-09-10T09:58:43.453026Z"
    },
    "id": "aqWp4zai6nLq",
    "outputId": "05056804-4ed6-4d17-bd51-5b24eeda4369"
   },
   "outputs": [
    {
     "data": {
      "image/png": "[encoded data removed]",
      "text/plain": [
       "<Figure size 2300x800 with 2 Axes>"
      ]
     },
     "metadata": {},
     "output_type": "display_data"
    }
   ],
   "source": [
    "visualize_performance(\n",
    "    model_name = ResNet50_name,\n",
    "    history = history\n",
    ")"
   ]
  },
  {
   "cell_type": "code",
   "execution_count": 40,
   "metadata": {
    "ExecuteTime": {
     "end_time": "2022-11-16T08:36:42.412616Z",
     "start_time": "2022-11-16T08:36:09.212152Z"
    },
    "execution": {
     "iopub.execute_input": "2022-09-10T10:08:34.834538Z",
     "iopub.status.busy": "2022-09-10T10:08:34.833613Z",
     "iopub.status.idle": "2022-09-10T10:08:59.221738Z",
     "shell.execute_reply": "2022-09-10T10:08:59.220184Z",
     "shell.execute_reply.started": "2022-09-10T10:08:34.834426Z"
    },
    "id": "kom1e05c6nLr",
    "outputId": "e4064cd2-95a6-41b1-8a69-fddfe0f261d2"
   },
   "outputs": [
    {
     "name": "stdout",
     "output_type": "stream",
     "text": [
      "Evaluating ResNet50 model...\n",
      "\n",
      "25/25 [==============================] - 18s 683ms/step - loss: 1.0722 - accuracy: 0.6925\n",
      "Train loss = 1.0722068548202515  ;  Train accuracy = 69.25%\n",
      "\n",
      "4/4 [==============================] - 3s 662ms/step - loss: 1.0861 - accuracy: 0.7000\n",
      "Validation loss = 1.0860601663589478  ;  Validation accuracy = 70.00%\n",
      "\n",
      "4/4 [==============================] - 3s 546ms/step - loss: 1.0866 - accuracy: 0.6300\n",
      "Test loss = 1.0865826606750488  ;  Test accuracy = 63.00%\n"
     ]
    }
   ],
   "source": [
    "Resnet50_model, test_loss, ResNet50_test_acc = evaluate_model(\n",
    "    model_name = ResNet50_name,\n",
    "    trainimages = trainimages,\n",
    "    trainlabels = trainlabels,\n",
    "    validationimages = validationimages,\n",
    "    validationlabels = validationlabels,\n",
    "    testimages = testimages,\n",
    "    testlabels = testlabels\n",
    ")"
   ]
  },
  {
   "cell_type": "code",
   "execution_count": 41,
   "metadata": {
    "ExecuteTime": {
     "end_time": "2022-11-16T08:37:17.217305Z",
     "start_time": "2022-11-16T08:36:42.414897Z"
    },
    "execution": {
     "iopub.execute_input": "2022-09-10T10:09:20.463386Z",
     "iopub.status.busy": "2022-09-10T10:09:20.462928Z",
     "iopub.status.idle": "2022-09-10T10:09:36.498112Z",
     "shell.execute_reply": "2022-09-10T10:09:36.496497Z",
     "shell.execute_reply.started": "2022-09-10T10:09:20.46334Z"
    },
    "id": "e2xXPSkU6nLr",
    "outputId": "9f13e400-73f7-4acb-e0b1-a421f7cbe2be"
   },
   "outputs": [
    {
     "name": "stdout",
     "output_type": "stream",
     "text": [
      "Computing predictions for ResNet50...\n",
      "25/25 [==============================] - 26s 1s/step\n",
      "4/4 [==============================] - 4s 942ms/step\n"
     ]
    },
    {
     "data": {
      "text/plain": [
       "(array([[0.6272725 , 0.64484805],\n",
       "        [0.6927588 , 0.56968474],\n",
       "        [0.6573548 , 0.65745276],\n",
       "        [0.6327333 , 0.49313736],\n",
       "        [0.6238856 , 0.6150365 ],\n",
       "        [0.6415959 , 0.5821882 ],\n",
       "        [0.6422933 , 0.6047316 ],\n",
       "        [0.68859655, 0.57904136],\n",
       "        [0.6792793 , 0.749807  ],\n",
       "        [0.6725374 , 0.6895293 ],\n",
       "        [0.67790645, 0.6379881 ],\n",
       "        [0.6248287 , 0.7452787 ],\n",
       "        [0.5780132 , 0.63118684],\n",
       "        [0.6214073 , 0.610325  ],\n",
       "        [0.6332834 , 0.5132265 ],\n",
       "        [0.6890859 , 0.61130404],\n",
       "        [0.6950412 , 0.7987511 ],\n",
       "        [0.62181985, 0.5168632 ],\n",
       "        [0.6543122 , 0.60411745],\n",
       "        [0.6385578 , 0.6100391 ],\n",
       "        [0.68168384, 0.8108308 ],\n",
       "        [0.62984425, 0.65539134],\n",
       "        [0.63731784, 0.6369209 ],\n",
       "        [0.6113916 , 0.54928243],\n",
       "        [0.6610088 , 0.6584303 ],\n",
       "        [0.6839069 , 0.5782637 ],\n",
       "        [0.61801106, 0.66656965],\n",
       "        [0.6114459 , 0.58418655],\n",
       "        [0.6438291 , 0.5551908 ],\n",
       "        [0.6201298 , 0.5088316 ],\n",
       "        [0.6816555 , 0.7455959 ],\n",
       "        [0.67977226, 0.65897614],\n",
       "        [0.6401737 , 0.6453736 ],\n",
       "        [0.6543948 , 0.62960374],\n",
       "        [0.69149715, 0.6000651 ],\n",
       "        [0.70111895, 0.80371994],\n",
       "        [0.6506846 , 0.562518  ],\n",
       "        [0.6706438 , 0.7787681 ],\n",
       "        [0.6877947 , 0.8194801 ],\n",
       "        [0.6670379 , 0.66163844],\n",
       "        [0.6778053 , 0.6372416 ],\n",
       "        [0.6635839 , 0.72864246],\n",
       "        [0.65134305, 0.7161955 ],\n",
       "        [0.5947706 , 0.6702757 ],\n",
       "        [0.6034978 , 0.6168898 ],\n",
       "        [0.63194907, 0.71151245],\n",
       "        [0.63124907, 0.60717386],\n",
       "        [0.6226483 , 0.58015907],\n",
       "        [0.63318527, 0.58256406],\n",
       "        [0.62050736, 0.60274047],\n",
       "        [0.6360711 , 0.640139  ],\n",
       "        [0.6603562 , 0.54875517],\n",
       "        [0.673882  , 0.46957552],\n",
       "        [0.6633975 , 0.50632817],\n",
       "        [0.6453581 , 0.6433922 ],\n",
       "        [0.64142126, 0.5304915 ],\n",
       "        [0.67520773, 0.70580786],\n",
       "        [0.58265835, 0.6334663 ],\n",
       "        [0.6556443 , 0.6341293 ],\n",
       "        [0.68610287, 0.73114467],\n",
       "        [0.67027855, 0.60262245],\n",
       "        [0.64887965, 0.6718577 ],\n",
       "        [0.60663617, 0.7776246 ],\n",
       "        [0.67815876, 0.53722674],\n",
       "        [0.63327444, 0.57730967],\n",
       "        [0.60108787, 0.5264865 ],\n",
       "        [0.618892  , 0.52113736],\n",
       "        [0.61454576, 0.66991186],\n",
       "        [0.6203581 , 0.67858934],\n",
       "        [0.6706402 , 0.59809893],\n",
       "        [0.7384595 , 0.46118063],\n",
       "        [0.61468524, 0.600511  ],\n",
       "        [0.6425464 , 0.64218235],\n",
       "        [0.685323  , 0.5261493 ],\n",
       "        [0.6006355 , 0.684016  ],\n",
       "        [0.69379324, 0.59326565],\n",
       "        [0.6775862 , 0.77854   ],\n",
       "        [0.65404004, 0.49752632],\n",
       "        [0.65962285, 0.4500397 ],\n",
       "        [0.6258615 , 0.7886021 ],\n",
       "        [0.6181339 , 0.51580954],\n",
       "        [0.67236245, 0.8637809 ],\n",
       "        [0.62033814, 0.6226252 ],\n",
       "        [0.6194792 , 0.5945897 ],\n",
       "        [0.6337996 , 0.5704744 ],\n",
       "        [0.6523553 , 0.566168  ],\n",
       "        [0.6671217 , 0.6550018 ],\n",
       "        [0.69413793, 0.65215105],\n",
       "        [0.6256181 , 0.70804185],\n",
       "        [0.6739909 , 0.6289662 ],\n",
       "        [0.61736876, 0.49351767],\n",
       "        [0.64882565, 0.57822114],\n",
       "        [0.6219858 , 0.6080634 ],\n",
       "        [0.5960238 , 0.5666634 ],\n",
       "        [0.6513651 , 0.6639677 ],\n",
       "        [0.6871078 , 0.52863365],\n",
       "        [0.5811466 , 0.57731926],\n",
       "        [0.677207  , 0.64399546],\n",
       "        [0.68081015, 0.59586316],\n",
       "        [0.6080624 , 0.6014891 ]], dtype=float32),\n",
       " array([1, 0, 1, 0, 0, 0, 0, 0, 1, 1, 0, 1, 1, 0, 0, 0, 1, 0, 0, 0, 1, 1,\n",
       "        0, 0, 0, 0, 1, 0, 0, 0, 1, 0, 1, 0, 0, 1, 0, 1, 1, 0, 0, 1, 1, 1,\n",
       "        1, 1, 0, 0, 0, 0, 1, 0, 0, 0, 0, 0, 1, 1, 0, 1, 0, 1, 1, 0, 0, 0,\n",
       "        0, 1, 1, 0, 0, 0, 0, 0, 1, 0, 1, 0, 0, 1, 0, 1, 1, 0, 0, 0, 0, 0,\n",
       "        1, 0, 0, 0, 0, 0, 1, 0, 0, 0, 0, 0]))"
      ]
     },
     "execution_count": 41,
     "metadata": {},
     "output_type": "execute_result"
    }
   ],
   "source": [
    "train_pred, train_pred_classes, test_pred, test_pred_classes = computing_prediction(\n",
    "    model = Resnet50_model,\n",
    "    model_name = ResNet50_name,\n",
    "    trainimages = trainimages,\n",
    "    testimages = testimages\n",
    ")\n",
    "\n",
    "test_pred, test_pred_classes"
   ]
  },
  {
   "cell_type": "code",
   "execution_count": 43,
   "metadata": {
    "ExecuteTime": {
     "end_time": "2022-11-16T08:38:04.489979Z",
     "start_time": "2022-11-16T08:38:04.466096Z"
    },
    "execution": {
     "iopub.execute_input": "2022-09-10T10:09:58.919359Z",
     "iopub.status.busy": "2022-09-10T10:09:58.918872Z",
     "iopub.status.idle": "2022-09-10T10:09:59.643862Z",
     "shell.execute_reply": "2022-09-10T10:09:59.642493Z",
     "shell.execute_reply.started": "2022-09-10T10:09:58.919325Z"
    },
    "id": "w9MN3jov6nLr",
    "outputId": "1d8a37a7-ccaa-4d93-f8fc-a01cb6f51130"
   },
   "outputs": [
    {
     "ename": "TypeError",
     "evalue": "model_report() missing 1 required positional argument: 'lesion_type_dict'",
     "output_type": "error",
     "traceback": [
      "\u001b[0;31m---------------------------------------------------------------------------\u001b[0m",
      "\u001b[0;31mTypeError\u001b[0m                                 Traceback (most recent call last)",
      "Cell \u001b[0;32mIn [43], line 1\u001b[0m\n\u001b[0;32m----> 1\u001b[0m \u001b[43mmodel_report\u001b[49m\u001b[43m(\u001b[49m\n\u001b[1;32m      2\u001b[0m \u001b[43m    \u001b[49m\u001b[43mmodel_name\u001b[49m\u001b[43m \u001b[49m\u001b[38;5;241;43m=\u001b[39;49m\u001b[43m \u001b[49m\u001b[43mResNet50_name\u001b[49m\u001b[43m,\u001b[49m\n\u001b[1;32m      3\u001b[0m \u001b[43m    \u001b[49m\u001b[43mtrainlabels\u001b[49m\u001b[43m \u001b[49m\u001b[38;5;241;43m=\u001b[39;49m\u001b[43m \u001b[49m\u001b[43mtrainlabels\u001b[49m\u001b[43m,\u001b[49m\n\u001b[1;32m      4\u001b[0m \u001b[43m    \u001b[49m\u001b[43mtrain_pred_classes\u001b[49m\u001b[43m \u001b[49m\u001b[38;5;241;43m=\u001b[39;49m\u001b[43m \u001b[49m\u001b[43mtrain_pred_classes\u001b[49m\u001b[43m,\u001b[49m\n\u001b[1;32m      5\u001b[0m \u001b[43m    \u001b[49m\u001b[43mtestlabels\u001b[49m\u001b[43m \u001b[49m\u001b[38;5;241;43m=\u001b[39;49m\u001b[43m \u001b[49m\u001b[43mtestlabels\u001b[49m\u001b[43m,\u001b[49m\n\u001b[1;32m      6\u001b[0m \u001b[43m    \u001b[49m\u001b[43mtest_pred_classes\u001b[49m\u001b[43m \u001b[49m\u001b[38;5;241;43m=\u001b[39;49m\u001b[43m \u001b[49m\u001b[43mtest_pred_classes\u001b[49m\u001b[43m,\u001b[49m\n\u001b[1;32m      7\u001b[0m \u001b[38;5;66;43;03m#     lesion_type_dict = lesion_type_dict\u001b[39;49;00m\n\u001b[1;32m      8\u001b[0m \u001b[43m)\u001b[49m\n",
      "\u001b[0;31mTypeError\u001b[0m: model_report() missing 1 required positional argument: 'lesion_type_dict'"
     ]
    }
   ],
   "source": [
    "model_report(\n",
    "    model_name = ResNet50_name,\n",
    "    trainlabels = trainlabels,\n",
    "    train_pred_classes = train_pred_classes,\n",
    "    testlabels = testlabels,\n",
    "    test_pred_classes = test_pred_classes,\n",
    "#     lesion_type_dict = lesion_type_dict\n",
    ")"
   ]
  },
  {
   "cell_type": "markdown",
   "metadata": {
    "id": "-Cgy25dw6nLr"
   },
   "source": [
    "# 13. InceptionV3 model"
   ]
  },
  {
   "cell_type": "code",
   "execution_count": 44,
   "metadata": {
    "ExecuteTime": {
     "end_time": "2022-11-16T08:38:12.116770Z",
     "start_time": "2022-11-16T08:38:12.111079Z"
    },
    "execution": {
     "iopub.execute_input": "2022-09-10T12:37:32.549048Z",
     "iopub.status.busy": "2022-09-10T12:37:32.54851Z",
     "iopub.status.idle": "2022-09-10T12:37:32.556189Z",
     "shell.execute_reply": "2022-09-10T12:37:32.55418Z",
     "shell.execute_reply.started": "2022-09-10T12:37:32.548988Z"
    },
    "id": "nvVzM_lw6nLr"
   },
   "outputs": [],
   "source": [
    "InceptionV3_name = 'InceptionV3'"
   ]
  },
  {
   "cell_type": "code",
   "execution_count": 46,
   "metadata": {
    "ExecuteTime": {
     "end_time": "2022-11-16T08:38:28.106944Z",
     "start_time": "2022-11-16T08:38:26.038974Z"
    },
    "execution": {
     "iopub.execute_input": "2022-09-10T10:11:03.343234Z",
     "iopub.status.busy": "2022-09-10T10:11:03.342724Z",
     "iopub.status.idle": "2022-09-10T10:11:06.742705Z",
     "shell.execute_reply": "2022-09-10T10:11:06.741211Z",
     "shell.execute_reply.started": "2022-09-10T10:11:03.343197Z"
    },
    "id": "6jp_7ejp6nLr",
    "outputId": "747ded54-1fd2-472c-d585-433f165cec2b"
   },
   "outputs": [
    {
     "name": "stdout",
     "output_type": "stream",
     "text": [
      "Building InceptionV3 model...\n"
     ]
    }
   ],
   "source": [
    "inceptionv3 = InceptionV3(\n",
    "    include_top=False,\n",
    "    input_shape=image_shape,\n",
    "    pooling = 'avg',\n",
    "    weights='imagenet'\n",
    ")\n",
    "\n",
    "InceptionV3_model = build_model(\n",
    "    base_model = inceptionv3,\n",
    "    base_model_name = InceptionV3_name,\n",
    "    model_optimizer = Adam(lr=0.001, beta_1=0.9, beta_2=0.999, epsilon=None, decay=1e-6, amsgrad=False)\n",
    ")"
   ]
  },
  {
   "cell_type": "code",
   "execution_count": 47,
   "metadata": {
    "ExecuteTime": {
     "end_time": "2022-11-16T08:38:30.400620Z",
     "start_time": "2022-11-16T08:38:30.374127Z"
    },
    "execution": {
     "iopub.execute_input": "2022-09-10T10:11:11.111849Z",
     "iopub.status.busy": "2022-09-10T10:11:11.111353Z",
     "iopub.status.idle": "2022-09-10T10:11:12.324282Z",
     "shell.execute_reply": "2022-09-10T10:11:12.322503Z",
     "shell.execute_reply.started": "2022-09-10T10:11:11.111815Z"
    },
    "id": "vEs4jhha6nLr",
    "outputId": "d5e967c1-6a8f-44c1-eb8f-f01c3191b514"
   },
   "outputs": [
    {
     "name": "stdout",
     "output_type": "stream",
     "text": [
      "Model: \"sequential_2\"\n",
      "_________________________________________________________________\n",
      " Layer (type)                Output Shape              Param #   \n",
      "=================================================================\n",
      " inception_v3 (Functional)   (None, 2048)              21802784  \n",
      "                                                                 \n",
      " dropout_4 (Dropout)         (None, 2048)              0         \n",
      "                                                                 \n",
      " dense_4 (Dense)             (None, 128)               262272    \n",
      "                                                                 \n",
      " dropout_5 (Dropout)         (None, 128)               0         \n",
      "                                                                 \n",
      " dense_5 (Dense)             (None, 2)                 258       \n",
      "                                                                 \n",
      "=================================================================\n",
      "Total params: 22,065,314\n",
      "Trainable params: 262,530\n",
      "Non-trainable params: 21,802,784\n",
      "_________________________________________________________________\n",
      "None\n",
      "You must install pydot (`pip install pydot`) and install graphviz (see instructions at https://graphviz.gitlab.io/download/) for plot_model to work.\n"
     ]
    }
   ],
   "source": [
    "visualize_model(model = InceptionV3_model, model_name = InceptionV3_name)"
   ]
  },
  {
   "cell_type": "code",
   "execution_count": 48,
   "metadata": {
    "ExecuteTime": {
     "end_time": "2022-11-16T08:40:46.680744Z",
     "start_time": "2022-11-16T08:38:35.649139Z"
    },
    "execution": {
     "iopub.execute_input": "2022-09-10T10:11:17.157668Z",
     "iopub.status.busy": "2022-09-10T10:11:17.156705Z",
     "iopub.status.idle": "2022-09-10T10:42:00.775533Z",
     "shell.execute_reply": "2022-09-10T10:42:00.773829Z",
     "shell.execute_reply.started": "2022-09-10T10:11:17.157627Z"
    },
    "id": "mNsEsukN6nLr",
    "outputId": "f73ca517-10a4-4876-990e-42d03c98098b"
   },
   "outputs": [
    {
     "name": "stdout",
     "output_type": "stream",
     "text": [
      "Fitting InceptionV3 model...\n",
      "Epoch 1/5\n",
      "40/40 [==============================] - 29s 636ms/step - loss: 6.8675 - accuracy: 0.5225 - val_loss: 4.6618 - val_accuracy: 0.4600\n",
      "Epoch 2/5\n",
      "40/40 [==============================] - 24s 606ms/step - loss: 4.0073 - accuracy: 0.5238 - val_loss: 3.1814 - val_accuracy: 0.4400\n",
      "Epoch 3/5\n",
      "40/40 [==============================] - 25s 606ms/step - loss: 2.9487 - accuracy: 0.5387 - val_loss: 2.4880 - val_accuracy: 0.4700\n",
      "Epoch 4/5\n",
      "40/40 [==============================] - 25s 609ms/step - loss: 2.3580 - accuracy: 0.5225 - val_loss: 2.1460 - val_accuracy: 0.4800\n",
      "Epoch 5/5\n",
      "40/40 [==============================] - 25s 630ms/step - loss: 2.0510 - accuracy: 0.5150 - val_loss: 1.9012 - val_accuracy: 0.5700\n"
     ]
    }
   ],
   "source": [
    "history = fit_model(    \n",
    "    model = InceptionV3_model,\n",
    "    model_name = InceptionV3_name,\n",
    "    trainimages = trainimages,\n",
    "    trainlabels = trainlabels,\n",
    "    validationimages = validationimages,\n",
    "    validationlabels = validationlabels\n",
    ")"
   ]
  },
  {
   "cell_type": "code",
   "execution_count": 49,
   "metadata": {
    "ExecuteTime": {
     "end_time": "2022-11-16T08:40:54.643918Z",
     "start_time": "2022-11-16T08:40:54.436338Z"
    },
    "execution": {
     "iopub.execute_input": "2022-09-10T10:42:12.170634Z",
     "iopub.status.busy": "2022-09-10T10:42:12.169261Z",
     "iopub.status.idle": "2022-09-10T10:42:12.925826Z",
     "shell.execute_reply": "2022-09-10T10:42:12.924501Z",
     "shell.execute_reply.started": "2022-09-10T10:42:12.170568Z"
    },
    "id": "FpU1sBVj6nLr",
    "outputId": "da02af50-e73c-4aa2-8ae9-0e8eb87cdf07"
   },
   "outputs": [
    {
     "data": {
      "image/png": "[encoded data removed]",
      "text/plain": [
       "<Figure size 2300x800 with 2 Axes>"
      ]
     },
     "metadata": {},
     "output_type": "display_data"
    }
   ],
   "source": [
    "visualize_performance(\n",
    "    model_name = InceptionV3_name,\n",
    "    history = history\n",
    ")"
   ]
  },
  {
   "cell_type": "code",
   "execution_count": 50,
   "metadata": {
    "ExecuteTime": {
     "end_time": "2022-11-16T08:41:37.298750Z",
     "start_time": "2022-11-16T08:41:05.996486Z"
    },
    "execution": {
     "iopub.execute_input": "2022-09-10T11:20:58.830566Z",
     "iopub.status.busy": "2022-09-10T11:20:58.83006Z",
     "iopub.status.idle": "2022-09-10T11:21:39.219507Z",
     "shell.execute_reply": "2022-09-10T11:21:39.218012Z",
     "shell.execute_reply.started": "2022-09-10T11:20:58.830531Z"
    },
    "id": "_n58DM3c6nLr",
    "outputId": "7b33068a-d11f-4f77-8e79-b2d3d0d22187"
   },
   "outputs": [
    {
     "name": "stdout",
     "output_type": "stream",
     "text": [
      "Evaluating InceptionV3 model...\n",
      "\n",
      "25/25 [==============================] - 16s 583ms/step - loss: 1.8973 - accuracy: 0.6550\n",
      "Train loss = 1.89728844165802  ;  Train accuracy = 65.50%\n",
      "\n",
      "4/4 [==============================] - 3s 656ms/step - loss: 1.8969 - accuracy: 0.6900\n",
      "Validation loss = 1.8969002962112427  ;  Validation accuracy = 69.00%\n",
      "\n",
      "4/4 [==============================] - 2s 437ms/step - loss: 1.9004 - accuracy: 0.6900\n",
      "Test loss = 1.9003844261169434  ;  Test accuracy = 69.00%\n"
     ]
    }
   ],
   "source": [
    "InceptionV3_model, test_loss, InceptionV3_test_acc = evaluate_model(\n",
    "    model_name = InceptionV3_name,\n",
    "    trainimages = trainimages,\n",
    "    trainlabels = trainlabels,\n",
    "    validationimages = validationimages,\n",
    "    validationlabels = validationlabels,\n",
    "    testimages = testimages,\n",
    "    testlabels = testlabels\n",
    ")"
   ]
  },
  {
   "cell_type": "code",
   "execution_count": 51,
   "metadata": {
    "ExecuteTime": {
     "end_time": "2022-11-16T08:42:00.961611Z",
     "start_time": "2022-11-16T08:41:37.300919Z"
    },
    "execution": {
     "iopub.execute_input": "2022-09-10T10:47:53.986141Z",
     "iopub.status.busy": "2022-09-10T10:47:53.985697Z",
     "iopub.status.idle": "2022-09-10T10:48:14.349108Z",
     "shell.execute_reply": "2022-09-10T10:48:14.347842Z",
     "shell.execute_reply.started": "2022-09-10T10:47:53.986092Z"
    },
    "id": "uK-Ddz1-6nLr",
    "outputId": "1f0c9674-1a67-4ace-c1ec-15797b39dacb"
   },
   "outputs": [
    {
     "name": "stdout",
     "output_type": "stream",
     "text": [
      "Computing predictions for InceptionV3...\n",
      "25/25 [==============================] - 15s 583ms/step\n",
      "4/4 [==============================] - 3s 665ms/step\n"
     ]
    },
    {
     "data": {
      "text/plain": [
       "(array([[0.56774265, 0.578573  ],\n",
       "        [0.5111639 , 0.51351666],\n",
       "        [0.5052676 , 0.508716  ],\n",
       "        [0.424528  , 0.42168975],\n",
       "        [0.38659838, 0.38336685],\n",
       "        [0.50095934, 0.49904072],\n",
       "        [0.413622  , 0.40907004],\n",
       "        [0.38852546, 0.3853126 ],\n",
       "        [0.56433386, 0.5758492 ],\n",
       "        [0.48113626, 0.48876458],\n",
       "        [0.44335648, 0.4407312 ],\n",
       "        [0.69700253, 0.7152794 ],\n",
       "        [0.6077873 , 0.63321894],\n",
       "        [0.4661002 , 0.4710188 ],\n",
       "        [0.4372149 , 0.42798898],\n",
       "        [0.43917924, 0.4365058 ],\n",
       "        [0.49049464, 0.4919251 ],\n",
       "        [0.48465398, 0.48252836],\n",
       "        [0.3795672 , 0.37626877],\n",
       "        [0.50359696, 0.50623417],\n",
       "        [0.53341544, 0.54012275],\n",
       "        [0.6741107 , 0.69039804],\n",
       "        [0.58596295, 0.5930148 ],\n",
       "        [0.41345018, 0.4104918 ],\n",
       "        [0.56312853, 0.5701725 ],\n",
       "        [0.5264526 , 0.5301842 ],\n",
       "        [0.45585728, 0.45337898],\n",
       "        [0.49817446, 0.49622017],\n",
       "        [0.43458608, 0.4368607 ],\n",
       "        [0.4513827 , 0.44885126],\n",
       "        [0.590684  , 0.597862  ],\n",
       "        [0.50095934, 0.49904072],\n",
       "        [0.45045978, 0.44791752],\n",
       "        [0.57603467, 0.5857787 ],\n",
       "        [0.43809664, 0.43541086],\n",
       "        [0.4915089 , 0.5026972 ],\n",
       "        [0.48144528, 0.4813815 ],\n",
       "        [0.57188714, 0.5856752 ],\n",
       "        [0.7489975 , 0.7706599 ],\n",
       "        [0.51228905, 0.50538176],\n",
       "        [0.5438155 , 0.55307907],\n",
       "        [0.5624763 , 0.57409376],\n",
       "        [0.74134576, 0.7629385 ],\n",
       "        [0.6985069 , 0.7228973 ],\n",
       "        [0.8131853 , 0.84502023],\n",
       "        [0.42961687, 0.42675585],\n",
       "        [0.6093524 , 0.6241801 ],\n",
       "        [0.42275742, 0.42588693],\n",
       "        [0.4261699 , 0.42334977],\n",
       "        [0.48678702, 0.48468825],\n",
       "        [0.4139926 , 0.41249236],\n",
       "        [0.37559387, 0.35950717],\n",
       "        [0.4977696 , 0.4934642 ],\n",
       "        [0.3392098 , 0.32897624],\n",
       "        [0.57145965, 0.5798714 ],\n",
       "        [0.32851392, 0.31588948],\n",
       "        [0.50095934, 0.49904072],\n",
       "        [0.32717347, 0.32344726],\n",
       "        [0.5610678 , 0.5679221 ],\n",
       "        [0.7507187 , 0.7733094 ],\n",
       "        [0.50095934, 0.49904072],\n",
       "        [0.5856883 , 0.59661025],\n",
       "        [0.83133334, 0.8488598 ],\n",
       "        [0.47330746, 0.4702571 ],\n",
       "        [0.4072986 , 0.40427527],\n",
       "        [0.4250445 , 0.4207844 ],\n",
       "        [0.42226353, 0.41940036],\n",
       "        [0.24177548, 0.24501695],\n",
       "        [0.50919276, 0.5137564 ],\n",
       "        [0.48445266, 0.48232457],\n",
       "        [0.39815092, 0.38100687],\n",
       "        [0.4899461 , 0.48875412],\n",
       "        [0.59631044, 0.6098562 ],\n",
       "        [0.4314627 , 0.42870167],\n",
       "        [0.5631103 , 0.57405233],\n",
       "        [0.4609713 , 0.4649337 ],\n",
       "        [0.46748048, 0.4688463 ],\n",
       "        [0.46402112, 0.46164092],\n",
       "        [0.45021462, 0.44766945],\n",
       "        [0.6432518 , 0.66382736],\n",
       "        [0.49643102, 0.49445447],\n",
       "        [0.78238857, 0.80777514],\n",
       "        [0.478685  , 0.48673585],\n",
       "        [0.45800555, 0.456659  ],\n",
       "        [0.45598033, 0.4535035 ],\n",
       "        [0.41176888, 0.40879261],\n",
       "        [0.47320354, 0.4709355 ],\n",
       "        [0.41238877, 0.40941912],\n",
       "        [0.5014561 , 0.47919753],\n",
       "        [0.5132731 , 0.51463574],\n",
       "        [0.43635714, 0.43165913],\n",
       "        [0.41563863, 0.4125126 ],\n",
       "        [0.43304545, 0.4303022 ],\n",
       "        [0.50095934, 0.49904072],\n",
       "        [0.5607424 , 0.5651549 ],\n",
       "        [0.41245878, 0.40948987],\n",
       "        [0.434802  , 0.43207866],\n",
       "        [0.5002922 , 0.5038242 ],\n",
       "        [0.4055651 , 0.40252373],\n",
       "        [0.40163377, 0.3985519 ]], dtype=float32),\n",
       " array([1, 1, 1, 0, 0, 0, 0, 0, 1, 1, 0, 1, 1, 1, 0, 0, 1, 0, 0, 1, 1, 1,\n",
       "        1, 0, 1, 1, 0, 0, 1, 0, 1, 0, 0, 1, 0, 1, 0, 1, 1, 0, 1, 1, 1, 1,\n",
       "        1, 0, 1, 1, 0, 0, 0, 0, 0, 0, 1, 0, 0, 0, 1, 1, 0, 1, 1, 0, 0, 0,\n",
       "        0, 1, 1, 0, 0, 0, 1, 0, 1, 1, 1, 0, 0, 1, 0, 1, 1, 0, 0, 0, 0, 0,\n",
       "        0, 1, 0, 0, 0, 0, 1, 0, 0, 1, 0, 0]))"
      ]
     },
     "execution_count": 51,
     "metadata": {},
     "output_type": "execute_result"
    }
   ],
   "source": [
    "train_pred, train_pred_classes, test_pred, test_pred_classes = computing_prediction(\n",
    "    model = InceptionV3_model,\n",
    "    model_name = InceptionV3_name,\n",
    "    trainimages = trainimages,\n",
    "    testimages = testimages\n",
    ")\n",
    "\n",
    "test_pred, test_pred_classes"
   ]
  },
  {
   "cell_type": "code",
   "execution_count": null,
   "metadata": {
    "ExecuteTime": {
     "end_time": "2022-11-16T08:37:17.241668Z",
     "start_time": "2022-11-16T08:37:17.241658Z"
    },
    "execution": {
     "iopub.execute_input": "2022-09-10T10:48:14.356326Z",
     "iopub.status.busy": "2022-09-10T10:48:14.354972Z",
     "iopub.status.idle": "2022-09-10T10:48:15.149354Z",
     "shell.execute_reply": "2022-09-10T10:48:15.147734Z",
     "shell.execute_reply.started": "2022-09-10T10:48:14.35628Z"
    },
    "id": "vW2NCM_f6nLr",
    "outputId": "54c73147-2a78-4480-d40e-8dd473e014e3"
   },
   "outputs": [],
   "source": [
    "model_report(\n",
    "    model_name = InceptionV3_name,\n",
    "    trainlabels = trainlabels,\n",
    "    train_pred_classes = train_pred_classes,\n",
    "    testlabels = testlabels,\n",
    "    test_pred_classes = test_pred_classes,\n",
    "    lesion_type_dict = lesion_type_dict\n",
    ")"
   ]
  },
  {
   "cell_type": "markdown",
   "metadata": {
    "id": "HX80P1sv6nLr"
   },
   "source": [
    "# 14. VGG-16 model"
   ]
  },
  {
   "cell_type": "code",
   "execution_count": 52,
   "metadata": {
    "ExecuteTime": {
     "end_time": "2022-11-16T08:42:07.401688Z",
     "start_time": "2022-11-16T08:42:07.390169Z"
    },
    "execution": {
     "iopub.execute_input": "2022-09-10T12:37:39.617621Z",
     "iopub.status.busy": "2022-09-10T12:37:39.617084Z",
     "iopub.status.idle": "2022-09-10T12:37:39.624778Z",
     "shell.execute_reply": "2022-09-10T12:37:39.622978Z",
     "shell.execute_reply.started": "2022-09-10T12:37:39.617587Z"
    },
    "id": "sqpdVv3Y6nLr"
   },
   "outputs": [],
   "source": [
    "VGG16_name = 'VGG-16'"
   ]
  },
  {
   "cell_type": "code",
   "execution_count": 54,
   "metadata": {
    "ExecuteTime": {
     "end_time": "2022-11-16T08:42:12.522138Z",
     "start_time": "2022-11-16T08:42:12.198076Z"
    },
    "execution": {
     "iopub.execute_input": "2022-09-10T10:51:07.419704Z",
     "iopub.status.busy": "2022-09-10T10:51:07.418341Z",
     "iopub.status.idle": "2022-09-10T10:51:08.713153Z",
     "shell.execute_reply": "2022-09-10T10:51:08.711743Z",
     "shell.execute_reply.started": "2022-09-10T10:51:07.419664Z"
    },
    "id": "uYeS777M6nLr",
    "outputId": "551e1533-734f-4788-cbce-5ec5354493be"
   },
   "outputs": [
    {
     "name": "stdout",
     "output_type": "stream",
     "text": [
      "Building VGG-16 model...\n"
     ]
    }
   ],
   "source": [
    "vgg16 = VGG16(\n",
    "    include_top=False,\n",
    "    input_shape=image_shape,\n",
    "    pooling = 'avg',\n",
    "    weights='imagenet'\n",
    ")\n",
    "\n",
    "VGG16_model = build_model(\n",
    "    base_model = vgg16,\n",
    "    base_model_name = VGG16_name,\n",
    "    model_optimizer = RMSprop(lr=0.001, epsilon=None, decay=1e-6)\n",
    ")"
   ]
  },
  {
   "cell_type": "code",
   "execution_count": 55,
   "metadata": {
    "ExecuteTime": {
     "end_time": "2022-11-16T08:42:13.480548Z",
     "start_time": "2022-11-16T08:42:13.455957Z"
    },
    "execution": {
     "iopub.execute_input": "2022-09-10T10:51:11.734432Z",
     "iopub.status.busy": "2022-09-10T10:51:11.733993Z",
     "iopub.status.idle": "2022-09-10T10:51:12.884412Z",
     "shell.execute_reply": "2022-09-10T10:51:12.882846Z",
     "shell.execute_reply.started": "2022-09-10T10:51:11.734381Z"
    },
    "id": "d8BkQ_SY6nLr",
    "outputId": "eae20907-bff6-4d25-9b41-6bc6b7ea823d"
   },
   "outputs": [
    {
     "name": "stdout",
     "output_type": "stream",
     "text": [
      "Model: \"sequential_4\"\n",
      "_________________________________________________________________\n",
      " Layer (type)                Output Shape              Param #   \n",
      "=================================================================\n",
      " vgg16 (Functional)          (None, 512)               14714688  \n",
      "                                                                 \n",
      " dropout_8 (Dropout)         (None, 512)               0         \n",
      "                                                                 \n",
      " dense_8 (Dense)             (None, 128)               65664     \n",
      "                                                                 \n",
      " dropout_9 (Dropout)         (None, 128)               0         \n",
      "                                                                 \n",
      " dense_9 (Dense)             (None, 2)                 258       \n",
      "                                                                 \n",
      "=================================================================\n",
      "Total params: 14,780,610\n",
      "Trainable params: 65,922\n",
      "Non-trainable params: 14,714,688\n",
      "_________________________________________________________________\n",
      "None\n",
      "You must install pydot (`pip install pydot`) and install graphviz (see instructions at https://graphviz.gitlab.io/download/) for plot_model to work.\n"
     ]
    }
   ],
   "source": [
    "visualize_model(model = VGG16_model, model_name = VGG16_name)"
   ]
  },
  {
   "cell_type": "code",
   "execution_count": 56,
   "metadata": {
    "ExecuteTime": {
     "end_time": "2022-11-16T08:45:51.541447Z",
     "start_time": "2022-11-16T08:42:14.293920Z"
    },
    "execution": {
     "iopub.execute_input": "2022-09-10T10:51:19.509027Z",
     "iopub.status.busy": "2022-09-10T10:51:19.508553Z",
     "iopub.status.idle": "2022-09-10T11:18:03.123787Z",
     "shell.execute_reply": "2022-09-10T11:18:03.122404Z",
     "shell.execute_reply.started": "2022-09-10T10:51:19.508974Z"
    },
    "id": "RUShDIyF6nLs",
    "outputId": "c3736b8e-11ae-485c-a0a2-501fe6401e4f"
   },
   "outputs": [
    {
     "name": "stdout",
     "output_type": "stream",
     "text": [
      "Fitting VGG-16 model...\n",
      "Epoch 1/5\n",
      "40/40 [==============================] - 44s 1s/step - loss: 4.1983 - accuracy: 0.5625 - val_loss: 2.8779 - val_accuracy: 0.6500\n",
      "Epoch 2/5\n",
      "40/40 [==============================] - 42s 1s/step - loss: 2.7939 - accuracy: 0.5850 - val_loss: 2.1718 - val_accuracy: 0.6400\n",
      "Epoch 3/5\n",
      "40/40 [==============================] - 42s 1s/step - loss: 2.0884 - accuracy: 0.6287 - val_loss: 1.8200 - val_accuracy: 0.6200\n",
      "Epoch 4/5\n",
      "40/40 [==============================] - 42s 1s/step - loss: 1.7312 - accuracy: 0.6037 - val_loss: 1.5816 - val_accuracy: 0.6400\n",
      "Epoch 5/5\n",
      "40/40 [==============================] - 42s 1s/step - loss: 1.5507 - accuracy: 0.5950 - val_loss: 1.2726 - val_accuracy: 0.6700\n"
     ]
    }
   ],
   "source": [
    "history = fit_model(    \n",
    "    model = VGG16_model,\n",
    "    model_name = VGG16_name,\n",
    "    trainimages = trainimages,\n",
    "    trainlabels = trainlabels,\n",
    "    validationimages = validationimages,\n",
    "    validationlabels = validationlabels\n",
    ")"
   ]
  },
  {
   "cell_type": "code",
   "execution_count": 57,
   "metadata": {
    "ExecuteTime": {
     "end_time": "2022-11-16T08:45:55.164459Z",
     "start_time": "2022-11-16T08:45:54.911371Z"
    },
    "execution": {
     "iopub.execute_input": "2022-09-10T11:18:36.257166Z",
     "iopub.status.busy": "2022-09-10T11:18:36.256747Z",
     "iopub.status.idle": "2022-09-10T11:18:36.706902Z",
     "shell.execute_reply": "2022-09-10T11:18:36.705408Z",
     "shell.execute_reply.started": "2022-09-10T11:18:36.257133Z"
    },
    "id": "8hxRVRcE6nLs",
    "outputId": "3a3461fa-089c-44c2-ccd7-1d62c9ef21b7"
   },
   "outputs": [
    {
     "data": {
      "image/png": "[encoded data removed]",
      "text/plain": [
       "<Figure size 2300x800 with 2 Axes>"
      ]
     },
     "metadata": {},
     "output_type": "display_data"
    }
   ],
   "source": [
    "visualize_performance(\n",
    "    model_name = VGG16_name,\n",
    "    history = history\n",
    ")"
   ]
  },
  {
   "cell_type": "code",
   "execution_count": null,
   "metadata": {
    "ExecuteTime": {
     "start_time": "2022-11-16T08:46:05.610Z"
    },
    "execution": {
     "iopub.execute_input": "2022-09-10T11:23:58.550873Z",
     "iopub.status.busy": "2022-09-10T11:23:58.550328Z",
     "iopub.status.idle": "2022-09-10T11:24:31.24557Z",
     "shell.execute_reply": "2022-09-10T11:24:31.244207Z",
     "shell.execute_reply.started": "2022-09-10T11:23:58.550824Z"
    },
    "id": "5YMnmDQt6nLs",
    "outputId": "714c3d98-7b61-4e9c-bcaf-8a8c91700c97"
   },
   "outputs": [
    {
     "name": "stdout",
     "output_type": "stream",
     "text": [
      "Evaluating VGG-16 model...\n",
      "\n"
     ]
    }
   ],
   "source": [
    "VGG16_model, test_loss, VGG16_test_acc = evaluate_model(\n",
    "    model_name = VGG16_name,\n",
    "    trainimages = trainimages,\n",
    "    trainlabels = trainlabels,\n",
    "    validationimages = validationimages,\n",
    "    validationlabels = validationlabels,\n",
    "    testimages = testimages,\n",
    "    testlabels = testlabels\n",
    ")"
   ]
  },
  {
   "cell_type": "code",
   "execution_count": null,
   "metadata": {
    "ExecuteTime": {
     "end_time": "2022-11-16T08:37:17.246871Z",
     "start_time": "2022-11-16T08:37:17.246865Z"
    },
    "execution": {
     "iopub.execute_input": "2022-09-10T11:24:31.250767Z",
     "iopub.status.busy": "2022-09-10T11:24:31.250365Z",
     "iopub.status.idle": "2022-09-10T11:24:49.93995Z",
     "shell.execute_reply": "2022-09-10T11:24:49.938469Z",
     "shell.execute_reply.started": "2022-09-10T11:24:31.250735Z"
    },
    "id": "DqlE_Bea6nLs",
    "outputId": "0be77487-a10d-4143-99dd-da94527936ef"
   },
   "outputs": [],
   "source": [
    "train_pred, train_pred_classes, test_pred, test_pred_classes = computing_prediction(\n",
    "    model = VGG16_model,\n",
    "    model_name = VGG16_name,\n",
    "    trainimages = trainimages,\n",
    "    testimages = testimages\n",
    ")\n",
    "\n",
    "test_pred, test_pred_classes"
   ]
  },
  {
   "cell_type": "code",
   "execution_count": null,
   "metadata": {
    "ExecuteTime": {
     "end_time": "2022-11-16T08:37:17.247514Z",
     "start_time": "2022-11-16T08:37:17.247509Z"
    },
    "execution": {
     "iopub.execute_input": "2022-09-10T11:24:49.942983Z",
     "iopub.status.busy": "2022-09-10T11:24:49.942413Z",
     "iopub.status.idle": "2022-09-10T11:24:50.659784Z",
     "shell.execute_reply": "2022-09-10T11:24:50.658182Z",
     "shell.execute_reply.started": "2022-09-10T11:24:49.942875Z"
    },
    "id": "BG457Qbu6nLs",
    "outputId": "8599addb-7113-4fe5-eccb-ff688722de42"
   },
   "outputs": [],
   "source": [
    "model_report(\n",
    "    model_name = VGG16_name,\n",
    "    trainlabels = trainlabels,\n",
    "    train_pred_classes = train_pred_classes,\n",
    "    testlabels = testlabels,\n",
    "    test_pred_classes = test_pred_classes,\n",
    "    lesion_type_dict = lesion_type_dict\n",
    ")"
   ]
  },
  {
   "cell_type": "markdown",
   "metadata": {
    "id": "YZvXSgAU6nLs"
   },
   "source": [
    "# 15. VGG-19 model"
   ]
  },
  {
   "cell_type": "code",
   "execution_count": null,
   "metadata": {
    "ExecuteTime": {
     "end_time": "2022-11-16T08:37:17.247995Z",
     "start_time": "2022-11-16T08:37:17.247989Z"
    },
    "execution": {
     "iopub.execute_input": "2022-09-10T12:37:50.898488Z",
     "iopub.status.busy": "2022-09-10T12:37:50.89789Z",
     "iopub.status.idle": "2022-09-10T12:37:50.905336Z",
     "shell.execute_reply": "2022-09-10T12:37:50.903615Z",
     "shell.execute_reply.started": "2022-09-10T12:37:50.898425Z"
    },
    "id": "NYS6c6t-6nLs"
   },
   "outputs": [],
   "source": [
    "VGG19_name = 'VGG-19'"
   ]
  },
  {
   "cell_type": "code",
   "execution_count": null,
   "metadata": {
    "ExecuteTime": {
     "end_time": "2022-11-16T08:37:17.248502Z",
     "start_time": "2022-11-16T08:37:17.248497Z"
    },
    "execution": {
     "iopub.execute_input": "2022-09-10T11:24:50.674753Z",
     "iopub.status.busy": "2022-09-10T11:24:50.674012Z",
     "iopub.status.idle": "2022-09-10T11:24:52.210056Z",
     "shell.execute_reply": "2022-09-10T11:24:52.20855Z",
     "shell.execute_reply.started": "2022-09-10T11:24:50.674703Z"
    },
    "id": "u9n_n3Wc6nLs",
    "outputId": "e6a112bf-e0ba-427d-90e7-b06ce36800aa"
   },
   "outputs": [],
   "source": [
    "vgg19 = VGG19(\n",
    "    include_top=False,\n",
    "    input_shape=image_shape,\n",
    "    pooling = 'avg',\n",
    "    weights='imagenet'\n",
    ")\n",
    "\n",
    "VGG19_model = build_model(\n",
    "    base_model = vgg19,\n",
    "    base_model_name = VGG19_name,\n",
    "    model_optimizer = RMSprop(lr=0.0001, epsilon=None, decay=1e-6)\n",
    ")"
   ]
  },
  {
   "cell_type": "code",
   "execution_count": null,
   "metadata": {
    "ExecuteTime": {
     "end_time": "2022-11-16T08:37:17.248951Z",
     "start_time": "2022-11-16T08:37:17.248945Z"
    },
    "execution": {
     "iopub.execute_input": "2022-09-10T11:24:52.21269Z",
     "iopub.status.busy": "2022-09-10T11:24:52.21223Z",
     "iopub.status.idle": "2022-09-10T11:24:53.205006Z",
     "shell.execute_reply": "2022-09-10T11:24:53.203263Z",
     "shell.execute_reply.started": "2022-09-10T11:24:52.212644Z"
    },
    "id": "F_yjlOTA6nLs",
    "outputId": "524fa07d-85db-4628-cd12-9a9bc1f4a1fe"
   },
   "outputs": [],
   "source": [
    "visualize_model(model = VGG19_model, model_name = VGG19_name)"
   ]
  },
  {
   "cell_type": "code",
   "execution_count": null,
   "metadata": {
    "ExecuteTime": {
     "end_time": "2022-11-16T08:37:17.249706Z",
     "start_time": "2022-11-16T08:37:17.249700Z"
    },
    "execution": {
     "iopub.execute_input": "2022-09-10T11:24:53.208769Z",
     "iopub.status.busy": "2022-09-10T11:24:53.20788Z",
     "iopub.status.idle": "2022-09-10T11:58:11.22475Z",
     "shell.execute_reply": "2022-09-10T11:58:11.221868Z",
     "shell.execute_reply.started": "2022-09-10T11:24:53.208711Z"
    },
    "id": "iqKS0nOl6nLs",
    "outputId": "7c363f01-aa7c-4d22-afa3-e9ea22eed4d8"
   },
   "outputs": [],
   "source": [
    "history = fit_model(    \n",
    "    model = VGG19_model,\n",
    "    model_name = VGG19_name,\n",
    "    trainimages = trainimages,\n",
    "    trainlabels = trainlabels,\n",
    "    validationimages = validationimages,\n",
    "    validationlabels = validationlabels\n",
    ")"
   ]
  },
  {
   "cell_type": "code",
   "execution_count": null,
   "metadata": {
    "ExecuteTime": {
     "end_time": "2022-11-16T08:37:17.250846Z",
     "start_time": "2022-11-16T08:37:17.250837Z"
    },
    "execution": {
     "iopub.execute_input": "2022-09-10T11:58:37.829071Z",
     "iopub.status.busy": "2022-09-10T11:58:37.827648Z",
     "iopub.status.idle": "2022-09-10T11:58:38.317998Z",
     "shell.execute_reply": "2022-09-10T11:58:38.316516Z",
     "shell.execute_reply.started": "2022-09-10T11:58:37.829025Z"
    },
    "id": "AnxHUKKy6nLs",
    "outputId": "54a2b566-1b27-42d3-b20f-aadd7a7a9daf"
   },
   "outputs": [],
   "source": [
    "visualize_performance(\n",
    "    model_name = VGG19_name,\n",
    "    history = history\n",
    ")"
   ]
  },
  {
   "cell_type": "code",
   "execution_count": null,
   "metadata": {
    "ExecuteTime": {
     "end_time": "2022-11-16T08:37:17.251385Z",
     "start_time": "2022-11-16T08:37:17.251380Z"
    },
    "execution": {
     "iopub.execute_input": "2022-09-10T12:01:13.448728Z",
     "iopub.status.busy": "2022-09-10T12:01:13.448025Z",
     "iopub.status.idle": "2022-09-10T12:01:51.389105Z",
     "shell.execute_reply": "2022-09-10T12:01:51.387468Z",
     "shell.execute_reply.started": "2022-09-10T12:01:13.448679Z"
    },
    "id": "fGG_oKvE6nLs",
    "outputId": "71e96a73-4b61-4fc0-9b89-30d4e847c414"
   },
   "outputs": [],
   "source": [
    "VGG19_model, test_loss, VGG19_test_acc = evaluate_model(\n",
    "    model_name = VGG19_name,\n",
    "    trainimages = trainimages,\n",
    "    trainlabels = trainlabels,\n",
    "    validationimages = validationimages,\n",
    "    validationlabels = validationlabels,\n",
    "    testimages = testimages,\n",
    "    testlabels = testlabels\n",
    ")"
   ]
  },
  {
   "cell_type": "code",
   "execution_count": null,
   "metadata": {
    "ExecuteTime": {
     "end_time": "2022-11-16T08:37:17.252549Z",
     "start_time": "2022-11-16T08:37:17.252542Z"
    },
    "execution": {
     "iopub.execute_input": "2022-09-10T12:01:56.192572Z",
     "iopub.status.busy": "2022-09-10T12:01:56.192065Z",
     "iopub.status.idle": "2022-09-10T12:02:15.285249Z",
     "shell.execute_reply": "2022-09-10T12:02:15.2835Z",
     "shell.execute_reply.started": "2022-09-10T12:01:56.192526Z"
    },
    "id": "TnuWdlaK6nLs",
    "outputId": "1c84dff7-cfa6-4cd9-beef-bd15279e811d"
   },
   "outputs": [],
   "source": [
    "train_pred, train_pred_classes, test_pred, test_pred_classes = computing_prediction(\n",
    "    model = VGG19_model,\n",
    "    model_name = VGG19_name,\n",
    "    trainimages = trainimages,\n",
    "    testimages = testimages\n",
    ")\n",
    "\n",
    "test_pred, test_pred_classes"
   ]
  },
  {
   "cell_type": "code",
   "execution_count": null,
   "metadata": {
    "ExecuteTime": {
     "end_time": "2022-11-16T08:37:17.253164Z",
     "start_time": "2022-11-16T08:37:17.253158Z"
    },
    "execution": {
     "iopub.execute_input": "2022-09-10T12:02:15.28884Z",
     "iopub.status.busy": "2022-09-10T12:02:15.288308Z",
     "iopub.status.idle": "2022-09-10T12:02:16.308902Z",
     "shell.execute_reply": "2022-09-10T12:02:16.306939Z",
     "shell.execute_reply.started": "2022-09-10T12:02:15.288786Z"
    },
    "id": "Rinnb0j26nLs",
    "outputId": "a7bb9687-36a7-431f-dec4-f2c849bb628e"
   },
   "outputs": [],
   "source": [
    "model_report(\n",
    "    model_name = VGG19_name,\n",
    "    trainlabels = trainlabels,\n",
    "    train_pred_classes = train_pred_classes,\n",
    "    testlabels = testlabels,\n",
    "    test_pred_classes = test_pred_classes,\n",
    "    lesion_type_dict = lesion_type_dict\n",
    ")"
   ]
  },
  {
   "cell_type": "markdown",
   "metadata": {
    "id": "o6p9ez4Z6nLt"
   },
   "source": [
    "# 16. GoogLeNet model"
   ]
  },
  {
   "cell_type": "code",
   "execution_count": null,
   "metadata": {
    "ExecuteTime": {
     "end_time": "2022-11-16T08:37:17.253804Z",
     "start_time": "2022-11-16T08:37:17.253798Z"
    },
    "execution": {
     "iopub.execute_input": "2022-09-10T12:05:46.638897Z",
     "iopub.status.busy": "2022-09-10T12:05:46.638354Z",
     "iopub.status.idle": "2022-09-10T12:05:46.651231Z",
     "shell.execute_reply": "2022-09-10T12:05:46.649546Z",
     "shell.execute_reply.started": "2022-09-10T12:05:46.638847Z"
    },
    "id": "naGBYpjX6nLt"
   },
   "outputs": [],
   "source": [
    "def Inception_block(input_layer, f1, f2_conv1, f2_conv3, f3_conv1, f3_conv5, f4): \n",
    "    # Input: \n",
    "    # - f1: number of filters of the 1x1 convolutional layer in the first path\n",
    "    # - f2_conv1, f2_conv3 are number of filters corresponding to the 1x1 and 3x3 convolutional layers in the second path\n",
    "    # - f3_conv1, f3_conv5 are the number of filters corresponding to the 1x1 and 5x5  convolutional layer in the third path\n",
    "    # - f4: number of filters of the 1x1 convolutional layer in the fourth path\n",
    "\n",
    "    # 1st path:\n",
    "    path1 = Conv2D(filters=f1, kernel_size = (1,1), padding = 'same', activation = 'relu')(input_layer)\n",
    "\n",
    "    # 2nd path\n",
    "    path2 = Conv2D(filters = f2_conv1, kernel_size = (1,1), padding = 'same', activation = 'relu')(input_layer)\n",
    "    path2 = Conv2D(filters = f2_conv3, kernel_size = (3,3), padding = 'same', activation = 'relu')(path2)\n",
    "\n",
    "    # 3rd path\n",
    "    path3 = Conv2D(filters = f3_conv1, kernel_size = (1,1), padding = 'same', activation = 'relu')(input_layer)\n",
    "    path3 = Conv2D(filters = f3_conv5, kernel_size = (5,5), padding = 'same', activation = 'relu')(path3)\n",
    "\n",
    "    # 4th path\n",
    "    path4 = MaxPooling2D((3,3), strides= (1,1), padding = 'same')(input_layer)\n",
    "    path4 = Conv2D(filters = f4, kernel_size = (1,1), padding = 'same', activation = 'relu')(path4)\n",
    "\n",
    "    output_layer = concatenate([path1, path2, path3, path4], axis = -1)\n",
    "\n",
    "    return output_layer\n"
   ]
  },
  {
   "cell_type": "code",
   "execution_count": null,
   "metadata": {
    "ExecuteTime": {
     "end_time": "2022-11-16T08:37:17.255039Z",
     "start_time": "2022-11-16T08:37:17.255033Z"
    },
    "execution": {
     "iopub.execute_input": "2022-09-10T12:05:49.399096Z",
     "iopub.status.busy": "2022-09-10T12:05:49.398645Z",
     "iopub.status.idle": "2022-09-10T12:05:49.419138Z",
     "shell.execute_reply": "2022-09-10T12:05:49.417221Z",
     "shell.execute_reply.started": "2022-09-10T12:05:49.399063Z"
    },
    "id": "v912EVOI6nLt"
   },
   "outputs": [],
   "source": [
    "def GoogLeNet(input_shape, num_classes):\n",
    "    # input layer \n",
    "    input_layer = Input(shape = input_shape)\n",
    "\n",
    "    # convolutional layer: filters = 64, kernel_size = (7,7), strides = 2\n",
    "    X = Conv2D(filters = 64, kernel_size = (7,7), strides = 2, padding = 'valid', activation = 'relu')(input_layer)\n",
    "\n",
    "    # max-pooling layer: pool_size = (3,3), strides = 2\n",
    "    X = MaxPooling2D(pool_size = (3,3), strides = 2)(X)\n",
    "\n",
    "    # convolutional layer: filters = 64, strides = 1\n",
    "    X = Conv2D(filters = 64, kernel_size = (1,1), strides = 1, padding = 'same', activation = 'relu')(X)\n",
    "\n",
    "    # convolutional layer: filters = 192, kernel_size = (3,3)\n",
    "    X = Conv2D(filters = 192, kernel_size = (3,3), padding = 'same', activation = 'relu')(X)\n",
    "\n",
    "    # max-pooling layer: pool_size = (3,3), strides = 2\n",
    "    X = MaxPooling2D(pool_size= (3,3), strides = 2)(X)\n",
    "\n",
    "    # 1st Inception block\n",
    "    X = Inception_block(X, f1 = 64, f2_conv1 = 96, f2_conv3 = 128, f3_conv1 = 16, f3_conv5 = 32, f4 = 32)\n",
    "\n",
    "    # 2nd Inception block\n",
    "    X = Inception_block(X, f1 = 128, f2_conv1 = 128, f2_conv3 = 192, f3_conv1 = 32, f3_conv5 = 96, f4 = 64)\n",
    "\n",
    "    # max-pooling layer: pool_size = (3,3), strides = 2\n",
    "    X = MaxPooling2D(pool_size= (3,3), strides = 2)(X)\n",
    "\n",
    "    # 3rd Inception block\n",
    "    X = Inception_block(X, f1 = 192, f2_conv1 = 96, f2_conv3 = 208, f3_conv1 = 16, f3_conv5 = 48, f4 = 64)\n",
    "\n",
    "    # Extra network 1:\n",
    "    # X1 = AveragePooling2D(pool_size = (5,5), strides = 3)(X)\n",
    "    # X1 = Conv2D(filters = 128, kernel_size = (1,1), padding = 'same', activation = 'relu')(X1)\n",
    "    # X1 = Flatten()(X1)\n",
    "    # X1 = Dense(1024, activation = 'relu')(X1)\n",
    "    # X1 = Dropout(0.7)(X1)\n",
    "    # X1 = Dense(num_classes, activation = 'softmax')(X1)\n",
    "\n",
    "\n",
    "    # 4th Inception block\n",
    "    X = Inception_block(X, f1 = 160, f2_conv1 = 112, f2_conv3 = 224, f3_conv1 = 24, f3_conv5 = 64, f4 = 64)\n",
    "\n",
    "    # 5th Inception block\n",
    "    X = Inception_block(X, f1 = 128, f2_conv1 = 128, f2_conv3 = 256, f3_conv1 = 24, f3_conv5 = 64, f4 = 64)\n",
    "\n",
    "    # 6th Inception block\n",
    "    X = Inception_block(X, f1 = 112, f2_conv1 = 144, f2_conv3 = 288, f3_conv1 = 32, f3_conv5 = 64, f4 = 64)\n",
    "\n",
    "    # Extra network 2:\n",
    "    # X2 = AveragePooling2D(pool_size = (5,5), strides = 3)(X)\n",
    "    # X2 = Conv2D(filters = 128, kernel_size = (1,1), padding = 'same', activation = 'relu')(X2)\n",
    "    # X2 = Flatten()(X2)\n",
    "    # X2 = Dense(1024, activation = 'relu')(X2)\n",
    "    # X2 = Dropout(0.7)(X2)\n",
    "    # X2 = Dense(num_classes, activation = 'softmax')(X2)\n",
    "\n",
    "\n",
    "    # 7th Inception block\n",
    "    X = Inception_block(X, f1 = 256, f2_conv1 = 160, f2_conv3 = 320, f3_conv1 = 32, \n",
    "                      f3_conv5 = 128, f4 = 128)\n",
    "\n",
    "    # max-pooling layer: pool_size = (3,3), strides = 2\n",
    "    X = MaxPooling2D(pool_size = (3,3), strides = 2)(X)\n",
    "\n",
    "    # 8th Inception block\n",
    "    X = Inception_block(X, f1 = 256, f2_conv1 = 160, f2_conv3 = 320, f3_conv1 = 32, f3_conv5 = 128, f4 = 128)\n",
    "\n",
    "    # 9th Inception block\n",
    "    X = Inception_block(X, f1 = 384, f2_conv1 = 192, f2_conv3 = 384, f3_conv1 = 48, f3_conv5 = 128, f4 = 128)\n",
    "\n",
    "    # Global Average pooling layer \n",
    "    X = GlobalAveragePooling2D(name = 'GAPL')(X)\n",
    "\n",
    "    # Dropoutlayer \n",
    "    X = Dropout(0.4)(X)\n",
    "\n",
    "    # output layer \n",
    "    X = Dense(num_classes, activation = 'softmax', name='output')(X)\n",
    "\n",
    "    # model\n",
    "    # model = Model(input_layer, [X, X1, X2], name = 'GoogLeNet')\n",
    "    model = Model(input_layer, X, name = 'GoogLeNet')\n",
    "\n",
    "    return model"
   ]
  },
  {
   "cell_type": "code",
   "execution_count": null,
   "metadata": {
    "ExecuteTime": {
     "end_time": "2022-11-16T08:37:17.256129Z",
     "start_time": "2022-11-16T08:37:17.256122Z"
    },
    "execution": {
     "iopub.execute_input": "2022-09-10T12:38:01.816736Z",
     "iopub.status.busy": "2022-09-10T12:38:01.815373Z",
     "iopub.status.idle": "2022-09-10T12:38:01.823111Z",
     "shell.execute_reply": "2022-09-10T12:38:01.821496Z",
     "shell.execute_reply.started": "2022-09-10T12:38:01.816699Z"
    },
    "id": "Q5ykLbiP6nLu"
   },
   "outputs": [],
   "source": [
    "GoogLeNet_name = 'GoogLeNet'"
   ]
  },
  {
   "cell_type": "code",
   "execution_count": null,
   "metadata": {
    "ExecuteTime": {
     "end_time": "2022-11-16T08:37:17.257292Z",
     "start_time": "2022-11-16T08:37:17.257281Z"
    },
    "execution": {
     "iopub.execute_input": "2022-09-10T12:05:53.132695Z",
     "iopub.status.busy": "2022-09-10T12:05:53.131725Z",
     "iopub.status.idle": "2022-09-10T12:05:53.779168Z",
     "shell.execute_reply": "2022-09-10T12:05:53.776054Z",
     "shell.execute_reply.started": "2022-09-10T12:05:53.132662Z"
    },
    "id": "7LiftoHu6nLu",
    "outputId": "ccc937cf-3a2b-44c8-a5e4-eb16a59e4f85"
   },
   "outputs": [],
   "source": [
    "googlenet = GoogLeNet(\n",
    "    input_shape=image_shape,\n",
    "    num_classes=num_classes\n",
    ")\n",
    "\n",
    "GoogLeNet_model = build_model(\n",
    "    base_model = googlenet,\n",
    "    base_model_name = GoogLeNet_name,\n",
    "    model_optimizer = SGD(lr=0.0001, decay=1e-6, momentum=0.9, nesterov=True),\n",
    "    raw_model = True\n",
    ")"
   ]
  },
  {
   "cell_type": "code",
   "execution_count": null,
   "metadata": {
    "ExecuteTime": {
     "end_time": "2022-11-16T08:37:17.258151Z",
     "start_time": "2022-11-16T08:37:17.258145Z"
    },
    "execution": {
     "iopub.execute_input": "2022-09-10T12:05:57.161408Z",
     "iopub.status.busy": "2022-09-10T12:05:57.159649Z",
     "iopub.status.idle": "2022-09-10T12:06:00.313046Z",
     "shell.execute_reply": "2022-09-10T12:06:00.310676Z",
     "shell.execute_reply.started": "2022-09-10T12:05:57.161348Z"
    },
    "id": "EPBCHLud6nLu",
    "outputId": "6629ec59-51eb-4241-d8d6-ee5455a39dc8"
   },
   "outputs": [],
   "source": [
    "visualize_model(model = GoogLeNet_model, model_name = GoogLeNet_name)"
   ]
  },
  {
   "cell_type": "code",
   "execution_count": null,
   "metadata": {
    "ExecuteTime": {
     "end_time": "2022-11-16T08:37:17.258756Z",
     "start_time": "2022-11-16T08:37:17.258751Z"
    },
    "execution": {
     "iopub.execute_input": "2022-09-10T12:06:24.659365Z",
     "iopub.status.busy": "2022-09-10T12:06:24.658909Z",
     "iopub.status.idle": "2022-09-10T12:26:52.31204Z",
     "shell.execute_reply": "2022-09-10T12:26:52.310496Z",
     "shell.execute_reply.started": "2022-09-10T12:06:24.659328Z"
    },
    "id": "fZWtWo756nLu",
    "outputId": "6fd44114-366c-4610-fe2a-c3f516494c1e"
   },
   "outputs": [],
   "source": [
    "history = fit_model(    \n",
    "    model = GoogLeNet_model,\n",
    "    model_name = GoogLeNet_name,\n",
    "    trainimages = trainimages,\n",
    "    trainlabels = trainlabels,\n",
    "    validationimages = validationimages,\n",
    "    validationlabels = validationlabels\n",
    ")"
   ]
  },
  {
   "cell_type": "code",
   "execution_count": null,
   "metadata": {
    "ExecuteTime": {
     "end_time": "2022-11-16T08:37:17.259406Z",
     "start_time": "2022-11-16T08:37:17.259400Z"
    },
    "execution": {
     "iopub.execute_input": "2022-09-10T12:35:03.051844Z",
     "iopub.status.busy": "2022-09-10T12:35:03.051192Z",
     "iopub.status.idle": "2022-09-10T12:35:03.746017Z",
     "shell.execute_reply": "2022-09-10T12:35:03.74432Z",
     "shell.execute_reply.started": "2022-09-10T12:35:03.051795Z"
    },
    "id": "7b2tMpNz6nLu",
    "outputId": "43e4a03f-c4f9-4c14-8940-5461922e3e05"
   },
   "outputs": [],
   "source": [
    "visualize_performance(\n",
    "    model_name = GoogLeNet_name,\n",
    "    history = history\n",
    ")"
   ]
  },
  {
   "cell_type": "code",
   "execution_count": null,
   "metadata": {
    "ExecuteTime": {
     "end_time": "2022-11-16T08:37:17.260097Z",
     "start_time": "2022-11-16T08:37:17.260091Z"
    },
    "execution": {
     "iopub.execute_input": "2022-09-10T12:38:17.541759Z",
     "iopub.status.busy": "2022-09-10T12:38:17.540302Z",
     "iopub.status.idle": "2022-09-10T12:38:45.072012Z",
     "shell.execute_reply": "2022-09-10T12:38:45.070223Z",
     "shell.execute_reply.started": "2022-09-10T12:38:17.54171Z"
    },
    "id": "uUgq9hl16nLu",
    "outputId": "705673e3-f5c4-4547-f166-4ad901f240bd"
   },
   "outputs": [],
   "source": [
    "GoogLeNet_model, test_loss, GoogLeNet_test_acc = evaluate_model(\n",
    "    model_name = GoogLeNet_name,\n",
    "    trainimages = trainimages,\n",
    "    trainlabels = trainlabels,\n",
    "    validationimages = validationimages,\n",
    "    validationlabels = validationlabels,\n",
    "    testimages = testimages,\n",
    "    testlabels = testlabels\n",
    ")"
   ]
  },
  {
   "cell_type": "code",
   "execution_count": null,
   "metadata": {
    "ExecuteTime": {
     "end_time": "2022-11-16T08:37:17.260841Z",
     "start_time": "2022-11-16T08:37:17.260835Z"
    },
    "execution": {
     "iopub.execute_input": "2022-09-10T12:38:56.817256Z",
     "iopub.status.busy": "2022-09-10T12:38:56.816788Z",
     "iopub.status.idle": "2022-09-10T12:39:10.893777Z",
     "shell.execute_reply": "2022-09-10T12:39:10.891692Z",
     "shell.execute_reply.started": "2022-09-10T12:38:56.817221Z"
    },
    "id": "YFbK6rNf6nLu",
    "outputId": "73cb7a66-13d5-4185-8e97-63501e79ce4c"
   },
   "outputs": [],
   "source": [
    "train_pred, train_pred_classes, test_pred, test_pred_classes = computing_prediction(\n",
    "    model = GoogLeNet_model,\n",
    "    model_name = GoogLeNet_name,\n",
    "    trainimages = trainimages,\n",
    "    testimages = testimages\n",
    ")\n",
    "\n",
    "test_pred, test_pred_classes"
   ]
  },
  {
   "cell_type": "code",
   "execution_count": null,
   "metadata": {
    "ExecuteTime": {
     "end_time": "2022-11-16T08:37:17.261550Z",
     "start_time": "2022-11-16T08:37:17.261545Z"
    },
    "execution": {
     "iopub.execute_input": "2022-09-10T12:39:10.897718Z",
     "iopub.status.busy": "2022-09-10T12:39:10.896976Z",
     "iopub.status.idle": "2022-09-10T12:39:12.081651Z",
     "shell.execute_reply": "2022-09-10T12:39:12.079704Z",
     "shell.execute_reply.started": "2022-09-10T12:39:10.897664Z"
    },
    "id": "T6C8Rrjy6nLu",
    "outputId": "8528bdbd-e233-46f5-8aa6-3dc1b7763a6b"
   },
   "outputs": [],
   "source": [
    "model_report(\n",
    "    model_name = GoogLeNet_name,\n",
    "    trainlabels = trainlabels,\n",
    "    train_pred_classes = train_pred_classes,\n",
    "    testlabels = testlabels,\n",
    "    test_pred_classes = test_pred_classes,\n",
    "    lesion_type_dict = lesion_type_dict\n",
    ")"
   ]
  },
  {
   "cell_type": "markdown",
   "metadata": {
    "id": "Aa2YmmXR6nLu"
   },
   "source": [
    "# 17. Summary"
   ]
  },
  {
   "cell_type": "code",
   "execution_count": 1,
   "metadata": {
    "ExecuteTime": {
     "end_time": "2022-11-16T08:48:21.970697Z",
     "start_time": "2022-11-16T08:48:21.847056Z"
    },
    "execution": {
     "iopub.execute_input": "2022-09-10T12:42:47.518921Z",
     "iopub.status.busy": "2022-09-10T12:42:47.517811Z",
     "iopub.status.idle": "2022-09-10T12:42:47.598319Z",
     "shell.execute_reply": "2022-09-10T12:42:47.596611Z",
     "shell.execute_reply.started": "2022-09-10T12:42:47.518881Z"
    },
    "id": "h9cDUYI46nLu",
    "outputId": "563b88d6-4c38-404c-9164-ba527158be8d",
    "scrolled": true
   },
   "outputs": [
    {
     "ename": "NameError",
     "evalue": "name 'pd' is not defined",
     "output_type": "error",
     "traceback": [
      "\u001b[0;31m---------------------------------------------------------------------------\u001b[0m",
      "\u001b[0;31mNameError\u001b[0m                                 Traceback (most recent call last)",
      "Cell \u001b[0;32mIn [1], line 1\u001b[0m\n\u001b[0;32m----> 1\u001b[0m \u001b[43mpd\u001b[49m\u001b[38;5;241m.\u001b[39mDataFrame\u001b[38;5;241m.\u001b[39mfrom_dict(\n\u001b[1;32m      2\u001b[0m     \u001b[38;5;28mdict\u001b[39m(\n\u001b[1;32m      3\u001b[0m         Model    \u001b[38;5;241m=\u001b[39m [ResNet50_name,     InceptionV3_name,     VGG16_name],\u001b[38;5;66;03m#,     VGG19_name,     GoogLeNet_name],\u001b[39;00m\n\u001b[1;32m      4\u001b[0m         Accuracy \u001b[38;5;241m=\u001b[39m [ResNet50_test_acc, InceptionV3_test_acc, VGG16_test_acc],\u001b[38;5;66;03m#, VGG19_test_acc, GoogLeNet_test_acc],\u001b[39;00m\n\u001b[1;32m      5\u001b[0m     )\n\u001b[1;32m      6\u001b[0m )\u001b[38;5;241m.\u001b[39mstyle\u001b[38;5;241m.\u001b[39mhide_index()\n",
      "\u001b[0;31mNameError\u001b[0m: name 'pd' is not defined"
     ]
    }
   ],
   "source": [
    "import pandas as pd\n",
    "pd.DataFrame.from_dict(\n",
    "    dict(\n",
    "        Model    = [ResNet50_name,     InceptionV3_name,     VGG16_name],#,     VGG19_name,     GoogLeNet_name],\n",
    "        Accuracy = [ResNet50_test_acc, InceptionV3_test_acc, VGG16_test_acc],#, VGG19_test_acc, GoogLeNet_test_acc],\n",
    "    )\n",
    ").style.hide_index()"
   ]
  },
  {
   "cell_type": "markdown",
   "metadata": {
    "id": "VkoeFqwi6nLu"
   },
   "source": [
    "# 18. References\n",
    "\n",
    "\n",
    "- [Article] [Kaiming He et al Deep Residual Learning for Image Recognition. (CVPR 2015)](https://arxiv.org/abs/1512.03385)\n",
    "- [Image] [A Basic Residual Block](https://medium.datadriveninvestor.com/developing-with-keras-functional-api-6017828408cd)\n",
    "- [Image] [Deep Feature-Based Classifiers for Fruit Fly Identification (Diptera: Tephritidae)](https://www.researchgate.net/figure/VGG16-VGG19-Inception-V3-Xception-and-ResNet-50-architectures_fig1_330478807)\n",
    "- [Image] [Googlenet/InceptionV1 architecture](https://developer.ridgerun.com/wiki/index.php?title=GstInference/Supported_architectures/InceptionV2)\n",
    "- [Notebook] [skin cancer resnet50](https://www.kaggle.com/code/zhyaqi/skin-cancer-resnet50)\n",
    "- [Notebook] [MinorProject_skinLesions](https://www.kaggle.com/code/nancybhargava/minorproject-skinlesions)"
   ]
  }
 ],
 "metadata": {
  "colab": {
   "collapsed_sections": [
    "cSL4CVxR6nLn",
    "bndsDl6R6nLp",
    "9zlH6VGx6nLq",
    "YZvXSgAU6nLs",
    "o6p9ez4Z6nLt"
   ],
   "provenance": []
  },
  "kernelspec": {
   "display_name": "Python 3 (ipykernel)",
   "language": "python",
   "name": "python3"
  },
  "language_info": {
   "codemirror_mode": {
    "name": "ipython",
    "version": 3
   },
   "file_extension": ".py",
   "mimetype": "text/x-python",
   "name": "python",
   "nbconvert_exporter": "python",
   "pygments_lexer": "ipython3",
   "version": "3.9.13"
  },
  "toc": {
   "base_numbering": 1,
   "nav_menu": {},
   "number_sections": false,
   "sideBar": true,
   "skip_h1_title": false,
   "title_cell": "Table of Contents",
   "title_sidebar": "Contents",
   "toc_cell": false,
   "toc_position": {
    "height": "calc(100% - 180px)",
    "left": "10px",
    "top": "150px",
    "width": "323px"
   },
   "toc_section_display": true,
   "toc_window_display": false
  },
  "vscode": {
   "interpreter": {
    "hash": "916dbcbb3f70747c44a77c7bcd40155683ae19c65e1c03b4aa3499c5328201f1"
   }
  }
 },
 "nbformat": 4,
 "nbformat_minor": 4
}
