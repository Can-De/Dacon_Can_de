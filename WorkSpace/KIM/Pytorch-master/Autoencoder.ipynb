{
 "cells": [
  {
   "cell_type": "markdown",
   "metadata": {
    "colab_type": "text",
    "id": "qFoq-khqMAh7"
   },
   "source": [
    "### Autoencoder\n",
    "\n",
    "AutoEncoder 은 아래의 그림과 같이 단순히 입력을 출력으로 복사하는 신경 망(비지도 학습) 이다. \n",
    "<div><img src=\"https://img1.daumcdn.net/thumb/R1280x0/?scode=mtistory2&fname=http%3A%2F%2Fcfile2.uf.tistory.com%2Fimage%2F996C93475BDC97C00AE328\" height=\"100%\" width=\"100%\" /></div><br>\n",
    "\n",
    "아래 링크는 AutoEncoder에 관한 개념 설명이 나와있다.  \n",
    "<a href=\"https://wjddyd66.github.io/tensorflow/2019/08/28/Tensorflow-AutoEncoder.html\">Auto Encoder</a>\n"
   ]
  },
  {
   "cell_type": "markdown",
   "metadata": {
    "colab_type": "text",
    "id": "XXpqf4nGMAh8"
   },
   "source": [
    "### 1. Settings\n",
    "#### 1) Import required libraries"
   ]
  },
  {
   "cell_type": "code",
   "execution_count": 1,
   "metadata": {
    "colab": {},
    "colab_type": "code",
    "id": "gOFx3VQpMAh-"
   },
   "outputs": [],
   "source": [
    "import numpy as np\n",
    "import torch\n",
    "import torch.nn as nn\n",
    "import torch.optim as optim\n",
    "import torch.nn.init as init\n",
    "import torchvision.datasets as dset\n",
    "import torchvision.transforms as transforms\n",
    "from torch.utils.data import DataLoader\n",
    "import matplotlib.pyplot as plt"
   ]
  },
  {
   "cell_type": "markdown",
   "metadata": {
    "colab_type": "text",
    "id": "OBDG968zMAiC"
   },
   "source": [
    "#### 2) Set hyperparameters"
   ]
  },
  {
   "cell_type": "code",
   "execution_count": 2,
   "metadata": {
    "colab": {},
    "colab_type": "code",
    "id": "oxPTgvcjMAiD"
   },
   "outputs": [],
   "source": [
    "batch_size = 256\n",
    "learning_rate = 0.0002\n",
    "num_epoch = 5"
   ]
  },
  {
   "cell_type": "markdown",
   "metadata": {
    "colab_type": "text",
    "id": "7uaV_HtJMAiG"
   },
   "source": [
    "### 2. Data\n",
    "\n",
    "#### 1) Download Data"
   ]
  },
  {
   "cell_type": "code",
   "execution_count": 3,
   "metadata": {
    "colab": {},
    "colab_type": "code",
    "id": "he-GrlguMAiG"
   },
   "outputs": [],
   "source": [
    "mnist_train = dset.MNIST(\"./\", train=True, transform=transforms.ToTensor(), target_transform=None, download=True)\n",
    "mnist_test = dset.MNIST(\"./\", train=False, transform=transforms.ToTensor(), target_transform=None, download=True)"
   ]
  },
  {
   "cell_type": "markdown",
   "metadata": {
    "colab_type": "text",
    "id": "rKz97cYDMAiJ"
   },
   "source": [
    "#### 2) Set DataLoader"
   ]
  },
  {
   "cell_type": "code",
   "execution_count": 4,
   "metadata": {
    "colab": {},
    "colab_type": "code",
    "id": "aHAHmwe-MAiJ"
   },
   "outputs": [],
   "source": [
    "train_loader = torch.utils.data.DataLoader(mnist_train,batch_size=batch_size, shuffle=True,num_workers=2,drop_last=True)\n",
    "test_loader = torch.utils.data.DataLoader(mnist_test,batch_size=batch_size, shuffle=False,num_workers=2,drop_last=True)"
   ]
  },
  {
   "cell_type": "markdown",
   "metadata": {
    "colab_type": "text",
    "id": "gWlU96lLMAiM"
   },
   "source": [
    "### Stacked AutoEncoder\n",
    "\n",
    "Stacked AutoEncoder는 여러개의 히든 레이어를 가지는 Auto Encoder이며, 레이어를 추가할수록 AutoEncoder가 더 복잡한 코딩을 학습할 수 있다.  \n",
    "Stacked AutoEncoder는 아래의 그림과 같이 가운데 히든레이어를 기준으로 대칭인 구조를 가진다.  \n",
    "\n",
    "<div><img src=\"https://img1.daumcdn.net/thumb/R1280x0/?scode=mtistory2&fname=http%3A%2F%2Fcfile9.uf.tistory.com%2Fimage%2F99F1DE4A5BDC983D09BAED\" height=\"100%\" width=\"100%\" /></div><br>\n",
    "\n",
    "이번 Model은 MNIST를 분류하는 Stacked AutoEncoder를 구현하는 것 이다.  \n",
    "<br>\n",
    "**Encoder:** [batch_size,1,28,28] -> x.view(batch_size,-1) -> [batch_size,784] -> nn.Linear(28 * 28, 20) -> [batch_size,20]  \n",
    "<br>\n",
    "**Decoder:** [batch_size,20] -> nn.Linear(20 , 28 * 28) -> [batch_size,784] -> self.decoder(encoded).view(batch_size,1,28,28) -> [batch_size,1,28,28]  \n",
    "\n",
    "\n",
    "#### 1) Model"
   ]
  },
  {
   "cell_type": "code",
   "execution_count": 5,
   "metadata": {
    "colab": {},
    "colab_type": "code",
    "id": "mTd6rSIFMAiN"
   },
   "outputs": [],
   "source": [
    "class Autoencoder(nn.Module):\n",
    "    def __init__(self):\n",
    "        super(Autoencoder,self).__init__()\n",
    "        self.encoder = nn.Linear(28*28,20)\n",
    "        self.decoder = nn.Linear(20,28*28)   \n",
    "                \n",
    "    def forward(self,x):\n",
    "        x = x.view(batch_size,-1)\n",
    "        encoded = self.encoder(x)\n",
    "        out = self.decoder(encoded).view(batch_size,1,28,28)\n",
    "        return out"
   ]
  },
  {
   "cell_type": "markdown",
   "metadata": {
    "colab_type": "text",
    "id": "yLiqw-rpMAiP"
   },
   "source": [
    "#### 2) Loss func & Optimizer"
   ]
  },
  {
   "cell_type": "code",
   "execution_count": 6,
   "metadata": {
    "colab": {
     "base_uri": "https://localhost:8080/",
     "height": 34
    },
    "colab_type": "code",
    "executionInfo": {
     "elapsed": 22418,
     "status": "ok",
     "timestamp": 1559565570677,
     "user": {
      "displayName": "Choi Gunho",
      "photoUrl": "",
      "userId": "04388737836176863066"
     },
     "user_tz": -540
    },
    "id": "ZKc1UKNgMAiQ",
    "outputId": "cf912acf-d66e-4d9d-eefc-e64a24699806"
   },
   "outputs": [
    {
     "name": "stdout",
     "output_type": "stream",
     "text": [
      "cuda:0\n"
     ]
    }
   ],
   "source": [
    "device = torch.device(\"cuda:0\" if torch.cuda.is_available() else \"cpu\")\n",
    "print(device)\n",
    "\n",
    "model = Autoencoder().to(device)\n",
    "loss_func = nn.MSELoss()\n",
    "optimizer = torch.optim.Adam(model.parameters(), lr=learning_rate)"
   ]
  },
  {
   "cell_type": "markdown",
   "metadata": {
    "colab_type": "text",
    "id": "_W2UI2F_MAiT"
   },
   "source": [
    "#### 3) Train "
   ]
  },
  {
   "cell_type": "code",
   "execution_count": 7,
   "metadata": {
    "colab": {},
    "colab_type": "code",
    "id": "a7NQzW7mMAiU"
   },
   "outputs": [],
   "source": [
    "loss_arr =[]\n",
    "for i in range(num_epoch):\n",
    "    for j,[image,label] in enumerate(train_loader):\n",
    "        x = image.to(device)\n",
    "        \n",
    "        optimizer.zero_grad()\n",
    "        output = model.forward(x)\n",
    "        loss = loss_func(output,x)\n",
    "        loss.backward()\n",
    "        optimizer.step()\n",
    "        \n",
    "    if j % 1000 == 0:\n",
    "        print(loss)\n",
    "        loss_arr.append(loss.cpu().data.numpy()[0])"
   ]
  },
  {
   "cell_type": "markdown",
   "metadata": {
    "colab_type": "text",
    "id": "Pmru4P0_MAiX"
   },
   "source": [
    "#### 4) Check with Train Image\n",
    "\n",
    "AutoEncoder의 Stacked AutoEncoder는 입력과 출력이 같기 때문에 Input Data만으로도 Model의 성능을 판단할 수 있다."
   ]
  },
  {
   "cell_type": "code",
   "execution_count": 8,
   "metadata": {
    "colab": {
     "base_uri": "https://localhost:8080/",
     "height": 5074
    },
    "colab_type": "code",
    "executionInfo": {
     "elapsed": 6094,
     "status": "ok",
     "timestamp": 1559565717017,
     "user": {
      "displayName": "Choi Gunho",
      "photoUrl": "",
      "userId": "04388737836176863066"
     },
     "user_tz": -540
    },
    "id": "OvIYXu3lMAiY",
    "outputId": "aece479b-8ff9-4392-d497-61dc93f5f9f7",
    "scrolled": false
   },
   "outputs": [
    {
     "name": "stdout",
     "output_type": "stream",
     "text": [
      "torch.Size([256, 28, 28])\n"
     ]
    },
    {
     "data": {
      "image/png": "[encoded data removed]",
      "text/plain": [
       "<Figure size 432x288 with 2 Axes>"
      ]
     },
     "metadata": {
      "needs_background": "light"
     },
     "output_type": "display_data"
    },
    {
     "data": {
      "image/png": "[encoded data removed]",
      "text/plain": [
       "<Figure size 432x288 with 2 Axes>"
      ]
     },
     "metadata": {
      "needs_background": "light"
     },
     "output_type": "display_data"
    }
   ],
   "source": [
    "out_img = torch.squeeze(output.cpu().data)\n",
    "print(out_img.size())\n",
    "\n",
    "for i in range(3):\n",
    "    plt.subplot(1,2,1)\n",
    "    plt.imshow(torch.squeeze(image[i]).numpy(),cmap='gray')\n",
    "    plt.subplot(1,2,2)\n",
    "    plt.imshow(out_img[i].numpy(),cmap='gray')\n",
    "    plt.show()"
   ]
  },
  {
   "cell_type": "markdown",
   "metadata": {},
   "source": [
    "#### 5) Check with Test Image"
   ]
  },
  {
   "cell_type": "code",
   "execution_count": 9,
   "metadata": {
    "colab": {},
    "colab_type": "code",
    "id": "XCKx34u5MAic"
   },
   "outputs": [],
   "source": [
    "with torch.no_grad():\n",
    "  for i in range(1):\n",
    "      for j,[image,label] in enumerate(test_loader):\n",
    "          x = image.to(device)\n",
    "\n",
    "          optimizer.zero_grad()\n",
    "          output = model.forward(x)\n",
    "\n",
    "      if j % 1000 == 0:\n",
    "          print(loss)        "
   ]
  },
  {
   "cell_type": "code",
   "execution_count": 10,
   "metadata": {
    "colab": {
     "base_uri": "https://localhost:8080/",
     "height": 5074
    },
    "colab_type": "code",
    "executionInfo": {
     "elapsed": 4373,
     "status": "ok",
     "timestamp": 1559565742608,
     "user": {
      "displayName": "Choi Gunho",
      "photoUrl": "",
      "userId": "04388737836176863066"
     },
     "user_tz": -540
    },
    "id": "rvww5H9GMAie",
    "outputId": "a5177d7e-d9e8-4b2b-a2c9-b26e974f14ef",
    "scrolled": false
   },
   "outputs": [
    {
     "name": "stdout",
     "output_type": "stream",
     "text": [
      "torch.Size([256, 28, 28])\n"
     ]
    },
    {
     "data": {
      "image/png": "[encoded data removed]",
      "text/plain": [
       "<Figure size 432x288 with 2 Axes>"
      ]
     },
     "metadata": {
      "needs_background": "light"
     },
     "output_type": "display_data"
    },
    {
     "data": {
      "image/png": "[encoded data removed]",
      "text/plain": [
       "<Figure size 432x288 with 2 Axes>"
      ]
     },
     "metadata": {
      "needs_background": "light"
     },
     "output_type": "display_data"
    },
    {
     "data": {
      "image/png": "[encoded data removed]",
      "text/plain": [
       "<Figure size 432x288 with 2 Axes>"
      ]
     },
     "metadata": {
      "needs_background": "light"
     },
     "output_type": "display_data"
    }
   ],
   "source": [
    "out_img = torch.squeeze(output.cpu().data)\n",
    "print(out_img.size())\n",
    "\n",
    "for i in range(2):\n",
    "    plt.subplot(1,2,1)\n",
    "    plt.imshow(torch.squeeze(image[i]).numpy(),cmap='gray')\n",
    "    plt.subplot(1,2,2)\n",
    "    plt.imshow(out_img[i].numpy(),cmap='gray')\n",
    "    plt.show()"
   ]
  },
  {
   "cell_type": "markdown",
   "metadata": {
    "colab": {},
    "colab_type": "code",
    "id": "utDLVRM7Ov2l"
   },
   "source": [
    "### Convolution Stacked AutoEncoder\n",
    "\n",
    "Stacked AutoEncoder의 Model이 성능이 안좋은 것을 확인하여 Model을 ANN구조가 아닌 CNN의 구조로서 다시 작성한다.  \n",
    "\n",
    "중요한것은 **Convolution Stacked AutoEncoder에서의 Decoder**이다.  \n",
    "결국 줄어든 Feature 특성을 다시 Input Size에 맞게 늘리기 위해서는 Convolution연산과 같은 방법으로서 Data를 늘려야 하기 때문이다.  \n",
    "이러한 Convolution의 역 연산을 **DeConvolution**이라 한다.\n",
    "\n",
    "Pytorch는 이러한 연산을 **ConvTranspose2d**을 통하여 지원한다.\n",
    "\n",
    "<code>torch.nn.ConvTranspose2d(in_channels, out_channels, kernel_size, stride=1, padding=0, output_padding=0, groups=1, bias=True, dilation=1, padding_mode='zeros')</code>\n",
    "- stride: controls the stride for the cross-correlation.\n",
    "- padding: controls the amount of implicit zero-paddings on both sides for dilation * (kernel_size - 1) - padding number of points. See note below for details.\n",
    "- output_padding: controls the additional size added to one side of the output shape. See note below for details.\n",
    "- dilation: controls the spacing between the kernel points; also known as the à trous algorithm. It is harder to describe, but this link has a nice visualization of what dilation does.\n",
    "- groups: controls the connections between inputs and outputs\n",
    "\n",
    "아래와 같은 가정이 있을때 **간단한 수식을 사용하여 Output의 차원의 크기를 쉽게 예측**할 수 있다.  \n",
    "\n",
    "- 입력 크기: (N, C_{in}, H_{in}, W_{in})\n",
    "- 출력 크기: (N, C_{out}, H_{out}, W_{out})\n",
    "\n",
    "\n",
    "<p>$$H_{out}=(H_{in}−1)×stride[0]−2×padding[0]+dilation[0]×(kernel_size[0]−1)+output_padding[0]+1$$</p>\n",
    "<p>$$W_{out}=(W_{in}−1)×stride[0]−2×padding[0]+dilation[0]×(kernel_size[0]−1)+output_padding[0]+1$$</p>\n",
    "\n",
    "\n",
    "좀 더 명확히 알아보기 위하여 그림으로서 알아보자.  \n",
    "아래 그림의 Parameter는 다음과 같다.\n",
    "- input size: 2 x 2\n",
    "- output size: 4 x 4\n",
    "- kernel size: 3 x 3\n",
    "- stride: 1\n",
    "- padding: 0\n",
    "- out_padding: 0\n",
    "\n",
    "<img src=\"https://i.stack.imgur.com/YyCu2.gif\" alt=\"\" width=\"208\" height=\"233\">\n",
    "\n",
    "위와 같은 조건에서 Parameter의 Stride를 2로 증가시키고 Padding을 넣었을 경우의 Deconvolution의 결과이다.  \n",
    "<img src=\"https://i.stack.imgur.com/f2RiP.gif\" alt=\"\" width=\"208\" height=\"233\">\n",
    "\n",
    "위의 두 그림에서 이해하기 힘든 **Deconvolution에서의 Padding과 Out_padding**에 대해서 좀 더 살펴보자.  "
   ]
  },
  {
   "cell_type": "markdown",
   "metadata": {},
   "source": [
    "#### Input data"
   ]
  },
  {
   "cell_type": "code",
   "execution_count": 22,
   "metadata": {},
   "outputs": [
    {
     "name": "stdout",
     "output_type": "stream",
     "text": [
      "tensor([[[[1., 1., 1.],\n",
      "          [1., 1., 1.],\n",
      "          [1., 1., 1.]]]])\n"
     ]
    },
    {
     "data": {
      "text/plain": [
       "tensor([[[[1., 1., 1.],\n",
       "          [1., 1., 1.],\n",
       "          [1., 1., 1.]]]])"
      ]
     },
     "execution_count": 22,
     "metadata": {},
     "output_type": "execute_result"
    },
    {
     "data": {
      "image/png": "[encoded data removed]",
      "text/plain": [
       "<Figure size 432x288 with 1 Axes>"
      ]
     },
     "metadata": {
      "needs_background": "light"
     },
     "output_type": "display_data"
    }
   ],
   "source": [
    "# 입력으로 1로 채워진 텐서를 생성합니다.\n",
    "img = torch.ones(1,1,3,3)\n",
    "print(img)\n",
    "\n",
    "plt.imshow(img.numpy()[0,0,...],vmin=0)\n",
    "\n",
    "transpose = nn.ConvTranspose2d(in_channels=1, out_channels=1, kernel_size=3, stride=1, padding=0, output_padding=0, bias=False)\n",
    "# 결과를 확인하기 쉽게 전치 컨볼루션 연산의 가중치를 1로 초기화합니다.\n",
    "init.constant_(transpose.weight.data,1)"
   ]
  },
  {
   "cell_type": "markdown",
   "metadata": {},
   "source": [
    "#### Kernel Size=3, stride=1, padding=0, output_padding=0"
   ]
  },
  {
   "cell_type": "code",
   "execution_count": 23,
   "metadata": {},
   "outputs": [
    {
     "name": "stdout",
     "output_type": "stream",
     "text": [
      "tensor([[[[1., 2., 3., 2., 1.],\n",
      "          [2., 4., 6., 4., 2.],\n",
      "          [3., 6., 9., 6., 3.],\n",
      "          [2., 4., 6., 4., 2.],\n",
      "          [1., 2., 3., 2., 1.]]]], grad_fn=<ConvTranspose2DBackward>) torch.Size([1, 1, 5, 5])\n"
     ]
    },
    {
     "data": {
      "image/png": "[encoded data removed]",
      "text/plain": [
       "<Figure size 432x288 with 1 Axes>"
      ]
     },
     "metadata": {
      "needs_background": "light"
     },
     "output_type": "display_data"
    }
   ],
   "source": [
    "out = transpose(img)\n",
    "print(out,out.size())\n",
    "\n",
    "plt.imshow(out.detach().numpy()[0,0,...],vmin=0)\n",
    "plt.show()"
   ]
  },
  {
   "cell_type": "markdown",
   "metadata": {},
   "source": [
    "#### Kernel Size=3, stride=2, padding=0, output_padding=0\n",
    "\n",
    "Stride증가시 Output Size 커짐"
   ]
  },
  {
   "cell_type": "code",
   "execution_count": 24,
   "metadata": {},
   "outputs": [
    {
     "name": "stdout",
     "output_type": "stream",
     "text": [
      "tensor([[[[1., 1., 2., 1., 2., 1., 1.],\n",
      "          [1., 1., 2., 1., 2., 1., 1.],\n",
      "          [2., 2., 4., 2., 4., 2., 2.],\n",
      "          [1., 1., 2., 1., 2., 1., 1.],\n",
      "          [2., 2., 4., 2., 4., 2., 2.],\n",
      "          [1., 1., 2., 1., 2., 1., 1.],\n",
      "          [1., 1., 2., 1., 2., 1., 1.]]]], grad_fn=<ConvTranspose2DBackward>) torch.Size([1, 1, 7, 7])\n"
     ]
    },
    {
     "data": {
      "text/plain": [
       "<matplotlib.image.AxesImage at 0x7f880a82ddd8>"
      ]
     },
     "execution_count": 24,
     "metadata": {},
     "output_type": "execute_result"
    },
    {
     "data": {
      "image/png": "[encoded data removed]",
      "text/plain": [
       "<Figure size 432x288 with 1 Axes>"
      ]
     },
     "metadata": {
      "needs_background": "light"
     },
     "output_type": "display_data"
    }
   ],
   "source": [
    "transpose = nn.ConvTranspose2d(in_channels=1, out_channels=1, kernel_size=3, stride=2, padding=0, output_padding=0, bias=False)\n",
    "init.constant_(transpose.weight.data,1)\n",
    "out = transpose(img)\n",
    "\n",
    "print(out,out.size())\n",
    "plt.imshow(out.detach().numpy()[0,0,...],vmin=0)"
   ]
  },
  {
   "cell_type": "markdown",
   "metadata": {},
   "source": [
    "#### Kernel Size=3, stride=2, padding=1, output_padding=0\n",
    "\n",
    "Padding 추가시 결과값에서 Outline padding크기만큼 제거"
   ]
  },
  {
   "cell_type": "code",
   "execution_count": 25,
   "metadata": {},
   "outputs": [
    {
     "name": "stdout",
     "output_type": "stream",
     "text": [
      "tensor([[[[1., 2., 1., 2., 1.],\n",
      "          [2., 4., 2., 4., 2.],\n",
      "          [1., 2., 1., 2., 1.],\n",
      "          [2., 4., 2., 4., 2.],\n",
      "          [1., 2., 1., 2., 1.]]]], grad_fn=<ConvTranspose2DBackward>) torch.Size([1, 1, 5, 5])\n"
     ]
    },
    {
     "data": {
      "text/plain": [
       "<matplotlib.image.AxesImage at 0x7f880abd0748>"
      ]
     },
     "execution_count": 25,
     "metadata": {},
     "output_type": "execute_result"
    },
    {
     "data": {
      "image/png": "[encoded data removed]",
      "text/plain": [
       "<Figure size 432x288 with 1 Axes>"
      ]
     },
     "metadata": {
      "needs_background": "light"
     },
     "output_type": "display_data"
    }
   ],
   "source": [
    "transpose = nn.ConvTranspose2d(in_channels=1, out_channels=1, kernel_size=3, stride=2, padding=1, output_padding=0, bias=False)\n",
    "init.constant_(transpose.weight.data,1)\n",
    "out = transpose(img)\n",
    "\n",
    "print(out,out.size())\n",
    "plt.imshow(out.detach().numpy()[0,0,...],vmin=0)"
   ]
  },
  {
   "cell_type": "markdown",
   "metadata": {},
   "source": [
    "## Kernel Size=3, stride=2, padding=0, output_padding=1\n",
    "\n",
    "out_padding 추가시 out_padding크기만큼 결과값 width, height증가"
   ]
  },
  {
   "cell_type": "code",
   "execution_count": 26,
   "metadata": {},
   "outputs": [
    {
     "name": "stdout",
     "output_type": "stream",
     "text": [
      "tensor([[[[1., 1., 2., 1., 2., 1., 1., 0.],\n",
      "          [1., 1., 2., 1., 2., 1., 1., 0.],\n",
      "          [2., 2., 4., 2., 4., 2., 2., 0.],\n",
      "          [1., 1., 2., 1., 2., 1., 1., 0.],\n",
      "          [2., 2., 4., 2., 4., 2., 2., 0.],\n",
      "          [1., 1., 2., 1., 2., 1., 1., 0.],\n",
      "          [1., 1., 2., 1., 2., 1., 1., 0.],\n",
      "          [0., 0., 0., 0., 0., 0., 0., 0.]]]],\n",
      "       grad_fn=<ConvTranspose2DBackward>) torch.Size([1, 1, 8, 8])\n"
     ]
    },
    {
     "data": {
      "text/plain": [
       "<matplotlib.image.AxesImage at 0x7f880ac9a668>"
      ]
     },
     "execution_count": 26,
     "metadata": {},
     "output_type": "execute_result"
    },
    {
     "data": {
      "image/png": "[encoded data removed]",
      "text/plain": [
       "<Figure size 432x288 with 1 Axes>"
      ]
     },
     "metadata": {
      "needs_background": "light"
     },
     "output_type": "display_data"
    }
   ],
   "source": [
    "transpose = nn.ConvTranspose2d(in_channels=1, out_channels=1, kernel_size=3, stride=2, padding=0, output_padding=1, bias=False)\n",
    "init.constant_(transpose.weight.data,1)\n",
    "out=transpose(img)\n",
    "\n",
    "print(out,out.size())\n",
    "plt.imshow(out.detach().numpy()[0,0,...],vmin=0)"
   ]
  },
  {
   "cell_type": "markdown",
   "metadata": {},
   "source": [
    "#### 1) Model\n",
    "\n",
    "Encoder: 기존에 사용하던 Convolution으로서 Input Size보다 작아지게 구성  \n",
    "Decoder: DeConvolution을 사용하여 Input Size만큼 크기를 키움"
   ]
  },
  {
   "cell_type": "code",
   "execution_count": 11,
   "metadata": {},
   "outputs": [],
   "source": [
    "class Encoder(nn.Module):\n",
    "    def __init__(self):\n",
    "        super(Encoder,self).__init__()\n",
    "        self.layer1 = nn.Sequential(\n",
    "                        nn.Conv2d(1,16,3,padding=1),                            # batch x 16 x 28 x 28\n",
    "                        nn.ReLU(),\n",
    "                        nn.BatchNorm2d(16),\n",
    "                        nn.Conv2d(16,32,3,padding=1),                           # batch x 32 x 28 x 28\n",
    "                        nn.ReLU(),\n",
    "                        nn.BatchNorm2d(32),\n",
    "                        nn.Conv2d(32,64,3,padding=1),                           # batch x 32 x 28 x 28\n",
    "                        nn.ReLU(),\n",
    "                        nn.BatchNorm2d(64),\n",
    "                        nn.MaxPool2d(2,2)                                       # batch x 64 x 14 x 14\n",
    "        )\n",
    "        self.layer2 = nn.Sequential(\n",
    "                        nn.Conv2d(64,128,3,padding=1),                          # batch x 64 x 14 x 14\n",
    "                        nn.ReLU(),\n",
    "                        nn.BatchNorm2d(128),\n",
    "                        nn.MaxPool2d(2,2),\n",
    "                        nn.Conv2d(128,256,3,padding=1),                         # batch x 64 x 7 x 7\n",
    "                        nn.ReLU()\n",
    "        )\n",
    "        \n",
    "                \n",
    "    def forward(self,x):\n",
    "        out = self.layer1(x)\n",
    "        out = self.layer2(out)\n",
    "        out = out.view(batch_size, -1)\n",
    "        return out\n",
    "    \n"
   ]
  },
  {
   "cell_type": "code",
   "execution_count": 12,
   "metadata": {},
   "outputs": [],
   "source": [
    "class Decoder(nn.Module):\n",
    "    def __init__(self):\n",
    "        super(Decoder,self).__init__()\n",
    "        self.layer1 = nn.Sequential(\n",
    "                        nn.ConvTranspose2d(256,128,3,2,1,1),                    # batch x 128 x 14 x 14\n",
    "                        nn.ReLU(),\n",
    "                        nn.BatchNorm2d(128),\n",
    "                        nn.ConvTranspose2d(128,64,3,1,1),                       # batch x 64 x 14 x 14\n",
    "                        nn.ReLU(),\n",
    "                        nn.BatchNorm2d(64)\n",
    "        )\n",
    "        self.layer2 = nn.Sequential(\n",
    "                        nn.ConvTranspose2d(64,16,3,1,1),                        # batch x 16 x 14 x 14\n",
    "                        nn.ReLU(),\n",
    "                        nn.BatchNorm2d(16),\n",
    "                        nn.ConvTranspose2d(16,1,3,2,1,1),                       # batch x 1 x 28 x 28\n",
    "                        nn.ReLU()\n",
    "        )\n",
    "        \n",
    "    def forward(self,x):\n",
    "        out = x.view(batch_size,256,7,7)\n",
    "        out = self.layer1(out)\n",
    "        out = self.layer2(out)\n",
    "        return out\n",
    "\n"
   ]
  },
  {
   "cell_type": "markdown",
   "metadata": {},
   "source": [
    "#### 2) Loss func & Optimizer\n",
    "\n",
    "Loss Function에서 중요한 점은 Encoder와 Decoder의 Parameter를 동시에 학습시키기 위해 묶어서 Optimizer에적용시켜야 한다."
   ]
  },
  {
   "cell_type": "code",
   "execution_count": 13,
   "metadata": {},
   "outputs": [
    {
     "name": "stdout",
     "output_type": "stream",
     "text": [
      "cuda:0\n"
     ]
    }
   ],
   "source": [
    "device = torch.device(\"cuda:0\" if torch.cuda.is_available() else \"cpu\")\n",
    "print(device)\n",
    "\n",
    "encoder = Encoder().to(device)\n",
    "decoder = Decoder().to(device)\n",
    "\n",
    "# 인코더 디코더의 파라미터를 동시에 학습시키기 위해 이를 묶는 방법입니다.\n",
    "parameters = list(encoder.parameters())+ list(decoder.parameters())\n",
    "\n",
    "loss_func = nn.MSELoss()\n",
    "optimizer = torch.optim.Adam(parameters, lr=learning_rate)"
   ]
  },
  {
   "cell_type": "markdown",
   "metadata": {},
   "source": [
    "#### 3) Train "
   ]
  },
  {
   "cell_type": "code",
   "execution_count": 18,
   "metadata": {},
   "outputs": [
    {
     "name": "stdout",
     "output_type": "stream",
     "text": [
      "\n",
      "--------model not restored--------\n",
      "\n"
     ]
    }
   ],
   "source": [
    "# 모델을 불러오는 방법입니다.\n",
    "# 크게 두가지 방법이 있는데 여기 사용된 방법은 좀 단순한 방법입니다.\n",
    "# https://pytorch.org/tutorials/beginner/saving_loading_models.html\n",
    "\n",
    "try:\n",
    "    encoder, decoder = torch.load('./model/conv_autoencoder.pkl')\n",
    "    print(\"\\n--------model restored--------\\n\")\n",
    "except:\n",
    "    print(\"\\n--------model not restored--------\\n\")\n",
    "    pass\n",
    "\n",
    "for i in range(num_epoch):\n",
    "    for j,[image,label] in enumerate(train_loader):\n",
    "        optimizer.zero_grad()\n",
    "        image = image.to(device)\n",
    "        \n",
    "        output = encoder(image)\n",
    "        output = decoder(output)\n",
    "        \n",
    "        loss = loss_func(output,image)\n",
    "        loss.backward()\n",
    "        optimizer.step()\n",
    "        \n",
    "    if j % 10 == 0:\n",
    "        # 모델 저장하는 방법\n",
    "        # 이 역시 크게 두가지 방법이 있는데 여기 사용된 방법은 좀 단순한 방법입니다.\n",
    "        # https://pytorch.org/tutorials/beginner/saving_loading_models.html\n",
    "        torch.save([encoder,decoder],'./model/conv_autoencoder.pkl')\n",
    "        print(loss)\n"
   ]
  },
  {
   "cell_type": "markdown",
   "metadata": {},
   "source": [
    "#### 4) Check with Train Image"
   ]
  },
  {
   "cell_type": "code",
   "execution_count": 15,
   "metadata": {},
   "outputs": [
    {
     "name": "stdout",
     "output_type": "stream",
     "text": [
      "torch.Size([256, 28, 28])\n"
     ]
    },
    {
     "data": {
      "image/png": "[encoded data removed]",
      "text/plain": [
       "<Figure size 432x288 with 2 Axes>"
      ]
     },
     "metadata": {
      "needs_background": "light"
     },
     "output_type": "display_data"
    },
    {
     "data": {
      "image/png": "[encoded data removed]",
      "text/plain": [
       "<Figure size 432x288 with 2 Axes>"
      ]
     },
     "metadata": {
      "needs_background": "light"
     },
     "output_type": "display_data"
    },
    {
     "data": {
      "image/png": "[encoded data removed]",
      "text/plain": [
       "<Figure size 432x288 with 2 Axes>"
      ]
     },
     "metadata": {
      "needs_background": "light"
     },
     "output_type": "display_data"
    }
   ],
   "source": [
    "out_img = torch.squeeze(output.cpu().data)\n",
    "print(out_img.size())\n",
    "\n",
    "for i in range(2):\n",
    "    plt.subplot(1,2,1)\n",
    "    plt.imshow(torch.squeeze(image[i]).cpu().numpy(),cmap='gray')\n",
    "    plt.subplot(1,2,2)\n",
    "    plt.imshow(out_img[i].numpy(),cmap='gray')\n",
    "    plt.show()"
   ]
  },
  {
   "cell_type": "markdown",
   "metadata": {},
   "source": [
    "#### 5) Check with Train Image"
   ]
  },
  {
   "cell_type": "code",
   "execution_count": 16,
   "metadata": {},
   "outputs": [],
   "source": [
    "with torch.no_grad():\n",
    "    for j,[image,label] in enumerate(test_loader):\n",
    "       \n",
    "        image = image.to(device)\n",
    "        output = encoder(image)\n",
    "        output = decoder(output)\n",
    "        \n",
    "    if j % 10 == 0:\n",
    "        print(loss)        "
   ]
  },
  {
   "cell_type": "code",
   "execution_count": 17,
   "metadata": {
    "scrolled": true
   },
   "outputs": [
    {
     "name": "stdout",
     "output_type": "stream",
     "text": [
      "torch.Size([256, 28, 28])\n"
     ]
    },
    {
     "data": {
      "image/png": "[encoded data removed]",
      "text/plain": [
       "<Figure size 432x288 with 2 Axes>"
      ]
     },
     "metadata": {
      "needs_background": "light"
     },
     "output_type": "display_data"
    },
    {
     "data": {
      "image/png": "[encoded data removed]",
      "text/plain": [
       "<Figure size 432x288 with 2 Axes>"
      ]
     },
     "metadata": {
      "needs_background": "light"
     },
     "output_type": "display_data"
    },
    {
     "data": {
      "image/png": "[encoded data removed]",
      "text/plain": [
       "<Figure size 432x288 with 2 Axes>"
      ]
     },
     "metadata": {
      "needs_background": "light"
     },
     "output_type": "display_data"
    }
   ],
   "source": [
    "out_img = torch.squeeze(output.cpu().data)\n",
    "print(out_img.size())\n",
    "\n",
    "for i in range(2):\n",
    "    plt.subplot(1,2,1)\n",
    "    plt.imshow(torch.squeeze(image[i]).cpu().numpy(),cmap='gray')\n",
    "    plt.subplot(1,2,2)\n",
    "    plt.imshow(out_img[i].numpy(),cmap='gray')\n",
    "    plt.show()"
   ]
  }
 ],
 "metadata": {
  "accelerator": "GPU",
  "colab": {
   "collapsed_sections": [],
   "name": "9.1 기본적인 오토인코더(Basic_Autoencoder).ipynb",
   "provenance": [],
   "version": "0.3.2"
  },
  "kernelspec": {
   "display_name": "Python 3",
   "language": "python",
   "name": "python3"
  },
  "language_info": {
   "codemirror_mode": {
    "name": "ipython",
    "version": 3
   },
   "file_extension": ".py",
   "mimetype": "text/x-python",
   "name": "python",
   "nbconvert_exporter": "python",
   "pygments_lexer": "ipython3",
   "version": "3.6.8"
  }
 },
 "nbformat": 4,
 "nbformat_minor": 1
}
