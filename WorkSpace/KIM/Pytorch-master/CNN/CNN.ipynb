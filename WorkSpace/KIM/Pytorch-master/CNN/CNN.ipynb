{
 "cells": [
  {
   "cell_type": "markdown",
   "metadata": {},
   "source": [
    "## CNN"
   ]
  },
  {
   "cell_type": "markdown",
   "metadata": {},
   "source": [
    "필요한 라이브러리 임포트  \n",
    "- torch.util.data.DataLoader: 데이터를 하나씩 전달하지 않고 원하는 batch size대로 묶어서 전달하거나 더 효율적인 학습을 위해 데이터를 어떤 규칙에 따라 정렬하거나 섞는 역할\n",
    "- torchvision: 유명항 영상처리용 데이터셋, 모델, 이미지 변환기가 들어있는 패키지\n",
    "- dataset: 데이터를 읽어오는 역할\n",
    "- transforms: 불러온 이미지를 필요에 따라 변환해주는 역할"
   ]
  },
  {
   "cell_type": "code",
   "execution_count": 1,
   "metadata": {},
   "outputs": [],
   "source": [
    "import torch\n",
    "import torch.nn as nn\n",
    "import torch.optim as optim\n",
    "import torch.nn.init as init\n",
    "\n",
    "import torchvision.datasets as dset\n",
    "import torchvision.transforms as transforms\n",
    "from torch.utils.data import DataLoader\n",
    "\n",
    "import numpy as np\n",
    "import matplotlib.pyplot as plt"
   ]
  },
  {
   "cell_type": "markdown",
   "metadata": {},
   "source": [
    "하이퍼 파라미터 지정\n",
    "- batch_size: 배치 사이즈\n",
    "- learning_rate: Learning Rate\n",
    "- num_epoch: 반복 횟수"
   ]
  },
  {
   "cell_type": "code",
   "execution_count": 2,
   "metadata": {},
   "outputs": [],
   "source": [
    "batch_size = 256\n",
    "learning_rate = 0.0002\n",
    "num_epoch = 10"
   ]
  },
  {
   "cell_type": "markdown",
   "metadata": {},
   "source": [
    "dest.MNIST: MNIST Dataset을 불러온다.  \n",
    "torchvision.datasets.MNIST(root, train=True, transform=None, target_transform=None, download=False)\n",
    "- root: Root directory\n",
    "- train: train Dataset(True) or test Dataset(False)\n",
    "- donwload: Download(True), Not Dowload(False) and load by root file\n",
    "- transform: Data(PIL Image) 변형\n",
    "- target_transform: Label 변형"
   ]
  },
  {
   "cell_type": "code",
   "execution_count": 3,
   "metadata": {},
   "outputs": [
    {
     "name": "stderr",
     "output_type": "stream",
     "text": [
      "\r",
      "0it [00:00, ?it/s]"
     ]
    },
    {
     "name": "stdout",
     "output_type": "stream",
     "text": [
      "Downloading http://yann.lecun.com/exdb/mnist/train-images-idx3-ubyte.gz to ../MNIST/raw/train-images-idx3-ubyte.gz\n"
     ]
    },
    {
     "name": "stderr",
     "output_type": "stream",
     "text": [
      "9920512it [00:02, 4946019.83it/s]                             \n"
     ]
    },
    {
     "name": "stdout",
     "output_type": "stream",
     "text": [
      "Extracting ../MNIST/raw/train-images-idx3-ubyte.gz to ../MNIST/raw\n",
      "Downloading http://yann.lecun.com/exdb/mnist/train-labels-idx1-ubyte.gz to ../MNIST/raw/train-labels-idx1-ubyte.gz\n"
     ]
    },
    {
     "name": "stderr",
     "output_type": "stream",
     "text": [
      "32768it [00:00, 36276.44it/s]                           \n",
      "0it [00:00, ?it/s]"
     ]
    },
    {
     "name": "stdout",
     "output_type": "stream",
     "text": [
      "Extracting ../MNIST/raw/train-labels-idx1-ubyte.gz to ../MNIST/raw\n",
      "Downloading http://yann.lecun.com/exdb/mnist/t10k-images-idx3-ubyte.gz to ../MNIST/raw/t10k-images-idx3-ubyte.gz\n"
     ]
    },
    {
     "name": "stderr",
     "output_type": "stream",
     "text": [
      "1654784it [00:01, 1333367.49it/s]                             \n",
      "0it [00:00, ?it/s]"
     ]
    },
    {
     "name": "stdout",
     "output_type": "stream",
     "text": [
      "Extracting ../MNIST/raw/t10k-images-idx3-ubyte.gz to ../MNIST/raw\n",
      "Downloading http://yann.lecun.com/exdb/mnist/t10k-labels-idx1-ubyte.gz to ../MNIST/raw/t10k-labels-idx1-ubyte.gz\n"
     ]
    },
    {
     "name": "stderr",
     "output_type": "stream",
     "text": [
      "8192it [00:00, 11674.45it/s]            "
     ]
    },
    {
     "name": "stdout",
     "output_type": "stream",
     "text": [
      "Extracting ../MNIST/raw/t10k-labels-idx1-ubyte.gz to ../MNIST/raw\n",
      "Processing...\n",
      "Done!\n"
     ]
    },
    {
     "name": "stderr",
     "output_type": "stream",
     "text": [
      "\n"
     ]
    }
   ],
   "source": [
    "mnist_train = dset.MNIST(root=\"../\", train=True, transform=transforms.ToTensor(), target_transform=None, download=True)\n",
    "mnist_test = dset.MNIST(root=\"../\", train=False, transform=transforms.ToTensor(), target_transform=None, download=True)"
   ]
  },
  {
   "cell_type": "markdown",
   "metadata": {},
   "source": [
    "torch.utils.data import DataLoader에서 Data확인을 위하여 __getitem__과 __len__을 제공한다.  \n",
    "\n",
    "__getitem__(index):\n",
    "- Parameters: Index\n",
    "- Returns: Tuple (image, target). target is a list of captions for the image.\n",
    "- Return type: tuple"
   ]
  },
  {
   "cell_type": "code",
   "execution_count": 4,
   "metadata": {},
   "outputs": [
    {
     "name": "stdout",
     "output_type": "stream",
     "text": [
      "torch.Size([1, 28, 28]) 60000\n",
      "torch.Size([1, 28, 28]) 10000\n",
      "60000 10000\n"
     ]
    }
   ],
   "source": [
    "print(mnist_train.__getitem__(0)[0].size(), mnist_train.__len__())\n",
    "print(mnist_test.__getitem__(0)[0].size(), mnist_test.__len__())\n",
    "\n",
    "print(len(mnist_train),len(mnist_test))\n",
    "#print(mnist_train[0])"
   ]
  },
  {
   "cell_type": "markdown",
   "metadata": {},
   "source": [
    "**torch.utils.data.DataLoader Parameter**  \n",
    "<code>torch.utils.data.DataLoader(\n",
    "imagenet_data,\n",
    "batch_size=4,\n",
    "shuffle=True,\n",
    "num_workers=args.nThreads)</code>  \n",
    "위에서 설명하였듯이 데이터를 배치로 보내기 위해서 사용하므로 batch인수 존재  \n",
    "중요한것은 Tensorflow에는 없었던 shuffle을 지원한다는 것이다.  \n",
    "Neural Network에서 마지막에 들어간 Data에 맞게 조금 더 조정되는 경향을 보이므로 Data의 순서도 생각하여 랜덤으로 섞이게 들어가게 하는 것이 조금 더 정확도를 높은 결과를 보여준다."
   ]
  },
  {
   "cell_type": "code",
   "execution_count": 5,
   "metadata": {},
   "outputs": [],
   "source": [
    "train_loader = DataLoader(mnist_train,batch_size=batch_size,shuffle=True,num_workers=2,drop_last=True)\n",
    "test_loader = DataLoader(mnist_test,batch_size=batch_size,shuffle=True,num_workers=2,drop_last=True)"
   ]
  },
  {
   "cell_type": "markdown",
   "metadata": {},
   "source": [
    "하나의 Class로서 CNN Model을 만든다.  \n",
    "**Conv2d Parameter**  \n",
    "<code>torch.nn.Conv2d(in_channels, out_channels, kernel_size, stride=1, padding=0, dilation=1, groups=1, bias=True, padding_mode='zeros')</code>  \n",
    "\n",
    "Tensorflow 와 다르거나 추가된 부분만 알아보자.  \n",
    "\n",
    "- in_channels: input channel의 값\n",
    "- out_channels: output의 channel의 값\n",
    "\n",
    "**여기서 중요한 것은 Tensorflow와 같이 input, output의 size를 정하는 것이 아니라 input, output의 size를 자동으로 할당하기 때문에 여기서의 channel은 image의 흑백을 의미하는 channel이 아닌 Feature의 개수라고 생각하여야 한다.**  \n",
    "\n",
    "- dilation: dilation convolution은 필터 내부에 zero padding을 추가해 강재로 receptive field를 늘리는 방법이다. 아래 그림에서 진한 파란 부분만 weight가 있고 나머지 부분은 0으로 채워진다.이러한 방법의 특징은 pooling을 수행하지도 않고도 receptive field를 크게 가져갈 수 있기 때문에 spatial dimension 손실이 적고 대부분의 weight가 0이기 때문에 연산의 효율이 좋다.\n",
    "<p>\n",
    "<img src=\"https://cdn-images-1.medium.com/max/1200/1*SVkgHoFoiMZkjy54zM_SUw.gif\"></p>\n",
    "    \n",
    "위의 식은 아래와 같이 정의 된다.  \n",
    "$$input size = (N, C_in, H, W)$$\n",
    "$$output size = (N, C_out, H_out, W_out)$$\n",
    "\n",
    "$$out(N_i,C_{out_j}) = bias(C_{out_j}) + \\sum_{k=0}^{C_in - 1}weight(C_{out_j}, k) * input(N_i,k)$$\n",
    "\n",
    "아래 식에서 중요한 함수는 view함수가 있다.  \n",
    "nn.Linear에 값을 전달하기 위하여 Convolution의 결과의 행렬의 크기를 맞춰주어야 한다.  \n",
    "현재 DataLoader를 통하여 batch_size만큼 자동으로 전달해 주고 있으므로 (batch_size, -1)을 통하여 크기를 자동으로 맞춰주는 작업을 실시한다."
   ]
  },
  {
   "cell_type": "code",
   "execution_count": 6,
   "metadata": {},
   "outputs": [],
   "source": [
    "class CNN(nn.Module):\n",
    "    def __init__(self):\n",
    "        super(CNN,self).__init__()\n",
    "        self.layer = nn.Sequential(\n",
    "            nn.Conv2d(in_channels=1,out_channels=16,kernel_size=5),             \n",
    "            nn.ReLU(),                                                          \n",
    "            nn.Conv2d(in_channels=16,out_channels=32,kernel_size=5),            \n",
    "            nn.ReLU(),\n",
    "            nn.MaxPool2d(kernel_size=2,stride=2),                               \n",
    "            nn.Conv2d(in_channels=32, out_channels=64, kernel_size=5),          \n",
    "            nn.ReLU(),\n",
    "            nn.MaxPool2d(kernel_size=2,stride=2)    \n",
    "        )\n",
    "        self.fc_layer = nn.Sequential(                                          \n",
    "            nn.Linear(64*3*3,100),                                              \n",
    "            nn.ReLU(),\n",
    "            nn.Linear(100,10)                                                   \n",
    "        )       \n",
    "        \n",
    "    def forward(self,x):\n",
    "        out = self.layer(x)                                                     \n",
    "        out = out.view(batch_size,-1)                                            \n",
    "        out = self.fc_layer(out)\n",
    "        return out"
   ]
  },
  {
   "cell_type": "markdown",
   "metadata": {},
   "source": [
    "- LossFunction: CrossEntropy\n",
    "- Optimizer: Adam\n",
    "\n",
    "아래 에서 중요한 점은 device를 정의하는 것이다.  \n",
    "아래 Code를 통하여 GPU환경에서 돌릴수 있으면 돌리고 환경이 갖춰져 있지 않으면 CPU를 사용해서 Trainning하라는 의미이다."
   ]
  },
  {
   "cell_type": "code",
   "execution_count": 7,
   "metadata": {},
   "outputs": [],
   "source": [
    "device = torch.device('cuda:0' if torch.cuda.is_available() else 'cpu')\n",
    "model = CNN().to(device)\n",
    "loss_func = nn.CrossEntropyLoss()\n",
    "optimizer = optim.Adam(model.parameters(), lr=learning_rate)"
   ]
  },
  {
   "cell_type": "markdown",
   "metadata": {},
   "source": [
    "정의한 반복 횟수만큼 Model을 Trainning 하는 과정이다.  "
   ]
  },
  {
   "cell_type": "code",
   "execution_count": 8,
   "metadata": {},
   "outputs": [
    {
     "name": "stdout",
     "output_type": "stream",
     "text": [
      "tensor(2.3050, device='cuda:0', grad_fn=<NllLossBackward>)\n",
      "tensor(0.3478, device='cuda:0', grad_fn=<NllLossBackward>)\n",
      "tensor(0.1648, device='cuda:0', grad_fn=<NllLossBackward>)\n",
      "tensor(0.0972, device='cuda:0', grad_fn=<NllLossBackward>)\n",
      "tensor(0.1130, device='cuda:0', grad_fn=<NllLossBackward>)\n",
      "tensor(0.0556, device='cuda:0', grad_fn=<NllLossBackward>)\n",
      "tensor(0.0536, device='cuda:0', grad_fn=<NllLossBackward>)\n",
      "tensor(0.0757, device='cuda:0', grad_fn=<NllLossBackward>)\n",
      "tensor(0.0684, device='cuda:0', grad_fn=<NllLossBackward>)\n",
      "tensor(0.0540, device='cuda:0', grad_fn=<NllLossBackward>)\n"
     ]
    }
   ],
   "source": [
    "loss_arr =[]\n",
    "for i in range(num_epoch):\n",
    "    for j,[image,label] in enumerate(train_loader):\n",
    "        x = image.to(device)\n",
    "        y_= label.to(device)\n",
    "        \n",
    "        optimizer.zero_grad()\n",
    "        output = model.forward(x)\n",
    "        loss = loss_func(output,y_)\n",
    "        loss.backward()\n",
    "        optimizer.step()\n",
    "        \n",
    "        if j % 1000 == 0:\n",
    "            print(loss)\n",
    "            loss_arr.append(loss.cpu().detach().numpy())"
   ]
  },
  {
   "cell_type": "markdown",
   "metadata": {},
   "source": [
    "Loss 시각화"
   ]
  },
  {
   "cell_type": "code",
   "execution_count": 9,
   "metadata": {},
   "outputs": [
    {
     "data": {
      "image/png": "[encoded data removed]",
      "text/plain": [
       "<Figure size 432x288 with 1 Axes>"
      ]
     },
     "metadata": {
      "needs_background": "light"
     },
     "output_type": "display_data"
    }
   ],
   "source": [
    "plt.plot(loss_arr)\n",
    "plt.show()"
   ]
  },
  {
   "cell_type": "markdown",
   "metadata": {},
   "source": [
    "Test Data Set으로 정확도 확인\n",
    "- correct: 맞은 개수를 저장할 변수\n",
    "- total: 전체 개수를 저장할 변수\n",
    "- torch.no_grad(): 기울기를 계산하지 않는 상태에서 테스트를 진행한다는 의미이다. 이런 상황에서 테스트를 진행하게 되면 계속해서 Model을 Trainning하면서 결과를 확인하게 되므로 측정하고자 하는 Model의 상태에서 Test하는 환경이 아니다.\n",
    "- torch.max(output,1): Test진행 후 Model에서 최대값과 Index를 구하는 작업\n",
    "- label.size(0): 현재 Model은 Batch로 처리하고 있기 때문에 Batch Size만큼을 반환하기 위해서 선언"
   ]
  },
  {
   "cell_type": "code",
   "execution_count": 10,
   "metadata": {},
   "outputs": [
    {
     "name": "stdout",
     "output_type": "stream",
     "text": [
      "Accuracy of Test Data: 98.52764892578125%\n"
     ]
    }
   ],
   "source": [
    "correct = 0\n",
    "total = 0\n",
    "\n",
    "# 인퍼런스 모드를 위해 no_grad 해줍니다.\n",
    "with torch.no_grad():\n",
    "    # 테스트로더에서 이미지와 정답을 불러옵니다.\n",
    "    for image,label in test_loader:\n",
    "        \n",
    "        # 두 데이터 모두 장치에 올립니다.\n",
    "        x = image.to(device)\n",
    "        y_= label.to(device)\n",
    "\n",
    "        # 모델에 데이터를 넣고 결과값을 얻습니다.\n",
    "        output = model.forward(x)\n",
    "        \n",
    "        # https://pytorch.org/docs/stable/torch.html?highlight=max#torch.max\n",
    "        # torch.max를 이용해 최대 값 및 최대값 인덱스를 뽑아냅니다.\n",
    "        # 여기서는 최대값은 필요없기 때문에 인덱스만 사용합니다.\n",
    "        _,output_index = torch.max(output,1)\n",
    "        \n",
    "        # 전체 개수는 라벨의 개수로 더해줍니다.\n",
    "        # 전체 개수를 알고 있음에도 이렇게 하는 이유는 batch_size, drop_last의 영향으로 몇몇 데이터가 잘릴수도 있기 때문입니다.\n",
    "        total += label.size(0)\n",
    "        \n",
    "        # 모델의 결과의 최대값 인덱스와 라벨이 일치하는 개수를 correct에 더해줍니다.\n",
    "        correct += (output_index == y_).sum().float()\n",
    "    \n",
    "    # 테스트 데이터 전체에 대해 위의 작업을 시행한 후 정확도를 구해줍니다.\n",
    "    print(\"Accuracy of Test Data: {}%\".format(100*correct/total))"
   ]
  }
 ],
 "metadata": {
  "kernelspec": {
   "display_name": "Python 3",
   "language": "python",
   "name": "python3"
  },
  "language_info": {
   "codemirror_mode": {
    "name": "ipython",
    "version": 3
   },
   "file_extension": ".py",
   "mimetype": "text/x-python",
   "name": "python",
   "nbconvert_exporter": "python",
   "pygments_lexer": "ipython3",
   "version": "3.6.8"
  }
 },
 "nbformat": 4,
 "nbformat_minor": 2
}
